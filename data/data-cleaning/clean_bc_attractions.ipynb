{
  "nbformat": 4,
  "nbformat_minor": 0,
  "metadata": {
    "colab": {
      "name": "clean_bc_attractions.ipynb",
      "provenance": [],
      "collapsed_sections": [],
      "include_colab_link": true
    },
    "kernelspec": {
      "name": "python3",
      "display_name": "Python 3"
    },
    "language_info": {
      "name": "python"
    }
  },
  "cells": [
    {
      "cell_type": "markdown",
      "metadata": {
        "id": "view-in-github",
        "colab_type": "text"
      },
      "source": [
        "<a href=\"https://colab.research.google.com/github/lchebib/SeeQoolPlaces/blob/main/data/data-cleaning/clean_bc_attractions.ipynb\" target=\"_parent\"><img src=\"https://colab.research.google.com/assets/colab-badge.svg\" alt=\"Open In Colab\"/></a>"
      ]
    },
    {
      "cell_type": "markdown",
      "metadata": {
        "id": "n3PW_k8POjAo"
      },
      "source": [
        "#Import pandas, create dataframe, and explore data\n",
        "\n"
      ]
    },
    {
      "cell_type": "code",
      "metadata": {
        "id": "grN-DOlMOJKp"
      },
      "source": [
        "import pandas as pd\n",
        "import numpy as np"
      ],
      "execution_count": null,
      "outputs": []
    },
    {
      "cell_type": "code",
      "metadata": {
        "colab": {
          "base_uri": "https://localhost:8080/"
        },
        "id": "s7Y6oC0wOW_-",
        "outputId": "e3b2f08a-bdc5-4406-a64c-598c3d240cea"
      },
      "source": [
        "prefix = '/content/drive'\n",
        "from google.colab import drive\n",
        "drive.mount(prefix, force_remount=True)"
      ],
      "execution_count": null,
      "outputs": [
        {
          "output_type": "stream",
          "name": "stdout",
          "text": [
            "Mounted at /content/drive\n"
          ]
        }
      ]
    },
    {
      "cell_type": "code",
      "metadata": {
        "id": "KJEIip8kOcO-"
      },
      "source": [
        "file_path = '/content/drive/MyDrive/Fall 2021/550/Group Project/Datasets/Raw Scraped Data/attractions_bc.csv'"
      ],
      "execution_count": null,
      "outputs": []
    },
    {
      "cell_type": "code",
      "metadata": {
        "id": "C77yrPFdPYZ0"
      },
      "source": [
        "attractions_bc = pd.read_csv(file_path)"
      ],
      "execution_count": null,
      "outputs": []
    },
    {
      "cell_type": "code",
      "metadata": {
        "id": "dkdW3K63PbN7",
        "colab": {
          "base_uri": "https://localhost:8080/",
          "height": 391
        },
        "outputId": "135b2643-151a-471d-ef82-b513c1da6332"
      },
      "source": [
        "attractions_bc.head()"
      ],
      "execution_count": null,
      "outputs": [
        {
          "output_type": "execute_result",
          "data": {
            "text/html": [
              "<div>\n",
              "<style scoped>\n",
              "    .dataframe tbody tr th:only-of-type {\n",
              "        vertical-align: middle;\n",
              "    }\n",
              "\n",
              "    .dataframe tbody tr th {\n",
              "        vertical-align: top;\n",
              "    }\n",
              "\n",
              "    .dataframe thead th {\n",
              "        text-align: right;\n",
              "    }\n",
              "</style>\n",
              "<table border=\"1\" class=\"dataframe\">\n",
              "  <thead>\n",
              "    <tr style=\"text-align: right;\">\n",
              "      <th></th>\n",
              "      <th>attraction_name</th>\n",
              "      <th>attraction_rating</th>\n",
              "      <th>attraction_category</th>\n",
              "      <th>num_reviews</th>\n",
              "      <th>rank_in_city</th>\n",
              "      <th>photo</th>\n",
              "      <th>about</th>\n",
              "      <th>suggested_duration</th>\n",
              "    </tr>\n",
              "  </thead>\n",
              "  <tbody>\n",
              "    <tr>\n",
              "      <th>0</th>\n",
              "      <td>Stanley Park</td>\n",
              "      <td>4.5</td>\n",
              "      <td>Parks</td>\n",
              "      <td>28,784</td>\n",
              "      <td>#1 of 402 things to do in Vancouver</td>\n",
              "      <td>background-image:url(https://media-cdn.tripadv...</td>\n",
              "      <td>North America's third-largest park draws eight...</td>\n",
              "      <td>2-3 hours</td>\n",
              "    </tr>\n",
              "    <tr>\n",
              "      <th>1</th>\n",
              "      <td>Elk Falls Provincial Park</td>\n",
              "      <td>4.5</td>\n",
              "      <td>Parks</td>\n",
              "      <td>823</td>\n",
              "      <td>#2 of 34 things to do in Campbell River</td>\n",
              "      <td>background-image:url(https://media-cdn.tripadv...</td>\n",
              "      <td>A popular destination family campground on Van...</td>\n",
              "      <td>NaN</td>\n",
              "    </tr>\n",
              "    <tr>\n",
              "      <th>2</th>\n",
              "      <td>Davison Orchards Country Village</td>\n",
              "      <td>4.5</td>\n",
              "      <td>Farms • Playgrounds • Farmers Markets</td>\n",
              "      <td>892</td>\n",
              "      <td>#2 of 36 things to do in Vernon</td>\n",
              "      <td>background-image:url(https://media-cdn.tripadv...</td>\n",
              "      <td>Growing food &amp; family memories since 1933! At ...</td>\n",
              "      <td>1-2 hours</td>\n",
              "    </tr>\n",
              "    <tr>\n",
              "      <th>3</th>\n",
              "      <td>Sea to Sky Gondola</td>\n",
              "      <td>4.5</td>\n",
              "      <td>Trams • Hiking Trails</td>\n",
              "      <td>2,088</td>\n",
              "      <td>#1 of 34 things to do in Squamish</td>\n",
              "      <td>background-image:url(https://media-cdn.tripadv...</td>\n",
              "      <td>Open year-round, the Sea to Sky Gondola is loc...</td>\n",
              "      <td>2-3 hours</td>\n",
              "    </tr>\n",
              "    <tr>\n",
              "      <th>4</th>\n",
              "      <td>Squamish Lil'wat Cultural Centre</td>\n",
              "      <td>4.5</td>\n",
              "      <td>Art Galleries</td>\n",
              "      <td>1,025</td>\n",
              "      <td>#8 of 65 things to do in Whistler</td>\n",
              "      <td>background-image:url(https://media-cdn.tripadv...</td>\n",
              "      <td>The Squamish Lil'wat Cultural Centre is a thre...</td>\n",
              "      <td>1-2 hours</td>\n",
              "    </tr>\n",
              "  </tbody>\n",
              "</table>\n",
              "</div>"
            ],
            "text/plain": [
              "                    attraction_name  ...  suggested_duration\n",
              "0                      Stanley Park  ...           2-3 hours\n",
              "1         Elk Falls Provincial Park  ...                 NaN\n",
              "2  Davison Orchards Country Village  ...           1-2 hours\n",
              "3                Sea to Sky Gondola  ...           2-3 hours\n",
              "4  Squamish Lil'wat Cultural Centre  ...           1-2 hours\n",
              "\n",
              "[5 rows x 8 columns]"
            ]
          },
          "metadata": {},
          "execution_count": 5
        }
      ]
    },
    {
      "cell_type": "code",
      "metadata": {
        "id": "lEPCUpg_PuNg",
        "colab": {
          "base_uri": "https://localhost:8080/"
        },
        "outputId": "f1443db6-db3c-4894-caee-868ea090c10a"
      },
      "source": [
        "attractions_bc.dtypes #data types of each column"
      ],
      "execution_count": null,
      "outputs": [
        {
          "output_type": "execute_result",
          "data": {
            "text/plain": [
              "attraction_name         object\n",
              "attraction_rating      float64\n",
              "attraction_category     object\n",
              "num_reviews             object\n",
              "rank_in_city            object\n",
              "photo                   object\n",
              "about                   object\n",
              "suggested_duration      object\n",
              "dtype: object"
            ]
          },
          "metadata": {},
          "execution_count": 6
        }
      ]
    },
    {
      "cell_type": "code",
      "metadata": {
        "id": "i0NIV0mJPygA",
        "colab": {
          "base_uri": "https://localhost:8080/"
        },
        "outputId": "83a71466-18a9-4baa-bd63-ded4bf147ba8"
      },
      "source": [
        "attractions_bc.shape #(rows, columns)"
      ],
      "execution_count": null,
      "outputs": [
        {
          "output_type": "execute_result",
          "data": {
            "text/plain": [
              "(8635, 8)"
            ]
          },
          "metadata": {},
          "execution_count": 7
        }
      ]
    },
    {
      "cell_type": "code",
      "metadata": {
        "id": "rHeK6MUVP77T",
        "colab": {
          "base_uri": "https://localhost:8080/"
        },
        "outputId": "e368c185-9a80-4d2c-afd8-9df42f4bbe7c"
      },
      "source": [
        "usage_by_col = attractions_bc.memory_usage(deep=True) # returns memory usage for each column\n",
        "total_usage = usage_by_col.sum()\n",
        "mbs = total_usage / 1e6 # convert to megabytes \n",
        "mbs"
      ],
      "execution_count": null,
      "outputs": [
        {
          "output_type": "execute_result",
          "data": {
            "text/plain": [
              "5.369281"
            ]
          },
          "metadata": {},
          "execution_count": 8
        }
      ]
    },
    {
      "cell_type": "markdown",
      "metadata": {
        "id": "AL6VixcQMaBh"
      },
      "source": [
        "# Drop Rows with Null Names"
      ]
    },
    {
      "cell_type": "code",
      "metadata": {
        "id": "LrYvabVhQRYg"
      },
      "source": [
        "attractions_bc = attractions_bc[attractions_bc.attraction_name.notnull()]"
      ],
      "execution_count": null,
      "outputs": []
    },
    {
      "cell_type": "code",
      "metadata": {
        "id": "KLMtr0x9QVa3",
        "colab": {
          "base_uri": "https://localhost:8080/"
        },
        "outputId": "0ae99f3e-1d86-44f5-b51a-877f1e0484db"
      },
      "source": [
        "attractions_bc.dtypes #data types of each column"
      ],
      "execution_count": null,
      "outputs": [
        {
          "output_type": "execute_result",
          "data": {
            "text/plain": [
              "attraction_name         object\n",
              "attraction_rating      float64\n",
              "attraction_category     object\n",
              "num_reviews             object\n",
              "rank_in_city            object\n",
              "photo                   object\n",
              "about                   object\n",
              "suggested_duration      object\n",
              "dtype: object"
            ]
          },
          "metadata": {},
          "execution_count": 10
        }
      ]
    },
    {
      "cell_type": "code",
      "metadata": {
        "id": "W31ePxYOQaBp",
        "colab": {
          "base_uri": "https://localhost:8080/"
        },
        "outputId": "c0db4221-8f8a-4f9f-cc7e-4272ece952d6"
      },
      "source": [
        "attractions_bc.shape #(rows, columns)"
      ],
      "execution_count": null,
      "outputs": [
        {
          "output_type": "execute_result",
          "data": {
            "text/plain": [
              "(6770, 8)"
            ]
          },
          "metadata": {},
          "execution_count": 11
        }
      ]
    },
    {
      "cell_type": "code",
      "metadata": {
        "id": "b6wb6PtNQcbJ",
        "colab": {
          "base_uri": "https://localhost:8080/",
          "height": 391
        },
        "outputId": "186ab879-1e24-49d9-e74d-2cc59fb0eecf"
      },
      "source": [
        "attractions_bc.head()"
      ],
      "execution_count": null,
      "outputs": [
        {
          "output_type": "execute_result",
          "data": {
            "text/html": [
              "<div>\n",
              "<style scoped>\n",
              "    .dataframe tbody tr th:only-of-type {\n",
              "        vertical-align: middle;\n",
              "    }\n",
              "\n",
              "    .dataframe tbody tr th {\n",
              "        vertical-align: top;\n",
              "    }\n",
              "\n",
              "    .dataframe thead th {\n",
              "        text-align: right;\n",
              "    }\n",
              "</style>\n",
              "<table border=\"1\" class=\"dataframe\">\n",
              "  <thead>\n",
              "    <tr style=\"text-align: right;\">\n",
              "      <th></th>\n",
              "      <th>attraction_name</th>\n",
              "      <th>attraction_rating</th>\n",
              "      <th>attraction_category</th>\n",
              "      <th>num_reviews</th>\n",
              "      <th>rank_in_city</th>\n",
              "      <th>photo</th>\n",
              "      <th>about</th>\n",
              "      <th>suggested_duration</th>\n",
              "    </tr>\n",
              "  </thead>\n",
              "  <tbody>\n",
              "    <tr>\n",
              "      <th>0</th>\n",
              "      <td>Stanley Park</td>\n",
              "      <td>4.5</td>\n",
              "      <td>Parks</td>\n",
              "      <td>28,784</td>\n",
              "      <td>#1 of 402 things to do in Vancouver</td>\n",
              "      <td>background-image:url(https://media-cdn.tripadv...</td>\n",
              "      <td>North America's third-largest park draws eight...</td>\n",
              "      <td>2-3 hours</td>\n",
              "    </tr>\n",
              "    <tr>\n",
              "      <th>1</th>\n",
              "      <td>Elk Falls Provincial Park</td>\n",
              "      <td>4.5</td>\n",
              "      <td>Parks</td>\n",
              "      <td>823</td>\n",
              "      <td>#2 of 34 things to do in Campbell River</td>\n",
              "      <td>background-image:url(https://media-cdn.tripadv...</td>\n",
              "      <td>A popular destination family campground on Van...</td>\n",
              "      <td>NaN</td>\n",
              "    </tr>\n",
              "    <tr>\n",
              "      <th>2</th>\n",
              "      <td>Davison Orchards Country Village</td>\n",
              "      <td>4.5</td>\n",
              "      <td>Farms • Playgrounds • Farmers Markets</td>\n",
              "      <td>892</td>\n",
              "      <td>#2 of 36 things to do in Vernon</td>\n",
              "      <td>background-image:url(https://media-cdn.tripadv...</td>\n",
              "      <td>Growing food &amp; family memories since 1933! At ...</td>\n",
              "      <td>1-2 hours</td>\n",
              "    </tr>\n",
              "    <tr>\n",
              "      <th>3</th>\n",
              "      <td>Sea to Sky Gondola</td>\n",
              "      <td>4.5</td>\n",
              "      <td>Trams • Hiking Trails</td>\n",
              "      <td>2,088</td>\n",
              "      <td>#1 of 34 things to do in Squamish</td>\n",
              "      <td>background-image:url(https://media-cdn.tripadv...</td>\n",
              "      <td>Open year-round, the Sea to Sky Gondola is loc...</td>\n",
              "      <td>2-3 hours</td>\n",
              "    </tr>\n",
              "    <tr>\n",
              "      <th>4</th>\n",
              "      <td>Squamish Lil'wat Cultural Centre</td>\n",
              "      <td>4.5</td>\n",
              "      <td>Art Galleries</td>\n",
              "      <td>1,025</td>\n",
              "      <td>#8 of 65 things to do in Whistler</td>\n",
              "      <td>background-image:url(https://media-cdn.tripadv...</td>\n",
              "      <td>The Squamish Lil'wat Cultural Centre is a thre...</td>\n",
              "      <td>1-2 hours</td>\n",
              "    </tr>\n",
              "  </tbody>\n",
              "</table>\n",
              "</div>"
            ],
            "text/plain": [
              "                    attraction_name  ...  suggested_duration\n",
              "0                      Stanley Park  ...           2-3 hours\n",
              "1         Elk Falls Provincial Park  ...                 NaN\n",
              "2  Davison Orchards Country Village  ...           1-2 hours\n",
              "3                Sea to Sky Gondola  ...           2-3 hours\n",
              "4  Squamish Lil'wat Cultural Centre  ...           1-2 hours\n",
              "\n",
              "[5 rows x 8 columns]"
            ]
          },
          "metadata": {},
          "execution_count": 12
        }
      ]
    },
    {
      "cell_type": "markdown",
      "metadata": {
        "id": "KspQaCI7Nn3p"
      },
      "source": [
        "#Split attraction_category\n",
        "\n",
        "\n",
        "\n",
        "*   category\n",
        "*   tag\n",
        "\n",
        "\n",
        "\n"
      ]
    },
    {
      "cell_type": "code",
      "metadata": {
        "id": "dgpUB6vdQvHS",
        "colab": {
          "base_uri": "https://localhost:8080/"
        },
        "outputId": "be8f42b0-edfc-4baf-c976-8939b20fae69"
      },
      "source": [
        "n = len(pd.unique(attractions_bc['attraction_category'])) # see number of unique category values \n",
        "print(\"No.of.unique values :\", \n",
        "      n)"
      ],
      "execution_count": null,
      "outputs": [
        {
          "output_type": "stream",
          "name": "stdout",
          "text": [
            "No.of.unique values : 554\n"
          ]
        }
      ]
    },
    {
      "cell_type": "code",
      "metadata": {
        "id": "fNuhzAZcQ-TM"
      },
      "source": [
        "# make new column 'category' whose value is first category in 'attraction_category'\n",
        "attractions_bc['category'] = attractions_bc['attraction_category'].str.split(' • ').str[0] "
      ],
      "execution_count": null,
      "outputs": []
    },
    {
      "cell_type": "code",
      "metadata": {
        "id": "q6o6YkLiRTO_",
        "colab": {
          "base_uri": "https://localhost:8080/",
          "height": 561
        },
        "outputId": "7caff338-cca4-4eb3-d7f0-601a92b17e3f"
      },
      "source": [
        "attractions_bc.head()"
      ],
      "execution_count": null,
      "outputs": [
        {
          "output_type": "execute_result",
          "data": {
            "text/html": [
              "<div>\n",
              "<style scoped>\n",
              "    .dataframe tbody tr th:only-of-type {\n",
              "        vertical-align: middle;\n",
              "    }\n",
              "\n",
              "    .dataframe tbody tr th {\n",
              "        vertical-align: top;\n",
              "    }\n",
              "\n",
              "    .dataframe thead th {\n",
              "        text-align: right;\n",
              "    }\n",
              "</style>\n",
              "<table border=\"1\" class=\"dataframe\">\n",
              "  <thead>\n",
              "    <tr style=\"text-align: right;\">\n",
              "      <th></th>\n",
              "      <th>attraction_name</th>\n",
              "      <th>attraction_rating</th>\n",
              "      <th>attraction_category</th>\n",
              "      <th>num_reviews</th>\n",
              "      <th>rank_in_city</th>\n",
              "      <th>photo</th>\n",
              "      <th>about</th>\n",
              "      <th>suggested_duration</th>\n",
              "      <th>category</th>\n",
              "    </tr>\n",
              "  </thead>\n",
              "  <tbody>\n",
              "    <tr>\n",
              "      <th>0</th>\n",
              "      <td>Stanley Park</td>\n",
              "      <td>4.5</td>\n",
              "      <td>Parks</td>\n",
              "      <td>28,784</td>\n",
              "      <td>#1 of 402 things to do in Vancouver</td>\n",
              "      <td>background-image:url(https://media-cdn.tripadv...</td>\n",
              "      <td>North America's third-largest park draws eight...</td>\n",
              "      <td>2-3 hours</td>\n",
              "      <td>Parks</td>\n",
              "    </tr>\n",
              "    <tr>\n",
              "      <th>1</th>\n",
              "      <td>Elk Falls Provincial Park</td>\n",
              "      <td>4.5</td>\n",
              "      <td>Parks</td>\n",
              "      <td>823</td>\n",
              "      <td>#2 of 34 things to do in Campbell River</td>\n",
              "      <td>background-image:url(https://media-cdn.tripadv...</td>\n",
              "      <td>A popular destination family campground on Van...</td>\n",
              "      <td>NaN</td>\n",
              "      <td>Parks</td>\n",
              "    </tr>\n",
              "    <tr>\n",
              "      <th>2</th>\n",
              "      <td>Davison Orchards Country Village</td>\n",
              "      <td>4.5</td>\n",
              "      <td>Farms • Playgrounds • Farmers Markets</td>\n",
              "      <td>892</td>\n",
              "      <td>#2 of 36 things to do in Vernon</td>\n",
              "      <td>background-image:url(https://media-cdn.tripadv...</td>\n",
              "      <td>Growing food &amp; family memories since 1933! At ...</td>\n",
              "      <td>1-2 hours</td>\n",
              "      <td>Farms</td>\n",
              "    </tr>\n",
              "    <tr>\n",
              "      <th>3</th>\n",
              "      <td>Sea to Sky Gondola</td>\n",
              "      <td>4.5</td>\n",
              "      <td>Trams • Hiking Trails</td>\n",
              "      <td>2,088</td>\n",
              "      <td>#1 of 34 things to do in Squamish</td>\n",
              "      <td>background-image:url(https://media-cdn.tripadv...</td>\n",
              "      <td>Open year-round, the Sea to Sky Gondola is loc...</td>\n",
              "      <td>2-3 hours</td>\n",
              "      <td>Trams</td>\n",
              "    </tr>\n",
              "    <tr>\n",
              "      <th>4</th>\n",
              "      <td>Squamish Lil'wat Cultural Centre</td>\n",
              "      <td>4.5</td>\n",
              "      <td>Art Galleries</td>\n",
              "      <td>1,025</td>\n",
              "      <td>#8 of 65 things to do in Whistler</td>\n",
              "      <td>background-image:url(https://media-cdn.tripadv...</td>\n",
              "      <td>The Squamish Lil'wat Cultural Centre is a thre...</td>\n",
              "      <td>1-2 hours</td>\n",
              "      <td>Art Galleries</td>\n",
              "    </tr>\n",
              "  </tbody>\n",
              "</table>\n",
              "</div>"
            ],
            "text/plain": [
              "                    attraction_name  ...       category\n",
              "0                      Stanley Park  ...          Parks\n",
              "1         Elk Falls Provincial Park  ...          Parks\n",
              "2  Davison Orchards Country Village  ...          Farms\n",
              "3                Sea to Sky Gondola  ...          Trams\n",
              "4  Squamish Lil'wat Cultural Centre  ...  Art Galleries\n",
              "\n",
              "[5 rows x 9 columns]"
            ]
          },
          "metadata": {},
          "execution_count": 15
        }
      ]
    },
    {
      "cell_type": "code",
      "metadata": {
        "id": "_xj19XqmRfPW"
      },
      "source": [
        "attractions_bc.rename(columns={'attraction_category': 'tags'}, inplace=True)"
      ],
      "execution_count": null,
      "outputs": []
    },
    {
      "cell_type": "markdown",
      "metadata": {
        "id": "z62dK0GONk50"
      },
      "source": [
        "#Parse Photo"
      ]
    },
    {
      "cell_type": "code",
      "metadata": {
        "id": "76oOV-GDSXFW"
      },
      "source": [
        "attractions_bc['parsed_photo'] = attractions_bc['photo'].str.split('background-image:url\\(').str[1].str[:-1] "
      ],
      "execution_count": null,
      "outputs": []
    },
    {
      "cell_type": "code",
      "metadata": {
        "id": "LZ8AcK_FTuMj",
        "colab": {
          "base_uri": "https://localhost:8080/",
          "height": 598
        },
        "outputId": "28205e00-ced0-4c1f-c0ba-6ec342959d96"
      },
      "source": [
        "attractions_bc.head()"
      ],
      "execution_count": null,
      "outputs": [
        {
          "output_type": "execute_result",
          "data": {
            "text/html": [
              "<div>\n",
              "<style scoped>\n",
              "    .dataframe tbody tr th:only-of-type {\n",
              "        vertical-align: middle;\n",
              "    }\n",
              "\n",
              "    .dataframe tbody tr th {\n",
              "        vertical-align: top;\n",
              "    }\n",
              "\n",
              "    .dataframe thead th {\n",
              "        text-align: right;\n",
              "    }\n",
              "</style>\n",
              "<table border=\"1\" class=\"dataframe\">\n",
              "  <thead>\n",
              "    <tr style=\"text-align: right;\">\n",
              "      <th></th>\n",
              "      <th>attraction_name</th>\n",
              "      <th>attraction_rating</th>\n",
              "      <th>tags</th>\n",
              "      <th>num_reviews</th>\n",
              "      <th>rank_in_city</th>\n",
              "      <th>photo</th>\n",
              "      <th>about</th>\n",
              "      <th>suggested_duration</th>\n",
              "      <th>category</th>\n",
              "      <th>parsed_photo</th>\n",
              "    </tr>\n",
              "  </thead>\n",
              "  <tbody>\n",
              "    <tr>\n",
              "      <th>0</th>\n",
              "      <td>Stanley Park</td>\n",
              "      <td>4.5</td>\n",
              "      <td>Parks</td>\n",
              "      <td>28,784</td>\n",
              "      <td>#1 of 402 things to do in Vancouver</td>\n",
              "      <td>background-image:url(https://media-cdn.tripadv...</td>\n",
              "      <td>North America's third-largest park draws eight...</td>\n",
              "      <td>2-3 hours</td>\n",
              "      <td>Parks</td>\n",
              "      <td>https://media-cdn.tripadvisor.com/media/photo-...</td>\n",
              "    </tr>\n",
              "    <tr>\n",
              "      <th>1</th>\n",
              "      <td>Elk Falls Provincial Park</td>\n",
              "      <td>4.5</td>\n",
              "      <td>Parks</td>\n",
              "      <td>823</td>\n",
              "      <td>#2 of 34 things to do in Campbell River</td>\n",
              "      <td>background-image:url(https://media-cdn.tripadv...</td>\n",
              "      <td>A popular destination family campground on Van...</td>\n",
              "      <td>NaN</td>\n",
              "      <td>Parks</td>\n",
              "      <td>https://media-cdn.tripadvisor.com/media/photo-...</td>\n",
              "    </tr>\n",
              "    <tr>\n",
              "      <th>2</th>\n",
              "      <td>Davison Orchards Country Village</td>\n",
              "      <td>4.5</td>\n",
              "      <td>Farms • Playgrounds • Farmers Markets</td>\n",
              "      <td>892</td>\n",
              "      <td>#2 of 36 things to do in Vernon</td>\n",
              "      <td>background-image:url(https://media-cdn.tripadv...</td>\n",
              "      <td>Growing food &amp; family memories since 1933! At ...</td>\n",
              "      <td>1-2 hours</td>\n",
              "      <td>Farms</td>\n",
              "      <td>https://media-cdn.tripadvisor.com/media/photo-...</td>\n",
              "    </tr>\n",
              "    <tr>\n",
              "      <th>3</th>\n",
              "      <td>Sea to Sky Gondola</td>\n",
              "      <td>4.5</td>\n",
              "      <td>Trams • Hiking Trails</td>\n",
              "      <td>2,088</td>\n",
              "      <td>#1 of 34 things to do in Squamish</td>\n",
              "      <td>background-image:url(https://media-cdn.tripadv...</td>\n",
              "      <td>Open year-round, the Sea to Sky Gondola is loc...</td>\n",
              "      <td>2-3 hours</td>\n",
              "      <td>Trams</td>\n",
              "      <td>https://media-cdn.tripadvisor.com/media/photo-...</td>\n",
              "    </tr>\n",
              "    <tr>\n",
              "      <th>4</th>\n",
              "      <td>Squamish Lil'wat Cultural Centre</td>\n",
              "      <td>4.5</td>\n",
              "      <td>Art Galleries</td>\n",
              "      <td>1,025</td>\n",
              "      <td>#8 of 65 things to do in Whistler</td>\n",
              "      <td>background-image:url(https://media-cdn.tripadv...</td>\n",
              "      <td>The Squamish Lil'wat Cultural Centre is a thre...</td>\n",
              "      <td>1-2 hours</td>\n",
              "      <td>Art Galleries</td>\n",
              "      <td>https://media-cdn.tripadvisor.com/media/photo-...</td>\n",
              "    </tr>\n",
              "  </tbody>\n",
              "</table>\n",
              "</div>"
            ],
            "text/plain": [
              "                    attraction_name  ...                                       parsed_photo\n",
              "0                      Stanley Park  ...  https://media-cdn.tripadvisor.com/media/photo-...\n",
              "1         Elk Falls Provincial Park  ...  https://media-cdn.tripadvisor.com/media/photo-...\n",
              "2  Davison Orchards Country Village  ...  https://media-cdn.tripadvisor.com/media/photo-...\n",
              "3                Sea to Sky Gondola  ...  https://media-cdn.tripadvisor.com/media/photo-...\n",
              "4  Squamish Lil'wat Cultural Centre  ...  https://media-cdn.tripadvisor.com/media/photo-...\n",
              "\n",
              "[5 rows x 10 columns]"
            ]
          },
          "metadata": {},
          "execution_count": 18
        }
      ]
    },
    {
      "cell_type": "code",
      "metadata": {
        "id": "5OXEBzjPUM8v"
      },
      "source": [
        "attractions_bc.drop(columns=['photo'], axis=1, inplace=True)"
      ],
      "execution_count": null,
      "outputs": []
    },
    {
      "cell_type": "code",
      "metadata": {
        "id": "Fxf674tuUooe",
        "colab": {
          "base_uri": "https://localhost:8080/"
        },
        "outputId": "3763c451-86f8-447b-9a5f-599e737a1458"
      },
      "source": [
        "print(pd.unique(attractions_bc['parsed_photo']))"
      ],
      "execution_count": null,
      "outputs": [
        {
          "output_type": "stream",
          "name": "stdout",
          "text": [
            "['https://media-cdn.tripadvisor.com/media/photo-w/10/a6/09/9f/beautiful-view-of-stanley.jpg'\n",
            " 'https://media-cdn.tripadvisor.com/media/photo-w/17/b8/de/9a/photo2jpg.jpg'\n",
            " 'https://media-cdn.tripadvisor.com/media/photo-w/17/57/38/95/davison-orchards-country.jpg'\n",
            " ...\n",
            " 'https://media-cdn.tripadvisor.com/media/photo-w/0d/4d/a0/8a/cheakamus-lake-as-seen.jpg'\n",
            " 'https://media-cdn.tripadvisor.com/media/photo-o/0c/c0/d8/66/whistler-bike-park.jpg'\n",
            " 'https://media-cdn.tripadvisor.com/media/photo-o/01/8e/01/8b/front-entrace-to-the.jpg']\n"
          ]
        }
      ]
    },
    {
      "cell_type": "code",
      "metadata": {
        "id": "fZhERLwnWu96"
      },
      "source": [
        "attractions_bc.rename(columns={'parsed_photo': 'photo'}, inplace=True)"
      ],
      "execution_count": null,
      "outputs": []
    },
    {
      "cell_type": "markdown",
      "metadata": {
        "id": "mIFwBgDnNWhc"
      },
      "source": [
        "#Split rank_in_city\n",
        "\n",
        "\n",
        "\n",
        "*   rank\n",
        "*   num_attractions_city\n",
        "*   city\n",
        "\n",
        "\n",
        "\n"
      ]
    },
    {
      "cell_type": "code",
      "metadata": {
        "id": "Qmsvo3aKVfmV"
      },
      "source": [
        "# Create 'city' adn 'state' columns\n",
        "attractions_bc['city'] = attractions_bc['rank_in_city'].str.split(' in ').str[1]\n",
        "attractions_bc['state'] = 'BC'\n",
        "\n",
        "# Create 'rank_city' and 'num_attractions_city' columns and cast to int\n",
        "# attractions_bc['rank_city'] = attractions_bc['rank_in_city'].str.split(' ').str[0].str.strip('#').str.replace(',', '')\n",
        "# attractions_bc['rank_city'].fillna(0).astype(int) # NaN is converted to 0\n",
        "\n",
        "# attractions_bc['num_attractions_city'] = attractions_bc['rank_in_city'].str.split(' ').str[2].str.replace(',', '')\n",
        "# attractions_bc['num_attractions_city'].fillna(0).astype(int) # NaN is converted to 0\n",
        "\n",
        "attractions_bc.drop('rank_in_city', axis=1, inplace=True)\n",
        "\n",
        "# Cast column 'num_reviews' to type int\n",
        "attractions_bc['num_reviews'] = attractions_bc['num_reviews'].str.replace(',', '')\n",
        "attractions_bc['num_reviews'].fillna(0).astype(int)\n",
        "\n",
        "# Create 'category' column\n",
        "# attractions_bc['category'] = attractions_bc['attraction_category'].str.split(' • ').str[0]\n",
        "\n",
        "# Rename 'attraction_category' to 'tags and comma-separate\n",
        "# attractions_bc.rename(columns={'attraction_category':'tags'}, inplace=True)\n",
        "attractions_bc['tags'] = attractions_bc['tags'].str.replace(' • ', ',')"
      ],
      "execution_count": null,
      "outputs": []
    },
    {
      "cell_type": "code",
      "metadata": {
        "id": "aWkuYnTOV470",
        "colab": {
          "base_uri": "https://localhost:8080/",
          "height": 598
        },
        "outputId": "9be8a5c2-1190-4910-da60-f658a7432ac0"
      },
      "source": [
        "attractions_bc.head()"
      ],
      "execution_count": null,
      "outputs": [
        {
          "output_type": "execute_result",
          "data": {
            "text/html": [
              "<div>\n",
              "<style scoped>\n",
              "    .dataframe tbody tr th:only-of-type {\n",
              "        vertical-align: middle;\n",
              "    }\n",
              "\n",
              "    .dataframe tbody tr th {\n",
              "        vertical-align: top;\n",
              "    }\n",
              "\n",
              "    .dataframe thead th {\n",
              "        text-align: right;\n",
              "    }\n",
              "</style>\n",
              "<table border=\"1\" class=\"dataframe\">\n",
              "  <thead>\n",
              "    <tr style=\"text-align: right;\">\n",
              "      <th></th>\n",
              "      <th>attraction_name</th>\n",
              "      <th>attraction_rating</th>\n",
              "      <th>tags</th>\n",
              "      <th>num_reviews</th>\n",
              "      <th>about</th>\n",
              "      <th>suggested_duration</th>\n",
              "      <th>category</th>\n",
              "      <th>photo</th>\n",
              "      <th>city</th>\n",
              "      <th>state</th>\n",
              "    </tr>\n",
              "  </thead>\n",
              "  <tbody>\n",
              "    <tr>\n",
              "      <th>0</th>\n",
              "      <td>Stanley Park</td>\n",
              "      <td>4.5</td>\n",
              "      <td>Parks</td>\n",
              "      <td>28784</td>\n",
              "      <td>North America's third-largest park draws eight...</td>\n",
              "      <td>2-3 hours</td>\n",
              "      <td>Parks</td>\n",
              "      <td>https://media-cdn.tripadvisor.com/media/photo-...</td>\n",
              "      <td>Vancouver</td>\n",
              "      <td>BC</td>\n",
              "    </tr>\n",
              "    <tr>\n",
              "      <th>1</th>\n",
              "      <td>Elk Falls Provincial Park</td>\n",
              "      <td>4.5</td>\n",
              "      <td>Parks</td>\n",
              "      <td>823</td>\n",
              "      <td>A popular destination family campground on Van...</td>\n",
              "      <td>NaN</td>\n",
              "      <td>Parks</td>\n",
              "      <td>https://media-cdn.tripadvisor.com/media/photo-...</td>\n",
              "      <td>Campbell River</td>\n",
              "      <td>BC</td>\n",
              "    </tr>\n",
              "    <tr>\n",
              "      <th>2</th>\n",
              "      <td>Davison Orchards Country Village</td>\n",
              "      <td>4.5</td>\n",
              "      <td>Farms,Playgrounds,Farmers Markets</td>\n",
              "      <td>892</td>\n",
              "      <td>Growing food &amp; family memories since 1933! At ...</td>\n",
              "      <td>1-2 hours</td>\n",
              "      <td>Farms</td>\n",
              "      <td>https://media-cdn.tripadvisor.com/media/photo-...</td>\n",
              "      <td>Vernon</td>\n",
              "      <td>BC</td>\n",
              "    </tr>\n",
              "    <tr>\n",
              "      <th>3</th>\n",
              "      <td>Sea to Sky Gondola</td>\n",
              "      <td>4.5</td>\n",
              "      <td>Trams,Hiking Trails</td>\n",
              "      <td>2088</td>\n",
              "      <td>Open year-round, the Sea to Sky Gondola is loc...</td>\n",
              "      <td>2-3 hours</td>\n",
              "      <td>Trams</td>\n",
              "      <td>https://media-cdn.tripadvisor.com/media/photo-...</td>\n",
              "      <td>Squamish</td>\n",
              "      <td>BC</td>\n",
              "    </tr>\n",
              "    <tr>\n",
              "      <th>4</th>\n",
              "      <td>Squamish Lil'wat Cultural Centre</td>\n",
              "      <td>4.5</td>\n",
              "      <td>Art Galleries</td>\n",
              "      <td>1025</td>\n",
              "      <td>The Squamish Lil'wat Cultural Centre is a thre...</td>\n",
              "      <td>1-2 hours</td>\n",
              "      <td>Art Galleries</td>\n",
              "      <td>https://media-cdn.tripadvisor.com/media/photo-...</td>\n",
              "      <td>Whistler</td>\n",
              "      <td>BC</td>\n",
              "    </tr>\n",
              "  </tbody>\n",
              "</table>\n",
              "</div>"
            ],
            "text/plain": [
              "                    attraction_name  attraction_rating  ...            city state\n",
              "0                      Stanley Park                4.5  ...       Vancouver    BC\n",
              "1         Elk Falls Provincial Park                4.5  ...  Campbell River    BC\n",
              "2  Davison Orchards Country Village                4.5  ...          Vernon    BC\n",
              "3                Sea to Sky Gondola                4.5  ...        Squamish    BC\n",
              "4  Squamish Lil'wat Cultural Centre                4.5  ...        Whistler    BC\n",
              "\n",
              "[5 rows x 10 columns]"
            ]
          },
          "metadata": {},
          "execution_count": 23
        }
      ]
    },
    {
      "cell_type": "markdown",
      "metadata": {
        "id": "MWQ6PIHnyfb9"
      },
      "source": [
        "# Rename Category to Subcategory"
      ]
    },
    {
      "cell_type": "code",
      "metadata": {
        "id": "ncdX-R93yJ1m"
      },
      "source": [
        "attractions_bc.rename(columns={'category': 'subcategory'}, inplace=True)"
      ],
      "execution_count": null,
      "outputs": []
    },
    {
      "cell_type": "code",
      "metadata": {
        "colab": {
          "base_uri": "https://localhost:8080/",
          "height": 598
        },
        "id": "2YILZO7SzYEI",
        "outputId": "14ebe877-1f03-4efb-a2d1-01e1c04436b0"
      },
      "source": [
        "attractions_bc.head()"
      ],
      "execution_count": null,
      "outputs": [
        {
          "output_type": "execute_result",
          "data": {
            "text/html": [
              "<div>\n",
              "<style scoped>\n",
              "    .dataframe tbody tr th:only-of-type {\n",
              "        vertical-align: middle;\n",
              "    }\n",
              "\n",
              "    .dataframe tbody tr th {\n",
              "        vertical-align: top;\n",
              "    }\n",
              "\n",
              "    .dataframe thead th {\n",
              "        text-align: right;\n",
              "    }\n",
              "</style>\n",
              "<table border=\"1\" class=\"dataframe\">\n",
              "  <thead>\n",
              "    <tr style=\"text-align: right;\">\n",
              "      <th></th>\n",
              "      <th>attraction_name</th>\n",
              "      <th>attraction_rating</th>\n",
              "      <th>tags</th>\n",
              "      <th>num_reviews</th>\n",
              "      <th>about</th>\n",
              "      <th>suggested_duration</th>\n",
              "      <th>subcategory</th>\n",
              "      <th>photo</th>\n",
              "      <th>city</th>\n",
              "      <th>state</th>\n",
              "    </tr>\n",
              "  </thead>\n",
              "  <tbody>\n",
              "    <tr>\n",
              "      <th>0</th>\n",
              "      <td>Stanley Park</td>\n",
              "      <td>4.5</td>\n",
              "      <td>Parks</td>\n",
              "      <td>28784</td>\n",
              "      <td>North America's third-largest park draws eight...</td>\n",
              "      <td>2-3 hours</td>\n",
              "      <td>Parks</td>\n",
              "      <td>https://media-cdn.tripadvisor.com/media/photo-...</td>\n",
              "      <td>Vancouver</td>\n",
              "      <td>BC</td>\n",
              "    </tr>\n",
              "    <tr>\n",
              "      <th>1</th>\n",
              "      <td>Elk Falls Provincial Park</td>\n",
              "      <td>4.5</td>\n",
              "      <td>Parks</td>\n",
              "      <td>823</td>\n",
              "      <td>A popular destination family campground on Van...</td>\n",
              "      <td>NaN</td>\n",
              "      <td>Parks</td>\n",
              "      <td>https://media-cdn.tripadvisor.com/media/photo-...</td>\n",
              "      <td>Campbell River</td>\n",
              "      <td>BC</td>\n",
              "    </tr>\n",
              "    <tr>\n",
              "      <th>2</th>\n",
              "      <td>Davison Orchards Country Village</td>\n",
              "      <td>4.5</td>\n",
              "      <td>Farms,Playgrounds,Farmers Markets</td>\n",
              "      <td>892</td>\n",
              "      <td>Growing food &amp; family memories since 1933! At ...</td>\n",
              "      <td>1-2 hours</td>\n",
              "      <td>Farms</td>\n",
              "      <td>https://media-cdn.tripadvisor.com/media/photo-...</td>\n",
              "      <td>Vernon</td>\n",
              "      <td>BC</td>\n",
              "    </tr>\n",
              "    <tr>\n",
              "      <th>3</th>\n",
              "      <td>Sea to Sky Gondola</td>\n",
              "      <td>4.5</td>\n",
              "      <td>Trams,Hiking Trails</td>\n",
              "      <td>2088</td>\n",
              "      <td>Open year-round, the Sea to Sky Gondola is loc...</td>\n",
              "      <td>2-3 hours</td>\n",
              "      <td>Trams</td>\n",
              "      <td>https://media-cdn.tripadvisor.com/media/photo-...</td>\n",
              "      <td>Squamish</td>\n",
              "      <td>BC</td>\n",
              "    </tr>\n",
              "    <tr>\n",
              "      <th>4</th>\n",
              "      <td>Squamish Lil'wat Cultural Centre</td>\n",
              "      <td>4.5</td>\n",
              "      <td>Art Galleries</td>\n",
              "      <td>1025</td>\n",
              "      <td>The Squamish Lil'wat Cultural Centre is a thre...</td>\n",
              "      <td>1-2 hours</td>\n",
              "      <td>Art Galleries</td>\n",
              "      <td>https://media-cdn.tripadvisor.com/media/photo-...</td>\n",
              "      <td>Whistler</td>\n",
              "      <td>BC</td>\n",
              "    </tr>\n",
              "  </tbody>\n",
              "</table>\n",
              "</div>"
            ],
            "text/plain": [
              "                    attraction_name  attraction_rating  ...            city state\n",
              "0                      Stanley Park                4.5  ...       Vancouver    BC\n",
              "1         Elk Falls Provincial Park                4.5  ...  Campbell River    BC\n",
              "2  Davison Orchards Country Village                4.5  ...          Vernon    BC\n",
              "3                Sea to Sky Gondola                4.5  ...        Squamish    BC\n",
              "4  Squamish Lil'wat Cultural Centre                4.5  ...        Whistler    BC\n",
              "\n",
              "[5 rows x 10 columns]"
            ]
          },
          "metadata": {},
          "execution_count": 25
        }
      ]
    },
    {
      "cell_type": "markdown",
      "metadata": {
        "id": "QVR49cgFCsB5"
      },
      "source": [
        "# Adding Durations"
      ]
    },
    {
      "cell_type": "code",
      "metadata": {
        "colab": {
          "base_uri": "https://localhost:8080/"
        },
        "id": "1VNIX0NwCvSk",
        "outputId": "0b8d3e53-d9d9-46f4-ae92-77d85e0302f8"
      },
      "source": [
        "n = len(pd.unique(attractions_bc['suggested_duration'])) # see number of unique category values \n",
        "print(\"No.of.unique values :\", \n",
        "      n)"
      ],
      "execution_count": null,
      "outputs": [
        {
          "output_type": "stream",
          "name": "stdout",
          "text": [
            "No.of.unique values : 5\n"
          ]
        }
      ]
    },
    {
      "cell_type": "code",
      "metadata": {
        "colab": {
          "base_uri": "https://localhost:8080/"
        },
        "id": "t_ayobwKC0yy",
        "outputId": "281394d8-3176-442d-d7d7-9a48bba50e35"
      },
      "source": [
        "pd.unique(attractions_bc['suggested_duration'])"
      ],
      "execution_count": null,
      "outputs": [
        {
          "output_type": "execute_result",
          "data": {
            "text/plain": [
              "array(['2-3 hours', nan, '1-2 hours', '< 1 hour', 'More than 3 hours'],\n",
              "      dtype=object)"
            ]
          },
          "metadata": {},
          "execution_count": 27
        }
      ]
    },
    {
      "cell_type": "code",
      "metadata": {
        "id": "jk1nF-XpDjB4"
      },
      "source": [
        "attractions_bc['suggested_duration'].fillna('1-3 hours', inplace=True) # NaN is converted '1-3 hours'"
      ],
      "execution_count": null,
      "outputs": []
    },
    {
      "cell_type": "code",
      "metadata": {
        "colab": {
          "base_uri": "https://localhost:8080/",
          "height": 598
        },
        "id": "6P_3UsCNEiWQ",
        "outputId": "243639a7-01ea-471d-9e6a-6d7783c4d69e"
      },
      "source": [
        "attractions_bc.head()"
      ],
      "execution_count": null,
      "outputs": [
        {
          "output_type": "execute_result",
          "data": {
            "text/html": [
              "<div>\n",
              "<style scoped>\n",
              "    .dataframe tbody tr th:only-of-type {\n",
              "        vertical-align: middle;\n",
              "    }\n",
              "\n",
              "    .dataframe tbody tr th {\n",
              "        vertical-align: top;\n",
              "    }\n",
              "\n",
              "    .dataframe thead th {\n",
              "        text-align: right;\n",
              "    }\n",
              "</style>\n",
              "<table border=\"1\" class=\"dataframe\">\n",
              "  <thead>\n",
              "    <tr style=\"text-align: right;\">\n",
              "      <th></th>\n",
              "      <th>attraction_name</th>\n",
              "      <th>attraction_rating</th>\n",
              "      <th>tags</th>\n",
              "      <th>num_reviews</th>\n",
              "      <th>about</th>\n",
              "      <th>suggested_duration</th>\n",
              "      <th>subcategory</th>\n",
              "      <th>photo</th>\n",
              "      <th>city</th>\n",
              "      <th>state</th>\n",
              "    </tr>\n",
              "  </thead>\n",
              "  <tbody>\n",
              "    <tr>\n",
              "      <th>0</th>\n",
              "      <td>Stanley Park</td>\n",
              "      <td>4.5</td>\n",
              "      <td>Parks</td>\n",
              "      <td>28784</td>\n",
              "      <td>North America's third-largest park draws eight...</td>\n",
              "      <td>2-3 hours</td>\n",
              "      <td>Parks</td>\n",
              "      <td>https://media-cdn.tripadvisor.com/media/photo-...</td>\n",
              "      <td>Vancouver</td>\n",
              "      <td>BC</td>\n",
              "    </tr>\n",
              "    <tr>\n",
              "      <th>1</th>\n",
              "      <td>Elk Falls Provincial Park</td>\n",
              "      <td>4.5</td>\n",
              "      <td>Parks</td>\n",
              "      <td>823</td>\n",
              "      <td>A popular destination family campground on Van...</td>\n",
              "      <td>1-3 hours</td>\n",
              "      <td>Parks</td>\n",
              "      <td>https://media-cdn.tripadvisor.com/media/photo-...</td>\n",
              "      <td>Campbell River</td>\n",
              "      <td>BC</td>\n",
              "    </tr>\n",
              "    <tr>\n",
              "      <th>2</th>\n",
              "      <td>Davison Orchards Country Village</td>\n",
              "      <td>4.5</td>\n",
              "      <td>Farms,Playgrounds,Farmers Markets</td>\n",
              "      <td>892</td>\n",
              "      <td>Growing food &amp; family memories since 1933! At ...</td>\n",
              "      <td>1-2 hours</td>\n",
              "      <td>Farms</td>\n",
              "      <td>https://media-cdn.tripadvisor.com/media/photo-...</td>\n",
              "      <td>Vernon</td>\n",
              "      <td>BC</td>\n",
              "    </tr>\n",
              "    <tr>\n",
              "      <th>3</th>\n",
              "      <td>Sea to Sky Gondola</td>\n",
              "      <td>4.5</td>\n",
              "      <td>Trams,Hiking Trails</td>\n",
              "      <td>2088</td>\n",
              "      <td>Open year-round, the Sea to Sky Gondola is loc...</td>\n",
              "      <td>2-3 hours</td>\n",
              "      <td>Trams</td>\n",
              "      <td>https://media-cdn.tripadvisor.com/media/photo-...</td>\n",
              "      <td>Squamish</td>\n",
              "      <td>BC</td>\n",
              "    </tr>\n",
              "    <tr>\n",
              "      <th>4</th>\n",
              "      <td>Squamish Lil'wat Cultural Centre</td>\n",
              "      <td>4.5</td>\n",
              "      <td>Art Galleries</td>\n",
              "      <td>1025</td>\n",
              "      <td>The Squamish Lil'wat Cultural Centre is a thre...</td>\n",
              "      <td>1-2 hours</td>\n",
              "      <td>Art Galleries</td>\n",
              "      <td>https://media-cdn.tripadvisor.com/media/photo-...</td>\n",
              "      <td>Whistler</td>\n",
              "      <td>BC</td>\n",
              "    </tr>\n",
              "  </tbody>\n",
              "</table>\n",
              "</div>"
            ],
            "text/plain": [
              "                    attraction_name  attraction_rating  ...            city state\n",
              "0                      Stanley Park                4.5  ...       Vancouver    BC\n",
              "1         Elk Falls Provincial Park                4.5  ...  Campbell River    BC\n",
              "2  Davison Orchards Country Village                4.5  ...          Vernon    BC\n",
              "3                Sea to Sky Gondola                4.5  ...        Squamish    BC\n",
              "4  Squamish Lil'wat Cultural Centre                4.5  ...        Whistler    BC\n",
              "\n",
              "[5 rows x 10 columns]"
            ]
          },
          "metadata": {},
          "execution_count": 29
        }
      ]
    },
    {
      "cell_type": "markdown",
      "metadata": {
        "id": "R23Mdh9lYyij"
      },
      "source": [
        "# Add PID and category"
      ]
    },
    {
      "cell_type": "code",
      "metadata": {
        "id": "ICNxigs2Y0Pk"
      },
      "source": [
        "attractions_bc.insert(0, 'PID', range(144382, 144382 + len(attractions_bc)))"
      ],
      "execution_count": null,
      "outputs": []
    },
    {
      "cell_type": "code",
      "metadata": {
        "colab": {
          "base_uri": "https://localhost:8080/",
          "height": 598
        },
        "id": "DlAIDr6dY9Af",
        "outputId": "757fe799-3f22-4757-ca53-c11521832d11"
      },
      "source": [
        "attractions_bc.head()"
      ],
      "execution_count": null,
      "outputs": [
        {
          "output_type": "execute_result",
          "data": {
            "text/html": [
              "<div>\n",
              "<style scoped>\n",
              "    .dataframe tbody tr th:only-of-type {\n",
              "        vertical-align: middle;\n",
              "    }\n",
              "\n",
              "    .dataframe tbody tr th {\n",
              "        vertical-align: top;\n",
              "    }\n",
              "\n",
              "    .dataframe thead th {\n",
              "        text-align: right;\n",
              "    }\n",
              "</style>\n",
              "<table border=\"1\" class=\"dataframe\">\n",
              "  <thead>\n",
              "    <tr style=\"text-align: right;\">\n",
              "      <th></th>\n",
              "      <th>PID</th>\n",
              "      <th>attraction_name</th>\n",
              "      <th>attraction_rating</th>\n",
              "      <th>tags</th>\n",
              "      <th>num_reviews</th>\n",
              "      <th>about</th>\n",
              "      <th>suggested_duration</th>\n",
              "      <th>subcategory</th>\n",
              "      <th>photo</th>\n",
              "      <th>city</th>\n",
              "      <th>state</th>\n",
              "    </tr>\n",
              "  </thead>\n",
              "  <tbody>\n",
              "    <tr>\n",
              "      <th>0</th>\n",
              "      <td>144382</td>\n",
              "      <td>Stanley Park</td>\n",
              "      <td>4.5</td>\n",
              "      <td>Parks</td>\n",
              "      <td>28784</td>\n",
              "      <td>North America's third-largest park draws eight...</td>\n",
              "      <td>2-3 hours</td>\n",
              "      <td>Parks</td>\n",
              "      <td>https://media-cdn.tripadvisor.com/media/photo-...</td>\n",
              "      <td>Vancouver</td>\n",
              "      <td>BC</td>\n",
              "    </tr>\n",
              "    <tr>\n",
              "      <th>1</th>\n",
              "      <td>144383</td>\n",
              "      <td>Elk Falls Provincial Park</td>\n",
              "      <td>4.5</td>\n",
              "      <td>Parks</td>\n",
              "      <td>823</td>\n",
              "      <td>A popular destination family campground on Van...</td>\n",
              "      <td>1-3 hours</td>\n",
              "      <td>Parks</td>\n",
              "      <td>https://media-cdn.tripadvisor.com/media/photo-...</td>\n",
              "      <td>Campbell River</td>\n",
              "      <td>BC</td>\n",
              "    </tr>\n",
              "    <tr>\n",
              "      <th>2</th>\n",
              "      <td>144384</td>\n",
              "      <td>Davison Orchards Country Village</td>\n",
              "      <td>4.5</td>\n",
              "      <td>Farms,Playgrounds,Farmers Markets</td>\n",
              "      <td>892</td>\n",
              "      <td>Growing food &amp; family memories since 1933! At ...</td>\n",
              "      <td>1-2 hours</td>\n",
              "      <td>Farms</td>\n",
              "      <td>https://media-cdn.tripadvisor.com/media/photo-...</td>\n",
              "      <td>Vernon</td>\n",
              "      <td>BC</td>\n",
              "    </tr>\n",
              "    <tr>\n",
              "      <th>3</th>\n",
              "      <td>144385</td>\n",
              "      <td>Sea to Sky Gondola</td>\n",
              "      <td>4.5</td>\n",
              "      <td>Trams,Hiking Trails</td>\n",
              "      <td>2088</td>\n",
              "      <td>Open year-round, the Sea to Sky Gondola is loc...</td>\n",
              "      <td>2-3 hours</td>\n",
              "      <td>Trams</td>\n",
              "      <td>https://media-cdn.tripadvisor.com/media/photo-...</td>\n",
              "      <td>Squamish</td>\n",
              "      <td>BC</td>\n",
              "    </tr>\n",
              "    <tr>\n",
              "      <th>4</th>\n",
              "      <td>144386</td>\n",
              "      <td>Squamish Lil'wat Cultural Centre</td>\n",
              "      <td>4.5</td>\n",
              "      <td>Art Galleries</td>\n",
              "      <td>1025</td>\n",
              "      <td>The Squamish Lil'wat Cultural Centre is a thre...</td>\n",
              "      <td>1-2 hours</td>\n",
              "      <td>Art Galleries</td>\n",
              "      <td>https://media-cdn.tripadvisor.com/media/photo-...</td>\n",
              "      <td>Whistler</td>\n",
              "      <td>BC</td>\n",
              "    </tr>\n",
              "  </tbody>\n",
              "</table>\n",
              "</div>"
            ],
            "text/plain": [
              "      PID                   attraction_name  ...            city state\n",
              "0  144382                      Stanley Park  ...       Vancouver    BC\n",
              "1  144383         Elk Falls Provincial Park  ...  Campbell River    BC\n",
              "2  144384  Davison Orchards Country Village  ...          Vernon    BC\n",
              "3  144385                Sea to Sky Gondola  ...        Squamish    BC\n",
              "4  144386  Squamish Lil'wat Cultural Centre  ...        Whistler    BC\n",
              "\n",
              "[5 rows x 11 columns]"
            ]
          },
          "metadata": {},
          "execution_count": 31
        }
      ]
    },
    {
      "cell_type": "code",
      "metadata": {
        "colab": {
          "base_uri": "https://localhost:8080/"
        },
        "id": "dY45cm0HY_iQ",
        "outputId": "42472eab-b27d-4d7f-cb8a-253ed0ca0687"
      },
      "source": [
        "attractions_bc.shape"
      ],
      "execution_count": null,
      "outputs": [
        {
          "output_type": "execute_result",
          "data": {
            "text/plain": [
              "(6770, 11)"
            ]
          },
          "metadata": {},
          "execution_count": 32
        }
      ]
    },
    {
      "cell_type": "code",
      "metadata": {
        "colab": {
          "base_uri": "https://localhost:8080/",
          "height": 185
        },
        "id": "FNtTMWlaZDfA",
        "outputId": "b6b2d1fb-12e3-4f45-aa1a-cb52e035a679"
      },
      "source": [
        "# this is the last attraction\n",
        "attractions_bc.loc[attractions_bc['PID'] == 151151]"
      ],
      "execution_count": null,
      "outputs": [
        {
          "output_type": "execute_result",
          "data": {
            "text/html": [
              "<div>\n",
              "<style scoped>\n",
              "    .dataframe tbody tr th:only-of-type {\n",
              "        vertical-align: middle;\n",
              "    }\n",
              "\n",
              "    .dataframe tbody tr th {\n",
              "        vertical-align: top;\n",
              "    }\n",
              "\n",
              "    .dataframe thead th {\n",
              "        text-align: right;\n",
              "    }\n",
              "</style>\n",
              "<table border=\"1\" class=\"dataframe\">\n",
              "  <thead>\n",
              "    <tr style=\"text-align: right;\">\n",
              "      <th></th>\n",
              "      <th>PID</th>\n",
              "      <th>attraction_name</th>\n",
              "      <th>attraction_rating</th>\n",
              "      <th>tags</th>\n",
              "      <th>num_reviews</th>\n",
              "      <th>about</th>\n",
              "      <th>suggested_duration</th>\n",
              "      <th>subcategory</th>\n",
              "      <th>photo</th>\n",
              "      <th>city</th>\n",
              "      <th>state</th>\n",
              "    </tr>\n",
              "  </thead>\n",
              "  <tbody>\n",
              "    <tr>\n",
              "      <th>8634</th>\n",
              "      <td>151151</td>\n",
              "      <td>Royal BC Museum</td>\n",
              "      <td>4.5</td>\n",
              "      <td>Speciality Museums</td>\n",
              "      <td>7063</td>\n",
              "      <td>See all of British Columbia at the Royal BC Mu...</td>\n",
              "      <td>1-2 hours</td>\n",
              "      <td>Speciality Museums</td>\n",
              "      <td>https://media-cdn.tripadvisor.com/media/photo-...</td>\n",
              "      <td>Victoria</td>\n",
              "      <td>BC</td>\n",
              "    </tr>\n",
              "  </tbody>\n",
              "</table>\n",
              "</div>"
            ],
            "text/plain": [
              "         PID  attraction_name  ...      city state\n",
              "8634  151151  Royal BC Museum  ...  Victoria    BC\n",
              "\n",
              "[1 rows x 11 columns]"
            ]
          },
          "metadata": {},
          "execution_count": 33
        }
      ]
    },
    {
      "cell_type": "code",
      "metadata": {
        "id": "aPL4CBiTZRPt"
      },
      "source": [
        "attractions_bc['category'] = 'attractions'"
      ],
      "execution_count": null,
      "outputs": []
    },
    {
      "cell_type": "code",
      "metadata": {
        "colab": {
          "base_uri": "https://localhost:8080/",
          "height": 598
        },
        "id": "x-0H-UrtZYp7",
        "outputId": "19341be0-a633-4d14-f5b0-5df2b05a3ea1"
      },
      "source": [
        "attractions_bc.head()"
      ],
      "execution_count": null,
      "outputs": [
        {
          "output_type": "execute_result",
          "data": {
            "text/html": [
              "<div>\n",
              "<style scoped>\n",
              "    .dataframe tbody tr th:only-of-type {\n",
              "        vertical-align: middle;\n",
              "    }\n",
              "\n",
              "    .dataframe tbody tr th {\n",
              "        vertical-align: top;\n",
              "    }\n",
              "\n",
              "    .dataframe thead th {\n",
              "        text-align: right;\n",
              "    }\n",
              "</style>\n",
              "<table border=\"1\" class=\"dataframe\">\n",
              "  <thead>\n",
              "    <tr style=\"text-align: right;\">\n",
              "      <th></th>\n",
              "      <th>PID</th>\n",
              "      <th>attraction_name</th>\n",
              "      <th>attraction_rating</th>\n",
              "      <th>tags</th>\n",
              "      <th>num_reviews</th>\n",
              "      <th>about</th>\n",
              "      <th>suggested_duration</th>\n",
              "      <th>subcategory</th>\n",
              "      <th>photo</th>\n",
              "      <th>city</th>\n",
              "      <th>state</th>\n",
              "      <th>category</th>\n",
              "    </tr>\n",
              "  </thead>\n",
              "  <tbody>\n",
              "    <tr>\n",
              "      <th>0</th>\n",
              "      <td>144382</td>\n",
              "      <td>Stanley Park</td>\n",
              "      <td>4.5</td>\n",
              "      <td>Parks</td>\n",
              "      <td>28784</td>\n",
              "      <td>North America's third-largest park draws eight...</td>\n",
              "      <td>2-3 hours</td>\n",
              "      <td>Parks</td>\n",
              "      <td>https://media-cdn.tripadvisor.com/media/photo-...</td>\n",
              "      <td>Vancouver</td>\n",
              "      <td>BC</td>\n",
              "      <td>attractions</td>\n",
              "    </tr>\n",
              "    <tr>\n",
              "      <th>1</th>\n",
              "      <td>144383</td>\n",
              "      <td>Elk Falls Provincial Park</td>\n",
              "      <td>4.5</td>\n",
              "      <td>Parks</td>\n",
              "      <td>823</td>\n",
              "      <td>A popular destination family campground on Van...</td>\n",
              "      <td>1-3 hours</td>\n",
              "      <td>Parks</td>\n",
              "      <td>https://media-cdn.tripadvisor.com/media/photo-...</td>\n",
              "      <td>Campbell River</td>\n",
              "      <td>BC</td>\n",
              "      <td>attractions</td>\n",
              "    </tr>\n",
              "    <tr>\n",
              "      <th>2</th>\n",
              "      <td>144384</td>\n",
              "      <td>Davison Orchards Country Village</td>\n",
              "      <td>4.5</td>\n",
              "      <td>Farms,Playgrounds,Farmers Markets</td>\n",
              "      <td>892</td>\n",
              "      <td>Growing food &amp; family memories since 1933! At ...</td>\n",
              "      <td>1-2 hours</td>\n",
              "      <td>Farms</td>\n",
              "      <td>https://media-cdn.tripadvisor.com/media/photo-...</td>\n",
              "      <td>Vernon</td>\n",
              "      <td>BC</td>\n",
              "      <td>attractions</td>\n",
              "    </tr>\n",
              "    <tr>\n",
              "      <th>3</th>\n",
              "      <td>144385</td>\n",
              "      <td>Sea to Sky Gondola</td>\n",
              "      <td>4.5</td>\n",
              "      <td>Trams,Hiking Trails</td>\n",
              "      <td>2088</td>\n",
              "      <td>Open year-round, the Sea to Sky Gondola is loc...</td>\n",
              "      <td>2-3 hours</td>\n",
              "      <td>Trams</td>\n",
              "      <td>https://media-cdn.tripadvisor.com/media/photo-...</td>\n",
              "      <td>Squamish</td>\n",
              "      <td>BC</td>\n",
              "      <td>attractions</td>\n",
              "    </tr>\n",
              "    <tr>\n",
              "      <th>4</th>\n",
              "      <td>144386</td>\n",
              "      <td>Squamish Lil'wat Cultural Centre</td>\n",
              "      <td>4.5</td>\n",
              "      <td>Art Galleries</td>\n",
              "      <td>1025</td>\n",
              "      <td>The Squamish Lil'wat Cultural Centre is a thre...</td>\n",
              "      <td>1-2 hours</td>\n",
              "      <td>Art Galleries</td>\n",
              "      <td>https://media-cdn.tripadvisor.com/media/photo-...</td>\n",
              "      <td>Whistler</td>\n",
              "      <td>BC</td>\n",
              "      <td>attractions</td>\n",
              "    </tr>\n",
              "  </tbody>\n",
              "</table>\n",
              "</div>"
            ],
            "text/plain": [
              "      PID                   attraction_name  ...  state     category\n",
              "0  144382                      Stanley Park  ...     BC  attractions\n",
              "1  144383         Elk Falls Provincial Park  ...     BC  attractions\n",
              "2  144384  Davison Orchards Country Village  ...     BC  attractions\n",
              "3  144385                Sea to Sky Gondola  ...     BC  attractions\n",
              "4  144386  Squamish Lil'wat Cultural Centre  ...     BC  attractions\n",
              "\n",
              "[5 rows x 12 columns]"
            ]
          },
          "metadata": {},
          "execution_count": 35
        }
      ]
    },
    {
      "cell_type": "markdown",
      "metadata": {
        "id": "BpjcaiiF6rKe"
      },
      "source": [
        "# create duration_low and duration_high"
      ]
    },
    {
      "cell_type": "code",
      "metadata": {
        "colab": {
          "base_uri": "https://localhost:8080/"
        },
        "id": "GMZIwDrZ6vtn",
        "outputId": "db6557ce-0acb-421d-fe59-5429f7adb21e"
      },
      "source": [
        "# cases'2-3 hours', '1-2 hours', '< 1 hour', 'More than 3 hours', '1-3 hours'\n",
        "attractions_bc['duration_low'] = ''\n",
        "attractions_bc['duration_high'] = ''\n",
        "\n",
        "\n",
        "for index in attractions_bc.index:\n",
        "  \n",
        "  if (attractions_bc['suggested_duration'][index] == '< 1 hour'):\n",
        "    attractions_bc['duration_low'][index] = .5\n",
        "    attractions_bc['duration_high'][index] = 1.0\n",
        "  if (attractions_bc['suggested_duration'][index] == '1-2 hours'):\n",
        "    attractions_bc['duration_low'][index] = 1.0\n",
        "    attractions_bc['duration_high'][index] = 2.0\n",
        "  if (attractions_bc['suggested_duration'][index] == '1-3 hours'):\n",
        "    attractions_bc['duration_low'][index] = 1.0\n",
        "    attractions_bc['duration_high'][index] = 3.0\n",
        "  if (attractions_bc['suggested_duration'][index] == '2-3 hours'):\n",
        "    attractions_bc['duration_low'][index] = 2.0\n",
        "    attractions_bc['duration_high'][index] = 3.0\n",
        "  if (attractions_bc['suggested_duration'][index] == 'More than 3 hours'):\n",
        "    attractions_bc['duration_low'][index] = 3.0\n",
        "    attractions_bc['duration_high'][index] = 8.0"
      ],
      "execution_count": null,
      "outputs": [
        {
          "output_type": "stream",
          "name": "stderr",
          "text": [
            "/usr/local/lib/python3.7/dist-packages/ipykernel_launcher.py:18: SettingWithCopyWarning: \n",
            "A value is trying to be set on a copy of a slice from a DataFrame\n",
            "\n",
            "See the caveats in the documentation: https://pandas.pydata.org/pandas-docs/stable/user_guide/indexing.html#returning-a-view-versus-a-copy\n",
            "/usr/local/lib/python3.7/dist-packages/ipykernel_launcher.py:19: SettingWithCopyWarning: \n",
            "A value is trying to be set on a copy of a slice from a DataFrame\n",
            "\n",
            "See the caveats in the documentation: https://pandas.pydata.org/pandas-docs/stable/user_guide/indexing.html#returning-a-view-versus-a-copy\n",
            "/usr/local/lib/python3.7/dist-packages/ipykernel_launcher.py:15: SettingWithCopyWarning: \n",
            "A value is trying to be set on a copy of a slice from a DataFrame\n",
            "\n",
            "See the caveats in the documentation: https://pandas.pydata.org/pandas-docs/stable/user_guide/indexing.html#returning-a-view-versus-a-copy\n",
            "  from ipykernel import kernelapp as app\n",
            "/usr/local/lib/python3.7/dist-packages/ipykernel_launcher.py:16: SettingWithCopyWarning: \n",
            "A value is trying to be set on a copy of a slice from a DataFrame\n",
            "\n",
            "See the caveats in the documentation: https://pandas.pydata.org/pandas-docs/stable/user_guide/indexing.html#returning-a-view-versus-a-copy\n",
            "  app.launch_new_instance()\n",
            "/usr/local/lib/python3.7/dist-packages/ipykernel_launcher.py:12: SettingWithCopyWarning: \n",
            "A value is trying to be set on a copy of a slice from a DataFrame\n",
            "\n",
            "See the caveats in the documentation: https://pandas.pydata.org/pandas-docs/stable/user_guide/indexing.html#returning-a-view-versus-a-copy\n",
            "  if sys.path[0] == '':\n",
            "/usr/local/lib/python3.7/dist-packages/ipykernel_launcher.py:13: SettingWithCopyWarning: \n",
            "A value is trying to be set on a copy of a slice from a DataFrame\n",
            "\n",
            "See the caveats in the documentation: https://pandas.pydata.org/pandas-docs/stable/user_guide/indexing.html#returning-a-view-versus-a-copy\n",
            "  del sys.path[0]\n",
            "/usr/local/lib/python3.7/dist-packages/ipykernel_launcher.py:9: SettingWithCopyWarning: \n",
            "A value is trying to be set on a copy of a slice from a DataFrame\n",
            "\n",
            "See the caveats in the documentation: https://pandas.pydata.org/pandas-docs/stable/user_guide/indexing.html#returning-a-view-versus-a-copy\n",
            "  if __name__ == '__main__':\n",
            "/usr/local/lib/python3.7/dist-packages/ipykernel_launcher.py:10: SettingWithCopyWarning: \n",
            "A value is trying to be set on a copy of a slice from a DataFrame\n",
            "\n",
            "See the caveats in the documentation: https://pandas.pydata.org/pandas-docs/stable/user_guide/indexing.html#returning-a-view-versus-a-copy\n",
            "  # Remove the CWD from sys.path while we load stuff.\n",
            "/usr/local/lib/python3.7/dist-packages/ipykernel_launcher.py:21: SettingWithCopyWarning: \n",
            "A value is trying to be set on a copy of a slice from a DataFrame\n",
            "\n",
            "See the caveats in the documentation: https://pandas.pydata.org/pandas-docs/stable/user_guide/indexing.html#returning-a-view-versus-a-copy\n",
            "/usr/local/lib/python3.7/dist-packages/ipykernel_launcher.py:22: SettingWithCopyWarning: \n",
            "A value is trying to be set on a copy of a slice from a DataFrame\n",
            "\n",
            "See the caveats in the documentation: https://pandas.pydata.org/pandas-docs/stable/user_guide/indexing.html#returning-a-view-versus-a-copy\n"
          ]
        }
      ]
    },
    {
      "cell_type": "code",
      "metadata": {
        "colab": {
          "base_uri": "https://localhost:8080/",
          "height": 598
        },
        "id": "Os7Cq1aU66AI",
        "outputId": "a3c4a776-f1ad-4008-fed4-cb893cbca7eb"
      },
      "source": [
        "attractions_bc.head()"
      ],
      "execution_count": null,
      "outputs": [
        {
          "output_type": "execute_result",
          "data": {
            "text/html": [
              "<div>\n",
              "<style scoped>\n",
              "    .dataframe tbody tr th:only-of-type {\n",
              "        vertical-align: middle;\n",
              "    }\n",
              "\n",
              "    .dataframe tbody tr th {\n",
              "        vertical-align: top;\n",
              "    }\n",
              "\n",
              "    .dataframe thead th {\n",
              "        text-align: right;\n",
              "    }\n",
              "</style>\n",
              "<table border=\"1\" class=\"dataframe\">\n",
              "  <thead>\n",
              "    <tr style=\"text-align: right;\">\n",
              "      <th></th>\n",
              "      <th>PID</th>\n",
              "      <th>attraction_name</th>\n",
              "      <th>attraction_rating</th>\n",
              "      <th>tags</th>\n",
              "      <th>num_reviews</th>\n",
              "      <th>about</th>\n",
              "      <th>suggested_duration</th>\n",
              "      <th>subcategory</th>\n",
              "      <th>photo</th>\n",
              "      <th>city</th>\n",
              "      <th>state</th>\n",
              "      <th>category</th>\n",
              "      <th>duration_low</th>\n",
              "      <th>duration_high</th>\n",
              "    </tr>\n",
              "  </thead>\n",
              "  <tbody>\n",
              "    <tr>\n",
              "      <th>0</th>\n",
              "      <td>144382</td>\n",
              "      <td>Stanley Park</td>\n",
              "      <td>4.5</td>\n",
              "      <td>Parks</td>\n",
              "      <td>28784</td>\n",
              "      <td>North America's third-largest park draws eight...</td>\n",
              "      <td>2-3 hours</td>\n",
              "      <td>Parks</td>\n",
              "      <td>https://media-cdn.tripadvisor.com/media/photo-...</td>\n",
              "      <td>Vancouver</td>\n",
              "      <td>BC</td>\n",
              "      <td>attractions</td>\n",
              "      <td>2</td>\n",
              "      <td>3</td>\n",
              "    </tr>\n",
              "    <tr>\n",
              "      <th>1</th>\n",
              "      <td>144383</td>\n",
              "      <td>Elk Falls Provincial Park</td>\n",
              "      <td>4.5</td>\n",
              "      <td>Parks</td>\n",
              "      <td>823</td>\n",
              "      <td>A popular destination family campground on Van...</td>\n",
              "      <td>1-3 hours</td>\n",
              "      <td>Parks</td>\n",
              "      <td>https://media-cdn.tripadvisor.com/media/photo-...</td>\n",
              "      <td>Campbell River</td>\n",
              "      <td>BC</td>\n",
              "      <td>attractions</td>\n",
              "      <td>1</td>\n",
              "      <td>3</td>\n",
              "    </tr>\n",
              "    <tr>\n",
              "      <th>2</th>\n",
              "      <td>144384</td>\n",
              "      <td>Davison Orchards Country Village</td>\n",
              "      <td>4.5</td>\n",
              "      <td>Farms,Playgrounds,Farmers Markets</td>\n",
              "      <td>892</td>\n",
              "      <td>Growing food &amp; family memories since 1933! At ...</td>\n",
              "      <td>1-2 hours</td>\n",
              "      <td>Farms</td>\n",
              "      <td>https://media-cdn.tripadvisor.com/media/photo-...</td>\n",
              "      <td>Vernon</td>\n",
              "      <td>BC</td>\n",
              "      <td>attractions</td>\n",
              "      <td>1</td>\n",
              "      <td>2</td>\n",
              "    </tr>\n",
              "    <tr>\n",
              "      <th>3</th>\n",
              "      <td>144385</td>\n",
              "      <td>Sea to Sky Gondola</td>\n",
              "      <td>4.5</td>\n",
              "      <td>Trams,Hiking Trails</td>\n",
              "      <td>2088</td>\n",
              "      <td>Open year-round, the Sea to Sky Gondola is loc...</td>\n",
              "      <td>2-3 hours</td>\n",
              "      <td>Trams</td>\n",
              "      <td>https://media-cdn.tripadvisor.com/media/photo-...</td>\n",
              "      <td>Squamish</td>\n",
              "      <td>BC</td>\n",
              "      <td>attractions</td>\n",
              "      <td>2</td>\n",
              "      <td>3</td>\n",
              "    </tr>\n",
              "    <tr>\n",
              "      <th>4</th>\n",
              "      <td>144386</td>\n",
              "      <td>Squamish Lil'wat Cultural Centre</td>\n",
              "      <td>4.5</td>\n",
              "      <td>Art Galleries</td>\n",
              "      <td>1025</td>\n",
              "      <td>The Squamish Lil'wat Cultural Centre is a thre...</td>\n",
              "      <td>1-2 hours</td>\n",
              "      <td>Art Galleries</td>\n",
              "      <td>https://media-cdn.tripadvisor.com/media/photo-...</td>\n",
              "      <td>Whistler</td>\n",
              "      <td>BC</td>\n",
              "      <td>attractions</td>\n",
              "      <td>1</td>\n",
              "      <td>2</td>\n",
              "    </tr>\n",
              "  </tbody>\n",
              "</table>\n",
              "</div>"
            ],
            "text/plain": [
              "      PID                   attraction_name  ...  duration_low duration_high\n",
              "0  144382                      Stanley Park  ...             2             3\n",
              "1  144383         Elk Falls Provincial Park  ...             1             3\n",
              "2  144384  Davison Orchards Country Village  ...             1             2\n",
              "3  144385                Sea to Sky Gondola  ...             2             3\n",
              "4  144386  Squamish Lil'wat Cultural Centre  ...             1             2\n",
              "\n",
              "[5 rows x 14 columns]"
            ]
          },
          "metadata": {},
          "execution_count": 37
        }
      ]
    },
    {
      "cell_type": "code",
      "metadata": {
        "colab": {
          "base_uri": "https://localhost:8080/"
        },
        "id": "Bo6ao6rL69c-",
        "outputId": "2cd15c48-06ba-4bfd-a3fd-721af7576aa5"
      },
      "source": [
        "attractions_bc['duration_low'].isnull().sum() #make sure that the new columns have no null values"
      ],
      "execution_count": null,
      "outputs": [
        {
          "output_type": "execute_result",
          "data": {
            "text/plain": [
              "0"
            ]
          },
          "metadata": {},
          "execution_count": 38
        }
      ]
    },
    {
      "cell_type": "markdown",
      "metadata": {
        "id": "XvEdJbaA5gNo"
      },
      "source": [
        "# take out hiking trails (so they aren't repeated)"
      ]
    },
    {
      "cell_type": "code",
      "metadata": {
        "colab": {
          "base_uri": "https://localhost:8080/"
        },
        "id": "we8pRexLw7p2",
        "outputId": "63a16c5e-14bd-4071-bd5d-a9b0c1d2fd00"
      },
      "source": [
        "pd.unique(attractions_bc['subcategory'])"
      ],
      "execution_count": null,
      "outputs": [
        {
          "output_type": "execute_result",
          "data": {
            "text/plain": [
              "array(['Parks', 'Farms', 'Trams', 'Art Galleries', 'Wineries & Vineyards',\n",
              "       'Hot Springs & Geysers', 'Bodies of Water',\n",
              "       'Points of Interest & Landmarks', 'Historic Walking Areas',\n",
              "       'Hiking Trails', 'Visitor Centres', 'Beaches', 'Ferries',\n",
              "       'Equipment Hire', 'Forests', 'Spas', 'Escape Games',\n",
              "       'Speciality & Gift Shops', 'Health Clubs', 'Airport Shops',\n",
              "       'Taxis & Shuttles', 'Ski & Snow Tours', 'Mountains',\n",
              "       'Horseback Riding Tours', 'Game & Entertainment Centres',\n",
              "       'Golf Courses', 'Ski & Snowboard Areas', 'Yoga & Pilates',\n",
              "       'Cooking Classes', 'Speciality Museums', 'Waterfalls',\n",
              "       'Lighthouses', 'State Parks', 'Nature & Wildlife Areas',\n",
              "       'Shopping Malls', 'Art Museums', 'Geologic Formations', 'Ranches',\n",
              "       'Bridges', 'Historic Sites', 'Water Parks',\n",
              "       'Cross-country Ski Areas', 'Aquariums', 'Piers & Boardwalks',\n",
              "       'Biking Trails', 'Neighbourhoods', 'Marinas', 'National Parks',\n",
              "       'Flea & Street Markets', 'Sports Complexes', 'Monuments & Statues',\n",
              "       'Amusement & Theme Parks', 'Missions', 'Libraries', 'Ghost Towns',\n",
              "       'Islands', 'Gardens', 'Zoos', 'Breweries', 'Factory Outlets',\n",
              "       'Theatres', 'Distilleries', 'Cultural Events', 'Dams',\n",
              "       'Scenic Walking Areas', 'History Museums', 'Horse Tracks',\n",
              "       'Military Museums', 'Natural History Museums', 'Lookouts',\n",
              "       'Playgrounds', 'Farmers Markets', 'Other Outdoor Activities',\n",
              "       'Religious Sites', 'Architectural Buildings', 'Comedy Clubs',\n",
              "       'Concerts', 'Churches & Cathedrals', 'Wine Bars',\n",
              "       'Paint & Pottery Studios', 'Arenas & Stadiums',\n",
              "       'Other Food & Drink', 'Auto Racing Tracks', 'Antique Shops',\n",
              "       'Department Stores', 'Bowling Alleys', 'Gay Bars', 'Bars & Clubs',\n",
              "       'Dance Clubs & Discos', 'Theatre & Performances',\n",
              "       'Sports Camps & Clinics', 'Lessons & Workshops', 'Canyons',\n",
              "       'Cinemas', 'Music Festivals', 'Bus Services', 'Scenic Drives',\n",
              "       'Casinos', 'Karaoke Bars', 'Scavenger Hunts', 'Cemeteries',\n",
              "       'Restaurants', 'Government Buildings', 'Miniature Golf',\n",
              "       'Thermal Spas', 'Jazz Bars', 'Dinner Theatres',\n",
              "       'Other Nature & Parks', 'Fountains', 'Country & Western Bars',\n",
              "       'Blues Bars', 'Shooting Ranges', 'Mines', 'Airport Lounges',\n",
              "       'Rail Services',\n",
              "       \"The official shuttle service of the Fraser Valley. Making daily connections between downtown Vancouver and Abbotsford International Airport giving access to discounted airlines. We also offer, charters, tours and private transfers giving access for any group to the region's beauty and recreational destinations. ZOOM welcomes you!\",\n",
              "       'Equestrian Trails', 'Safaris', 'Caverns & Caves', 'Ballets',\n",
              "       'Symphonies', 'Civic Centres', 'Public Transportation Systems',\n",
              "       'Convention Centres', 'Operas', 'Food & Drink Festivals',\n",
              "       'Exhibitions', 'Cabarets', '9:00 AM - 4:00 PM',\n",
              "       \"Children's Museums\", 'Science Museums', 'Seasonal Fireworks',\n",
              "       'Educational sites', 'Mysterious Sites', 'Dog Tracks',\n",
              "       'Observation Decks & Towers', 'Motorcycle Trails', 'Valleys',\n",
              "       'Beach & Pool Clubs', 'Off-Road & ATV Trails',\n",
              "       'Rides & Activities', 'Ancient Ruins'], dtype=object)"
            ]
          },
          "metadata": {},
          "execution_count": 39
        }
      ]
    },
    {
      "cell_type": "code",
      "metadata": {
        "colab": {
          "base_uri": "https://localhost:8080/"
        },
        "id": "MSGyooBt0uEb",
        "outputId": "427b5f00-633d-431c-d17c-e541c7e9da9e"
      },
      "source": [
        "(attractions_bc.subcategory == 'Hiking Trails').sum() # how many attractions are primarily hiking trails"
      ],
      "execution_count": null,
      "outputs": [
        {
          "output_type": "execute_result",
          "data": {
            "text/plain": [
              "174"
            ]
          },
          "metadata": {},
          "execution_count": 40
        }
      ]
    },
    {
      "cell_type": "code",
      "metadata": {
        "colab": {
          "base_uri": "https://localhost:8080/"
        },
        "id": "dMr2kZGR4Grj",
        "outputId": "2e05f8ee-aa16-4cf1-983a-8fb4db51ddfa"
      },
      "source": [
        "attractions_bc.shape"
      ],
      "execution_count": null,
      "outputs": [
        {
          "output_type": "execute_result",
          "data": {
            "text/plain": [
              "(6770, 14)"
            ]
          },
          "metadata": {},
          "execution_count": 41
        }
      ]
    },
    {
      "cell_type": "code",
      "metadata": {
        "id": "QOd0BBsx2UXB"
      },
      "source": [
        "attractions_bc = attractions_bc[attractions_bc.subcategory != 'Hiking Trails']"
      ],
      "execution_count": null,
      "outputs": []
    },
    {
      "cell_type": "code",
      "metadata": {
        "colab": {
          "base_uri": "https://localhost:8080/"
        },
        "id": "owWNrWpR4Mo1",
        "outputId": "1262b0fa-ad73-4753-cfa8-5f378db49a78"
      },
      "source": [
        "attractions_bc.shape"
      ],
      "execution_count": null,
      "outputs": [
        {
          "output_type": "execute_result",
          "data": {
            "text/plain": [
              "(6596, 14)"
            ]
          },
          "metadata": {},
          "execution_count": 43
        }
      ]
    },
    {
      "cell_type": "code",
      "metadata": {
        "colab": {
          "base_uri": "https://localhost:8080/",
          "height": 598
        },
        "id": "zOrNy89N4bQ8",
        "outputId": "ff0ef394-e00e-4e58-f406-f353129bcbe9"
      },
      "source": [
        "attractions_bc.head()"
      ],
      "execution_count": null,
      "outputs": [
        {
          "output_type": "execute_result",
          "data": {
            "text/html": [
              "<div>\n",
              "<style scoped>\n",
              "    .dataframe tbody tr th:only-of-type {\n",
              "        vertical-align: middle;\n",
              "    }\n",
              "\n",
              "    .dataframe tbody tr th {\n",
              "        vertical-align: top;\n",
              "    }\n",
              "\n",
              "    .dataframe thead th {\n",
              "        text-align: right;\n",
              "    }\n",
              "</style>\n",
              "<table border=\"1\" class=\"dataframe\">\n",
              "  <thead>\n",
              "    <tr style=\"text-align: right;\">\n",
              "      <th></th>\n",
              "      <th>PID</th>\n",
              "      <th>attraction_name</th>\n",
              "      <th>attraction_rating</th>\n",
              "      <th>tags</th>\n",
              "      <th>num_reviews</th>\n",
              "      <th>about</th>\n",
              "      <th>suggested_duration</th>\n",
              "      <th>subcategory</th>\n",
              "      <th>photo</th>\n",
              "      <th>city</th>\n",
              "      <th>state</th>\n",
              "      <th>category</th>\n",
              "      <th>duration_low</th>\n",
              "      <th>duration_high</th>\n",
              "    </tr>\n",
              "  </thead>\n",
              "  <tbody>\n",
              "    <tr>\n",
              "      <th>0</th>\n",
              "      <td>144382</td>\n",
              "      <td>Stanley Park</td>\n",
              "      <td>4.5</td>\n",
              "      <td>Parks</td>\n",
              "      <td>28784</td>\n",
              "      <td>North America's third-largest park draws eight...</td>\n",
              "      <td>2-3 hours</td>\n",
              "      <td>Parks</td>\n",
              "      <td>https://media-cdn.tripadvisor.com/media/photo-...</td>\n",
              "      <td>Vancouver</td>\n",
              "      <td>BC</td>\n",
              "      <td>attractions</td>\n",
              "      <td>2</td>\n",
              "      <td>3</td>\n",
              "    </tr>\n",
              "    <tr>\n",
              "      <th>1</th>\n",
              "      <td>144383</td>\n",
              "      <td>Elk Falls Provincial Park</td>\n",
              "      <td>4.5</td>\n",
              "      <td>Parks</td>\n",
              "      <td>823</td>\n",
              "      <td>A popular destination family campground on Van...</td>\n",
              "      <td>1-3 hours</td>\n",
              "      <td>Parks</td>\n",
              "      <td>https://media-cdn.tripadvisor.com/media/photo-...</td>\n",
              "      <td>Campbell River</td>\n",
              "      <td>BC</td>\n",
              "      <td>attractions</td>\n",
              "      <td>1</td>\n",
              "      <td>3</td>\n",
              "    </tr>\n",
              "    <tr>\n",
              "      <th>2</th>\n",
              "      <td>144384</td>\n",
              "      <td>Davison Orchards Country Village</td>\n",
              "      <td>4.5</td>\n",
              "      <td>Farms,Playgrounds,Farmers Markets</td>\n",
              "      <td>892</td>\n",
              "      <td>Growing food &amp; family memories since 1933! At ...</td>\n",
              "      <td>1-2 hours</td>\n",
              "      <td>Farms</td>\n",
              "      <td>https://media-cdn.tripadvisor.com/media/photo-...</td>\n",
              "      <td>Vernon</td>\n",
              "      <td>BC</td>\n",
              "      <td>attractions</td>\n",
              "      <td>1</td>\n",
              "      <td>2</td>\n",
              "    </tr>\n",
              "    <tr>\n",
              "      <th>3</th>\n",
              "      <td>144385</td>\n",
              "      <td>Sea to Sky Gondola</td>\n",
              "      <td>4.5</td>\n",
              "      <td>Trams,Hiking Trails</td>\n",
              "      <td>2088</td>\n",
              "      <td>Open year-round, the Sea to Sky Gondola is loc...</td>\n",
              "      <td>2-3 hours</td>\n",
              "      <td>Trams</td>\n",
              "      <td>https://media-cdn.tripadvisor.com/media/photo-...</td>\n",
              "      <td>Squamish</td>\n",
              "      <td>BC</td>\n",
              "      <td>attractions</td>\n",
              "      <td>2</td>\n",
              "      <td>3</td>\n",
              "    </tr>\n",
              "    <tr>\n",
              "      <th>4</th>\n",
              "      <td>144386</td>\n",
              "      <td>Squamish Lil'wat Cultural Centre</td>\n",
              "      <td>4.5</td>\n",
              "      <td>Art Galleries</td>\n",
              "      <td>1025</td>\n",
              "      <td>The Squamish Lil'wat Cultural Centre is a thre...</td>\n",
              "      <td>1-2 hours</td>\n",
              "      <td>Art Galleries</td>\n",
              "      <td>https://media-cdn.tripadvisor.com/media/photo-...</td>\n",
              "      <td>Whistler</td>\n",
              "      <td>BC</td>\n",
              "      <td>attractions</td>\n",
              "      <td>1</td>\n",
              "      <td>2</td>\n",
              "    </tr>\n",
              "  </tbody>\n",
              "</table>\n",
              "</div>"
            ],
            "text/plain": [
              "      PID                   attraction_name  ...  duration_low duration_high\n",
              "0  144382                      Stanley Park  ...             2             3\n",
              "1  144383         Elk Falls Provincial Park  ...             1             3\n",
              "2  144384  Davison Orchards Country Village  ...             1             2\n",
              "3  144385                Sea to Sky Gondola  ...             2             3\n",
              "4  144386  Squamish Lil'wat Cultural Centre  ...             1             2\n",
              "\n",
              "[5 rows x 14 columns]"
            ]
          },
          "metadata": {},
          "execution_count": 44
        }
      ]
    },
    {
      "cell_type": "markdown",
      "metadata": {
        "id": "jT3D4TSOZu0V"
      },
      "source": [
        "# Export to CSV"
      ]
    },
    {
      "cell_type": "code",
      "metadata": {
        "id": "IrJbPSuyZz5K"
      },
      "source": [
        "attractions_bc.to_csv(r'/content/drive/MyDrive/Fall 2021/550/Group Project/Datasets/Clean Scraped Data/clean_attractions_bc.csv', index=False)"
      ],
      "execution_count": null,
      "outputs": []
    }
  ]
}