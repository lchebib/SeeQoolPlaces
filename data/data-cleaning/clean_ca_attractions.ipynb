{
  "nbformat": 4,
  "nbformat_minor": 0,
  "metadata": {
    "colab": {
      "name": "clean_ca_attractions.ipynb",
      "provenance": [],
      "collapsed_sections": [],
      "include_colab_link": true
    },
    "kernelspec": {
      "name": "python3",
      "display_name": "Python 3"
    },
    "language_info": {
      "name": "python"
    }
  },
  "cells": [
    {
      "cell_type": "markdown",
      "metadata": {
        "id": "view-in-github",
        "colab_type": "text"
      },
      "source": [
        "<a href=\"https://colab.research.google.com/github/lchebib/SeeQoolPlaces/blob/main/data/data-cleaning/clean_ca_attractions.ipynb\" target=\"_parent\"><img src=\"https://colab.research.google.com/assets/colab-badge.svg\" alt=\"Open In Colab\"/></a>"
      ]
    },
    {
      "cell_type": "markdown",
      "metadata": {
        "id": "n3PW_k8POjAo"
      },
      "source": [
        "#Import pandas, create dataframe, and explore data\n",
        "\n"
      ]
    },
    {
      "cell_type": "code",
      "metadata": {
        "id": "grN-DOlMOJKp"
      },
      "source": [
        "import pandas as pd\n",
        "import numpy as np"
      ],
      "execution_count": null,
      "outputs": []
    },
    {
      "cell_type": "code",
      "metadata": {
        "colab": {
          "base_uri": "https://localhost:8080/"
        },
        "id": "s7Y6oC0wOW_-",
        "outputId": "37df5cff-f559-49d4-f0b6-b416a47cc270"
      },
      "source": [
        "prefix = '/content/drive'\n",
        "from google.colab import drive\n",
        "drive.mount(prefix, force_remount=True)"
      ],
      "execution_count": null,
      "outputs": [
        {
          "output_type": "stream",
          "name": "stdout",
          "text": [
            "Mounted at /content/drive\n"
          ]
        }
      ]
    },
    {
      "cell_type": "code",
      "metadata": {
        "id": "KJEIip8kOcO-"
      },
      "source": [
        "file_path = '/content/drive/MyDrive/Fall 2021/550/Group Project/Datasets/Raw Scraped Data/attractions_ca.csv'"
      ],
      "execution_count": null,
      "outputs": []
    },
    {
      "cell_type": "code",
      "metadata": {
        "id": "C77yrPFdPYZ0"
      },
      "source": [
        "attractions_ca = pd.read_csv(file_path)"
      ],
      "execution_count": null,
      "outputs": []
    },
    {
      "cell_type": "code",
      "metadata": {
        "id": "dkdW3K63PbN7",
        "colab": {
          "base_uri": "https://localhost:8080/",
          "height": 408
        },
        "outputId": "5aaf7472-7611-43e9-fc7e-50c0b91a2165"
      },
      "source": [
        "attractions_ca.head()"
      ],
      "execution_count": null,
      "outputs": [
        {
          "output_type": "execute_result",
          "data": {
            "text/html": [
              "<div>\n",
              "<style scoped>\n",
              "    .dataframe tbody tr th:only-of-type {\n",
              "        vertical-align: middle;\n",
              "    }\n",
              "\n",
              "    .dataframe tbody tr th {\n",
              "        vertical-align: top;\n",
              "    }\n",
              "\n",
              "    .dataframe thead th {\n",
              "        text-align: right;\n",
              "    }\n",
              "</style>\n",
              "<table border=\"1\" class=\"dataframe\">\n",
              "  <thead>\n",
              "    <tr style=\"text-align: right;\">\n",
              "      <th></th>\n",
              "      <th>attraction_name</th>\n",
              "      <th>attraction_rating</th>\n",
              "      <th>attraction_category</th>\n",
              "      <th>num_reviews</th>\n",
              "      <th>rank_in_city</th>\n",
              "      <th>photo</th>\n",
              "      <th>about</th>\n",
              "      <th>suggested_duration</th>\n",
              "    </tr>\n",
              "  </thead>\n",
              "  <tbody>\n",
              "    <tr>\n",
              "      <th>0</th>\n",
              "      <td>The Getty Center</td>\n",
              "      <td>5.0</td>\n",
              "      <td>Speciality Museums</td>\n",
              "      <td>14,531</td>\n",
              "      <td>#1 of 705 things to do in Los Angeles</td>\n",
              "      <td>background-image:url(https://media-cdn.tripadv...</td>\n",
              "      <td>Spectacular museum boasts a most impressive co...</td>\n",
              "      <td>2-3 hours</td>\n",
              "    </tr>\n",
              "    <tr>\n",
              "      <th>1</th>\n",
              "      <td>Wilson Creek Winery</td>\n",
              "      <td>4.5</td>\n",
              "      <td>Wineries &amp; Vineyards</td>\n",
              "      <td>871</td>\n",
              "      <td>#4 of 87 things to do in Temecula</td>\n",
              "      <td>background-image:url(https://media-cdn.tripadv...</td>\n",
              "      <td>Wilson Creek Winery is warm and friendly, comf...</td>\n",
              "      <td>2-3 hours</td>\n",
              "    </tr>\n",
              "    <tr>\n",
              "      <th>2</th>\n",
              "      <td>San Diego Zoo</td>\n",
              "      <td>4.5</td>\n",
              "      <td>Zoos</td>\n",
              "      <td>28,101</td>\n",
              "      <td>#4 of 459 things to do in San Diego</td>\n",
              "      <td>background-image:url(https://media-cdn.tripadv...</td>\n",
              "      <td>The world famous San Diego Zoo is a non-profit...</td>\n",
              "      <td>2-3 hours</td>\n",
              "    </tr>\n",
              "    <tr>\n",
              "      <th>3</th>\n",
              "      <td>Point Lobos</td>\n",
              "      <td>5.0</td>\n",
              "      <td>State Parks</td>\n",
              "      <td>4,780</td>\n",
              "      <td>#1 of 132 things to do in Carmel</td>\n",
              "      <td>background-image:url(https://media-cdn.tripadv...</td>\n",
              "      <td>Watch whales in winter and sea lions all year ...</td>\n",
              "      <td>NaN</td>\n",
              "    </tr>\n",
              "    <tr>\n",
              "      <th>4</th>\n",
              "      <td>Santa Monica Pier</td>\n",
              "      <td>4.0</td>\n",
              "      <td>Points of Interest &amp; Landmarks • Historic Walk...</td>\n",
              "      <td>18,967</td>\n",
              "      <td>#1 of 89 things to do in Santa Monica</td>\n",
              "      <td>background-image:url(https://media-cdn.tripadv...</td>\n",
              "      <td>This bustling wooden wharf is the place to be,...</td>\n",
              "      <td>1-2 hours</td>\n",
              "    </tr>\n",
              "  </tbody>\n",
              "</table>\n",
              "</div>"
            ],
            "text/plain": [
              "       attraction_name  ...  suggested_duration\n",
              "0     The Getty Center  ...           2-3 hours\n",
              "1  Wilson Creek Winery  ...           2-3 hours\n",
              "2        San Diego Zoo  ...           2-3 hours\n",
              "3          Point Lobos  ...                 NaN\n",
              "4    Santa Monica Pier  ...           1-2 hours\n",
              "\n",
              "[5 rows x 8 columns]"
            ]
          },
          "metadata": {},
          "execution_count": 21
        }
      ]
    },
    {
      "cell_type": "code",
      "metadata": {
        "id": "lEPCUpg_PuNg",
        "colab": {
          "base_uri": "https://localhost:8080/"
        },
        "outputId": "4de7cb06-6c6f-4402-f12d-4646dfeaf70c"
      },
      "source": [
        "attractions_ca.dtypes #data types of each column"
      ],
      "execution_count": null,
      "outputs": [
        {
          "output_type": "execute_result",
          "data": {
            "text/plain": [
              "attraction_name         object\n",
              "attraction_rating      float64\n",
              "attraction_category     object\n",
              "num_reviews             object\n",
              "rank_in_city            object\n",
              "photo                   object\n",
              "about                   object\n",
              "suggested_duration      object\n",
              "dtype: object"
            ]
          },
          "metadata": {},
          "execution_count": 22
        }
      ]
    },
    {
      "cell_type": "code",
      "metadata": {
        "id": "i0NIV0mJPygA",
        "colab": {
          "base_uri": "https://localhost:8080/"
        },
        "outputId": "0af99d4c-759a-4c64-ae03-a496fc45171a"
      },
      "source": [
        "attractions_ca.shape #(rows, columns)"
      ],
      "execution_count": null,
      "outputs": [
        {
          "output_type": "execute_result",
          "data": {
            "text/plain": [
              "(26675, 8)"
            ]
          },
          "metadata": {},
          "execution_count": 23
        }
      ]
    },
    {
      "cell_type": "code",
      "metadata": {
        "id": "rHeK6MUVP77T",
        "colab": {
          "base_uri": "https://localhost:8080/"
        },
        "outputId": "4c726401-1596-4dbb-beb5-197e7cb290ef"
      },
      "source": [
        "usage_by_col = attractions_ca.memory_usage(deep=True) # returns memory usage for each column\n",
        "total_usage = usage_by_col.sum()\n",
        "mbs = total_usage / 1e6 # convert to megabytes \n",
        "mbs"
      ],
      "execution_count": null,
      "outputs": [
        {
          "output_type": "execute_result",
          "data": {
            "text/plain": [
              "16.266219"
            ]
          },
          "metadata": {},
          "execution_count": 24
        }
      ]
    },
    {
      "cell_type": "markdown",
      "metadata": {
        "id": "AL6VixcQMaBh"
      },
      "source": [
        "# Drop Rows with Null Names"
      ]
    },
    {
      "cell_type": "code",
      "metadata": {
        "id": "LrYvabVhQRYg"
      },
      "source": [
        "attractions_ca = attractions_ca[attractions_ca.attraction_name.notnull()]"
      ],
      "execution_count": null,
      "outputs": []
    },
    {
      "cell_type": "code",
      "metadata": {
        "id": "KLMtr0x9QVa3",
        "colab": {
          "base_uri": "https://localhost:8080/"
        },
        "outputId": "57e51f86-310f-48e1-ba6f-e3c09724090a"
      },
      "source": [
        "attractions_ca.dtypes #data types of each column"
      ],
      "execution_count": null,
      "outputs": [
        {
          "output_type": "execute_result",
          "data": {
            "text/plain": [
              "attraction_name         object\n",
              "attraction_rating      float64\n",
              "attraction_category     object\n",
              "num_reviews             object\n",
              "rank_in_city            object\n",
              "photo                   object\n",
              "about                   object\n",
              "suggested_duration      object\n",
              "dtype: object"
            ]
          },
          "metadata": {},
          "execution_count": 26
        }
      ]
    },
    {
      "cell_type": "code",
      "metadata": {
        "id": "W31ePxYOQaBp",
        "colab": {
          "base_uri": "https://localhost:8080/"
        },
        "outputId": "7425c452-ec94-4ced-987a-ac50604a3d55"
      },
      "source": [
        "attractions_ca.shape #(rows, columns)"
      ],
      "execution_count": null,
      "outputs": [
        {
          "output_type": "execute_result",
          "data": {
            "text/plain": [
              "(22288, 8)"
            ]
          },
          "metadata": {},
          "execution_count": 27
        }
      ]
    },
    {
      "cell_type": "code",
      "metadata": {
        "id": "b6wb6PtNQcbJ",
        "colab": {
          "base_uri": "https://localhost:8080/",
          "height": 408
        },
        "outputId": "be98583b-56d9-4924-8311-95c2364c1251"
      },
      "source": [
        "attractions_ca.head()"
      ],
      "execution_count": null,
      "outputs": [
        {
          "output_type": "execute_result",
          "data": {
            "text/html": [
              "<div>\n",
              "<style scoped>\n",
              "    .dataframe tbody tr th:only-of-type {\n",
              "        vertical-align: middle;\n",
              "    }\n",
              "\n",
              "    .dataframe tbody tr th {\n",
              "        vertical-align: top;\n",
              "    }\n",
              "\n",
              "    .dataframe thead th {\n",
              "        text-align: right;\n",
              "    }\n",
              "</style>\n",
              "<table border=\"1\" class=\"dataframe\">\n",
              "  <thead>\n",
              "    <tr style=\"text-align: right;\">\n",
              "      <th></th>\n",
              "      <th>attraction_name</th>\n",
              "      <th>attraction_rating</th>\n",
              "      <th>attraction_category</th>\n",
              "      <th>num_reviews</th>\n",
              "      <th>rank_in_city</th>\n",
              "      <th>photo</th>\n",
              "      <th>about</th>\n",
              "      <th>suggested_duration</th>\n",
              "    </tr>\n",
              "  </thead>\n",
              "  <tbody>\n",
              "    <tr>\n",
              "      <th>0</th>\n",
              "      <td>The Getty Center</td>\n",
              "      <td>5.0</td>\n",
              "      <td>Speciality Museums</td>\n",
              "      <td>14,531</td>\n",
              "      <td>#1 of 705 things to do in Los Angeles</td>\n",
              "      <td>background-image:url(https://media-cdn.tripadv...</td>\n",
              "      <td>Spectacular museum boasts a most impressive co...</td>\n",
              "      <td>2-3 hours</td>\n",
              "    </tr>\n",
              "    <tr>\n",
              "      <th>1</th>\n",
              "      <td>Wilson Creek Winery</td>\n",
              "      <td>4.5</td>\n",
              "      <td>Wineries &amp; Vineyards</td>\n",
              "      <td>871</td>\n",
              "      <td>#4 of 87 things to do in Temecula</td>\n",
              "      <td>background-image:url(https://media-cdn.tripadv...</td>\n",
              "      <td>Wilson Creek Winery is warm and friendly, comf...</td>\n",
              "      <td>2-3 hours</td>\n",
              "    </tr>\n",
              "    <tr>\n",
              "      <th>2</th>\n",
              "      <td>San Diego Zoo</td>\n",
              "      <td>4.5</td>\n",
              "      <td>Zoos</td>\n",
              "      <td>28,101</td>\n",
              "      <td>#4 of 459 things to do in San Diego</td>\n",
              "      <td>background-image:url(https://media-cdn.tripadv...</td>\n",
              "      <td>The world famous San Diego Zoo is a non-profit...</td>\n",
              "      <td>2-3 hours</td>\n",
              "    </tr>\n",
              "    <tr>\n",
              "      <th>3</th>\n",
              "      <td>Point Lobos</td>\n",
              "      <td>5.0</td>\n",
              "      <td>State Parks</td>\n",
              "      <td>4,780</td>\n",
              "      <td>#1 of 132 things to do in Carmel</td>\n",
              "      <td>background-image:url(https://media-cdn.tripadv...</td>\n",
              "      <td>Watch whales in winter and sea lions all year ...</td>\n",
              "      <td>NaN</td>\n",
              "    </tr>\n",
              "    <tr>\n",
              "      <th>4</th>\n",
              "      <td>Santa Monica Pier</td>\n",
              "      <td>4.0</td>\n",
              "      <td>Points of Interest &amp; Landmarks • Historic Walk...</td>\n",
              "      <td>18,967</td>\n",
              "      <td>#1 of 89 things to do in Santa Monica</td>\n",
              "      <td>background-image:url(https://media-cdn.tripadv...</td>\n",
              "      <td>This bustling wooden wharf is the place to be,...</td>\n",
              "      <td>1-2 hours</td>\n",
              "    </tr>\n",
              "  </tbody>\n",
              "</table>\n",
              "</div>"
            ],
            "text/plain": [
              "       attraction_name  ...  suggested_duration\n",
              "0     The Getty Center  ...           2-3 hours\n",
              "1  Wilson Creek Winery  ...           2-3 hours\n",
              "2        San Diego Zoo  ...           2-3 hours\n",
              "3          Point Lobos  ...                 NaN\n",
              "4    Santa Monica Pier  ...           1-2 hours\n",
              "\n",
              "[5 rows x 8 columns]"
            ]
          },
          "metadata": {},
          "execution_count": 28
        }
      ]
    },
    {
      "cell_type": "markdown",
      "metadata": {
        "id": "KspQaCI7Nn3p"
      },
      "source": [
        "#Split attraction_category\n",
        "\n",
        "\n",
        "\n",
        "*   category\n",
        "*   tag\n",
        "\n",
        "\n",
        "\n"
      ]
    },
    {
      "cell_type": "code",
      "metadata": {
        "id": "dgpUB6vdQvHS",
        "colab": {
          "base_uri": "https://localhost:8080/"
        },
        "outputId": "4b6ddcba-e09f-4e38-c16b-66a37e286879"
      },
      "source": [
        "n = len(pd.unique(attractions_ca['attraction_category'])) # see number of unique category values \n",
        "print(\"No.of.unique values :\", \n",
        "      n)"
      ],
      "execution_count": null,
      "outputs": [
        {
          "output_type": "stream",
          "name": "stdout",
          "text": [
            "No.of.unique values : 1130\n"
          ]
        }
      ]
    },
    {
      "cell_type": "code",
      "metadata": {
        "id": "Cx62JMgQJB1D"
      },
      "source": [
        "# unique_categories = pd.unique(attractions_ca['attraction_category']).tolist() # see unique category values \n",
        "\n",
        "# for (x in unique_categories):\n",
        "#   print(unique_categories)\n"
      ],
      "execution_count": null,
      "outputs": []
    },
    {
      "cell_type": "code",
      "metadata": {
        "id": "fNuhzAZcQ-TM",
        "colab": {
          "base_uri": "https://localhost:8080/"
        },
        "outputId": "38ea6ff6-89dc-420a-fa1d-8ad872099a00"
      },
      "source": [
        "# make new column 'category' whose value is first category in 'attraction_category'\n",
        "attractions_ca['category'] = attractions_ca['attraction_category'].str.split(' • ').str[0] "
      ],
      "execution_count": null,
      "outputs": [
        {
          "output_type": "stream",
          "name": "stderr",
          "text": [
            "/usr/local/lib/python3.7/dist-packages/ipykernel_launcher.py:2: SettingWithCopyWarning: \n",
            "A value is trying to be set on a copy of a slice from a DataFrame.\n",
            "Try using .loc[row_indexer,col_indexer] = value instead\n",
            "\n",
            "See the caveats in the documentation: https://pandas.pydata.org/pandas-docs/stable/user_guide/indexing.html#returning-a-view-versus-a-copy\n",
            "  \n"
          ]
        }
      ]
    },
    {
      "cell_type": "code",
      "metadata": {
        "id": "q6o6YkLiRTO_",
        "colab": {
          "base_uri": "https://localhost:8080/",
          "height": 578
        },
        "outputId": "d6067e6a-c428-4af6-b790-298e65b8a2f9"
      },
      "source": [
        "attractions_ca.head()"
      ],
      "execution_count": null,
      "outputs": [
        {
          "output_type": "execute_result",
          "data": {
            "text/html": [
              "<div>\n",
              "<style scoped>\n",
              "    .dataframe tbody tr th:only-of-type {\n",
              "        vertical-align: middle;\n",
              "    }\n",
              "\n",
              "    .dataframe tbody tr th {\n",
              "        vertical-align: top;\n",
              "    }\n",
              "\n",
              "    .dataframe thead th {\n",
              "        text-align: right;\n",
              "    }\n",
              "</style>\n",
              "<table border=\"1\" class=\"dataframe\">\n",
              "  <thead>\n",
              "    <tr style=\"text-align: right;\">\n",
              "      <th></th>\n",
              "      <th>attraction_name</th>\n",
              "      <th>attraction_rating</th>\n",
              "      <th>attraction_category</th>\n",
              "      <th>num_reviews</th>\n",
              "      <th>rank_in_city</th>\n",
              "      <th>photo</th>\n",
              "      <th>about</th>\n",
              "      <th>suggested_duration</th>\n",
              "      <th>category</th>\n",
              "    </tr>\n",
              "  </thead>\n",
              "  <tbody>\n",
              "    <tr>\n",
              "      <th>0</th>\n",
              "      <td>The Getty Center</td>\n",
              "      <td>5.0</td>\n",
              "      <td>Speciality Museums</td>\n",
              "      <td>14,531</td>\n",
              "      <td>#1 of 705 things to do in Los Angeles</td>\n",
              "      <td>background-image:url(https://media-cdn.tripadv...</td>\n",
              "      <td>Spectacular museum boasts a most impressive co...</td>\n",
              "      <td>2-3 hours</td>\n",
              "      <td>Speciality Museums</td>\n",
              "    </tr>\n",
              "    <tr>\n",
              "      <th>1</th>\n",
              "      <td>Wilson Creek Winery</td>\n",
              "      <td>4.5</td>\n",
              "      <td>Wineries &amp; Vineyards</td>\n",
              "      <td>871</td>\n",
              "      <td>#4 of 87 things to do in Temecula</td>\n",
              "      <td>background-image:url(https://media-cdn.tripadv...</td>\n",
              "      <td>Wilson Creek Winery is warm and friendly, comf...</td>\n",
              "      <td>2-3 hours</td>\n",
              "      <td>Wineries &amp; Vineyards</td>\n",
              "    </tr>\n",
              "    <tr>\n",
              "      <th>2</th>\n",
              "      <td>San Diego Zoo</td>\n",
              "      <td>4.5</td>\n",
              "      <td>Zoos</td>\n",
              "      <td>28,101</td>\n",
              "      <td>#4 of 459 things to do in San Diego</td>\n",
              "      <td>background-image:url(https://media-cdn.tripadv...</td>\n",
              "      <td>The world famous San Diego Zoo is a non-profit...</td>\n",
              "      <td>2-3 hours</td>\n",
              "      <td>Zoos</td>\n",
              "    </tr>\n",
              "    <tr>\n",
              "      <th>3</th>\n",
              "      <td>Point Lobos</td>\n",
              "      <td>5.0</td>\n",
              "      <td>State Parks</td>\n",
              "      <td>4,780</td>\n",
              "      <td>#1 of 132 things to do in Carmel</td>\n",
              "      <td>background-image:url(https://media-cdn.tripadv...</td>\n",
              "      <td>Watch whales in winter and sea lions all year ...</td>\n",
              "      <td>NaN</td>\n",
              "      <td>State Parks</td>\n",
              "    </tr>\n",
              "    <tr>\n",
              "      <th>4</th>\n",
              "      <td>Santa Monica Pier</td>\n",
              "      <td>4.0</td>\n",
              "      <td>Points of Interest &amp; Landmarks • Historic Walk...</td>\n",
              "      <td>18,967</td>\n",
              "      <td>#1 of 89 things to do in Santa Monica</td>\n",
              "      <td>background-image:url(https://media-cdn.tripadv...</td>\n",
              "      <td>This bustling wooden wharf is the place to be,...</td>\n",
              "      <td>1-2 hours</td>\n",
              "      <td>Points of Interest &amp; Landmarks</td>\n",
              "    </tr>\n",
              "  </tbody>\n",
              "</table>\n",
              "</div>"
            ],
            "text/plain": [
              "       attraction_name  ...                        category\n",
              "0     The Getty Center  ...              Speciality Museums\n",
              "1  Wilson Creek Winery  ...            Wineries & Vineyards\n",
              "2        San Diego Zoo  ...                            Zoos\n",
              "3          Point Lobos  ...                     State Parks\n",
              "4    Santa Monica Pier  ...  Points of Interest & Landmarks\n",
              "\n",
              "[5 rows x 9 columns]"
            ]
          },
          "metadata": {},
          "execution_count": 32
        }
      ]
    },
    {
      "cell_type": "code",
      "metadata": {
        "id": "_xj19XqmRfPW"
      },
      "source": [
        "attractions_ca.rename(columns={'attraction_category': 'tags'}, inplace=True)"
      ],
      "execution_count": null,
      "outputs": []
    },
    {
      "cell_type": "markdown",
      "metadata": {
        "id": "z62dK0GONk50"
      },
      "source": [
        "#Parse Photo"
      ]
    },
    {
      "cell_type": "code",
      "metadata": {
        "id": "76oOV-GDSXFW"
      },
      "source": [
        "attractions_ca['parsed_photo'] = attractions_ca['photo'].str.split('background-image:url\\(').str[1].str[:-1]"
      ],
      "execution_count": null,
      "outputs": []
    },
    {
      "cell_type": "code",
      "metadata": {
        "id": "LZ8AcK_FTuMj",
        "colab": {
          "base_uri": "https://localhost:8080/",
          "height": 615
        },
        "outputId": "9990a417-5b95-4f71-8e27-86970a8996c1"
      },
      "source": [
        "attractions_ca.head()"
      ],
      "execution_count": null,
      "outputs": [
        {
          "output_type": "execute_result",
          "data": {
            "text/html": [
              "<div>\n",
              "<style scoped>\n",
              "    .dataframe tbody tr th:only-of-type {\n",
              "        vertical-align: middle;\n",
              "    }\n",
              "\n",
              "    .dataframe tbody tr th {\n",
              "        vertical-align: top;\n",
              "    }\n",
              "\n",
              "    .dataframe thead th {\n",
              "        text-align: right;\n",
              "    }\n",
              "</style>\n",
              "<table border=\"1\" class=\"dataframe\">\n",
              "  <thead>\n",
              "    <tr style=\"text-align: right;\">\n",
              "      <th></th>\n",
              "      <th>attraction_name</th>\n",
              "      <th>attraction_rating</th>\n",
              "      <th>tags</th>\n",
              "      <th>num_reviews</th>\n",
              "      <th>rank_in_city</th>\n",
              "      <th>photo</th>\n",
              "      <th>about</th>\n",
              "      <th>suggested_duration</th>\n",
              "      <th>category</th>\n",
              "      <th>parsed_photo</th>\n",
              "    </tr>\n",
              "  </thead>\n",
              "  <tbody>\n",
              "    <tr>\n",
              "      <th>0</th>\n",
              "      <td>The Getty Center</td>\n",
              "      <td>5.0</td>\n",
              "      <td>Speciality Museums</td>\n",
              "      <td>14,531</td>\n",
              "      <td>#1 of 705 things to do in Los Angeles</td>\n",
              "      <td>background-image:url(https://media-cdn.tripadv...</td>\n",
              "      <td>Spectacular museum boasts a most impressive co...</td>\n",
              "      <td>2-3 hours</td>\n",
              "      <td>Speciality Museums</td>\n",
              "      <td>https://media-cdn.tripadvisor.com/media/photo-...</td>\n",
              "    </tr>\n",
              "    <tr>\n",
              "      <th>1</th>\n",
              "      <td>Wilson Creek Winery</td>\n",
              "      <td>4.5</td>\n",
              "      <td>Wineries &amp; Vineyards</td>\n",
              "      <td>871</td>\n",
              "      <td>#4 of 87 things to do in Temecula</td>\n",
              "      <td>background-image:url(https://media-cdn.tripadv...</td>\n",
              "      <td>Wilson Creek Winery is warm and friendly, comf...</td>\n",
              "      <td>2-3 hours</td>\n",
              "      <td>Wineries &amp; Vineyards</td>\n",
              "      <td>https://media-cdn.tripadvisor.com/media/photo-...</td>\n",
              "    </tr>\n",
              "    <tr>\n",
              "      <th>2</th>\n",
              "      <td>San Diego Zoo</td>\n",
              "      <td>4.5</td>\n",
              "      <td>Zoos</td>\n",
              "      <td>28,101</td>\n",
              "      <td>#4 of 459 things to do in San Diego</td>\n",
              "      <td>background-image:url(https://media-cdn.tripadv...</td>\n",
              "      <td>The world famous San Diego Zoo is a non-profit...</td>\n",
              "      <td>2-3 hours</td>\n",
              "      <td>Zoos</td>\n",
              "      <td>https://media-cdn.tripadvisor.com/media/photo-...</td>\n",
              "    </tr>\n",
              "    <tr>\n",
              "      <th>3</th>\n",
              "      <td>Point Lobos</td>\n",
              "      <td>5.0</td>\n",
              "      <td>State Parks</td>\n",
              "      <td>4,780</td>\n",
              "      <td>#1 of 132 things to do in Carmel</td>\n",
              "      <td>background-image:url(https://media-cdn.tripadv...</td>\n",
              "      <td>Watch whales in winter and sea lions all year ...</td>\n",
              "      <td>NaN</td>\n",
              "      <td>State Parks</td>\n",
              "      <td>https://media-cdn.tripadvisor.com/media/photo-...</td>\n",
              "    </tr>\n",
              "    <tr>\n",
              "      <th>4</th>\n",
              "      <td>Santa Monica Pier</td>\n",
              "      <td>4.0</td>\n",
              "      <td>Points of Interest &amp; Landmarks • Historic Walk...</td>\n",
              "      <td>18,967</td>\n",
              "      <td>#1 of 89 things to do in Santa Monica</td>\n",
              "      <td>background-image:url(https://media-cdn.tripadv...</td>\n",
              "      <td>This bustling wooden wharf is the place to be,...</td>\n",
              "      <td>1-2 hours</td>\n",
              "      <td>Points of Interest &amp; Landmarks</td>\n",
              "      <td>https://media-cdn.tripadvisor.com/media/photo-...</td>\n",
              "    </tr>\n",
              "  </tbody>\n",
              "</table>\n",
              "</div>"
            ],
            "text/plain": [
              "       attraction_name  ...                                       parsed_photo\n",
              "0     The Getty Center  ...  https://media-cdn.tripadvisor.com/media/photo-...\n",
              "1  Wilson Creek Winery  ...  https://media-cdn.tripadvisor.com/media/photo-...\n",
              "2        San Diego Zoo  ...  https://media-cdn.tripadvisor.com/media/photo-...\n",
              "3          Point Lobos  ...  https://media-cdn.tripadvisor.com/media/photo-...\n",
              "4    Santa Monica Pier  ...  https://media-cdn.tripadvisor.com/media/photo-...\n",
              "\n",
              "[5 rows x 10 columns]"
            ]
          },
          "metadata": {},
          "execution_count": 35
        }
      ]
    },
    {
      "cell_type": "code",
      "metadata": {
        "id": "5OXEBzjPUM8v"
      },
      "source": [
        "attractions_ca.drop(columns=['photo'], axis=1, inplace=True)"
      ],
      "execution_count": null,
      "outputs": []
    },
    {
      "cell_type": "code",
      "metadata": {
        "id": "Fxf674tuUooe",
        "colab": {
          "base_uri": "https://localhost:8080/"
        },
        "outputId": "9cf04308-acc7-4fd7-ad9c-aef8ec7212cd"
      },
      "source": [
        "print(pd.unique(attractions_ca['parsed_photo']))"
      ],
      "execution_count": null,
      "outputs": [
        {
          "output_type": "stream",
          "name": "stdout",
          "text": [
            "['https://media-cdn.tripadvisor.com/media/photo-w/07/cf/8d/93/the-getty-center.jpg'\n",
            " 'https://media-cdn.tripadvisor.com/media/photo-w/05/be/f3/04/wilson-creek-winery.jpg'\n",
            " 'https://media-cdn.tripadvisor.com/media/photo-w/08/40/79/20/san-diego-zoo.jpg'\n",
            " ...\n",
            " 'https://media-cdn.tripadvisor.com/media/photo-w/20/67/9b/8c/calleguas-creek-park.jpg'\n",
            " 'https://media-cdn.tripadvisor.com/media/photo-o/1e/af/03/e2/front-of-cesar-toxqui.jpg'\n",
            " 'https://media-cdn.tripadvisor.com/media/photo-m/1280/20/65/71/26/adolfo-park.jpg']\n"
          ]
        }
      ]
    },
    {
      "cell_type": "code",
      "metadata": {
        "id": "fZhERLwnWu96"
      },
      "source": [
        "attractions_ca.rename(columns={'parsed_photo': 'photo'}, inplace=True)"
      ],
      "execution_count": null,
      "outputs": []
    },
    {
      "cell_type": "markdown",
      "metadata": {
        "id": "mIFwBgDnNWhc"
      },
      "source": [
        "#Split rank_in_city\n",
        "\n",
        "\n",
        "\n",
        "*   rank\n",
        "*   num_attractions_city\n",
        "*   city\n",
        "\n",
        "\n",
        "\n"
      ]
    },
    {
      "cell_type": "code",
      "metadata": {
        "id": "iBN0zYz5fjOO"
      },
      "source": [
        "# Create 'city' column\n",
        "attractions_ca['city'] = attractions_ca['rank_in_city'].str.split(' in ').str[1]\n",
        "\n",
        "# Create 'rank_city' and 'num_attractions_city' columns and cast to int\n",
        "# attractions_ca['rank_city'] = attractions_ca['rank_in_city'].str.split(' ').str[0].str.strip('#').str.replace(',', '')"
      ],
      "execution_count": null,
      "outputs": []
    },
    {
      "cell_type": "code",
      "metadata": {
        "id": "4lNL8QcMddUC"
      },
      "source": [
        "# attractions_ca.loc[attractions_ca['rank_city'] == 'Breweries']"
      ],
      "execution_count": null,
      "outputs": []
    },
    {
      "cell_type": "code",
      "metadata": {
        "id": "jVkW3DiMfMwt"
      },
      "source": [
        "# attractions_ca = attractions_ca[attractions_ca.rank_city != 'Breweries']"
      ],
      "execution_count": null,
      "outputs": []
    },
    {
      "cell_type": "code",
      "metadata": {
        "id": "Qmsvo3aKVfmV"
      },
      "source": [
        "# Create 'city' and 'states' column\n",
        "attractions_ca['city'] = attractions_ca['rank_in_city'].str.split(' in ').str[1]\n",
        "attractions_ca['state'] = 'CA'\n",
        "\n",
        "# Create 'rank_city' and 'num_attractions_city' columns and cast to int\n",
        "# attractions_ca['rank_city'] = attractions_ca['rank_in_city'].str.split(' ').str[0].str.strip('#').str.replace(',', '')\n",
        "# attractions_ca['rank_city'].fillna(0).astype(int) # NaN is converted to 0\n",
        "\n",
        "# attractions_ca['num_attractions_city'] = attractions_ca['rank_in_city'].str.split(' ').str[2].str.replace(',', '')\n",
        "# attractions_ca['num_attractions_city'].fillna(0).astype(int) # NaN is converted to 0\n",
        "\n",
        "attractions_ca.drop('rank_in_city', axis=1, inplace=True)\n",
        "\n",
        "# Cast column 'num_reviews' to type int\n",
        "attractions_ca['num_reviews'] = attractions_ca['num_reviews'].str.replace(',', '')\n",
        "attractions_ca['num_reviews'].fillna(0).astype(int)\n",
        "\n",
        "# Create 'category' column\n",
        "#attractions_ca['category'] = attractions_ca['attraction_category'].str.split(' • ').str[0]\n",
        "\n",
        "# Rename 'attraction_category' to 'tags and comma-separate\n",
        "#attractions_ca.rename(columns={'attraction_category':'tags'}, inplace=True)\n",
        "attractions_ca['tags'] = attractions_ca['tags'].str.replace(' • ', ',')"
      ],
      "execution_count": null,
      "outputs": []
    },
    {
      "cell_type": "code",
      "metadata": {
        "id": "aWkuYnTOV470",
        "colab": {
          "base_uri": "https://localhost:8080/",
          "height": 615
        },
        "outputId": "6593e290-0f98-4503-feed-c0a8f81f4cbc"
      },
      "source": [
        "attractions_ca.head()"
      ],
      "execution_count": null,
      "outputs": [
        {
          "output_type": "execute_result",
          "data": {
            "text/html": [
              "<div>\n",
              "<style scoped>\n",
              "    .dataframe tbody tr th:only-of-type {\n",
              "        vertical-align: middle;\n",
              "    }\n",
              "\n",
              "    .dataframe tbody tr th {\n",
              "        vertical-align: top;\n",
              "    }\n",
              "\n",
              "    .dataframe thead th {\n",
              "        text-align: right;\n",
              "    }\n",
              "</style>\n",
              "<table border=\"1\" class=\"dataframe\">\n",
              "  <thead>\n",
              "    <tr style=\"text-align: right;\">\n",
              "      <th></th>\n",
              "      <th>attraction_name</th>\n",
              "      <th>attraction_rating</th>\n",
              "      <th>tags</th>\n",
              "      <th>num_reviews</th>\n",
              "      <th>about</th>\n",
              "      <th>suggested_duration</th>\n",
              "      <th>category</th>\n",
              "      <th>photo</th>\n",
              "      <th>city</th>\n",
              "      <th>state</th>\n",
              "    </tr>\n",
              "  </thead>\n",
              "  <tbody>\n",
              "    <tr>\n",
              "      <th>0</th>\n",
              "      <td>The Getty Center</td>\n",
              "      <td>5.0</td>\n",
              "      <td>Speciality Museums</td>\n",
              "      <td>14531</td>\n",
              "      <td>Spectacular museum boasts a most impressive co...</td>\n",
              "      <td>2-3 hours</td>\n",
              "      <td>Speciality Museums</td>\n",
              "      <td>https://media-cdn.tripadvisor.com/media/photo-...</td>\n",
              "      <td>Los Angeles</td>\n",
              "      <td>CA</td>\n",
              "    </tr>\n",
              "    <tr>\n",
              "      <th>1</th>\n",
              "      <td>Wilson Creek Winery</td>\n",
              "      <td>4.5</td>\n",
              "      <td>Wineries &amp; Vineyards</td>\n",
              "      <td>871</td>\n",
              "      <td>Wilson Creek Winery is warm and friendly, comf...</td>\n",
              "      <td>2-3 hours</td>\n",
              "      <td>Wineries &amp; Vineyards</td>\n",
              "      <td>https://media-cdn.tripadvisor.com/media/photo-...</td>\n",
              "      <td>Temecula</td>\n",
              "      <td>CA</td>\n",
              "    </tr>\n",
              "    <tr>\n",
              "      <th>2</th>\n",
              "      <td>San Diego Zoo</td>\n",
              "      <td>4.5</td>\n",
              "      <td>Zoos</td>\n",
              "      <td>28101</td>\n",
              "      <td>The world famous San Diego Zoo is a non-profit...</td>\n",
              "      <td>2-3 hours</td>\n",
              "      <td>Zoos</td>\n",
              "      <td>https://media-cdn.tripadvisor.com/media/photo-...</td>\n",
              "      <td>San Diego</td>\n",
              "      <td>CA</td>\n",
              "    </tr>\n",
              "    <tr>\n",
              "      <th>3</th>\n",
              "      <td>Point Lobos</td>\n",
              "      <td>5.0</td>\n",
              "      <td>State Parks</td>\n",
              "      <td>4780</td>\n",
              "      <td>Watch whales in winter and sea lions all year ...</td>\n",
              "      <td>NaN</td>\n",
              "      <td>State Parks</td>\n",
              "      <td>https://media-cdn.tripadvisor.com/media/photo-...</td>\n",
              "      <td>Carmel</td>\n",
              "      <td>CA</td>\n",
              "    </tr>\n",
              "    <tr>\n",
              "      <th>4</th>\n",
              "      <td>Santa Monica Pier</td>\n",
              "      <td>4.0</td>\n",
              "      <td>Points of Interest &amp; Landmarks,Historic Walkin...</td>\n",
              "      <td>18967</td>\n",
              "      <td>This bustling wooden wharf is the place to be,...</td>\n",
              "      <td>1-2 hours</td>\n",
              "      <td>Points of Interest &amp; Landmarks</td>\n",
              "      <td>https://media-cdn.tripadvisor.com/media/photo-...</td>\n",
              "      <td>Santa Monica</td>\n",
              "      <td>CA</td>\n",
              "    </tr>\n",
              "  </tbody>\n",
              "</table>\n",
              "</div>"
            ],
            "text/plain": [
              "       attraction_name  attraction_rating  ...          city state\n",
              "0     The Getty Center                5.0  ...   Los Angeles    CA\n",
              "1  Wilson Creek Winery                4.5  ...      Temecula    CA\n",
              "2        San Diego Zoo                4.5  ...     San Diego    CA\n",
              "3          Point Lobos                5.0  ...        Carmel    CA\n",
              "4    Santa Monica Pier                4.0  ...  Santa Monica    CA\n",
              "\n",
              "[5 rows x 10 columns]"
            ]
          },
          "metadata": {},
          "execution_count": 43
        }
      ]
    },
    {
      "cell_type": "markdown",
      "metadata": {
        "id": "jAzXiZbYznmk"
      },
      "source": [
        "# Rename Category to Subcategory"
      ]
    },
    {
      "cell_type": "code",
      "metadata": {
        "id": "Szm5RsSxzoH9"
      },
      "source": [
        "attractions_ca.rename(columns={'category': 'subcategory'}, inplace=True)"
      ],
      "execution_count": null,
      "outputs": []
    },
    {
      "cell_type": "code",
      "metadata": {
        "colab": {
          "base_uri": "https://localhost:8080/",
          "height": 615
        },
        "id": "eHw4WZBKzzNP",
        "outputId": "0c44b05f-3e18-49c2-85ee-5906e23d1970"
      },
      "source": [
        "attractions_ca.head()"
      ],
      "execution_count": null,
      "outputs": [
        {
          "output_type": "execute_result",
          "data": {
            "text/html": [
              "<div>\n",
              "<style scoped>\n",
              "    .dataframe tbody tr th:only-of-type {\n",
              "        vertical-align: middle;\n",
              "    }\n",
              "\n",
              "    .dataframe tbody tr th {\n",
              "        vertical-align: top;\n",
              "    }\n",
              "\n",
              "    .dataframe thead th {\n",
              "        text-align: right;\n",
              "    }\n",
              "</style>\n",
              "<table border=\"1\" class=\"dataframe\">\n",
              "  <thead>\n",
              "    <tr style=\"text-align: right;\">\n",
              "      <th></th>\n",
              "      <th>attraction_name</th>\n",
              "      <th>attraction_rating</th>\n",
              "      <th>tags</th>\n",
              "      <th>num_reviews</th>\n",
              "      <th>about</th>\n",
              "      <th>suggested_duration</th>\n",
              "      <th>subcategory</th>\n",
              "      <th>photo</th>\n",
              "      <th>city</th>\n",
              "      <th>state</th>\n",
              "    </tr>\n",
              "  </thead>\n",
              "  <tbody>\n",
              "    <tr>\n",
              "      <th>0</th>\n",
              "      <td>The Getty Center</td>\n",
              "      <td>5.0</td>\n",
              "      <td>Speciality Museums</td>\n",
              "      <td>14531</td>\n",
              "      <td>Spectacular museum boasts a most impressive co...</td>\n",
              "      <td>2-3 hours</td>\n",
              "      <td>Speciality Museums</td>\n",
              "      <td>https://media-cdn.tripadvisor.com/media/photo-...</td>\n",
              "      <td>Los Angeles</td>\n",
              "      <td>CA</td>\n",
              "    </tr>\n",
              "    <tr>\n",
              "      <th>1</th>\n",
              "      <td>Wilson Creek Winery</td>\n",
              "      <td>4.5</td>\n",
              "      <td>Wineries &amp; Vineyards</td>\n",
              "      <td>871</td>\n",
              "      <td>Wilson Creek Winery is warm and friendly, comf...</td>\n",
              "      <td>2-3 hours</td>\n",
              "      <td>Wineries &amp; Vineyards</td>\n",
              "      <td>https://media-cdn.tripadvisor.com/media/photo-...</td>\n",
              "      <td>Temecula</td>\n",
              "      <td>CA</td>\n",
              "    </tr>\n",
              "    <tr>\n",
              "      <th>2</th>\n",
              "      <td>San Diego Zoo</td>\n",
              "      <td>4.5</td>\n",
              "      <td>Zoos</td>\n",
              "      <td>28101</td>\n",
              "      <td>The world famous San Diego Zoo is a non-profit...</td>\n",
              "      <td>2-3 hours</td>\n",
              "      <td>Zoos</td>\n",
              "      <td>https://media-cdn.tripadvisor.com/media/photo-...</td>\n",
              "      <td>San Diego</td>\n",
              "      <td>CA</td>\n",
              "    </tr>\n",
              "    <tr>\n",
              "      <th>3</th>\n",
              "      <td>Point Lobos</td>\n",
              "      <td>5.0</td>\n",
              "      <td>State Parks</td>\n",
              "      <td>4780</td>\n",
              "      <td>Watch whales in winter and sea lions all year ...</td>\n",
              "      <td>NaN</td>\n",
              "      <td>State Parks</td>\n",
              "      <td>https://media-cdn.tripadvisor.com/media/photo-...</td>\n",
              "      <td>Carmel</td>\n",
              "      <td>CA</td>\n",
              "    </tr>\n",
              "    <tr>\n",
              "      <th>4</th>\n",
              "      <td>Santa Monica Pier</td>\n",
              "      <td>4.0</td>\n",
              "      <td>Points of Interest &amp; Landmarks,Historic Walkin...</td>\n",
              "      <td>18967</td>\n",
              "      <td>This bustling wooden wharf is the place to be,...</td>\n",
              "      <td>1-2 hours</td>\n",
              "      <td>Points of Interest &amp; Landmarks</td>\n",
              "      <td>https://media-cdn.tripadvisor.com/media/photo-...</td>\n",
              "      <td>Santa Monica</td>\n",
              "      <td>CA</td>\n",
              "    </tr>\n",
              "  </tbody>\n",
              "</table>\n",
              "</div>"
            ],
            "text/plain": [
              "       attraction_name  attraction_rating  ...          city state\n",
              "0     The Getty Center                5.0  ...   Los Angeles    CA\n",
              "1  Wilson Creek Winery                4.5  ...      Temecula    CA\n",
              "2        San Diego Zoo                4.5  ...     San Diego    CA\n",
              "3          Point Lobos                5.0  ...        Carmel    CA\n",
              "4    Santa Monica Pier                4.0  ...  Santa Monica    CA\n",
              "\n",
              "[5 rows x 10 columns]"
            ]
          },
          "metadata": {},
          "execution_count": 45
        }
      ]
    },
    {
      "cell_type": "markdown",
      "metadata": {
        "id": "x3JmbYJCHkyg"
      },
      "source": [
        "# Adding Durations"
      ]
    },
    {
      "cell_type": "code",
      "metadata": {
        "colab": {
          "base_uri": "https://localhost:8080/"
        },
        "id": "HdcucgBPHl-u",
        "outputId": "91d62a4f-0f31-476d-a088-a754f2332eea"
      },
      "source": [
        "n = len(pd.unique(attractions_ca['suggested_duration'])) # see number of unique category values \n",
        "print(\"No.of.unique values :\", \n",
        "      n)"
      ],
      "execution_count": null,
      "outputs": [
        {
          "output_type": "stream",
          "name": "stdout",
          "text": [
            "No.of.unique values : 5\n"
          ]
        }
      ]
    },
    {
      "cell_type": "code",
      "metadata": {
        "colab": {
          "base_uri": "https://localhost:8080/"
        },
        "id": "HogFO4A7HsRE",
        "outputId": "bfb38bdc-70ca-4bb4-e99d-d2d667a719b8"
      },
      "source": [
        "pd.unique(attractions_ca['suggested_duration'])"
      ],
      "execution_count": null,
      "outputs": [
        {
          "output_type": "execute_result",
          "data": {
            "text/plain": [
              "array(['2-3 hours', nan, '1-2 hours', '< 1 hour', 'More than 3 hours'],\n",
              "      dtype=object)"
            ]
          },
          "metadata": {},
          "execution_count": 47
        }
      ]
    },
    {
      "cell_type": "code",
      "metadata": {
        "id": "2N5f8BiDHyb3"
      },
      "source": [
        "attractions_ca['suggested_duration'].fillna('1-3 hours', inplace=True) # NaN is converted '1-3 hours'"
      ],
      "execution_count": null,
      "outputs": []
    },
    {
      "cell_type": "code",
      "metadata": {
        "colab": {
          "base_uri": "https://localhost:8080/",
          "height": 615
        },
        "id": "2kJDfy0lH1Xm",
        "outputId": "54744233-b405-49e0-eaeb-16aee9408701"
      },
      "source": [
        "attractions_ca.head()"
      ],
      "execution_count": null,
      "outputs": [
        {
          "output_type": "execute_result",
          "data": {
            "text/html": [
              "<div>\n",
              "<style scoped>\n",
              "    .dataframe tbody tr th:only-of-type {\n",
              "        vertical-align: middle;\n",
              "    }\n",
              "\n",
              "    .dataframe tbody tr th {\n",
              "        vertical-align: top;\n",
              "    }\n",
              "\n",
              "    .dataframe thead th {\n",
              "        text-align: right;\n",
              "    }\n",
              "</style>\n",
              "<table border=\"1\" class=\"dataframe\">\n",
              "  <thead>\n",
              "    <tr style=\"text-align: right;\">\n",
              "      <th></th>\n",
              "      <th>attraction_name</th>\n",
              "      <th>attraction_rating</th>\n",
              "      <th>tags</th>\n",
              "      <th>num_reviews</th>\n",
              "      <th>about</th>\n",
              "      <th>suggested_duration</th>\n",
              "      <th>subcategory</th>\n",
              "      <th>photo</th>\n",
              "      <th>city</th>\n",
              "      <th>state</th>\n",
              "    </tr>\n",
              "  </thead>\n",
              "  <tbody>\n",
              "    <tr>\n",
              "      <th>0</th>\n",
              "      <td>The Getty Center</td>\n",
              "      <td>5.0</td>\n",
              "      <td>Speciality Museums</td>\n",
              "      <td>14531</td>\n",
              "      <td>Spectacular museum boasts a most impressive co...</td>\n",
              "      <td>2-3 hours</td>\n",
              "      <td>Speciality Museums</td>\n",
              "      <td>https://media-cdn.tripadvisor.com/media/photo-...</td>\n",
              "      <td>Los Angeles</td>\n",
              "      <td>CA</td>\n",
              "    </tr>\n",
              "    <tr>\n",
              "      <th>1</th>\n",
              "      <td>Wilson Creek Winery</td>\n",
              "      <td>4.5</td>\n",
              "      <td>Wineries &amp; Vineyards</td>\n",
              "      <td>871</td>\n",
              "      <td>Wilson Creek Winery is warm and friendly, comf...</td>\n",
              "      <td>2-3 hours</td>\n",
              "      <td>Wineries &amp; Vineyards</td>\n",
              "      <td>https://media-cdn.tripadvisor.com/media/photo-...</td>\n",
              "      <td>Temecula</td>\n",
              "      <td>CA</td>\n",
              "    </tr>\n",
              "    <tr>\n",
              "      <th>2</th>\n",
              "      <td>San Diego Zoo</td>\n",
              "      <td>4.5</td>\n",
              "      <td>Zoos</td>\n",
              "      <td>28101</td>\n",
              "      <td>The world famous San Diego Zoo is a non-profit...</td>\n",
              "      <td>2-3 hours</td>\n",
              "      <td>Zoos</td>\n",
              "      <td>https://media-cdn.tripadvisor.com/media/photo-...</td>\n",
              "      <td>San Diego</td>\n",
              "      <td>CA</td>\n",
              "    </tr>\n",
              "    <tr>\n",
              "      <th>3</th>\n",
              "      <td>Point Lobos</td>\n",
              "      <td>5.0</td>\n",
              "      <td>State Parks</td>\n",
              "      <td>4780</td>\n",
              "      <td>Watch whales in winter and sea lions all year ...</td>\n",
              "      <td>1-3 hours</td>\n",
              "      <td>State Parks</td>\n",
              "      <td>https://media-cdn.tripadvisor.com/media/photo-...</td>\n",
              "      <td>Carmel</td>\n",
              "      <td>CA</td>\n",
              "    </tr>\n",
              "    <tr>\n",
              "      <th>4</th>\n",
              "      <td>Santa Monica Pier</td>\n",
              "      <td>4.0</td>\n",
              "      <td>Points of Interest &amp; Landmarks,Historic Walkin...</td>\n",
              "      <td>18967</td>\n",
              "      <td>This bustling wooden wharf is the place to be,...</td>\n",
              "      <td>1-2 hours</td>\n",
              "      <td>Points of Interest &amp; Landmarks</td>\n",
              "      <td>https://media-cdn.tripadvisor.com/media/photo-...</td>\n",
              "      <td>Santa Monica</td>\n",
              "      <td>CA</td>\n",
              "    </tr>\n",
              "  </tbody>\n",
              "</table>\n",
              "</div>"
            ],
            "text/plain": [
              "       attraction_name  attraction_rating  ...          city state\n",
              "0     The Getty Center                5.0  ...   Los Angeles    CA\n",
              "1  Wilson Creek Winery                4.5  ...      Temecula    CA\n",
              "2        San Diego Zoo                4.5  ...     San Diego    CA\n",
              "3          Point Lobos                5.0  ...        Carmel    CA\n",
              "4    Santa Monica Pier                4.0  ...  Santa Monica    CA\n",
              "\n",
              "[5 rows x 10 columns]"
            ]
          },
          "metadata": {},
          "execution_count": 49
        }
      ]
    },
    {
      "cell_type": "markdown",
      "metadata": {
        "id": "neyTA-UiXqT-"
      },
      "source": [
        "# Add PID and category"
      ]
    },
    {
      "cell_type": "code",
      "metadata": {
        "id": "_4BBye--XtVG"
      },
      "source": [
        "attractions_ca.insert(0, 'PID', range(122094, 122094 + len(attractions_ca)))"
      ],
      "execution_count": null,
      "outputs": []
    },
    {
      "cell_type": "code",
      "metadata": {
        "colab": {
          "base_uri": "https://localhost:8080/",
          "height": 615
        },
        "id": "qG5V0qx7X89z",
        "outputId": "81fcd8a6-6b38-4309-99a7-f272e56e8e87"
      },
      "source": [
        "attractions_ca.head()"
      ],
      "execution_count": null,
      "outputs": [
        {
          "output_type": "execute_result",
          "data": {
            "text/html": [
              "<div>\n",
              "<style scoped>\n",
              "    .dataframe tbody tr th:only-of-type {\n",
              "        vertical-align: middle;\n",
              "    }\n",
              "\n",
              "    .dataframe tbody tr th {\n",
              "        vertical-align: top;\n",
              "    }\n",
              "\n",
              "    .dataframe thead th {\n",
              "        text-align: right;\n",
              "    }\n",
              "</style>\n",
              "<table border=\"1\" class=\"dataframe\">\n",
              "  <thead>\n",
              "    <tr style=\"text-align: right;\">\n",
              "      <th></th>\n",
              "      <th>PID</th>\n",
              "      <th>attraction_name</th>\n",
              "      <th>attraction_rating</th>\n",
              "      <th>tags</th>\n",
              "      <th>num_reviews</th>\n",
              "      <th>about</th>\n",
              "      <th>suggested_duration</th>\n",
              "      <th>subcategory</th>\n",
              "      <th>photo</th>\n",
              "      <th>city</th>\n",
              "      <th>state</th>\n",
              "    </tr>\n",
              "  </thead>\n",
              "  <tbody>\n",
              "    <tr>\n",
              "      <th>0</th>\n",
              "      <td>122094</td>\n",
              "      <td>The Getty Center</td>\n",
              "      <td>5.0</td>\n",
              "      <td>Speciality Museums</td>\n",
              "      <td>14531</td>\n",
              "      <td>Spectacular museum boasts a most impressive co...</td>\n",
              "      <td>2-3 hours</td>\n",
              "      <td>Speciality Museums</td>\n",
              "      <td>https://media-cdn.tripadvisor.com/media/photo-...</td>\n",
              "      <td>Los Angeles</td>\n",
              "      <td>CA</td>\n",
              "    </tr>\n",
              "    <tr>\n",
              "      <th>1</th>\n",
              "      <td>122095</td>\n",
              "      <td>Wilson Creek Winery</td>\n",
              "      <td>4.5</td>\n",
              "      <td>Wineries &amp; Vineyards</td>\n",
              "      <td>871</td>\n",
              "      <td>Wilson Creek Winery is warm and friendly, comf...</td>\n",
              "      <td>2-3 hours</td>\n",
              "      <td>Wineries &amp; Vineyards</td>\n",
              "      <td>https://media-cdn.tripadvisor.com/media/photo-...</td>\n",
              "      <td>Temecula</td>\n",
              "      <td>CA</td>\n",
              "    </tr>\n",
              "    <tr>\n",
              "      <th>2</th>\n",
              "      <td>122096</td>\n",
              "      <td>San Diego Zoo</td>\n",
              "      <td>4.5</td>\n",
              "      <td>Zoos</td>\n",
              "      <td>28101</td>\n",
              "      <td>The world famous San Diego Zoo is a non-profit...</td>\n",
              "      <td>2-3 hours</td>\n",
              "      <td>Zoos</td>\n",
              "      <td>https://media-cdn.tripadvisor.com/media/photo-...</td>\n",
              "      <td>San Diego</td>\n",
              "      <td>CA</td>\n",
              "    </tr>\n",
              "    <tr>\n",
              "      <th>3</th>\n",
              "      <td>122097</td>\n",
              "      <td>Point Lobos</td>\n",
              "      <td>5.0</td>\n",
              "      <td>State Parks</td>\n",
              "      <td>4780</td>\n",
              "      <td>Watch whales in winter and sea lions all year ...</td>\n",
              "      <td>1-3 hours</td>\n",
              "      <td>State Parks</td>\n",
              "      <td>https://media-cdn.tripadvisor.com/media/photo-...</td>\n",
              "      <td>Carmel</td>\n",
              "      <td>CA</td>\n",
              "    </tr>\n",
              "    <tr>\n",
              "      <th>4</th>\n",
              "      <td>122098</td>\n",
              "      <td>Santa Monica Pier</td>\n",
              "      <td>4.0</td>\n",
              "      <td>Points of Interest &amp; Landmarks,Historic Walkin...</td>\n",
              "      <td>18967</td>\n",
              "      <td>This bustling wooden wharf is the place to be,...</td>\n",
              "      <td>1-2 hours</td>\n",
              "      <td>Points of Interest &amp; Landmarks</td>\n",
              "      <td>https://media-cdn.tripadvisor.com/media/photo-...</td>\n",
              "      <td>Santa Monica</td>\n",
              "      <td>CA</td>\n",
              "    </tr>\n",
              "  </tbody>\n",
              "</table>\n",
              "</div>"
            ],
            "text/plain": [
              "      PID      attraction_name  ...          city state\n",
              "0  122094     The Getty Center  ...   Los Angeles    CA\n",
              "1  122095  Wilson Creek Winery  ...      Temecula    CA\n",
              "2  122096        San Diego Zoo  ...     San Diego    CA\n",
              "3  122097          Point Lobos  ...        Carmel    CA\n",
              "4  122098    Santa Monica Pier  ...  Santa Monica    CA\n",
              "\n",
              "[5 rows x 11 columns]"
            ]
          },
          "metadata": {},
          "execution_count": 51
        }
      ]
    },
    {
      "cell_type": "code",
      "metadata": {
        "colab": {
          "base_uri": "https://localhost:8080/"
        },
        "id": "rXZzfO4WYDiF",
        "outputId": "d60c156d-2c98-41fb-8914-336629221213"
      },
      "source": [
        "attractions_ca.shape"
      ],
      "execution_count": null,
      "outputs": [
        {
          "output_type": "execute_result",
          "data": {
            "text/plain": [
              "(22288, 11)"
            ]
          },
          "metadata": {},
          "execution_count": 52
        }
      ]
    },
    {
      "cell_type": "code",
      "metadata": {
        "colab": {
          "base_uri": "https://localhost:8080/",
          "height": 253
        },
        "id": "BpvO7QkMYFc9",
        "outputId": "95210e8c-fa9d-4d7c-8828-e0eb68705c9c"
      },
      "source": [
        "# this is the last attraction\n",
        "attractions_ca.loc[attractions_ca['PID'] == 144381]"
      ],
      "execution_count": null,
      "outputs": [
        {
          "output_type": "execute_result",
          "data": {
            "text/html": [
              "<div>\n",
              "<style scoped>\n",
              "    .dataframe tbody tr th:only-of-type {\n",
              "        vertical-align: middle;\n",
              "    }\n",
              "\n",
              "    .dataframe tbody tr th {\n",
              "        vertical-align: top;\n",
              "    }\n",
              "\n",
              "    .dataframe thead th {\n",
              "        text-align: right;\n",
              "    }\n",
              "</style>\n",
              "<table border=\"1\" class=\"dataframe\">\n",
              "  <thead>\n",
              "    <tr style=\"text-align: right;\">\n",
              "      <th></th>\n",
              "      <th>PID</th>\n",
              "      <th>attraction_name</th>\n",
              "      <th>attraction_rating</th>\n",
              "      <th>tags</th>\n",
              "      <th>num_reviews</th>\n",
              "      <th>about</th>\n",
              "      <th>suggested_duration</th>\n",
              "      <th>subcategory</th>\n",
              "      <th>photo</th>\n",
              "      <th>city</th>\n",
              "      <th>state</th>\n",
              "    </tr>\n",
              "  </thead>\n",
              "  <tbody>\n",
              "    <tr>\n",
              "      <th>26673</th>\n",
              "      <td>144381</td>\n",
              "      <td>Adolfo Park</td>\n",
              "      <td>NaN</td>\n",
              "      <td>Parks</td>\n",
              "      <td>NaN</td>\n",
              "      <td>Park is open each day from dawn to dusk. This ...</td>\n",
              "      <td>1-3 hours</td>\n",
              "      <td>Parks</td>\n",
              "      <td>https://media-cdn.tripadvisor.com/media/photo-...</td>\n",
              "      <td>Camarillo</td>\n",
              "      <td>CA</td>\n",
              "    </tr>\n",
              "  </tbody>\n",
              "</table>\n",
              "</div>"
            ],
            "text/plain": [
              "          PID attraction_name  ...       city state\n",
              "26673  144381     Adolfo Park  ...  Camarillo    CA\n",
              "\n",
              "[1 rows x 11 columns]"
            ]
          },
          "metadata": {},
          "execution_count": 53
        }
      ]
    },
    {
      "cell_type": "code",
      "metadata": {
        "id": "_UilLuLGYQni"
      },
      "source": [
        "attractions_ca['category'] = 'attractions'"
      ],
      "execution_count": null,
      "outputs": []
    },
    {
      "cell_type": "code",
      "metadata": {
        "colab": {
          "base_uri": "https://localhost:8080/",
          "height": 615
        },
        "id": "pjT8Rs7TYYSS",
        "outputId": "e535f043-0fe0-4328-e2fe-e7d9a25c3a5f"
      },
      "source": [
        "attractions_ca.head()"
      ],
      "execution_count": null,
      "outputs": [
        {
          "output_type": "execute_result",
          "data": {
            "text/html": [
              "<div>\n",
              "<style scoped>\n",
              "    .dataframe tbody tr th:only-of-type {\n",
              "        vertical-align: middle;\n",
              "    }\n",
              "\n",
              "    .dataframe tbody tr th {\n",
              "        vertical-align: top;\n",
              "    }\n",
              "\n",
              "    .dataframe thead th {\n",
              "        text-align: right;\n",
              "    }\n",
              "</style>\n",
              "<table border=\"1\" class=\"dataframe\">\n",
              "  <thead>\n",
              "    <tr style=\"text-align: right;\">\n",
              "      <th></th>\n",
              "      <th>PID</th>\n",
              "      <th>attraction_name</th>\n",
              "      <th>attraction_rating</th>\n",
              "      <th>tags</th>\n",
              "      <th>num_reviews</th>\n",
              "      <th>about</th>\n",
              "      <th>suggested_duration</th>\n",
              "      <th>subcategory</th>\n",
              "      <th>photo</th>\n",
              "      <th>city</th>\n",
              "      <th>state</th>\n",
              "      <th>category</th>\n",
              "    </tr>\n",
              "  </thead>\n",
              "  <tbody>\n",
              "    <tr>\n",
              "      <th>0</th>\n",
              "      <td>122094</td>\n",
              "      <td>The Getty Center</td>\n",
              "      <td>5.0</td>\n",
              "      <td>Speciality Museums</td>\n",
              "      <td>14531</td>\n",
              "      <td>Spectacular museum boasts a most impressive co...</td>\n",
              "      <td>2-3 hours</td>\n",
              "      <td>Speciality Museums</td>\n",
              "      <td>https://media-cdn.tripadvisor.com/media/photo-...</td>\n",
              "      <td>Los Angeles</td>\n",
              "      <td>CA</td>\n",
              "      <td>attractions</td>\n",
              "    </tr>\n",
              "    <tr>\n",
              "      <th>1</th>\n",
              "      <td>122095</td>\n",
              "      <td>Wilson Creek Winery</td>\n",
              "      <td>4.5</td>\n",
              "      <td>Wineries &amp; Vineyards</td>\n",
              "      <td>871</td>\n",
              "      <td>Wilson Creek Winery is warm and friendly, comf...</td>\n",
              "      <td>2-3 hours</td>\n",
              "      <td>Wineries &amp; Vineyards</td>\n",
              "      <td>https://media-cdn.tripadvisor.com/media/photo-...</td>\n",
              "      <td>Temecula</td>\n",
              "      <td>CA</td>\n",
              "      <td>attractions</td>\n",
              "    </tr>\n",
              "    <tr>\n",
              "      <th>2</th>\n",
              "      <td>122096</td>\n",
              "      <td>San Diego Zoo</td>\n",
              "      <td>4.5</td>\n",
              "      <td>Zoos</td>\n",
              "      <td>28101</td>\n",
              "      <td>The world famous San Diego Zoo is a non-profit...</td>\n",
              "      <td>2-3 hours</td>\n",
              "      <td>Zoos</td>\n",
              "      <td>https://media-cdn.tripadvisor.com/media/photo-...</td>\n",
              "      <td>San Diego</td>\n",
              "      <td>CA</td>\n",
              "      <td>attractions</td>\n",
              "    </tr>\n",
              "    <tr>\n",
              "      <th>3</th>\n",
              "      <td>122097</td>\n",
              "      <td>Point Lobos</td>\n",
              "      <td>5.0</td>\n",
              "      <td>State Parks</td>\n",
              "      <td>4780</td>\n",
              "      <td>Watch whales in winter and sea lions all year ...</td>\n",
              "      <td>1-3 hours</td>\n",
              "      <td>State Parks</td>\n",
              "      <td>https://media-cdn.tripadvisor.com/media/photo-...</td>\n",
              "      <td>Carmel</td>\n",
              "      <td>CA</td>\n",
              "      <td>attractions</td>\n",
              "    </tr>\n",
              "    <tr>\n",
              "      <th>4</th>\n",
              "      <td>122098</td>\n",
              "      <td>Santa Monica Pier</td>\n",
              "      <td>4.0</td>\n",
              "      <td>Points of Interest &amp; Landmarks,Historic Walkin...</td>\n",
              "      <td>18967</td>\n",
              "      <td>This bustling wooden wharf is the place to be,...</td>\n",
              "      <td>1-2 hours</td>\n",
              "      <td>Points of Interest &amp; Landmarks</td>\n",
              "      <td>https://media-cdn.tripadvisor.com/media/photo-...</td>\n",
              "      <td>Santa Monica</td>\n",
              "      <td>CA</td>\n",
              "      <td>attractions</td>\n",
              "    </tr>\n",
              "  </tbody>\n",
              "</table>\n",
              "</div>"
            ],
            "text/plain": [
              "      PID      attraction_name  ...  state     category\n",
              "0  122094     The Getty Center  ...     CA  attractions\n",
              "1  122095  Wilson Creek Winery  ...     CA  attractions\n",
              "2  122096        San Diego Zoo  ...     CA  attractions\n",
              "3  122097          Point Lobos  ...     CA  attractions\n",
              "4  122098    Santa Monica Pier  ...     CA  attractions\n",
              "\n",
              "[5 rows x 12 columns]"
            ]
          },
          "metadata": {},
          "execution_count": 55
        }
      ]
    },
    {
      "cell_type": "markdown",
      "metadata": {
        "id": "T7tKzdbV4XJc"
      },
      "source": [
        "# create duration low and duration high"
      ]
    },
    {
      "cell_type": "code",
      "metadata": {
        "colab": {
          "base_uri": "https://localhost:8080/"
        },
        "id": "JtaT9O5F4hLt",
        "outputId": "ea56dad0-2356-4507-a638-ec1d5e752cf1"
      },
      "source": [
        "# cases'2-3 hours', '1-2 hours', '< 1 hour', 'More than 3 hours', '1-3 hours'\n",
        "attractions_ca['duration_low'] = ''\n",
        "attractions_ca['duration_high'] = ''\n",
        "\n",
        "\n",
        "for index in attractions_ca.index:\n",
        "  \n",
        "  if (attractions_ca['suggested_duration'][index] == '< 1 hour'):\n",
        "    attractions_ca['duration_low'][index] = .5\n",
        "    attractions_ca['duration_high'][index] = 1.0\n",
        "  if (attractions_ca['suggested_duration'][index] == '1-2 hours'):\n",
        "    attractions_ca['duration_low'][index] = 1.0\n",
        "    attractions_ca['duration_high'][index] = 2.0\n",
        "  if (attractions_ca['suggested_duration'][index] == '1-3 hours'):\n",
        "    attractions_ca['duration_low'][index] = 1.0\n",
        "    attractions_ca['duration_high'][index] = 3.0\n",
        "  if (attractions_ca['suggested_duration'][index] == '2-3 hours'):\n",
        "    attractions_ca['duration_low'][index] = 2.0\n",
        "    attractions_ca['duration_high'][index] = 3.0\n",
        "  if (attractions_ca['suggested_duration'][index] == 'More than 3 hours'):\n",
        "    attractions_ca['duration_low'][index] = 3.0\n",
        "    attractions_ca['duration_high'][index] = 8.0"
      ],
      "execution_count": null,
      "outputs": [
        {
          "output_type": "stream",
          "name": "stderr",
          "text": [
            "/usr/local/lib/python3.7/dist-packages/ipykernel_launcher.py:18: SettingWithCopyWarning: \n",
            "A value is trying to be set on a copy of a slice from a DataFrame\n",
            "\n",
            "See the caveats in the documentation: https://pandas.pydata.org/pandas-docs/stable/user_guide/indexing.html#returning-a-view-versus-a-copy\n",
            "/usr/local/lib/python3.7/dist-packages/ipykernel_launcher.py:19: SettingWithCopyWarning: \n",
            "A value is trying to be set on a copy of a slice from a DataFrame\n",
            "\n",
            "See the caveats in the documentation: https://pandas.pydata.org/pandas-docs/stable/user_guide/indexing.html#returning-a-view-versus-a-copy\n",
            "/usr/local/lib/python3.7/dist-packages/ipykernel_launcher.py:15: SettingWithCopyWarning: \n",
            "A value is trying to be set on a copy of a slice from a DataFrame\n",
            "\n",
            "See the caveats in the documentation: https://pandas.pydata.org/pandas-docs/stable/user_guide/indexing.html#returning-a-view-versus-a-copy\n",
            "  from ipykernel import kernelapp as app\n",
            "/usr/local/lib/python3.7/dist-packages/ipykernel_launcher.py:16: SettingWithCopyWarning: \n",
            "A value is trying to be set on a copy of a slice from a DataFrame\n",
            "\n",
            "See the caveats in the documentation: https://pandas.pydata.org/pandas-docs/stable/user_guide/indexing.html#returning-a-view-versus-a-copy\n",
            "  app.launch_new_instance()\n",
            "/usr/local/lib/python3.7/dist-packages/ipykernel_launcher.py:12: SettingWithCopyWarning: \n",
            "A value is trying to be set on a copy of a slice from a DataFrame\n",
            "\n",
            "See the caveats in the documentation: https://pandas.pydata.org/pandas-docs/stable/user_guide/indexing.html#returning-a-view-versus-a-copy\n",
            "  if sys.path[0] == '':\n",
            "/usr/local/lib/python3.7/dist-packages/ipykernel_launcher.py:13: SettingWithCopyWarning: \n",
            "A value is trying to be set on a copy of a slice from a DataFrame\n",
            "\n",
            "See the caveats in the documentation: https://pandas.pydata.org/pandas-docs/stable/user_guide/indexing.html#returning-a-view-versus-a-copy\n",
            "  del sys.path[0]\n",
            "/usr/local/lib/python3.7/dist-packages/ipykernel_launcher.py:9: SettingWithCopyWarning: \n",
            "A value is trying to be set on a copy of a slice from a DataFrame\n",
            "\n",
            "See the caveats in the documentation: https://pandas.pydata.org/pandas-docs/stable/user_guide/indexing.html#returning-a-view-versus-a-copy\n",
            "  if __name__ == '__main__':\n",
            "/usr/local/lib/python3.7/dist-packages/ipykernel_launcher.py:10: SettingWithCopyWarning: \n",
            "A value is trying to be set on a copy of a slice from a DataFrame\n",
            "\n",
            "See the caveats in the documentation: https://pandas.pydata.org/pandas-docs/stable/user_guide/indexing.html#returning-a-view-versus-a-copy\n",
            "  # Remove the CWD from sys.path while we load stuff.\n",
            "/usr/local/lib/python3.7/dist-packages/ipykernel_launcher.py:21: SettingWithCopyWarning: \n",
            "A value is trying to be set on a copy of a slice from a DataFrame\n",
            "\n",
            "See the caveats in the documentation: https://pandas.pydata.org/pandas-docs/stable/user_guide/indexing.html#returning-a-view-versus-a-copy\n",
            "/usr/local/lib/python3.7/dist-packages/ipykernel_launcher.py:22: SettingWithCopyWarning: \n",
            "A value is trying to be set on a copy of a slice from a DataFrame\n",
            "\n",
            "See the caveats in the documentation: https://pandas.pydata.org/pandas-docs/stable/user_guide/indexing.html#returning-a-view-versus-a-copy\n"
          ]
        }
      ]
    },
    {
      "cell_type": "code",
      "metadata": {
        "id": "rzJAtKhr6S5H",
        "colab": {
          "base_uri": "https://localhost:8080/",
          "height": 1000
        },
        "outputId": "0078d89f-f596-4fbe-bb6f-e8a2301137f6"
      },
      "source": [
        "attractions_ca.head(20)"
      ],
      "execution_count": null,
      "outputs": [
        {
          "output_type": "execute_result",
          "data": {
            "text/html": [
              "<div>\n",
              "<style scoped>\n",
              "    .dataframe tbody tr th:only-of-type {\n",
              "        vertical-align: middle;\n",
              "    }\n",
              "\n",
              "    .dataframe tbody tr th {\n",
              "        vertical-align: top;\n",
              "    }\n",
              "\n",
              "    .dataframe thead th {\n",
              "        text-align: right;\n",
              "    }\n",
              "</style>\n",
              "<table border=\"1\" class=\"dataframe\">\n",
              "  <thead>\n",
              "    <tr style=\"text-align: right;\">\n",
              "      <th></th>\n",
              "      <th>PID</th>\n",
              "      <th>attraction_name</th>\n",
              "      <th>attraction_rating</th>\n",
              "      <th>tags</th>\n",
              "      <th>num_reviews</th>\n",
              "      <th>about</th>\n",
              "      <th>suggested_duration</th>\n",
              "      <th>subcategory</th>\n",
              "      <th>photo</th>\n",
              "      <th>city</th>\n",
              "      <th>state</th>\n",
              "      <th>category</th>\n",
              "      <th>duration_low</th>\n",
              "      <th>duration_high</th>\n",
              "    </tr>\n",
              "  </thead>\n",
              "  <tbody>\n",
              "    <tr>\n",
              "      <th>0</th>\n",
              "      <td>122094</td>\n",
              "      <td>The Getty Center</td>\n",
              "      <td>5.0</td>\n",
              "      <td>Speciality Museums</td>\n",
              "      <td>14531</td>\n",
              "      <td>Spectacular museum boasts a most impressive co...</td>\n",
              "      <td>2-3 hours</td>\n",
              "      <td>Speciality Museums</td>\n",
              "      <td>https://media-cdn.tripadvisor.com/media/photo-...</td>\n",
              "      <td>Los Angeles</td>\n",
              "      <td>CA</td>\n",
              "      <td>attractions</td>\n",
              "      <td>2</td>\n",
              "      <td>3</td>\n",
              "    </tr>\n",
              "    <tr>\n",
              "      <th>1</th>\n",
              "      <td>122095</td>\n",
              "      <td>Wilson Creek Winery</td>\n",
              "      <td>4.5</td>\n",
              "      <td>Wineries &amp; Vineyards</td>\n",
              "      <td>871</td>\n",
              "      <td>Wilson Creek Winery is warm and friendly, comf...</td>\n",
              "      <td>2-3 hours</td>\n",
              "      <td>Wineries &amp; Vineyards</td>\n",
              "      <td>https://media-cdn.tripadvisor.com/media/photo-...</td>\n",
              "      <td>Temecula</td>\n",
              "      <td>CA</td>\n",
              "      <td>attractions</td>\n",
              "      <td>2</td>\n",
              "      <td>3</td>\n",
              "    </tr>\n",
              "    <tr>\n",
              "      <th>2</th>\n",
              "      <td>122096</td>\n",
              "      <td>San Diego Zoo</td>\n",
              "      <td>4.5</td>\n",
              "      <td>Zoos</td>\n",
              "      <td>28101</td>\n",
              "      <td>The world famous San Diego Zoo is a non-profit...</td>\n",
              "      <td>2-3 hours</td>\n",
              "      <td>Zoos</td>\n",
              "      <td>https://media-cdn.tripadvisor.com/media/photo-...</td>\n",
              "      <td>San Diego</td>\n",
              "      <td>CA</td>\n",
              "      <td>attractions</td>\n",
              "      <td>2</td>\n",
              "      <td>3</td>\n",
              "    </tr>\n",
              "    <tr>\n",
              "      <th>3</th>\n",
              "      <td>122097</td>\n",
              "      <td>Point Lobos</td>\n",
              "      <td>5.0</td>\n",
              "      <td>State Parks</td>\n",
              "      <td>4780</td>\n",
              "      <td>Watch whales in winter and sea lions all year ...</td>\n",
              "      <td>1-3 hours</td>\n",
              "      <td>State Parks</td>\n",
              "      <td>https://media-cdn.tripadvisor.com/media/photo-...</td>\n",
              "      <td>Carmel</td>\n",
              "      <td>CA</td>\n",
              "      <td>attractions</td>\n",
              "      <td>1</td>\n",
              "      <td>3</td>\n",
              "    </tr>\n",
              "    <tr>\n",
              "      <th>4</th>\n",
              "      <td>122098</td>\n",
              "      <td>Santa Monica Pier</td>\n",
              "      <td>4.0</td>\n",
              "      <td>Points of Interest &amp; Landmarks,Historic Walkin...</td>\n",
              "      <td>18967</td>\n",
              "      <td>This bustling wooden wharf is the place to be,...</td>\n",
              "      <td>1-2 hours</td>\n",
              "      <td>Points of Interest &amp; Landmarks</td>\n",
              "      <td>https://media-cdn.tripadvisor.com/media/photo-...</td>\n",
              "      <td>Santa Monica</td>\n",
              "      <td>CA</td>\n",
              "      <td>attractions</td>\n",
              "      <td>1</td>\n",
              "      <td>2</td>\n",
              "    </tr>\n",
              "    <tr>\n",
              "      <th>5</th>\n",
              "      <td>122099</td>\n",
              "      <td>South Carlsbad State Beach</td>\n",
              "      <td>4.5</td>\n",
              "      <td>Beaches</td>\n",
              "      <td>1750</td>\n",
              "      <td>This nearly five-mile stretch of beach is popu...</td>\n",
              "      <td>1-3 hours</td>\n",
              "      <td>Beaches</td>\n",
              "      <td>https://media-cdn.tripadvisor.com/media/photo-...</td>\n",
              "      <td>Carlsbad</td>\n",
              "      <td>CA</td>\n",
              "      <td>attractions</td>\n",
              "      <td>1</td>\n",
              "      <td>3</td>\n",
              "    </tr>\n",
              "    <tr>\n",
              "      <th>6</th>\n",
              "      <td>122100</td>\n",
              "      <td>Emerald Bay State Park</td>\n",
              "      <td>5.0</td>\n",
              "      <td>Bodies of Water</td>\n",
              "      <td>897</td>\n",
              "      <td>This spectacular bay in Lake Tahoe is best app...</td>\n",
              "      <td>1-3 hours</td>\n",
              "      <td>Bodies of Water</td>\n",
              "      <td>https://media-cdn.tripadvisor.com/media/photo-...</td>\n",
              "      <td>Lake Tahoe (California)</td>\n",
              "      <td>CA</td>\n",
              "      <td>attractions</td>\n",
              "      <td>1</td>\n",
              "      <td>3</td>\n",
              "    </tr>\n",
              "    <tr>\n",
              "      <th>7</th>\n",
              "      <td>122101</td>\n",
              "      <td>Pfeiffer Beach</td>\n",
              "      <td>4.5</td>\n",
              "      <td>Beaches</td>\n",
              "      <td>1357</td>\n",
              "      <td>NaN</td>\n",
              "      <td>1-3 hours</td>\n",
              "      <td>Beaches</td>\n",
              "      <td>https://media-cdn.tripadvisor.com/media/photo-...</td>\n",
              "      <td>Big Sur</td>\n",
              "      <td>CA</td>\n",
              "      <td>attractions</td>\n",
              "      <td>1</td>\n",
              "      <td>3</td>\n",
              "    </tr>\n",
              "    <tr>\n",
              "      <th>8</th>\n",
              "      <td>122102</td>\n",
              "      <td>Newport Beach</td>\n",
              "      <td>4.5</td>\n",
              "      <td>Beaches</td>\n",
              "      <td>1451</td>\n",
              "      <td>NaN</td>\n",
              "      <td>1-3 hours</td>\n",
              "      <td>Beaches</td>\n",
              "      <td>https://media-cdn.tripadvisor.com/media/photo-...</td>\n",
              "      <td>Newport Beach</td>\n",
              "      <td>CA</td>\n",
              "      <td>attractions</td>\n",
              "      <td>1</td>\n",
              "      <td>3</td>\n",
              "    </tr>\n",
              "    <tr>\n",
              "      <th>9</th>\n",
              "      <td>122103</td>\n",
              "      <td>Third Street Promenade</td>\n",
              "      <td>4.5</td>\n",
              "      <td>Shopping Malls</td>\n",
              "      <td>6102</td>\n",
              "      <td>A moviegoer's haven, this colorful three-block...</td>\n",
              "      <td>1-3 hours</td>\n",
              "      <td>Shopping Malls</td>\n",
              "      <td>https://media-cdn.tripadvisor.com/media/photo-...</td>\n",
              "      <td>Santa Monica</td>\n",
              "      <td>CA</td>\n",
              "      <td>attractions</td>\n",
              "      <td>1</td>\n",
              "      <td>3</td>\n",
              "    </tr>\n",
              "    <tr>\n",
              "      <th>10</th>\n",
              "      <td>122104</td>\n",
              "      <td>March Field Air Museum</td>\n",
              "      <td>4.5</td>\n",
              "      <td>Military Museums</td>\n",
              "      <td>384</td>\n",
              "      <td>NaN</td>\n",
              "      <td>2-3 hours</td>\n",
              "      <td>Military Museums</td>\n",
              "      <td>https://media-cdn.tripadvisor.com/media/photo-...</td>\n",
              "      <td>Riverside</td>\n",
              "      <td>CA</td>\n",
              "      <td>attractions</td>\n",
              "      <td>2</td>\n",
              "      <td>3</td>\n",
              "    </tr>\n",
              "    <tr>\n",
              "      <th>11</th>\n",
              "      <td>122105</td>\n",
              "      <td>San Francisco Bay Ferry</td>\n",
              "      <td>4.5</td>\n",
              "      <td>Ferries</td>\n",
              "      <td>304</td>\n",
              "      <td>NaN</td>\n",
              "      <td>&lt; 1 hour</td>\n",
              "      <td>Ferries</td>\n",
              "      <td>https://media-cdn.tripadvisor.com/media/photo-...</td>\n",
              "      <td>Oakland</td>\n",
              "      <td>CA</td>\n",
              "      <td>attractions</td>\n",
              "      <td>0.5</td>\n",
              "      <td>1</td>\n",
              "    </tr>\n",
              "    <tr>\n",
              "      <th>12</th>\n",
              "      <td>122106</td>\n",
              "      <td>Oakland Zoo</td>\n",
              "      <td>4.5</td>\n",
              "      <td>Zoos</td>\n",
              "      <td>703</td>\n",
              "      <td>Oakland Zoo was established in 1922 and is man...</td>\n",
              "      <td>1-2 hours</td>\n",
              "      <td>Zoos</td>\n",
              "      <td>https://media-cdn.tripadvisor.com/media/photo-...</td>\n",
              "      <td>Oakland</td>\n",
              "      <td>CA</td>\n",
              "      <td>attractions</td>\n",
              "      <td>1</td>\n",
              "      <td>2</td>\n",
              "    </tr>\n",
              "    <tr>\n",
              "      <th>13</th>\n",
              "      <td>122107</td>\n",
              "      <td>Sand Harbor</td>\n",
              "      <td>4.5</td>\n",
              "      <td>Beaches</td>\n",
              "      <td>772</td>\n",
              "      <td>Rocky coves and boulders to jump off of are th...</td>\n",
              "      <td>1-3 hours</td>\n",
              "      <td>Beaches</td>\n",
              "      <td>https://media-cdn.tripadvisor.com/media/photo-...</td>\n",
              "      <td>Incline Village</td>\n",
              "      <td>CA</td>\n",
              "      <td>attractions</td>\n",
              "      <td>1</td>\n",
              "      <td>3</td>\n",
              "    </tr>\n",
              "    <tr>\n",
              "      <th>14</th>\n",
              "      <td>122108</td>\n",
              "      <td>Mendocino Coast</td>\n",
              "      <td>5.0</td>\n",
              "      <td>Bodies of Water,Scenic Drives</td>\n",
              "      <td>761</td>\n",
              "      <td>A scenic drive along California's Pacific coas...</td>\n",
              "      <td>1-3 hours</td>\n",
              "      <td>Bodies of Water</td>\n",
              "      <td>https://media-cdn.tripadvisor.com/media/photo-...</td>\n",
              "      <td>Mendocino</td>\n",
              "      <td>CA</td>\n",
              "      <td>attractions</td>\n",
              "      <td>1</td>\n",
              "      <td>3</td>\n",
              "    </tr>\n",
              "    <tr>\n",
              "      <th>15</th>\n",
              "      <td>122109</td>\n",
              "      <td>Coyote Hills Regional Park</td>\n",
              "      <td>4.5</td>\n",
              "      <td>Nature &amp; Wildlife Areas,Parks</td>\n",
              "      <td>220</td>\n",
              "      <td>NaN</td>\n",
              "      <td>1-3 hours</td>\n",
              "      <td>Nature &amp; Wildlife Areas</td>\n",
              "      <td>https://media-cdn.tripadvisor.com/media/photo-...</td>\n",
              "      <td>Fremont</td>\n",
              "      <td>CA</td>\n",
              "      <td>attractions</td>\n",
              "      <td>1</td>\n",
              "      <td>3</td>\n",
              "    </tr>\n",
              "    <tr>\n",
              "      <th>16</th>\n",
              "      <td>122110</td>\n",
              "      <td>Jarvis Estate</td>\n",
              "      <td>5.0</td>\n",
              "      <td>Wineries &amp; Vineyards,Caverns &amp; Caves</td>\n",
              "      <td>327</td>\n",
              "      <td>Jarvis Estate is a family owned winery dedicat...</td>\n",
              "      <td>1-2 hours</td>\n",
              "      <td>Wineries &amp; Vineyards</td>\n",
              "      <td>https://media-cdn.tripadvisor.com/media/photo-...</td>\n",
              "      <td>Napa</td>\n",
              "      <td>CA</td>\n",
              "      <td>attractions</td>\n",
              "      <td>1</td>\n",
              "      <td>2</td>\n",
              "    </tr>\n",
              "    <tr>\n",
              "      <th>17</th>\n",
              "      <td>122111</td>\n",
              "      <td>Anza-Borrego Desert State Park</td>\n",
              "      <td>4.5</td>\n",
              "      <td>State Parks,Deserts,Scenic Drives</td>\n",
              "      <td>969</td>\n",
              "      <td>The largest state park in California is home t...</td>\n",
              "      <td>More than 3 hours</td>\n",
              "      <td>State Parks</td>\n",
              "      <td>https://media-cdn.tripadvisor.com/media/photo-...</td>\n",
              "      <td>Borrego Springs</td>\n",
              "      <td>CA</td>\n",
              "      <td>attractions</td>\n",
              "      <td>3</td>\n",
              "      <td>8</td>\n",
              "    </tr>\n",
              "    <tr>\n",
              "      <th>19</th>\n",
              "      <td>122112</td>\n",
              "      <td>Alexander Valley Vineyards</td>\n",
              "      <td>5.0</td>\n",
              "      <td>Wineries &amp; Vineyards</td>\n",
              "      <td>412</td>\n",
              "      <td>Experience our historic property and taste awa...</td>\n",
              "      <td>&lt; 1 hour</td>\n",
              "      <td>Wineries &amp; Vineyards</td>\n",
              "      <td>https://media-cdn.tripadvisor.com/media/photo-...</td>\n",
              "      <td>Healdsburg</td>\n",
              "      <td>CA</td>\n",
              "      <td>attractions</td>\n",
              "      <td>0.5</td>\n",
              "      <td>1</td>\n",
              "    </tr>\n",
              "    <tr>\n",
              "      <th>20</th>\n",
              "      <td>122113</td>\n",
              "      <td>Cathedral Basilica of St. Joseph</td>\n",
              "      <td>4.5</td>\n",
              "      <td>Churches &amp; Cathedrals</td>\n",
              "      <td>307</td>\n",
              "      <td>Built in 1876, this church serves the oldest p...</td>\n",
              "      <td>1-3 hours</td>\n",
              "      <td>Churches &amp; Cathedrals</td>\n",
              "      <td>https://media-cdn.tripadvisor.com/media/photo-...</td>\n",
              "      <td>San Jose</td>\n",
              "      <td>CA</td>\n",
              "      <td>attractions</td>\n",
              "      <td>1</td>\n",
              "      <td>3</td>\n",
              "    </tr>\n",
              "  </tbody>\n",
              "</table>\n",
              "</div>"
            ],
            "text/plain": [
              "       PID                   attraction_name  ...  duration_low duration_high\n",
              "0   122094                  The Getty Center  ...             2             3\n",
              "1   122095               Wilson Creek Winery  ...             2             3\n",
              "2   122096                     San Diego Zoo  ...             2             3\n",
              "3   122097                       Point Lobos  ...             1             3\n",
              "4   122098                 Santa Monica Pier  ...             1             2\n",
              "5   122099        South Carlsbad State Beach  ...             1             3\n",
              "6   122100            Emerald Bay State Park  ...             1             3\n",
              "7   122101                    Pfeiffer Beach  ...             1             3\n",
              "8   122102                     Newport Beach  ...             1             3\n",
              "9   122103            Third Street Promenade  ...             1             3\n",
              "10  122104            March Field Air Museum  ...             2             3\n",
              "11  122105           San Francisco Bay Ferry  ...           0.5             1\n",
              "12  122106                       Oakland Zoo  ...             1             2\n",
              "13  122107                       Sand Harbor  ...             1             3\n",
              "14  122108                   Mendocino Coast  ...             1             3\n",
              "15  122109        Coyote Hills Regional Park  ...             1             3\n",
              "16  122110                     Jarvis Estate  ...             1             2\n",
              "17  122111    Anza-Borrego Desert State Park  ...             3             8\n",
              "19  122112        Alexander Valley Vineyards  ...           0.5             1\n",
              "20  122113  Cathedral Basilica of St. Joseph  ...             1             3\n",
              "\n",
              "[20 rows x 14 columns]"
            ]
          },
          "metadata": {},
          "execution_count": 57
        }
      ]
    },
    {
      "cell_type": "code",
      "metadata": {
        "colab": {
          "base_uri": "https://localhost:8080/"
        },
        "id": "_G8nLsy66ewn",
        "outputId": "3f2a37bf-4a80-4c4a-9ade-436c7b117ec6"
      },
      "source": [
        "attractions_ca['duration_high'].isnull().sum() #make sure that the new columns have no null values"
      ],
      "execution_count": null,
      "outputs": [
        {
          "output_type": "execute_result",
          "data": {
            "text/plain": [
              "0"
            ]
          },
          "metadata": {},
          "execution_count": 58
        }
      ]
    },
    {
      "cell_type": "markdown",
      "metadata": {
        "id": "aT-ayjsw5mop"
      },
      "source": [
        "# take out hiking trails (so they aren't repeated)"
      ]
    },
    {
      "cell_type": "code",
      "metadata": {
        "colab": {
          "base_uri": "https://localhost:8080/"
        },
        "id": "qogZZ-ji5nRN",
        "outputId": "e32e44e1-8169-4240-c4d6-90e43d1dc3d5"
      },
      "source": [
        "(attractions_ca.subcategory == 'Hiking Trails').sum() #how many attractions are primarily hiking trails"
      ],
      "execution_count": null,
      "outputs": [
        {
          "output_type": "execute_result",
          "data": {
            "text/plain": [
              "465"
            ]
          },
          "metadata": {},
          "execution_count": 59
        }
      ]
    },
    {
      "cell_type": "code",
      "metadata": {
        "colab": {
          "base_uri": "https://localhost:8080/"
        },
        "id": "Ut_1h7b06F89",
        "outputId": "bf7a1f1e-b6c7-4b73-8b83-cc0fbf11589a"
      },
      "source": [
        "attractions_ca.shape # check shape before deleting"
      ],
      "execution_count": null,
      "outputs": [
        {
          "output_type": "execute_result",
          "data": {
            "text/plain": [
              "(22288, 14)"
            ]
          },
          "metadata": {},
          "execution_count": 60
        }
      ]
    },
    {
      "cell_type": "code",
      "metadata": {
        "id": "zUDtZkAN6XZV"
      },
      "source": [
        "attractions_ca = attractions_ca[attractions_ca.subcategory != 'Hiking Trails']"
      ],
      "execution_count": null,
      "outputs": []
    },
    {
      "cell_type": "code",
      "metadata": {
        "colab": {
          "base_uri": "https://localhost:8080/"
        },
        "id": "5GPxYm_R6zRO",
        "outputId": "b6fd95ec-995b-4ae6-94fb-a0067b754095"
      },
      "source": [
        "attractions_ca.shape"
      ],
      "execution_count": null,
      "outputs": [
        {
          "output_type": "execute_result",
          "data": {
            "text/plain": [
              "(21823, 14)"
            ]
          },
          "metadata": {},
          "execution_count": 62
        }
      ]
    },
    {
      "cell_type": "code",
      "metadata": {
        "colab": {
          "base_uri": "https://localhost:8080/",
          "height": 615
        },
        "id": "rz_60B_V7FNo",
        "outputId": "5a644329-337b-4f16-88f7-af965759cf17"
      },
      "source": [
        "attractions_ca.head()"
      ],
      "execution_count": null,
      "outputs": [
        {
          "output_type": "execute_result",
          "data": {
            "text/html": [
              "<div>\n",
              "<style scoped>\n",
              "    .dataframe tbody tr th:only-of-type {\n",
              "        vertical-align: middle;\n",
              "    }\n",
              "\n",
              "    .dataframe tbody tr th {\n",
              "        vertical-align: top;\n",
              "    }\n",
              "\n",
              "    .dataframe thead th {\n",
              "        text-align: right;\n",
              "    }\n",
              "</style>\n",
              "<table border=\"1\" class=\"dataframe\">\n",
              "  <thead>\n",
              "    <tr style=\"text-align: right;\">\n",
              "      <th></th>\n",
              "      <th>PID</th>\n",
              "      <th>attraction_name</th>\n",
              "      <th>attraction_rating</th>\n",
              "      <th>tags</th>\n",
              "      <th>num_reviews</th>\n",
              "      <th>about</th>\n",
              "      <th>suggested_duration</th>\n",
              "      <th>subcategory</th>\n",
              "      <th>photo</th>\n",
              "      <th>city</th>\n",
              "      <th>state</th>\n",
              "      <th>category</th>\n",
              "      <th>duration_low</th>\n",
              "      <th>duration_high</th>\n",
              "    </tr>\n",
              "  </thead>\n",
              "  <tbody>\n",
              "    <tr>\n",
              "      <th>0</th>\n",
              "      <td>122094</td>\n",
              "      <td>The Getty Center</td>\n",
              "      <td>5.0</td>\n",
              "      <td>Speciality Museums</td>\n",
              "      <td>14531</td>\n",
              "      <td>Spectacular museum boasts a most impressive co...</td>\n",
              "      <td>2-3 hours</td>\n",
              "      <td>Speciality Museums</td>\n",
              "      <td>https://media-cdn.tripadvisor.com/media/photo-...</td>\n",
              "      <td>Los Angeles</td>\n",
              "      <td>CA</td>\n",
              "      <td>attractions</td>\n",
              "      <td>2</td>\n",
              "      <td>3</td>\n",
              "    </tr>\n",
              "    <tr>\n",
              "      <th>1</th>\n",
              "      <td>122095</td>\n",
              "      <td>Wilson Creek Winery</td>\n",
              "      <td>4.5</td>\n",
              "      <td>Wineries &amp; Vineyards</td>\n",
              "      <td>871</td>\n",
              "      <td>Wilson Creek Winery is warm and friendly, comf...</td>\n",
              "      <td>2-3 hours</td>\n",
              "      <td>Wineries &amp; Vineyards</td>\n",
              "      <td>https://media-cdn.tripadvisor.com/media/photo-...</td>\n",
              "      <td>Temecula</td>\n",
              "      <td>CA</td>\n",
              "      <td>attractions</td>\n",
              "      <td>2</td>\n",
              "      <td>3</td>\n",
              "    </tr>\n",
              "    <tr>\n",
              "      <th>2</th>\n",
              "      <td>122096</td>\n",
              "      <td>San Diego Zoo</td>\n",
              "      <td>4.5</td>\n",
              "      <td>Zoos</td>\n",
              "      <td>28101</td>\n",
              "      <td>The world famous San Diego Zoo is a non-profit...</td>\n",
              "      <td>2-3 hours</td>\n",
              "      <td>Zoos</td>\n",
              "      <td>https://media-cdn.tripadvisor.com/media/photo-...</td>\n",
              "      <td>San Diego</td>\n",
              "      <td>CA</td>\n",
              "      <td>attractions</td>\n",
              "      <td>2</td>\n",
              "      <td>3</td>\n",
              "    </tr>\n",
              "    <tr>\n",
              "      <th>3</th>\n",
              "      <td>122097</td>\n",
              "      <td>Point Lobos</td>\n",
              "      <td>5.0</td>\n",
              "      <td>State Parks</td>\n",
              "      <td>4780</td>\n",
              "      <td>Watch whales in winter and sea lions all year ...</td>\n",
              "      <td>1-3 hours</td>\n",
              "      <td>State Parks</td>\n",
              "      <td>https://media-cdn.tripadvisor.com/media/photo-...</td>\n",
              "      <td>Carmel</td>\n",
              "      <td>CA</td>\n",
              "      <td>attractions</td>\n",
              "      <td>1</td>\n",
              "      <td>3</td>\n",
              "    </tr>\n",
              "    <tr>\n",
              "      <th>4</th>\n",
              "      <td>122098</td>\n",
              "      <td>Santa Monica Pier</td>\n",
              "      <td>4.0</td>\n",
              "      <td>Points of Interest &amp; Landmarks,Historic Walkin...</td>\n",
              "      <td>18967</td>\n",
              "      <td>This bustling wooden wharf is the place to be,...</td>\n",
              "      <td>1-2 hours</td>\n",
              "      <td>Points of Interest &amp; Landmarks</td>\n",
              "      <td>https://media-cdn.tripadvisor.com/media/photo-...</td>\n",
              "      <td>Santa Monica</td>\n",
              "      <td>CA</td>\n",
              "      <td>attractions</td>\n",
              "      <td>1</td>\n",
              "      <td>2</td>\n",
              "    </tr>\n",
              "  </tbody>\n",
              "</table>\n",
              "</div>"
            ],
            "text/plain": [
              "      PID      attraction_name  ...  duration_low duration_high\n",
              "0  122094     The Getty Center  ...             2             3\n",
              "1  122095  Wilson Creek Winery  ...             2             3\n",
              "2  122096        San Diego Zoo  ...             2             3\n",
              "3  122097          Point Lobos  ...             1             3\n",
              "4  122098    Santa Monica Pier  ...             1             2\n",
              "\n",
              "[5 rows x 14 columns]"
            ]
          },
          "metadata": {},
          "execution_count": 63
        }
      ]
    },
    {
      "cell_type": "markdown",
      "metadata": {
        "id": "jyaQWip86cUz"
      },
      "source": [
        "#Export to CSV"
      ]
    },
    {
      "cell_type": "code",
      "metadata": {
        "id": "TOd_Yty1JgzT"
      },
      "source": [
        "attractions_ca.to_csv(r'/content/drive/MyDrive/Fall 2021/550/Group Project/Datasets/Clean Scraped Data/clean_attractions_ca.csv', index=False)"
      ],
      "execution_count": null,
      "outputs": []
    },
    {
      "cell_type": "code",
      "metadata": {
        "id": "_mWBDFSXqHB7"
      },
      "source": [
        ""
      ],
      "execution_count": null,
      "outputs": []
    }
  ]
}