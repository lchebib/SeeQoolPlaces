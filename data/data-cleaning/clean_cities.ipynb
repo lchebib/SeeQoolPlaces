{
  "nbformat": 4,
  "nbformat_minor": 0,
  "metadata": {
    "colab": {
      "name": "cities.ipynb",
      "provenance": [],
      "collapsed_sections": [],
      "authorship_tag": "ABX9TyPDbSKDJvW26NAnRkSSsoJP",
      "include_colab_link": true
    },
    "kernelspec": {
      "name": "python3",
      "display_name": "Python 3"
    },
    "language_info": {
      "name": "python"
    }
  },
  "cells": [
    {
      "cell_type": "markdown",
      "metadata": {
        "id": "view-in-github",
        "colab_type": "text"
      },
      "source": [
        "<a href=\"https://colab.research.google.com/github/lchebib/SeeQoolPlaces/blob/main/data/data-cleaning/clean_cities.ipynb\" target=\"_parent\"><img src=\"https://colab.research.google.com/assets/colab-badge.svg\" alt=\"Open In Colab\"/></a>"
      ]
    },
    {
      "cell_type": "markdown",
      "metadata": {
        "id": "hbvMw83zqok9"
      },
      "source": [
        "Import cities, attractions, restaurants, trails"
      ]
    },
    {
      "cell_type": "code",
      "metadata": {
        "id": "T6L_3BdcqXjx"
      },
      "source": [
        "import pandas as pd\n",
        "import numpy as np"
      ],
      "execution_count": null,
      "outputs": []
    },
    {
      "cell_type": "code",
      "metadata": {
        "colab": {
          "base_uri": "https://localhost:8080/"
        },
        "id": "VwpB4FvRqzOI",
        "outputId": "f001a536-ad4b-44e0-9ddb-6038cf61500a"
      },
      "source": [
        "prefix = '/content/drive'\n",
        "from google.colab import drive\n",
        "drive.mount(prefix, force_remount=True)"
      ],
      "execution_count": null,
      "outputs": [
        {
          "output_type": "stream",
          "name": "stdout",
          "text": [
            "Mounted at /content/drive\n"
          ]
        }
      ]
    },
    {
      "cell_type": "code",
      "metadata": {
        "id": "fJfHyesoqoZ_"
      },
      "source": [
        "fp_rest_ca = '/content/drive/MyDrive/Fall 2021/550/Group Project/Datasets/Clean Scraped Data/clean_restaurants_ca.csv'\n",
        "fp_rest_bc = '/content/drive/MyDrive/Fall 2021/550/Group Project/Datasets/Clean Scraped Data/clean_restaurants_bc.csv'\n",
        "fp_attr_ca = '/content/drive/MyDrive/Fall 2021/550/Group Project/Datasets/Clean Scraped Data/clean_attractions_ca.csv'\n",
        "fp_attr_bc = '/content/drive/MyDrive/Fall 2021/550/Group Project/Datasets/Clean Scraped Data/clean_attractions_bc.csv'\n",
        "fp_trails_ca = '/content/drive/MyDrive/Fall 2021/550/Group Project/Datasets/Clean Scraped Data/clean_ca_trails.csv'\n",
        "fp_trails_bc = '/content/drive/MyDrive/Fall 2021/550/Group Project/Datasets/Clean Scraped Data/clean_bc_trails.csv'\n",
        "fp_cities = '/content/drive/MyDrive/Fall 2021/550/Group Project/Datasets/bc_ca_cities.csv'"
      ],
      "execution_count": null,
      "outputs": []
    },
    {
      "cell_type": "code",
      "metadata": {
        "id": "7NH2Om3Mq1mn"
      },
      "source": [
        "attractions_ca = pd.read_csv(fp_attr_ca)\n",
        "attractions_bc = pd.read_csv(fp_attr_bc)\n",
        "restaurants_ca = pd.read_csv(fp_rest_ca)\n",
        "restaurants_bc = pd.read_csv(fp_rest_bc)\n",
        "trails_ca = pd.read_csv(fp_trails_ca)\n",
        "trails_bc = pd.read_csv(fp_trails_bc)\n",
        "cities = pd.read_csv(fp_cities)"
      ],
      "execution_count": null,
      "outputs": []
    },
    {
      "cell_type": "markdown",
      "metadata": {
        "id": "Qk86xwSosrJS"
      },
      "source": [
        "NUMBER CITIES IN EACH POI"
      ]
    },
    {
      "cell_type": "code",
      "metadata": {
        "colab": {
          "base_uri": "https://localhost:8080/"
        },
        "id": "L8P10lkzstPt",
        "outputId": "38da5578-a5d9-4322-8d7b-d313b46d0fb7"
      },
      "source": [
        "cities_attr_ca = pd.unique(attractions_ca['city']).tolist() # see unique cities\n",
        "print(cities_attr_ca)\n",
        "num_cities_attr_ca = len(pd.unique(attractions_ca['city'])) # see number of unique cities\n",
        "print(\"No.of.unique values :\", num_cities_attr_ca)"
      ],
      "execution_count": null,
      "outputs": [
        {
          "output_type": "stream",
          "name": "stdout",
          "text": [
            "['Los Angeles', 'Temecula', 'San Diego', 'Carmel', 'Santa Monica', 'Carlsbad', 'Lake Tahoe (California)', 'Big Sur', 'Newport Beach', 'Riverside', 'Oakland', 'Incline Village', 'Mendocino', 'Fremont', 'Napa', 'Borrego Springs', 'Healdsburg', 'San Jose', 'Ventura', 'Pasadena', 'San Luis Obispo', 'Torrance', 'West Hollywood', 'Glendale', 'Lompoc', 'Davenport', 'Squaw Valley', 'Santa Clarita', 'San Ramon', 'Lake Los Angeles', 'San Francisco', 'Hermosa Beach', 'Burbank', 'Lakeport', 'Sausalito', 'Bellflower', 'Sebastopol', 'Palm Desert', 'Freestone', 'Beverly Hills', 'Solvang', 'Redondo Beach', 'Santa Rosa', 'Stockton', 'Chino Hills', 'Milpitas', 'Vacaville', 'San Clemente', 'Santa Barbara', 'Colton', 'Sunnyvale', 'Escondido', 'Monterey', 'Redding', 'Clovis', 'Bakersfield', 'San Bernardino', 'Calistoga', 'Santa Ana', 'Costa Mesa', 'Bodega Bay', 'Mammoth Lakes', 'Oxnard', 'Long Beach', 'Cabazon', 'Cupertino', 'Santa Cruz', 'Lake Tahoe (Nevada)', 'Paso Robles', 'Livermore', 'Buena Park', 'South Lake Tahoe', 'Morro Bay', 'San Simeon', 'Fresno', 'Oceanside', 'Sonoma', 'Palo Alto', 'St. Helena', 'Death Valley National Park', 'Coronado', 'Big Bear Region', 'Irvine', 'Sequoia and Kings Canyon National Park', 'Pismo Beach', 'Joshua Tree National Park', 'Catalina Island', 'Napa Valley', 'Anaheim', 'Laguna Beach', 'Malibu', 'Huntington Beach', 'Fort Bragg', 'Yosemite National Park', 'Berkeley', 'Julian', 'Mountain View', 'Crescent City', 'La Jolla', 'Eureka', 'Truckee', 'Lancaster', 'Avalon', 'Ojai', 'Indio', 'Santa Clara', 'Cambria', 'Mill Valley', 'Tahoe City', 'Manhattan Beach', 'Folsom', 'Redwood National Park', 'Corona', 'Mount Shasta', 'Big Bear Lake', 'Marina del Rey', 'Fullerton', 'Sacramento', 'Hawthorne', 'San Bruno', 'El Segundo', 'Culver City', 'Lawndale', 'Lomita', 'Ceres', 'Grass Valley', 'San Miguel', 'La Mesa', 'Thousand Oaks', 'Danville', 'Palm Springs', 'Summerland', 'Brea', 'Westlake Village', 'Woodlake', 'Oroville', 'North Highlands', 'El Dorado Hills', 'Winters', 'Gardena', 'Guerneville', 'Whittier', 'Menlo Park', 'Shell Beach', 'Thornton', 'Monterey Park', 'Seal Beach', 'Menifee', 'Brentwood', 'La Quinta', 'Laguna Niguel', 'Camarillo', 'Del Mar', 'Boonville', 'San Rafael', 'Tustin', 'South Pasadena', 'Inglewood', 'Annapolis', 'South San Francisco', 'Ridgecrest', 'El Cajon', 'Temple City', 'Burlingame', 'Fountain Valley', 'Oro Grande', 'Vista', 'Santa Ynez', 'Glen Ellen', 'Idyllwild', 'Carmel Valley', 'Rialto', 'Glenbrook', 'Camino', 'Cathedral City', 'Pinole', 'Vallejo', 'Mount Baldy', 'Goleta', 'Half Moon Bay', 'Novato', 'San Juan Capistrano', 'Pittsburg', 'Roseville', 'Saratoga', 'Petaluma', 'Windsor', 'Ramona', 'Sutter Creek', 'West Sacramento', 'Santa Maria', 'Los Gatos', 'Auburn', 'Crockett', 'Stanton', 'Merced', 'Mariposa', 'Union City', 'Kings Beach', 'Woodland', 'Alameda', 'Rosemead', 'Walnut Creek', 'Lakewood', 'Lodi', 'Wofford Heights', 'Sierraville', 'Downey', 'Glendora', 'Commerce', 'Laguna Hills', 'Corona del Mar', 'San Anselmo', 'Orange', 'Cloverdale', 'Sierra Madre', 'Arcadia', 'Newhall', 'Apple Valley', 'Chico', 'Buellton', 'Encinitas', 'Pomona', 'Chula Vista', 'Poway', 'Elk Grove', 'Hayward', 'Angwin', 'Hollister', 'Cotati', 'Solana Beach', 'Ukiah', 'Salinas', 'Ontario', 'Felton', 'Visalia', 'Pacifica', 'Fortuna', 'Pacific Grove', 'Concord', 'Rancho Cucamonga', 'Susanville', 'Redwood City', 'Fairfield', 'Upland', 'Citrus Heights', 'Avila Beach', 'San Dimas', 'Modesto', 'Castro Valley', 'Brooks', 'Etiwanda', 'Gilroy', 'Campbell', 'Rancho Cordova', 'San Leandro', 'Red Bluff', 'Covina', 'Tulare', 'Victorville', 'Gerber', 'McKinleyville', 'Highland', 'Montclair', 'Hemet', 'Agoura Hills', 'Azusa', 'Madera', 'Whitethorn', 'Kerman', 'Perris', 'Colfax', 'Arcata', 'Lower Lake', 'Carmichael', 'Escalon', 'El Sobrante', 'Hopland', 'Patterson', 'Montecito', 'Santee', 'Tiburon', 'Scotts Valley', 'Placerville', 'Huron', 'Hornbrook', 'Bishop', 'Dunsmuir', 'Soda Springs', 'Ocotillo', 'Forestville', 'Chino', 'Callahan', 'Brockway', 'Moorpark', 'Bell Gardens', 'Three Rivers', 'Clayton', 'West Covina', 'Oakley', 'San Mateo', 'Garden Grove', 'Yuba City', 'La Mirada', 'Cypress', 'Imperial Beach', 'Jamestown', 'Jurupa Valley', 'Marysville', 'Bodfish', 'Yreka', 'Los Alamitos', 'Oakhurst', 'Carpinteria', 'Pauma Valley', 'Aguanga', 'La Habra', 'Biola', 'Jackson', 'Arroyo Grande', 'Shaver Lake', 'San Jacinto', 'Santa Ysabel', 'Clements', 'Sand City', 'Nicasio', 'Fallbrook', 'Santa Margarita', 'Antioch', 'Moreno Valley', 'Redlands', 'Mira Loma', 'Lennox', 'Tracy', 'Cardiff-by-the-Sea', 'Green Valley Lake', 'California', 'Dublin', 'Castroville', 'Palmdale', 'Alamo', 'Murrieta', 'Rolling Hills Estates', 'Hesperia', 'Turlock', 'Taft', 'Los Alamos', 'Tulelake', 'San Juan Bautista', 'Stateline', 'Spring Valley', 'Altadena', 'Burney', 'San Marcos', 'Rohnert Park', 'Cherry Valley', 'Lewiston', 'Cantua Creek', 'Benicia', 'Los Olivos', 'Yucaipa', 'Paradise', 'Point Arena', 'Berry Creek', 'Monterey County', 'Rancho Mirage', 'Aptos', 'Richmond', 'Morongo Valley', 'Calabasas', 'Martinez', 'City of Industry', 'Montague', 'Kelseyville', 'Redwood Valley', 'Lake City', 'Pearblossom', 'Los Osos', 'Markleeville', 'Orick', 'Mojave', 'Shasta', 'Benton', 'Ione', 'Randsburg', 'Atascadero', 'Kenwood', 'Galt', 'Bonsall', 'Bonita', 'Samoa', 'Nevada City', 'Winchester', 'Davis', 'Inverness', 'El Verano', 'Seaside', 'Princeton', 'Campo', 'Shoshone', 'Arnold', 'Garberville', 'Barstow', 'Lemon Grove', 'Magalia', 'San Joaquin', 'Mendota', 'Holt', 'Colma', 'National City', 'Westminster', 'La Puente', 'Laton', 'Rancho Murieta', 'Pioneertown', 'Silverado', 'Elverta', 'Alpine', 'Lebec', 'Etna', 'Weed', 'Dana Point', 'Maricopa', 'Orcutt', 'Norwalk', 'San Lucas', 'San Carlos', 'Capitola', 'Morgan Hill', 'Oak Park', 'Lincoln', 'Stanford', 'Durham', 'Ferndale', 'Trinidad', 'June Lake', 'Fillmore', 'Los Banos', 'Nipomo', 'Lakeshore', 'Soledad', 'Willits', 'Coachella', 'Downieville', 'Hume', 'Piru', 'Stevinson', 'Niland', 'Vallecito', 'Pope Valley', 'Yolo', 'Porterville', 'Carson', 'Ripon', 'La Canada Flintridge', 'Banning', 'Rocklin', 'Loomis', 'Albany', 'Lake San Marcos', 'Baldwin Park', 'Big Bear City', 'Orangevale', 'Yucca Valley', 'Boulder Creek', 'Blue Lake', 'South El Monte', 'Cerritos', 'Crestline', 'Montrose', 'Mission Viejo', 'Murphys', 'Thermal', 'Tahoe Vista', 'Moss Landing', 'Newberry Springs', 'Whiskeytown', 'Dos Palos', 'Claremont', 'Rancho Palos Verdes', 'Rancho Santa Fe', 'Corte Madera', 'Orange County', 'Wawona', 'California City', 'Forest Ranch', 'Signal Hill', 'Tranquillity', 'Gridley', 'Yountville', 'Tahoma', 'Angels Camp', 'Indian Wells', 'Landers', 'Fairfax', 'Monrovia', 'Littlerock', 'Pleasanton', 'Nice', 'Joshua Tree', 'Furnace Creek', 'Suisun City', 'Lake Forest', 'Penn Valley', 'Phelan', 'Topanga', 'San Gabriel', 'Garden Valley', 'Lake Arrowhead', 'Orland', 'Emigrant Gap', 'Leggett', 'Mountain Pass', 'Mountain Center', 'Columbia', 'Manton', 'Sunol', 'San Martin', 'Coulterville', 'Norco', 'Twentynine Palms', 'Mono City', 'Bay Point', 'El Monte', 'Belmont', 'Soquel', 'Lake Elsinore', 'Tehachapi', 'Fiddletown', 'Twain Harte', 'Mentone', 'Clearlake Oaks', 'Pleasant Hill', 'Holtville', 'Yorba Linda', 'Sonora', 'Skyforest', 'Imperial', 'Moss Beach', 'Aliso Viejo', 'Fair Play', 'Meadow Vista', 'Hughson', 'Walnut', 'Placentia', 'Somerset', 'La Verne', 'Anza', 'Millbrae', 'Cold Springs', 'Springville', 'Cobb', 'Lone Pine', 'Sun City', 'Big Bar', 'Reedley', 'Pebble Beach', 'Grover Beach', 'Cameron Park', 'Paicines', 'Coarsegold', 'Hacienda Heights', 'Leucadia', 'Atwater', 'Greenbrae', 'Dillon Beach', 'Bethel Island', 'Eastvale', 'Simi Valley', 'Santa Paula', 'Selma', 'Pico Rivera', 'Emeryville', 'Devore Heights', 'Marina', 'Calimesa', 'Lake Isabella', 'Rio Vista', 'Lake Almanor Peninsula', 'Thousand Palms', 'San Lorenzo', 'Phillipsville', 'Cayucos', 'Pollock Pines', 'Brisbane', 'Gualala', 'Yermo', 'Wrightwood', 'Honeydew', 'Manteca', 'Alhambra', 'Chilcoot', 'San Andreas', 'Los Altos', 'Lynwood', 'San Geronimo', 'Artesia', 'Valley Center', 'Belvedere', 'Delano', 'Bradley', 'Huntington Lake', 'Bridgeport', 'East Palo Alto', 'Weaverville', 'Mecca', 'Fair Oaks', 'Wildomar', 'Waterford', 'Hidden Valley Lake', 'Daly City', 'Watsonville', 'Gorman', 'Bolinas', 'Hercules', 'Pala', 'Upper Lake', 'Canyon Lake', 'Templeton', 'Crystal Bay', 'Camp Pendleton', 'Exeter', 'Kingsburg', 'Beaumont', 'Amboy', 'Lockwood', 'Desert Hot Springs', 'Drytown', 'Marin County', 'Auberry', 'Newark', 'Rancho Santa Margarita', 'Nicolaus', 'Huntington Park', 'Westley', 'Middletown', 'Granite Bay', 'Portola', 'Oakdale', 'Lee Vining', 'West Point', 'Pine Mountain Club', 'Lafayette', 'Cottonwood', 'Lagunitas', 'Geyserville', 'Tres Pinos', 'Larkspur', 'Rancho Bernardo', 'Pescadero', 'La Crescenta', 'Needles', 'Walnut Grove', 'Williams', 'Riverdale', 'King City', 'Diamond Bar', 'Lemoore', 'Quartz Hill', 'Alpaugh', 'Loleta', 'Rosamond', 'Agua Dulce', 'La Grange', 'Grand Terrace', 'Plymouth', 'McCloud', 'Fontana', 'Newbury Park', 'Baker', 'Forest Falls', 'Acampo', 'Olympic Valley', 'Rio Dell', 'Palos Verdes Estates', 'Ivanhoe', 'Chester', 'Loma Linda', 'Rowland Heights', 'Corning', 'Livingston', 'Aromas', 'Rolling Hills', 'Penngrove', 'Philo', 'Atherton', 'Boron', 'Shingletown', 'Trona', 'Petrolia', 'San Ardo', 'Cecilville', 'Snelling', 'Klamath', 'Maxwell', 'Alviso', 'Lakeside', 'Point Richmond', 'Salton City', 'Balboa Island', 'Sloughhouse', 'Felicity', 'Agoura', 'Discovery Bay', 'Gasquet', 'Oceano', 'Prather', 'Dixon', 'Little River', 'Mather', 'Westwood', 'Monte Rio', 'Hanford', 'El Centro', 'Montebello', 'Rio Linda', 'Amador City', 'Byron', 'Antelope', 'Ahwahnee', 'Lassen Volcanic National Park', 'Sierra City', 'Quincy', 'Rutherford', 'Clio', 'Woodside', 'Blythe', 'Clearlake', 'Castaic', 'Creston', 'The Sea Ranch', 'Smith River', 'Caspar', 'Oak Glen', 'Mono Hot Springs', 'Two Harbors', 'Pinecrest', 'Valley Springs', 'Sutter', 'Lathrop', 'East Los Angeles', 'Bodega', 'Fall River Mills', 'Taylorsville', 'Dinuba', 'Pine Valley', 'Occidental', 'Canyondam', 'Sanger', 'Jamul', 'Foster City', 'Isleton', 'Woodacre', 'Forest Knolls', 'Copperopolis', 'North Fork', 'Graton', 'Capay', 'Somis', 'Anderson', 'Point Reyes Station', 'Miranda', 'Georgetown', 'Olancha', 'Le Grand', 'Nipton', 'Stinson Beach', 'Calexico', 'Shasta Lake', 'Bear Valley', 'Paramount', 'Zamora', 'Bass Lake', 'Ocotillo Wells', 'Chowchilla', 'Lindsay', 'Boulevard', 'Groveland', 'Olema', 'San Gregorio', 'El Cerrito', 'Carnelian Bay', 'Homewood', 'Mokelumne Hill', 'Kernville', 'Graeagle', 'Piercy', 'Gold River', 'Coalinga', 'Briceburg', 'Hope Valley', 'Duncans Mills', 'Harmony', 'Tomales', 'San Marino', nan, 'Zephyr Cove', 'Riverbank', 'Temescal Valley', 'Hawaiian Gardens', 'Norden', 'Twin Peaks', 'Weott', 'Oakville', 'Fish Camp', 'Lockeford', 'Redcrest', 'Fulton', 'Los Molinos', 'Cima', 'Stirling City', 'Yorkville', 'Fawnskin', 'Alturas', 'Essex', 'Dunlap', 'Westhaven-Moonstone', 'Descanso', 'American Canyon', 'Lake Hughes', 'Coleville', 'Montara', 'Forks of Salmon', 'Santa Nella', 'Hat Creek', 'Manchester', 'Colusa', 'Edwards', 'Trabuco Canyon', 'Penryn', 'Jolon', 'Newcastle', 'Santa Fe Springs', 'Willows', 'Walker', 'Manila', 'Ross', 'Mount Laguna', 'O Neals', 'Pilot Hill', 'Clarksburg', 'Lakeview', 'Newman', 'Inyo County', 'La Honda', 'Nelson', 'Wilton', 'Stovepipe Wells', 'Calipatria', 'Channel Islands National Park', 'Guadalupe', 'Greenfield', 'Collegeville', 'Alleghany', 'Whitmore', 'Ballico', 'Inyokern', 'Los Altos Hills', 'Ballard', 'Vidal', 'Douglas Flat', 'Sheridan', 'Volcano', 'Oak View', 'Old Station', 'Deer Park', 'Salida', 'Point Reyes National Seashore', 'Dulzura', 'Scotia', 'Warner Springs', 'Moraga', 'Mineral', 'Dorris', 'Desert Center', 'Bloomington', 'Wasco', 'Mount Aukum', 'McArthur', 'Live Oak', 'Loma Mar', 'Tuolumne', 'Weldon', 'El Dorado', 'Big Oak Flat', 'Oregon House', 'Calpella', 'Cassel', 'Saugus', 'Stonyford', 'Alta Loma', 'Raymond', 'Keene', 'Port Hueneme', 'Palomar Mountain', 'Kettleman City', 'Myers Flat', 'Foresthill', 'Lassen National Forest', 'McFarland', 'Blairsden', 'Independence', 'Lytle Creek', 'Corralitos', 'Hoopa', 'Vernalis', 'Cholame', 'Dutch Flat', 'Valyermo', 'Acton', 'Jenner', 'Fort Irwin', 'Coto de Caza', 'Laytonville', 'Strawberry', 'Palo Verde', 'Shandon', 'Sky Valley', 'Portola Valley', 'Kyburz', 'Allensworth', 'Redway', 'Camp Nelson', 'Mc Farland', 'Hilmar', 'Pacheco', 'Buttonwillow', 'Vina', 'Bard', 'Albion', 'Westport', 'Trinity Center', 'Mountain Ranch', 'El Portal', 'Adelanto', 'Shafter', 'Winterhaven', 'New Cuyama', 'Orinda', 'Bombay Beach', 'Twin Bridges', 'Plumas County', 'Muir Beach', 'Ben Lomond', 'San Fernando', 'Carlotta', 'Coloma', 'Wheatland', 'China Lake', 'South Gate', 'North Palm Springs', 'Spaulding', 'Hathaway Pines', 'Jacumba', 'Leona Valley', 'Gustine', 'Big Pine', 'Isla Vista', 'Firebaugh', 'Shingle Springs', 'Death Valley Junction', 'Herald', 'Hiouchi', 'Elk', 'Cazadero', 'Little Lake', 'Arvin', 'Chiriaco Summit', 'Castella', 'Traver', 'Willow Creek', 'Glamis', 'Friant', 'Lost Hills', 'Cantil', 'Tecopa', 'Knights Ferry', 'Mount Hamilton', 'Lake County', 'Lotus', 'Kirkwood', 'California Hot Springs', 'Irwindale', 'San Pablo', 'Lemon Cove', 'Running Springs', 'Topaz', 'Lucerne Valley', 'Funner', 'Pine Grove', 'Sonoma County', 'Point Mugu', 'Shelter Cove', 'Compton', 'Frazier Park', 'Mendocino County', 'Keeler', 'Lakehead', 'San Luis Obispo County', 'Humboldt County']\n",
            "No.of.unique values : 1000\n"
          ]
        }
      ]
    },
    {
      "cell_type": "code",
      "metadata": {
        "colab": {
          "base_uri": "https://localhost:8080/"
        },
        "id": "MsIiUMMcsJSS",
        "outputId": "cecb2b0d-c924-47aa-b6da-8b69d5810eff"
      },
      "source": [
        "cities_attr_bc = pd.unique(attractions_bc['city']).tolist() # see unique cities\n",
        "print(cities_attr_bc)\n",
        "num_cities_attr_bc = len(pd.unique(attractions_bc['city'])) # see number of unique cities\n",
        "print(\"No.of.unique values :\", num_cities_attr_bc)"
      ],
      "execution_count": null,
      "outputs": [
        {
          "output_type": "stream",
          "name": "stdout",
          "text": [
            "['Vancouver', 'Campbell River', 'Vernon', 'Squamish', 'Whistler', 'Penticton', 'Nakusp', 'Lillooet', 'Golden', 'Courtenay', 'Langley City', 'Williams Lake', 'Sooke', 'Hope', 'Tsawwassen', 'Nanaimo', 'Invermere', 'Port Alberni', 'New Westminster', 'Tachie', 'Hot Springs Cove', 'Chilcotin District', 'Tofino', 'Langford', 'Richmond', 'Victoria', 'Smithers', 'Prince George', 'Kitimat-Stikine District', 'West Cracroft Island', 'Burnaby', 'Saanichton', 'Vancouver Island', 'Maple Ridge', 'Surrey', 'Elkford', 'Metchosin', 'North Vancouver', 'Duncan', 'Wynndel', 'Fernie', 'North Saanich', 'Port Edward', 'Oliver', 'Sidney', 'Yoho National Park', 'Clearwater', 'Salmon Arm', 'West Kelowna', 'Nelson', 'West Vancouver', 'British Columbia', 'Harrison Hot Springs', 'Radium Hot Springs', 'Okanagan Valley', 'Coquitlam', 'Revelstoke', 'Salt Spring Island', 'Parksville', 'Central Saanich', 'Langley', 'Kamloops', 'Osoyoos', 'Kelowna', 'Deroche', 'Port Moody', 'Qualicum Beach', 'Chilliwack', 'White Rock', 'Sechelt', 'Telegraph Cove', 'Port Renfrew', 'Port Hardy', 'Delta', 'Fort St. John', 'Port McNeill', 'Sicamous', 'Sun Peaks', 'Galiano Island', 'Bowen Island', 'Mission', 'Creston', 'Whiteswan Lake Provincial Park', 'Peachland', 'Kootenay National Park', 'Comox', 'Big White', 'Ucluelet', 'Pender Island', 'Ainsworth Hot Springs', 'Cowichan Bay', 'Cache Creek', 'Dawson Creek', 'Summerland', 'Aldergrove', 'Armstrong', 'Hornby Island', 'Blue River', 'Pitt Meadows', 'Gibsons', 'Okanagan Falls', 'Cranbrook', 'Kimberley', 'Naramata', 'Prince Rupert', 'Haida Gwaii (Queen Charlotte Islands)', 'Walnut Grove', 'Coombs', 'Fort Langley', 'Powell River', 'Castlegar', 'Gabriola Island', 'Merritt', 'Terrace', 'Valemount', 'Quadra Island', 'Chemainus', 'Britannia Beach', 'Abbotsford', 'Graham Island', 'Argenta', 'Scotch Creek', 'Groundbirch', 'Windermere', 'Barkerville', 'Langley Township', 'Vanderhoof', 'Denman Island', 'Yale', 'Rossland', 'Gold River', 'Lytton', 'Spences Bridge', 'Pemberton', 'Port Clements', 'Esquimalt', 'Blind Bay', 'Sointula', 'Jade City', 'Panorama', 'Cherryville', 'Taylor', 'Mackenzie', 'Roberts Creek', 'Fort St. James', 'Hixon', 'Masset', 'Garden Bay', 'Lone Butte', 'Slocan', 'Fort Nelson', 'Lake Country', 'Moresby Island', 'Parson', 'McBride', 'Grand Forks', 'Little Fort', 'Logan Lake', 'Houston', 'Clayoquot Sound', 'Hartley Bay', 'Cloverdale', 'Alexis Creek', 'Vavenby', 'Ashcroft', 'Germansen Landing', 'Burns Lake', 'Savona', 'Tsay Keh Dene', 'Boston Bar', 'Salmo', 'Farmington', 'Woss', 'Errington', 'Ganges', 'Yarrow', 'Granisle', 'Greenwood', 'Ahousat', 'Lasqueti Island', 'Nootka Island', 'Surge Narrows', 'Refuge Cove', 'South Hazelton', 'Kyuquot', 'Kitkatla', 'Cobble Hill', 'Southbank', 'Elko', 'Pouce Coupe', 'Northern Rockies', 'Keremeos', 'Tlell', 'Kitimat', 'Halfmoon Bay', 'Tahsis', 'Victoria Capital Regional District', 'Chetwynd', 'Endako', 'Crescent Spur', 'Fraser Lake', 'Saturna Island', 'Port Alice', 'Rivers Inlet', 'Klemtu', 'Sandspit', \"Hudson's Hope\", 'Lac La Hache', 'Ladysmith', 'Enderby', 'South Pender Island', 'Quesnel', 'Cawston', 'Sparwood', 'Port Coquitlam', 'Glacier National Park of Canada', 'Hemlock Valley', 'Cumberland', 'Brisco', 'Shawnigan Lake', 'Fairmont Hot Springs', 'Kootenay Rockies', 'Silverton', 'Gold Bridge', 'Royston', 'Madeira Park', 'Hazelton', 'Kaleden', 'New Hazelton', 'Black Creek', 'Brackendale', 'Mansons Landing', 'Bowser', 'Riondel', 'Moyie', 'Lumby', 'Boswell', 'Cariboo', 'Alberni-Clayoquot Regional District', 'Garibaldi Highlands', 'Tumbler Ridge', 'Tete Jaune Cache', 'Hagensborg', 'Fruitvale', 'Read Island', 'Nazko', 'Rogers Pass', 'Seymour Arm', 'Christina Lake', 'Clinton', 'Grasmere', 'Cortes Island', 'Anmore', 'Earls Cove', 'Crofton', 'Trail', 'New Denver', 'Iskut', 'Lower Nicola', 'Tetachuck Lake', 'Alkali Lake', 'Barriere', 'Saanich', 'Thurlow', 'Skookumchuck', 'Queen Charlotte City', '150 Mile House', 'Rosedale', 'Silver Star', 'King Island', 'Thornhill', 'Rock Creek', 'Likely', 'Agassiz', 'Stewart', 'Skidegate', 'Sayward', '100 Mile House', 'Kaslo', 'Crawford Bay', 'Canal Flats', 'Coldstream', 'Grindrod', 'Fanny Bay', 'Nanoose Bay', 'Honeymoon Bay', 'Lantzville', 'Saint Eugene Mission', 'Shirley', 'Anglemont', 'Dewdney', 'Alert Bay', 'Dease Lake', 'Hatzic', 'Chase', 'Celista', 'Topley', 'Falkland', 'Telkwa', 'Canoe', 'Sunshine Coast', 'Harrison Mills', 'Quathiaski Cove', 'Princeton', 'Cultus Lake', 'Edgewater', 'Sturdies Bay', 'Saltery Bay', 'Beaverdell', 'Kingfisher', 'Wells', 'Lake Cowichan', 'Spillimacheen', 'View Royal', 'Wells Gray Provincal Park', 'Furry Creek', 'Balfour', 'Muncho Lake', 'Field', 'Malahat', 'Ladner', 'Yahk', 'Wycliffe', 'Bella Coola', 'Sonora Island', 'McLeod Lake', 'Mill Bay', 'Atlin', 'New Aiyansh', 'Echo Bay', 'Lions Bay', 'Holberg', 'Buccaneer Bay Provincial Park', 'Secret Cove', 'Burton', 'Mount Currie', 'Campbell Island', 'Avola', 'Meziadin Junction', 'Laidlaw', 'Kitwanga', 'Buckinghorse River', 'Kispiox', 'Moricetown', 'Tappen', 'Mayne Island', 'Horsefly', 'Fireside', 'Sorrento', 'Pritchard', 'Forest Grove', 'Sandon', 'Pink Mountain', 'Texada Island', 'Fort Steele', 'Colwood', 'Mara', 'Reid Lake', 'Bridge Lake', 'Stikine Region', 'Union Bay', 'Bear Lake', 'Malakwa', 'Gillies Bay', 'Genoa Bay', 'Westholme', 'Bamfield', 'Fulford Harbour', '108 Mile Ranch', 'Egmont', 'McLeese Lake', 'Lund', 'Meadow Creek', 'Lac Le Jeune', 'Cedarvale', 'Monte Lake', \"D'Arcy\", 'Toad River', 'Manning Park', 'Bedwell Harbour', 'Hedley', 'Gray Creek', 'Louis Creek', 'Midway', 'Beavermouth', 'Wardner', 'Charlie Lake', 'Birken', 'Zeballos', 'Malcolm Island', 'Seton Portage', 'Quilchena', 'Highlands', 'Craigellachie', 'Deep Cove', 'Youbou', 'Keats Island', 'North Galiano', 'Gambier Island', 'Spuzzum', '70 Mile House', 'Mount Washington', 'Belcarra', 'Heriot Bay', 'Malibu', 'Mount Robson', 'Wasa', 'Desolation Sound', 'Tulameen', 'Liard River', 'Comox Valley']\n",
            "No.of.unique values : 411\n"
          ]
        }
      ]
    },
    {
      "cell_type": "code",
      "metadata": {
        "colab": {
          "base_uri": "https://localhost:8080/"
        },
        "id": "briiuhYKvBoi",
        "outputId": "bfb227e9-7b50-4a07-c948-f71fd1df14a9"
      },
      "source": [
        "cities_rest_ca = pd.unique(restaurants_ca['city']).tolist() # see unique cities\n",
        "print(cities_rest_ca)\n",
        "num_cities_rest_ca = len(pd.unique(restaurants_ca['city'])) # see number of unique cities\n",
        "print(\"No.of.unique values :\", num_cities_rest_ca)"
      ],
      "execution_count": null,
      "outputs": [
        {
          "output_type": "stream",
          "name": "stdout",
          "text": [
            "['Huntington Beach', 'Los Angeles', 'Irvine', 'Bakersfield', 'Temecula', 'Torrance', 'Redondo Beach', 'Hermosa Beach', 'Santa Ana', 'Newport Beach', 'Berkeley', 'Gardena', 'Fresno', 'Fontana', 'Garden Grove', 'Anaheim', 'Manhattan Beach', nan, 'Brea', 'Orange', 'Fullerton', 'Placentia', 'La Habra', 'Lemon Grove', 'Whittier', 'Westminster', 'Yorba Linda', 'Rowland Heights', 'Diamond Bar', 'Buena Park', 'City of Industry', 'La Mirada', 'Hacienda Heights', 'Walnut', 'Costa Mesa', 'Fountain Valley', 'Stanton', 'Lake Forest', 'Los Alamitos', 'Seal Beach', 'Cypress', 'Tustin', 'La Palma', 'Midway City', 'Lomita', 'Roseville', 'Carson', 'Rolling Hills Estates', 'Lawndale', 'El Segundo', 'Hawthorne', 'Palos Verdes Estates', 'Long Beach', 'Rolling Hills', 'Rancho Palos Verdes', 'Ontario', 'Inglewood', 'Marina del Rey', 'Monrovia', 'Brentwood', 'Rialto', 'Yuba City', 'El Cerrito', 'Richmond', 'Arcadia', 'San Pablo', 'South Lake Tahoe', 'Duarte', 'Stateline', 'Zephyr Cove', 'Lake Tahoe (California)', 'Santa Monica', 'Pasadena', 'Sierra Madre', 'Compton', 'Temple City', 'San Gabriel', 'Irwindale', 'Baldwin Park', 'Azusa', 'Culver City', 'El Monte', 'San Marino', 'Covina', 'Lennox', 'Beverly Hills', 'Santa Barbara', 'California', 'West Hollywood', 'Malibu', 'Concord', 'West Covina', 'Rosemead', 'Altadena', 'South Pasadena', 'Vista', 'South Venice', 'El Sobrante', 'Point Richmond', 'Greenbrae', 'San Francisco', 'Albany', 'Pinole', 'Kensington', 'Tiburon', 'Hercules', 'Sausalito', 'Emeryville', 'Oakland', 'Mill Valley', 'San Rafael', 'Larkspur', 'Crockett', 'Corte Madera', 'Martinez', 'San Carlos', 'Orinda', 'Mountain View', 'El Dorado', 'Lake Tahoe (Nevada)', 'Laguna Niguel', 'Aliso Viejo', 'Mission Viejo', 'Laguna Hills', 'San Juan Capistrano', 'Dana Point', 'Laguna Woods', 'Laguna Beach', 'Ladera Ranch', 'Rancho Santa Margarita', 'El Toro', 'San Clemente', 'Trabuco Canyon', 'El Nido', 'La Crescenta', 'Riverside', 'Menifee', 'Burbank', 'Sonoma', 'Pleasant Hill', 'Apple Valley', 'Sacramento', 'Truckee', 'Madera', 'West Sacramento', 'Del Mar', 'Healdsburg', 'La Mesa', 'Commerce', 'Fort Bragg', 'Bishop', 'Monterey Park', 'Maywood', 'Yreka', 'Montebello', 'Bell Gardens', 'Mariposa', 'Downey', 'Bell', 'Guerneville', 'Hawaiian Gardens', 'La Canada Flintridge', 'Artesia', 'Pico Rivera', 'Cudahy', 'Huntington Park', 'South Gate', 'Vernon', 'Glendale', 'Alhambra', 'Montrose', 'Lynwood', 'San Mateo', 'Santa Fe Springs', 'Highland', 'Norwalk', 'South El Monte', 'Paramount', 'Bellflower', 'Lake Los Angeles', 'San Diego', 'East Los Angeles', 'Mount Wilson', 'Lakewood', 'Cerritos', 'Milpitas', 'Signal Hill', 'Los Altos', 'Olympic Valley', 'Blairsden', 'Cloverdale', 'Livingston', 'Phelan', 'Templeton', 'Santa Maria', 'Grover Beach', 'Pismo Beach', 'San Luis Obispo', 'Arroyo Grande', 'Orcutt', 'Casmalia', 'Shell Beach', 'Walnut Creek', 'Elk Grove', 'Pittsburg', 'Danville', 'Bay Point', 'Antioch', 'Lafayette', 'Alamo', 'Sonora', 'Paso Robles', 'Atascadero', 'Hesperia', 'Wrightwood', 'Pinon Hills', 'Avila Beach', 'Clayton', 'Groveland', 'Weed', 'Cayucos', 'Rio Vista', 'Yosemite National Park', 'Marina', 'Prunedale', 'Salinas', 'Poway', 'Escondido', 'La Jolla', 'Cincinnati', 'San Marcos', 'Las Vegas', 'Rancho Santa Fe', 'Rancho Bernardo', 'Moss Landing', 'Firebaugh', 'Volcano', 'Kettleman City', 'Ojai', 'Oceanside', 'Kenwood', 'Tuolumne', 'Dunsmuir', 'Yucca Valley', 'Ballard', 'Buellton', 'Placerville', 'Diamond Springs', 'Mojave', 'Carlsbad', 'Walnut Grove', 'Bethel Island', 'Camp Pendleton', 'Pine Valley', 'Shingle Springs', 'Coloma', 'Bonsall', 'Fallbrook', 'Chula Vista', 'Encinitas', 'Santa Ynez', 'Solvang', 'Lodi', 'Vacaville', 'Isleton', 'Jackson', 'Amador City', 'Sutter Creek', 'Plymouth', 'El Dorado Hills', 'Ione', 'Los Olivos', 'Joshua Tree', 'McCloud', 'Newman', 'Marysville', 'Littlerock', 'El Cajon', 'Angels Camp', 'Jamestown', 'Exeter', 'Avenal', 'Knights Ferry', 'Dinuba', 'Reedley', 'Thousand Oaks', 'Oceano', 'Agoura Hills', 'Spring Valley', 'Westlake Village', 'Santee', 'Simi Valley', 'Bonita', 'Calabasas', 'Lakeside', 'Moorpark', 'Newbury Park', 'West Hills', 'Alpine', 'Nipomo', 'Agoura', 'Oak Park', 'Sanger', 'Wheatland', 'Squaw Valley', 'Lucerne', 'Orange Cove', 'Cutler', 'Orosi', 'Lancaster', 'Palmdale', 'Leona Valley', 'Sierra City', 'Cherry Valley', 'Taft', 'New Cuyama', 'Live Oak', 'Oakhurst', 'McArthur', 'Edwards', 'Alleghany', 'Downieville', 'Beaumont', 'Yucaipa', 'Banning', 'Oak Glen', 'Calimesa', 'Forest Falls', 'Cabazon', 'Guinda', 'Capay', 'Brooks', 'North Edwards', 'Fall River Mills', 'Lotus', 'Greenwood', 'Garden Valley', 'Georgetown', 'Fish Camp', 'Pacheco', 'Holtville', 'Gridley', 'Woodside', 'Portola Valley', 'Menlo Park', 'Palo Alto', 'Foster City', 'Stanford', 'Redwood City', 'Benicia', 'Atherton', 'La Honda', 'Port Costa', 'Moraga', 'East Palo Alto', 'Sunnyvale', 'Belmont', 'Cupertino', 'Half Moon Bay', 'Tulare', 'Los Altos Hills', 'Ventura', 'West Menlo Park', 'Pine Mountain Club', 'Maricopa', 'Mount Laguna', 'Descanso', 'Essex', 'Indio', 'Lakeport', 'Upper Lake', 'Etna', 'Coachella', 'Acton', 'Occidental', 'San Bruno', 'Rodeo', 'Vallejo', 'Graton', 'Forestville', 'Bodega', 'Bodega Bay', 'Millbrae', 'Burlingame', 'Pacifica', 'Acampo', 'Galt', 'Lockeford', 'Sebastopol', 'Cazadero', 'Montara', 'Moss Beach', 'Freestone', 'Rio Nido', 'Adelanto', 'Princeton', 'Rosamond', 'Clearlake Oaks', 'Monte Rio', 'Oakville', 'Rutherford', 'Yountville', 'Moreno Valley', 'Potter Valley', 'Ukiah', 'Kirkwood', 'Porterville', 'St. Helena', 'Kings Beach', 'Tahoe City', 'Incline Village', 'Carnelian Bay', 'Carson City', 'Tahoe Vista', 'Genoa', 'Homewood', 'Tahoma', 'Crystal Bay', 'Emigrant Gap', 'Norden', 'Verdi', 'Strathmore', 'Soda Springs', 'Valley Ford', 'Marshall', 'Santa Clarita', 'Brookings', 'Brawley', 'Montague', 'Colfax', 'Durham', 'Cobb', 'Middletown', 'Catheys Valley', 'Fairfax', 'Muir Beach', 'Atwater', 'Lake Isabella', 'Olancha', 'Boron', 'Bodfish', 'Weldon', 'Lagunitas', 'Merced', 'Adin', 'Dulzura', 'Potrero', 'Tecate', 'Byron', 'Suisun City', 'Esparto', 'Badger', 'Hume', 'Mammoth Lakes', 'Buttonwillow', 'Los Banos', 'McKittrick', 'Stevinson', 'Planada', 'Valley Center', 'Funner', 'Dos Palos', 'Victorville', 'Helendale', 'Pauma Valley', 'Palomar Mountain', 'Oroville', 'Rocklin', 'Brownsville', 'Oregon House', 'Biggs', 'Bangor', 'Browns Valley', 'Oro Grande', 'Lemoore', 'Randsburg', 'Richgrove', 'Delano', 'Sun City', 'Chico', 'Washington', 'Williams', 'Prather', 'Paradise', 'Clipper Mills', 'Perris', 'Willows', 'Lake Elsinore', 'Windsor', 'Romoland', 'Wildomar', 'Murrieta', 'Chicago Park', 'Nuevo', 'Winchester', 'Hemet', 'Homeland', 'Hamilton City', 'Maxwell', 'Nevada City', 'North San Juan', 'Oxnard', 'Camarillo', 'Port Hueneme', 'Somis', 'Santa Paula', 'Livermore', 'Fillmore', 'Sutter', 'Tollhouse', 'Auberry', 'Alta', 'Baker', 'Nipton', 'Arnold', 'Arvin', 'San Leandro', 'Burney', 'Redding', 'Novato', 'Anderson', 'Mineral', 'Shasta Lake', 'San Anselmo', 'Auburn', 'Meadow Vista', 'Point Reyes Station', 'Kentfield', 'Belvedere', 'Olema', 'Pinecrest', 'Hornitos', 'Snelling', 'Cool', 'Leggett', 'Three Rivers', 'Mono Hot Springs', 'Somerset', 'Susanville', 'Parkfield', 'Lytle Creek', 'Farmington', 'Stockton', 'Linden', 'Pescadero', 'San Gregorio', 'Merrill', 'Loma Mar', 'Klamath Falls', 'Dorris', 'Rancho Cucamonga', 'Devore Heights', 'Etiwanda', 'Mount Baldy', 'Taylorsville', 'Janesville', 'Mount Aukum', 'San Jose', 'Campbell', 'Santa Clara', 'Fremont', 'Mount Hamilton', 'Cambria', 'Harmony', 'Tehachapi', 'Johnsville', 'Hyampom', 'Ridgecrest', 'Visalia', 'Inyokern', 'Cantil', 'Farmersville', 'Traver', 'Hanford', 'Kingsburg', 'Parlier', 'Holt', 'Napa', 'Fairfield', 'Dixon', 'American Canyon', 'Petaluma', 'Nut Tree', 'Elmira', 'Belmont Shore', 'Corona del Mar', 'Bear Valley Springs', 'Armona', 'Keene', 'Selma', 'San Bernardino', 'Twentynine Palms', 'Landers', 'Pioneertown', 'La Grange', 'Hornbrook', 'Honeydew', 'Newhall', 'Corcoran', 'Clovis', 'Stevenson Ranch', 'Chatsworth', 'Topanga', 'Castaic', 'Westwood', 'Saugus', 'Valencia', 'Clarksburg', 'Hood', 'San Fernando', 'Old Station', 'Tres Pinos', 'Hollister', 'Gilroy', 'Soledad', 'Woodland', 'North Highlands', 'Canyon', 'Pomona', 'Carmel Valley', 'Fallston', 'Bell Canyon', 'New Century', 'Echo Lake', 'Napa Valley', 'Sunland Park', 'Palisades', 'Upland', 'Paicines', 'Aromas', 'Goshen', 'Elk Creek', 'Modesto', 'Terra Bella', 'Death Valley National Park', 'Castro Valley', 'Salida', 'Ripon', 'Ceres', 'Coarsegold', 'Bass Lake', 'Hayward', 'Crestline', 'Turlock', 'Waterford', 'Oakdale', 'Blue Jay', 'Riverbank', 'Hughson', 'Escalon', 'Denair', 'Alameda', 'Union City', 'San Ramon', 'Newark', 'Pleasanton', 'Dublin', 'Montclair', 'Piedmont', 'Grand Lake', 'Brisbane', 'South San Francisco', 'Daly City', 'Sunol', 'Colma', 'Alviso', 'Natchez', 'Saratoga', 'Patterson', 'Manteca', 'Westley', 'Vernalis', 'Lathrop', 'San Lorenzo', 'Alta Loma', 'Bloomington', 'Jurupa Valley', 'Mira Loma', 'Claremont', 'Chino', 'Eastvale', 'Martell', 'Ahwahnee', 'Twin Peaks', 'Antelope', 'McClellan Park', 'Carmichael', 'Citrus Heights', 'Fair Oaks', 'Rancho Cordova', 'Nicolaus', 'Sheridan', 'Lincoln', 'Gold River', 'Valley Springs', 'Orangevale', 'Folsom', 'Granite Bay', 'Davis', 'Knights Landing', 'Newcastle', 'Rancho Murieta', 'Cameron Park', 'Sloughhouse', 'Rio Linda', 'Big Bear Lake', 'Big Bear Region', 'Angelus Oaks', 'Palo Cedro', 'Bella Vista', 'Montgomery Creek', 'Shingletown', 'Greenville', 'Chester', 'Lompoc', 'California Hot Springs', 'Alturas', 'Sierraville', 'Grass Valley', 'Lake of the Pines', 'Columbia', 'Lamont', 'Caliente', 'Fort Jones', 'Trinity Center', 'Bridgeport', 'Mount Shasta', 'Castella', 'Westwood  Lassen County', 'Lake Almanor Peninsula', 'Canyondam', 'Prattville', 'East Shore', 'Cold Springs', 'Camptonville', 'Burson', 'Crescent City', 'Gasquet', 'Hiouchi', 'Woodacre', 'Nicasio', 'Frazier Park', 'Lebec', 'Mettler', 'Gorman', 'Camp Connell', 'Dorrington', 'Death Valley Junction', 'San Miguel', 'Belden', 'Banta', 'Baywood Park', 'Tracy', 'La Puente', 'Norco', 'Corona', 'Grand Terrace', 'Colton', 'Chino Hills', 'Loma Linda', 'Redlands', 'Glendora', 'China Lake', 'San Dimas', 'La Verne', 'Silverado', 'Mentone', 'Skyforest', 'Rimforest', 'Lake Arrowhead', 'Lucerne Valley', 'Villa Park', 'Highlands Ranch', 'Pala', 'Los Osos', 'Morro Bay', 'Scotts Valley', 'Santa Cruz', 'Davenport', 'Los Gatos', 'Soquel', 'Felton', 'Yuma', 'Bard', 'Benton', 'Bieber', 'Westport', 'Calistoga', 'Onyx', 'Corning', 'Watsonville', 'Kyburz', 'Running Springs', 'Big Bear City', 'Fawnskin', 'Vina', 'Warner Springs', 'Red Bluff', 'Orland', 'Cottonwood', 'Los Molinos', 'Campo', 'Ducor', 'Redcrest', 'Arcata', 'Eureka', 'Kerman', 'Oakley', 'McKinleyville', 'Blue Lake', 'San Joaquin', 'Pinedale', 'Bayside', 'Samoa', 'Coleville', 'Walker', 'El Centro', 'Fortuna', 'Imperial', 'Greenfield', 'Ferndale', 'Carlotta', 'Rio Dell', 'Scotia', 'King City', 'Calexico', 'Seeley', 'Creston', 'Shandon', 'Shoshone', 'Sugarloaf', 'San Ardo', 'Furnace Creek', 'Petrolia', 'Anchor Bay', 'Gualala', 'Trona', 'Phillipsville', 'Argus', 'Miranda', 'Elk', 'Philo', 'Navarro', 'Myers Flat', 'Nelson', 'Midpines', 'Palm Springs', 'Idyllwild', 'Mountain Center', 'Cathedral City', 'North Palm Springs', 'Anza', 'Crowley Lake', 'Crows Landing', 'Miramonte', 'Dunlap', 'Sequoia and Kings Canyon National Park', 'Gardnerville', 'Dutch Flat', 'Minden', 'Mad River', 'Hayfork', 'San Jacinto', 'Shasta', 'Igo', 'Crescent Mills', 'Weaverville', 'Junction City', 'Loleta', 'Lewiston', 'Loyalton', 'Madison', 'Glennville', 'French Gulch', 'Fort Bidwell', 'Hidden Valley Lake', 'Discovery Bay', 'Jacumba', 'Boulevard', 'Butte Meadows', 'French Camp', 'Laytonville', 'Freedom', 'Aptos', 'Capitola', 'Morgan Hill', 'Corralitos', 'Mill Creek', 'Chilcoot', 'Chiriaco Summit', 'Ballico', 'Yorkville', 'Garberville', 'Redway', 'Aguanga', 'Shelter Cove', 'Whitethorn', 'San Geronimo', 'Stonyford', 'Two Harbors', 'Avalon', 'Seiad Valley', 'Ludlow', 'Clements', 'Leucadia', 'Cardiff-by-the-Sea', 'Solana Beach', 'Lake San Marcos', 'Markleeville', 'Twin Bridges', 'Parker', 'Lake Havasu City', 'Parker Dam', 'Boonville', 'Santa Rosa', 'Hope Valley', 'Mokelumne Hill', 'Winton', 'Kernville', 'Mountain Mesa', 'Wofford Heights', 'Stinson Beach', 'Bolinas', 'Riverdale', 'Caruthers', 'Gonzales', 'Chualar', 'Earp', 'San Andreas', 'Lake Hughes', 'Happy Camp', 'Imperial Beach', 'Cave Junction', 'Lakeshore', 'Coalinga', 'Huron', 'Desert Hot Springs', 'Morongo Valley', 'Foresthill', 'Cedar Glen', 'Green Valley Lake', 'Seaside', 'Monterey', 'Winterhaven', 'Sand City', 'Pacific Grove', 'Carmel', 'Pebble Beach', 'Somerton', 'Big Sur', 'Arbuckle', 'Wasco', 'Westmorland', 'Niland', 'Calipatria', 'Lakehead', 'Mendocino', 'Orick', 'San Martin', 'Little River', 'Albion', 'Ocotillo', 'Inverness', 'Smith River', 'Earlimart', 'Pixley', 'Ross', 'Green Valley', 'Agua Dulce', 'Tomales', 'Stewarts Point', 'The Sea Ranch', 'Drytown', 'Dillon Beach', 'Friant', 'Santa Margarita', 'Malin', 'Tulelake', 'Cedarville', 'Bear Valley', 'Redwood Valley', 'Camp Nelson', 'Springville', 'Thermal', 'Salton City', 'Montecito', 'Carpinteria', 'Summerland', 'El Portal', 'Coulterville', 'Big Pine', 'Oak Hills', 'Yermo', 'Newberry Springs', 'North Fork', 'Magalia', 'Woodbridge', 'Willow Creek', 'Hoopa', 'El Granada', 'Dunnigan', 'Hopland', 'Duncans Mills', 'Jenner', 'Nice', 'Clearlake', 'Lower Lake', 'Mecca', 'Mc Farland', 'Tecopa', 'Palm Desert', 'Rancho Mirage', 'La Quinta', 'Indian Wells', 'Bermuda Dunes', 'Thousand Palms', 'Greater Palm Springs', 'Linda', 'Klamath', 'Julian', 'Santa Ysabel', 'Quartz Hill', 'Shaver Lake', 'Woodlake', 'Lemon Cove', 'Ben Lomond', 'Brookdale', 'Boulder Creek', 'Copperopolis', 'Canyon Lake', 'Quail Valley', 'Fort Irwin', 'Barstow', 'Geyserville', 'Jamul', 'National City', 'Guadalupe', 'Delhi', 'Hilmar', 'Olivehurst', 'Pearblossom', 'Lee Vining', 'June Lake', 'Gustine', 'Cotati', 'Rohnert Park', 'Murphys', 'Independence', 'Mendota', 'Penngrove', 'San Simeon', 'Portola', 'Point Arena', 'Los Alamos', 'Camino', 'Pollock Pines', 'Smartville', 'Penn Valley', 'Lost Hills', 'Mi Wuk Village', 'Twain Harte', 'Glen Ellen', 'Boyes Hot Springs', 'Fowler', 'Colusa', 'Oak View', 'Mira Mesa', 'Pine Grove', 'West Point', 'Pioneer', 'Trinidad', 'Santa Nella', 'Kelseyville', 'Lone Pine', 'San Juan Bautista', 'Castroville', 'Big Oak Flat', 'Lindsay', 'Winters', 'Borrego Springs', 'California City', 'Loomis', 'McFarland', 'Shafter', 'Chowchilla', 'Cromberg', 'Graeagle', 'Clio', 'Quincy', 'Mohave Valley', 'Needles', 'Goleta', 'Isla Vista', 'Blythe', 'Ehrenberg', 'Catalina Island', 'Coronado', 'Willits', 'Ramona', 'Balboa Island']\n",
            "No.of.unique values : 1100\n"
          ]
        }
      ]
    },
    {
      "cell_type": "code",
      "metadata": {
        "colab": {
          "base_uri": "https://localhost:8080/"
        },
        "id": "PF0dN2cSvSAQ",
        "outputId": "9a879f4f-6f89-43a9-9f30-e8a8a3207914"
      },
      "source": [
        "cities_rest_bc = pd.unique(restaurants_bc['city']).tolist() # see unique cities\n",
        "print(cities_rest_bc)\n",
        "num_cities_rest_bc = len(pd.unique(restaurants_bc['city'])) # see number of unique cities\n",
        "print(\"No.of.unique values :\", num_cities_rest_bc)"
      ],
      "execution_count": null,
      "outputs": [
        {
          "output_type": "stream",
          "name": "stdout",
          "text": [
            "['Prince George', 'Vancouver', 'Tsawwassen', 'Delta', 'Kamloops', 'Abbotsford', 'North Vancouver', 'Kelowna', 'Ganges', 'Salt Spring Island', 'Ladner', 'Hope', nan, 'Richmond', 'Invermere', 'Surrey', 'Agassiz', 'Whistler', 'Port Moody', 'Burnaby', 'Harrison Hot Springs', 'Sun Peaks', 'Smithers', 'Grand Forks', 'Merritt', 'West Vancouver', 'Bowen Island', 'Gibsons', 'Gold River', 'Panorama', 'Victoria', 'Fort St. James', 'Cariboo', 'Langford', 'Colwood', 'Cache Creek', 'Sorrento', 'Chase', 'Gabriola Island', 'Blind Bay', 'Nanaimo', 'Nanoose Bay', 'Metchosin', 'Esquimalt', 'Saanich', 'Sooke', 'Victoria Capital Regional District', 'North Saanich', 'Malahat', 'Lantzville', 'Bamfield', 'Qualicum Bay', 'Bowser', 'Fanny Bay', 'Nelson', 'Alert Bay', 'Greenwood', 'Blue River', 'Falkland', 'Midway', 'Barkerville', 'Bridesville', 'Rock Creek', 'Windermere', 'Lytton', 'Wells', 'Lund', 'Fairmont Hot Springs', 'Powell River', 'Hixon', 'Lake Louise', 'Field', 'Yoho National Park', 'Crawford Bay', 'Kootenay Bay', 'Ainsworth Hot Springs', 'Balfour', 'Cumberland', 'Comox', 'Union Bay', 'Courtenay', 'Mayne Island', 'Qualicum Beach', 'Telegraph Cove', 'Boston Bar', 'Savona', 'Winlaw', 'Halfmoon Bay', 'Kaslo', 'Black Creek', 'Fort St. John', 'Vernon', 'Coldstream', 'Silver Star', 'Taylor', 'Sechelt', 'Roberts Creek', 'Campbell River', 'Elphinstone', 'Merville', 'Lower Nicola', 'Quilchena', 'Riondel', 'Madeira Park', 'Logan Lake', 'Garden Bay', 'Blubber Bay', 'Gillies Bay', 'Vananda', 'Malcolm Island', 'Sointula', 'Yahk', 'Keremeos', 'Hedley', 'Hagensborg', 'Bella Coola', 'Port Alice', 'Port Hardy', 'McLeese Lake', 'Elkford', 'Elgin', 'Mount Washington', 'Spillimacheen', 'Squamish', 'Garibaldi Highlands', 'North Bend', 'Topley', 'Tahsis', 'Woss', 'Elko', 'Nimpo Lake', 'Atlin', 'Mount Robson', 'Chilliwack', 'Oliver', 'Pink Mountain', 'Lake Cowichan', 'Summerland', 'Penticton', 'Osoyoos', 'Okanagan Falls', 'Naramata', 'Beaverdell', 'Cawston', 'Willowbrook', 'Comox Valley', 'Yarrow', 'Sardis', 'Mission', 'Rosedale', 'Aldergrove', 'Langley City', 'Langley', 'Crescent Valley', 'Langley Township', 'Maple Ridge', 'Fort Langley', 'Murrayville', 'Fraser Lake', 'Canmore', 'Port Alberni', 'Dewdney', 'Royston', 'Kaleden', 'Youbou', 'Honeymoon Bay', 'Nazko', 'Baker Creek', 'Boswell', 'Yale', 'Tulameen', 'Endako', 'Jaffray', 'Princeton', 'Enderby', 'Belcarra', 'Deep Cove', 'Sirdar', 'Creston', 'Port Coquitlam', 'Coquitlam', 'New Westminster', 'Glacier National Park of Canada', 'Grindrod', 'Burns Lake', 'Avola', '108 Mile Ranch', 'Bridge Lake', 'Lone Butte', 'Refuge Cove', 'Forest Grove', 'Banff', 'Radium Hot Springs', 'Banff National Park', 'Morley', 'Kootenay National Park', 'Denny Island', 'Salmon Arm', 'Tappen', 'Brackendale', 'Castlegar', 'South Slocan', 'Lions Bay', 'Cortes Island', 'Lake Country', 'Birken', 'Parson', 'Mount Currie', 'Holberg', 'Thetis Island', 'Seton Portage', 'Seymour Arm', 'Rossland', 'McLeod Lake', \"Dawson's Landing\", 'Manning Park', 'Tatla Lake', 'South Fintry', 'Whaletown', 'Furry Creek', 'Britannia Beach', 'Alexandria', 'Buckinghorse River', 'Quesnel', 'Montrose', 'Cherryville', 'Fruitvale', 'Redstone', 'Chilanko Forks', 'Little Fort', 'Sicamous', \"Hudson's Hope\", 'Central Saanich', 'Sayward', 'Gold Bridge', 'Williams Lake', 'Anahim Lake', 'Alexis Creek', 'Shawnigan Lake', 'Mill Bay', 'Horsefly', 'Wasa', 'Malakwa', 'Westwold', 'Sandspit', 'Dawson Creek', 'Slocan', 'Pouce Coupe', 'Harrison Mills', 'Canal Flats', 'Cultus Lake', 'Spences Bridge', 'Earls Cove', 'Denman Island', 'Egmont', 'Quadra Island', 'Quathiaski Cove', 'Telkwa', 'Pemberton', 'New Denver', 'Saturna Island', 'Cranbrook', 'Kimberley', 'Fernie', 'Silverton', 'Fulford Harbour', 'Cloverdale', 'Savary Island', 'Brookswood', 'White Rock', 'Pitt Meadows', 'Shirley', 'Heriot Bay', 'Barriere', '70 Mile House', 'Sidney', 'Saanichton', 'Scotch Creek', 'Port McNeill', 'Ashcroft', 'Salmo', 'Hornby Island', 'McBride', 'Lac La Hache', 'Tumbler Ridge', 'Parksville', 'Coombs', 'Cobble Hill', 'Port Renfrew', 'Duncan', 'Cowichan Bay', 'Crofton', 'Mackenzie', 'Sparwood', 'Golden', 'Lumby', 'Horseshoe Bay', 'Armstrong', 'Galiano Island', 'Big White', 'Houston', 'Clinton', 'Pender Island', 'Ladysmith', 'Christina Lake', 'Masset', 'Queen Charlotte City', 'Port Clements', 'Tlell', 'Skidegate', 'Trail', 'Brentwood Bay', 'Chemainus', '100 Mile House', 'Peachland', 'Valemount', 'Clearwater', 'Fort Nelson', 'Toad River', 'Muncho Lake', 'Chetwynd', 'Vanderhoof', 'Nakusp', 'Lillooet', 'Ucluelet', 'Tofino', 'Prince Rupert', 'Revelstoke', 'Caulfeild', 'Terrace', 'New Hazelton', 'Kitimat', 'Kitwanga', 'Stewart', 'Thornhill', 'Dease Lake', 'Iskut', 'Telegraph Creek', 'West Kelowna']\n",
            "No.of.unique values : 339\n"
          ]
        }
      ]
    },
    {
      "cell_type": "code",
      "metadata": {
        "colab": {
          "base_uri": "https://localhost:8080/"
        },
        "id": "doNnNqIBvYHv",
        "outputId": "05e5798a-d7e7-4aed-fd20-ae982120069a"
      },
      "source": [
        "cities_trails_ca = pd.unique(trails_ca['city']).tolist() # see unique cities\n",
        "print(cities_trails_ca)\n",
        "num_cities_trails_ca = len(pd.unique(trails_ca['city'])) # see number of unique cities\n",
        "print(\"No.of.unique values :\", num_cities_trails_ca)"
      ],
      "execution_count": null,
      "outputs": [
        {
          "output_type": "stream",
          "name": "stdout",
          "text": [
            "['Yosemite Valley', 'Shingletown', 'Central Valley (historical)', 'Laguna Niguel', 'Prunedale', 'Westhaven-Moonstone', 'Three Rivers', 'Mill Valley', 'Bodega Bay', 'West Bishop', 'Oakhurst', 'Lone Pine', 'Mount Shasta', 'Squaw Valley', 'Moreno Valley', 'Meiners Oaks', 'Bolinas', 'Danville', 'Casa Conejo', 'Ashland', 'Paradise', 'Susanville', 'Badwater', 'Carpinteria', 'Corralitos', 'Sierra Madre', 'Hollywood Hills West', 'Chatsworth', 'Sausalito', 'Mecca', 'McKinleyville', 'Shasta', 'San Luis Obispo', 'San Francisco', 'Rancho Santa Margarita', 'Big Pine', 'Montara', 'Woodside', 'Dunsmuir', 'Diablo', 'Escondido', 'Summerland', 'Santa Clarita', 'Alhambra', 'Monte Sereno', 'Happy Camp', 'Bodfish', 'Arnold', 'Chester', 'Kensington', 'Agoura', 'Idyllwild', 'Alum Rock', 'Nevada City', 'Orinda', 'Glendora', 'Orcutt', 'Foothill Ranch', 'Pine Valley', 'San Antonio Heights', 'Milpitas', 'Day Valley', 'Rancho Cucamonga', 'Soledad', 'Santa Susana', 'Eldridge', 'Alamo', 'Livermore', 'Lewiston', 'La Honda', 'Cambrian Park', 'Tamalpais-Homestead Valley', 'Indio', 'San Martin', 'Sunnyside-Tahoe City', 'Weaverville', 'Mammoth Lakes', 'Palm Springs', 'Truckee', 'Los Osos', 'Morro Bay', 'Moraga', 'Auburn', 'South Lake Tahoe', 'Salinas', 'Portola Valley', 'Highlands-Baywood Park', 'Boulder Creek', 'Lakeland Village', 'Julian', 'Carmel-by-the-Sea', 'Wrightwood', 'Byron', 'Irvine', 'Highland', 'Castro Valley', 'Inverness', 'Morgan Hill', 'La Mesa', 'Big Bear City', 'Arcata', 'Quincy', 'Daly City', 'Kenwood', 'Idyllwild-Pine Cove', 'Downieville', 'Petaluma', 'Marina', 'Santa Monica', 'Almaden Valley', 'Twentynine Palms', 'Altadena', 'Ojai', 'Santee', 'Los Altos Hills', 'Yucaipa', 'Hidden Hills', 'Rancho Mirage', 'Anacapa Island', 'Portola Hills', 'Chico', 'Kentfield', 'Walnut', 'Emerald Lake Hills', 'Gilroy', 'Pomona', 'Vacaville', 'Clayton', 'Pacifica', 'Ferndale', 'Loyola', 'Flintridge', 'Fremont', 'La Jolla', 'El Granada', 'Lafayette', 'Big Bear Lake', 'Mentone', 'Cloverdale', 'Pismo Beach', 'San Juan Capistrano', 'Rolling Hills', 'Auburn Lake Trails', 'Joshua Tree', 'Ladera Ranch', 'Stallion Springs', 'Malibu Beach', 'Descanso', 'Nipomo', 'Temecula', 'El Sobrante', 'Hayfork', 'West Hollywood', 'Sebastopol', 'Bertsch-Oceanview', 'Las Flores', 'Pleasant Hill', 'Thousand Oaks', 'San Jose', 'Dixon Lane-Meadow Creek', 'Vista', 'Waldon', 'Hacienda Heights', 'Blackhawk', 'Imperial Beach', 'Challenge-Brownsville', 'San Carlos', 'Green Valley', 'Eureka', 'Trabuco Canyon', 'Salton City', 'Barstow', 'Yreka', 'Larkspur', 'Borrego Springs', 'El Cerrito', 'Richmond', 'Loma Linda', 'Jamul', 'San Fernando', 'Buellton', 'Napa', 'Santa Margarita', 'Lower Lake', 'Fullerton', 'Lagunitas-Forest Knolls', 'Fort Jones', 'Roseland', 'Malibu', 'Running Springs', 'San Diego', 'Avalon', 'Eucalyptus Hills', 'Toro Canyon', 'Yorba Linda', 'Aguanga', 'Roseville', 'Rancho Santa Fe', 'Topanga', 'Sheridan', 'Camarillo', 'La Crescenta-Montrose', 'Murrieta', 'Claremont', 'Yucca Valley', 'Oak Hills', 'Cambria', 'Sky Valley', 'Solvang', 'Carmel Valley Village', 'Humboldt Hill', 'Angwin', 'Carmel Valley', 'East Foothills', 'Newark', 'Clio', 'Rio Dell', 'National City', 'Ben Lomond', 'Santa Cruz', 'Solana Beach', 'Fairbanks Ranch', 'La Presa', 'Carmichael', 'Poway', 'Beverly Hills', 'San Clemente', 'Universal City', 'Atascadero', 'Isla Vista', 'Saratoga', 'Windsor', 'Alta Sierra', 'Anza', 'Lake Arrowhead', 'Ladera', 'Montecito', 'North Auburn', 'Cupertino', 'Rancho San Diego', 'Sherman Oaks', 'Soulsbyville', 'Lemon Grove', 'Saticoy', 'East Richmond Heights', 'Woodland Hills', 'Tuolumne City', 'Calistoga', 'Encinitas', 'San Pasqual', 'Santa Barbara', 'Loomis', 'Campo', 'Phelan', 'Agua Dulce', 'Laguna Woods', 'Lompoc', 'Santa Rosa', 'Seal Beach', 'Bridgeport', 'Sonoma', 'Santa Ynez', 'Martinez', 'Corona', 'Placerville', 'Del Rey Oaks', 'Del Mar', 'Corte Madera', 'Kernville', 'Willow Creek', 'Pioneer', 'Clay', 'Saranap', 'La Verne', 'Wildomar', 'Cathedral City', 'Clearlake', 'Crockett', 'Lucerne', 'Littlerock', 'Aliso Viejo', 'Fort Bragg', 'Fairview', 'Coto De Caza', 'Midpines', 'Crestline', 'Novato', 'Thousand Palms', 'Woodacre', 'Valle Vista', 'Crest', 'East Quincy', 'Woodbridge', 'Villa Park', 'Seven Trees', 'Burbank', 'Tamalpais Valley', 'Mount Baldy', 'West Hills', 'Desert Hot Springs', 'McCloud', 'Ridgemark', 'Mountain View', 'Georgetown', 'Hidden Valley Lake', 'Ridgecrest', 'Piedmont', 'Oakland', 'Los Gatos', 'Tahoma', 'Scotts Valley', 'Benicia', 'Ramona', 'Forest Ranch', 'Ford City', 'Calimesa', 'Carlsbad', 'San Diego Country Estates', 'Guerneville', 'Union City', 'Tulelake', 'Redlands', 'Mission Canyon', 'San Leandro', 'Agoura Hills', 'Highgrove', 'Brea', 'Fairfax', 'Oak View', 'Winchester', 'Berkeley', 'Thornton', 'Davis', 'Hollywood', 'Goleta', 'Rowland Heights', 'Avila Beach', 'Dublin', 'Lake San Marcos', 'American Canyon', 'Coronado', 'San Ramon', 'Marin City', 'Culver City', 'Golden Hills', 'Glendale', 'Auberry', 'La Habra Heights', 'Needles', 'San Joaquin Hills', 'Cabazon', 'Redwood Valley', 'Valley Center', 'Interlaken', 'Moss Beach', 'Strawberry', 'Kelseyville', 'Weed', 'Janesville', 'Bayview', 'San Marcos', 'Broadmoor', 'San Juan Bautista', 'East Palo Alto', 'Antioch', 'Montalvin', 'Pleasanton', 'Temelec', 'Alameda', 'Santa Venetia', 'Larkfield-Wikiup', 'Bradbury', 'Sea Ranch', 'March Air Force Base', 'Crescent City', 'Whittier', 'Redway', 'North Tustin', 'North Richmond', 'Weldon', 'Strathmore', 'Rohnert Park', 'Shasta Lake', 'Talmage', 'Lompico', 'Foresthill', 'Arbuckle', 'Jackson', 'Lucas Valley-Marinwood', 'Lake Los Angeles', 'San Bernardino', 'Yosemite Lakes', 'Lexington Hills', 'San Dimas', 'Avocado Heights', 'Vallejo', 'Rancho Palos Verdes', 'La Habra', 'Orange', 'Oak Park', 'Covelo', 'Lake Wildwood', 'Rancho Tehama Reserve', 'Millbrae', 'Pasatiempo', 'Moorpark', 'Felton', 'Los Serranos', 'Magalia', 'Castaic', 'Inyokern', 'Laguna Beach', 'South Pasadena', 'Dunnigan', 'Saint Helena', 'Granite Bay', 'Palos Verdes Estates', 'Albany', 'San Lorenzo', 'Aptos', 'Winters', 'Los Olivos', 'Ventura', 'Brisbane', 'Vandenberg Air Force Base', 'East Porterville', 'Ukiah', 'Pine Mountain Club', 'Greenfield', 'Thermalito', 'Lake Elsinore', 'Bonadelle Ranchos-Madera Ranchos', 'Pollock Pines', 'Palo Alto', 'Bishop', 'Coachella', 'Kings Beach', 'North Glendale', 'King City', 'Simi Valley', 'Rainbow', 'Tahoe Vista', 'Lake Forest', 'Echo Park', 'Guadalupe', 'Angels Camp', 'Ripon', 'Lake Nacimiento', 'Berry Creek', 'Folsom', 'View Park-Windsor Hills', 'Vista Santa Rosa', 'Costa Mesa', 'Coarsegold', 'Deer Park', 'Fallbrook', 'Merced', 'Belmont', 'Half Moon Bay', 'Alpine', 'Redondo Beach', 'Twain Harte', 'Alturas', 'San Rafael', 'La Quinta', 'Oceanside', 'Azusa', 'Clovis', 'Hills', 'Valley Springs', 'El Dorado Hills', 'Monrovia', 'Harbison Canyon', 'Jamestown', 'Mission Viejo', 'Seaside', 'Coalinga', 'Tehachapi', 'Mount Hermon', 'Fort Irwin', 'Portola', 'Taft Heights', 'Middletown', 'Lakeview', 'Desert Shores', 'East La Mirada', 'Thermal', 'Callender', 'Grover Beach', 'Boonville', 'Pacheco', 'Red Bluff', 'Soquel', 'Rancho Murieta', 'Ladera Heights', 'Monte Rio', 'South San Francisco', 'Walnut Creek', 'Camp Pendleton North', 'Lakeside', 'Tiburon', 'Seacliff', 'Sunnyslope', 'Camp Meeker', 'Hayward', 'Santa Paula', 'Sacramento', 'Cayucos', 'Colfax', 'Rolling Hills Estates', 'Northridge', 'Montague', 'Mojave', 'Santa Cruz Island', 'Meadow Vista', 'Pine Hills', 'Burney', 'Bayside', 'Bonny Doon', 'Cottonwood', 'Lake Isabella', 'Rocklin', 'Fontana', 'California City', 'Banning', 'Riverside']\n",
            "No.of.unique values : 526\n"
          ]
        }
      ]
    },
    {
      "cell_type": "code",
      "metadata": {
        "colab": {
          "base_uri": "https://localhost:8080/"
        },
        "id": "2OYEyPlsvYOy",
        "outputId": "b6dfce70-16ef-4972-86f5-9c3dbbbe7153"
      },
      "source": [
        "cities_trails_bc = pd.unique(trails_bc['city']).tolist() # see unique cities\n",
        "print(cities_trails_bc)\n",
        "num_cities_trails_bc = len(pd.unique(trails_bc['city'])) # see number of unique cities\n",
        "print(\"No.of.unique values :\", num_cities_trails_bc)"
      ],
      "execution_count": null,
      "outputs": [
        {
          "output_type": "stream",
          "name": "stdout",
          "text": [
            "['Whistler', 'Valemount', 'Invermere', 'North Vancouver', 'Hope', 'Golden', 'West Kelowna', 'Maple Ridge', 'West Vancouver', 'Langley', 'Powell River', 'Vancouver', 'Squamish', 'Vernon', 'Abbotsford', 'Merritt', 'Bowen Island', 'Nelson', 'Tofino', 'Revelstoke', 'Campbell River', 'Creston', 'Chase', 'Summerland', 'Kelowna', 'Ladner', 'West End', 'Anmore', 'Burnaby', 'Langford', 'Cranbrook', 'Kamloops', 'North Saanich', 'Williams Lake', 'Elkford', 'Prince George', 'Duncan', 'Salmon Arm', 'Agassiz', 'Pemberton', 'Vanderhoof', 'Lillooet', 'Salmo', 'Courtenay', 'Enderby', 'Gibsons', 'Nakusp', 'Chilliwack', 'Rossland', 'Princeton']\n",
            "No.of.unique values : 50\n"
          ]
        }
      ]
    },
    {
      "cell_type": "code",
      "metadata": {
        "colab": {
          "base_uri": "https://localhost:8080/"
        },
        "id": "sYyYksOvvkvv",
        "outputId": "7f03bfc5-f02e-45e0-c15a-0a3a2724300f"
      },
      "source": [
        "cities_ca = cities[cities.state == 'CA']\n",
        "cities_ca_list = cities_ca['city'].tolist()\n",
        "print(cities_ca_list)\n",
        "num_cities_ca = len(cities_ca_list)\n",
        "print(\"No.of.unique values :\", num_cities_ca)"
      ],
      "execution_count": null,
      "outputs": [
        {
          "output_type": "stream",
          "name": "stdout",
          "text": [
            "['Los Angeles', 'San Francisco', 'San Diego', 'Riverside', 'Sacramento', 'San Jose', 'Fresno', 'Concord', 'Mission Viejo', 'Bakersfield', 'Murrieta', 'Long Beach', 'Oakland', 'Indio', 'Stockton', 'Oxnard', 'Modesto', 'Anaheim', 'Victorville', 'Lancaster', 'Santa Ana', 'Santa Rosa', 'Santa Clarita', 'Antioch', 'Irvine', 'Chula Vista', 'Fremont', 'Visalia', 'San Bernardino', 'Thousand Oaks', 'Fontana', 'Moreno Valley', 'Santa Barbara', 'Glendale', 'Huntington Beach', 'Salinas', 'Ontario', 'Rancho Cucamonga', 'Hemet', 'Santa Cruz', 'Oceanside', 'Elk Grove', 'Vallejo', 'Garden Grove', 'Corona', 'Hayward', 'Palmdale', 'Sunnyvale', 'Pomona', 'Escondido', 'Fairfield', 'Merced', 'Torrance', 'Roseville', 'Pasadena', 'Santa Maria', 'Orange', 'Fullerton', 'Santa Clara', 'Simi Valley', 'Berkeley', 'Redding', 'East Los Angeles', 'Yuba City', 'Gilroy', 'Chico', 'Seaside', 'El Monte', 'Carlsbad', 'Temecula', 'Clovis', 'Costa Mesa', 'El Centro', 'Downey', 'Richmond', 'Jurupa Valley', 'San Buenaventura', 'Inglewood', 'Turlock', 'Daly City', 'West Covina', 'San Mateo', 'Norwalk', 'Rialto', 'Manteca', 'Arden-Arcade', 'El Cajon', 'Burbank', 'Vista', 'Vacaville', 'Tracy', 'Compton', 'South Gate', 'Westminster', 'Santa Monica', 'San Leandro', 'Citrus Heights', 'Hawthorne', 'Whittier', 'Milpitas', 'Alhambra', 'Mountain View', 'Buena Park', 'Tustin', 'Lakewood', 'Alameda', 'Watsonville', 'Davis', 'Bellflower', 'Baldwin Park', 'Lynwood', 'South San Francisco', 'Redondo Beach', 'Florence-Graham', 'Pico Rivera', 'Montebello', 'National City', 'La Habra', 'South Whittier', 'Monterey Park', 'Gardena', 'Cupertino', 'La Mesa', 'Arcadia', 'Huntington Park', 'Fountain Valley', 'Rosemead', 'Paramount', 'Placentia', 'Aliso Viejo', 'Cerritos', 'Cypress', 'Hollister', 'Ceres', 'Antelope', 'La Mirada', 'North Highlands', 'Florin', 'Covina', 'Altadena', 'Rohnert Park', 'San Bruno', 'Bell Gardens', 'Campbell', 'Montclair', 'San Gabriel', 'La Puente', 'Culver City', 'La Presa', 'Stanton', 'West Hollywood', 'Foothill Farms', 'Temple City', 'Bell', 'Westmont', 'Manhattan Beach', 'Oildale', 'Foster City', 'Beverly Hills', 'Lawndale', 'San Pablo', 'Burlingame', 'Santa Paula', 'San Carlos', 'Suisun City', 'East Palo Alto', 'Isla Vista', 'Imperial Beach', 'Ladera Ranch', 'Maywood', 'Belmont', 'Lemon Grove', 'West Whittier-Los Nietos', 'Soledad', 'San Lorenzo', 'El Cerrito', 'South Pasadena', 'Riverbank', 'Ashland', 'San Fernando', 'Valinda', 'Rosemont', 'Cudahy', 'Winter Gardens', 'West Puente Valley', 'West Rancho Dominguez', 'Willowbrook', 'Millbrae', 'West Carson', 'Lennox', 'South El Monte', 'Lomita', 'South San Jose Hills', 'Albany', 'La Crescenta-Montrose', 'Hermosa Beach', 'Mountain House', 'Greenfield', 'Live Oak', 'Bostonia', 'Artesia', 'Stanford', 'East San Gabriel', 'Vincent', 'Cherryland', 'Walnut Park', 'Parkway', 'East Rancho Dominguez', 'McFarland', 'Parlier', 'La Palma', 'Avocado Heights', 'Pacific Grove', 'Lemon Hill', 'North Fair Oaks', 'Hawaiian Gardens', 'Grover Beach', 'Home Gardens', 'Emeryville', 'Newman', 'View Park-Windsor Hills', 'Alum Rock', 'Signal Hill', 'Piedmont', 'Rossmoor', 'Orange Cove', 'La Riviera', 'East Whittier', 'Citrus', 'Charter Oak', 'Capitola', 'Del Aire', 'Country Club', 'Marina del Rey', 'West Athens', 'August', 'Midway City', 'Alondra Park', 'South San Gabriel', 'Guadalupe', 'Boyes Hot Springs', 'Holtville', 'South Monrovia Island', 'Contra Costa Centre', 'Castroville', 'Saranap', 'Fruitridge Pocket', 'Pleasure Point', 'Mayflower Village', 'Kensington', 'Cutler', 'Twin Lakes', 'Broadmoor', 'Bret Harte', 'Tara Hills', 'San Marcos', 'Hesperia', 'Menifee', 'Chino', 'Hanford', 'Carson', 'Livermore', 'Redwood City', 'Lake Forest', 'Napa', 'Newport Beach', 'Madera', 'Chino Hills', 'Pleasanton', 'Folsom', 'Perris', 'Porterville', 'Upland', 'Camarillo', 'San Ramon', 'Rancho Cordova', 'Lodi', 'Union City', 'Apple Valley', 'Pittsburg', 'Redlands', 'El Paso de Robles', 'Walnut Creek', 'Lake Elsinore', 'Rocklin', 'Yorba Linda', 'Petaluma', 'Laguna Niguel', 'Tulare', 'Palo Alto', 'Dublin', 'San Clemente', 'Brentwood', 'Carmichael', 'Eastvale', 'Castro Valley', 'Encinitas', 'San Luis Obispo', 'Woodland', 'San Rafael', 'Santee', 'Diamond Bar', 'Novato', 'Highland', 'Hacienda Heights', 'Cathedral City', 'Delano', 'Colton', 'Arroyo Grande', 'Yucaipa', 'West Sacramento', 'Palm Desert', 'Lompoc', 'Glendora', 'Beaumont', 'Rowland Heights', 'Azusa', 'Oroville', 'Poway', 'San Jacinto', 'Newark', 'Reedley', 'Palm Springs', 'Lincoln', 'Rancho Santa Margarita', 'El Dorado Hills', 'Morgan Hill', 'Coachella', 'Selma', 'Danville', 'Eureka', 'Desert Hot Springs', 'Brea', 'Oakley', 'La Quinta', 'Rancho Palos Verdes', 'Los Banos', 'Calexico', 'Pacifica', 'Martinez', 'Wildomar', 'Moorpark', 'Monrovia', 'Claremont', 'French Valley', 'San Juan Capistrano', 'Auburn', 'Pleasant Hill', 'Orangevale', 'Menlo Park', 'Arcata', 'Grass Valley', 'Adelanto', 'Sonoma', 'San Dimas', 'Dana Point', 'Ridgecrest', 'La Verne', 'Placerville', 'Fallbrook', 'Spring Valley', 'Banning', 'Laguna Hills', 'Orcutt', 'Fair Oaks', 'Goleta', 'Barstow', 'Los Gatos', 'South Lake Tahoe', 'Saratoga', 'Los Altos', 'Atascadero', 'Walnut', 'Ukiah', 'Atwater', 'Wasco', 'Vineyard', 'Benicia', 'Monterey', 'Sonora', 'Galt', 'Sanger', 'Temescal Valley', 'Windsor', 'Lemoore', 'Lafayette', 'Norco', 'Brawley', 'Hercules', 'Twentynine Palms', 'Bay Point', 'Yucca Valley', 'North Tustin', 'Lathrop', 'Loma Linda', 'Dinuba', 'Seal Beach', 'Calabasas', 'Coronado', 'Half Moon Bay', 'Oakdale', 'Granite Bay', 'Patterson', 'Laguna Beach', 'Marina', 'Corcoran', 'Arvin', 'Port Hueneme', 'Lakeside', 'Bloomington', 'Rancho San Diego', 'Shafter', 'Ramona', 'Duarte', 'Rosamond', 'Dixon', 'American Canyon', 'Prunedale', 'Linda', 'Agoura Hills', 'East Hemet', 'Mead Valley', 'La Cañada Flintridge', 'Orinda', 'Casa de Oro-Mount Helix', 'Blythe', 'Castaic', 'Pinole', 'Stevenson Ranch', 'Cameron Park', 'Red Bluff', 'Rancho Mirage', 'Chowchilla', 'Imperial', 'Woodcrest', 'Moraga', 'Valle Vista', 'Santa Fe Springs', 'Nipomo', 'Lakeport', 'McKinleyville', 'Coalinga', 'Crescent City', 'Rosedale', 'Truckee', 'Lindsay', 'El Segundo', 'Solvang', 'Los Osos', 'Ripon', 'Rio Linda', 'Discovery Bay', 'Phelan', 'Clearlake', 'Fillmore', 'King City', 'Laguna Woods', 'Kerman', 'Coto de Caza', 'Susanville', 'Tehachapi', 'Alamo', 'Taft', 'Livingston', 'Alpine', 'Lamont', 'North Auburn', 'Mill Valley', 'Salida', 'California City', 'El Sobrante', 'Oak Park', 'Sun Village', 'Avenal', 'Olivehurst', 'Big Bear City', 'Fortuna', 'Carpinteria', 'Solana Beach', 'Palos Verdes Estates', 'San Marino', 'Lakeland Village', 'Bonita', 'Commerce', 'Grand Terrace', 'Muscoy', 'San Anselmo', 'Marysville', 'Delhi', 'Clayton', 'Larkspur', 'Kingsburg', 'Camp Pendleton South', 'Healdsburg', 'Malibu', 'Scotts Valley', 'Lake Los Angeles', 'Diamond Springs', 'Mendota', 'Tamalpais-Homestead Valley', 'Magalia', 'Los Alamitos', 'Hillsborough', 'Winton', 'Canyon Lake', 'Valley Center', 'Soquel', 'Sierra Madre', 'Farmersville', 'Anderson', 'Morro Bay', 'Fairview', 'San Diego Country Estates', 'Exeter', 'Oak Hills', 'Shasta Lake', 'Rodeo', 'Fort Bragg', 'Quartz Hill', 'Garden Acres', 'Orland', 'Fort Irwin', 'Madera Acres', 'Mentone', 'Corte Madera', 'Rio Vista', 'Rio del Mar', 'Waterford', 'Blackhawk', 'Bishop', 'Golden Hills', 'Gridley', 'Cloverdale', 'Good Hope', 'Calimesa', 'Tiburon', 'Lake Arrowhead', 'Needles', 'Crestline', 'Earlimart', 'Corning', 'Ione', 'Los Altos Hills', 'Spring Valley Lake', 'Larkfield-Wikiup', 'Gonzales', 'Orosi', 'Firebaugh', 'Montecito', 'Mammoth Lakes', 'Westlake Village', 'Pismo Beach', 'Cherry Valley', 'Vandenberg Village', 'Rolling Hills Estates', 'Willits', 'Topanga', 'Woodlake', 'Templeton', 'Winters', 'Interlaken', 'Oroville East', 'Sebastopol', 'Piñon Hills', 'Escalon', 'Joshua Tree', 'Plumas Lake', 'Hughson', 'Jackson', 'Gold River', 'Fairfax', 'Yreka', 'Dos Palos', 'Oceano', 'Mount Shasta', 'Ojai', 'Cotati', 'Camp Pendleton North', 'University of California-Davis', 'Huron', 'Alta Sierra', 'Willows', 'Acton', 'Nuevo', 'Pollock Pines', 'Atherton', 'Calipatria', 'Homeland', 'Sausalito', 'St. Helena', 'Rancho Calaveras', 'Kentfield', 'Franklin', 'Thermalito', 'Colusa', 'Ben Lomond', 'Loomis', 'Lemoore Station', 'San Martin', 'Thousand Palms', 'Lake Mathews', 'Fowler', 'Desert Palms', 'Bermuda Dunes', 'Lucas Valley-Marinwood', 'Mecca', 'Mira Monte', 'Ladera Heights', 'Keyes', 'La Habra Heights', 'Aptos', 'El Rio', 'East Porterville', 'Salton City', 'East Foothills', 'East Pasadena', 'Eucalyptus Hills', 'El Granada', 'Durham', 'Lucerne Valley', 'Paradise', 'Greenacres', 'Gustine', 'Las Flores', 'Old Fig Garden', 'Silver Lakes', 'Villa Park', 'Highgrove', 'West Modesto', 'Hilmar-Irwin', 'Rancho Murieta', 'Wilton', 'Cambria', 'Elverta', 'Hidden Valley Lake', 'Strawberry', 'Yosemite Lakes', 'Indian Wells', 'Williams', 'Woodside', 'Jamul', 'Palermo', 'Bear Valley Springs', 'Garnet', 'Big Bear Lake', 'Calistoga', 'Lake Wildwood', 'Myrtletown', 'Boulder Creek', 'Buellton', 'Denair', 'Guerneville']\n",
            "No.of.unique values : 652\n"
          ]
        }
      ]
    },
    {
      "cell_type": "code",
      "metadata": {
        "colab": {
          "base_uri": "https://localhost:8080/"
        },
        "id": "oGZ3uMRfxCpX",
        "outputId": "75a0f6e1-af76-4ed5-bc88-6d52f02358c0"
      },
      "source": [
        "cities_bc = cities[cities.state == 'BC']\n",
        "cities_bc_list = cities_bc['city'].tolist()\n",
        "print(cities_bc_list)\n",
        "num_cities_bc = len(cities_bc_list)\n",
        "print(\"No.of.unique values :\", num_cities_bc)"
      ],
      "execution_count": null,
      "outputs": [
        {
          "output_type": "stream",
          "name": "stdout",
          "text": [
            "['Vancouver', 'Victoria', 'Surrey', 'Burnaby', 'Richmond', 'Kelowna', 'Abbotsford', 'Coquitlam', 'Langley', 'Saanich', 'Delta', 'Kamloops', 'White Rock', 'New Westminster', 'Port Coquitlam', 'Duncan', 'Esquimalt', 'Sidney', 'Nanaimo', 'North Vancouver', 'Chilliwack', 'Maple Ridge', 'Prince George', 'Vernon', 'West Vancouver', 'Mission', 'Langford Station', 'Campbell River', 'Penticton', 'Port Moody', 'East Kelowna', 'North Cowichan', 'Courtenay', 'Fort St. John', 'Squamish', 'Cranbrook', 'Pitt Meadows', 'Oak Bay', 'Salmon Arm', 'Port Alberni', 'Colwood', 'Central Saanich', 'Terrace', 'Comox', 'Powell River', 'Sooke', 'Dawson Creek', 'Lake Country', 'Parksville', 'Prince Rupert', 'Whistler', 'Summerland', 'North Saanich', 'Williams Lake', 'Nelson', 'View Royal', 'Coldstream', 'Sechelt', 'Quesnel', 'Qualicum Beach', 'Ladysmith', 'Kitimat', 'Castlegar', 'Trail', 'Kimberley', 'Merritt', 'Hope', 'Kent', 'Peachland', 'Northern Rockies', 'Creston', 'Smithers', 'Fernie', 'Osoyoos', 'Spallumcheen']\n",
            "No.of.unique values : 75\n"
          ]
        }
      ]
    },
    {
      "cell_type": "markdown",
      "metadata": {
        "id": "hHbJ44ZvwxMG"
      },
      "source": [
        "CA"
      ]
    },
    {
      "cell_type": "code",
      "metadata": {
        "colab": {
          "base_uri": "https://localhost:8080/"
        },
        "id": "yRSq19ypw0mB",
        "outputId": "248e18e4-d205-4aac-d2dc-d5cd96b64244"
      },
      "source": [
        "cities_attr_ca_set = set(cities_attr_ca)\n",
        "cities_rest_ca_set = set(cities_rest_ca)\n",
        "cities_trails_ca_set = set(cities_trails_ca)\n",
        "cities_poi_ca_set = cities_attr_ca_set.union(cities_rest_ca_set, cities_trails_ca_set)\n",
        "\n",
        "# print(cities_poi_ca_set)\n",
        "# print(len(cities_poi_ca_set))\n",
        "\n",
        "cities_ca_set = set(cities_ca_list)\n",
        "difference = cities_poi_ca_set.difference(cities_ca_set)\n",
        "\n",
        "print(difference)\n",
        "print(len(difference))\n",
        "\n"
      ],
      "execution_count": null,
      "outputs": [
        {
          "output_type": "stream",
          "name": "stdout",
          "text": [
            "{nan, 'Belvedere', 'Mission Canyon', 'Hornitos', 'Knights Ferry', 'Fallston', 'Boron', 'Wawona', 'Mad River', 'Sugarloaf', 'Acampo', 'East Richmond Heights', 'Twain Harte', 'Oak Glen', 'Fair Play', 'Warner Springs', 'North Palm Springs', 'Penryn', 'Somerton', 'Homewood', 'Colma', 'Angelus Oaks', 'Hoopa', 'Lemon Cove', 'Colfax', 'Seven Trees', 'San Lucas', 'Sunland Park', 'Grand Lake', 'Alta Loma', 'Rainbow', 'Alturas', 'Elk Creek', 'Middletown', 'Palo Verde', 'Aguanga', 'Valley Ford', 'Santa Margarita', 'Hidden Hills', 'Avila Beach', 'Cedar Glen', 'Laytonville', 'Midpines', 'Vina', 'Day Valley', 'Cecilville', 'Malibu Beach', 'Corralitos', 'Knights Landing', 'Caruthers', 'South Venice', 'Valencia', 'Fort Jones', 'Summerland', 'Douglas Flat', 'Goshen', 'Sierra City', 'Coulterville', 'Lakehead', 'Sky Valley', 'Biola', 'Whitethorn', 'Plumas County', 'Dunsmuir', 'Joshua Tree National Park', 'Marshall', 'Del Mar', 'Lake County', 'Walker', 'Pinecrest', 'Gualala', 'East La Mirada', 'Brookdale', 'Adin', 'Rio Nido', 'Maxwell', 'Riverdale', 'Wheatland', 'McArthur', 'Shoshone', 'Ventura', 'Brockway', 'Lake Isabella', 'San Pasqual', 'Weldon', 'Tollhouse', 'Fall River Mills', 'Hiouchi', 'San Andreas', 'Mariposa', 'Essex', 'Thornton', 'Skyforest', 'Princeton', 'Hope Valley', 'Diablo', 'Catalina Island', 'McClellan Park', 'Mountain Ranch', 'Vista Santa Rosa', 'Mount Baldy', 'French Gulch', 'Portola Hills', 'Palisades', 'San Joaquin', 'Inverness', 'Geyserville', 'Capay', 'Cedarville', 'Crescent Mills', 'Crest', 'Byron', 'Scotia', 'Lebec', 'Castella', 'Redway', 'Malin', 'Idyllwild', 'Callender', 'Lewiston', 'Tuolumne City', 'Holt', 'Carson City', 'Rimforest', 'Ahwahnee', 'Canyon', 'Lassen Volcanic National Park', 'Westley', 'Olema', 'Romoland', 'Pioneertown', 'Mount Laguna', 'Napa Valley', 'Montalvin', 'Sierraville', 'Parkfield', 'Pacheco', 'Monte Rio', 'Bodega Bay', 'Nut Tree', 'Clements', 'Ducor', 'Moss Landing', 'Zephyr Cove', 'Point Richmond', 'Alpaugh', 'Newhall', 'Ross', 'San Juan Bautista', 'French Camp', 'Parker', 'Bell Canyon', 'Pioneer', 'Janesville', 'Collegeville', 'Smith River', 'Creston', 'Elmira', 'Bradley', 'Amboy', 'Cassel', 'Westwood', 'Armona', 'Portola', 'Copperopolis', 'Shaver Lake', 'China Lake', 'Fort Bidwell', 'Sunol', 'Strathmore', 'Cardiff-by-the-Sea', 'Carmel Valley', 'Bolinas', 'East Quincy', 'San Luis Obispo County', 'Paso Robles', 'Blairsden', 'Felicity', 'Wrightwood', 'Brownsville', 'Cambrian Park', 'Manton', 'Springville', 'Philo', 'Bonny Doon', 'Forest Knolls', 'Emigrant Gap', 'Randsburg', 'Briceburg', 'Fulton', 'Gerber', 'Yosemite Valley', 'Covelo', 'Occidental', 'Vernon', 'Forestville', 'Death Valley Junction', 'Echo Lake', 'Graton', 'Santa Nella', 'Ladera', 'Saugus', 'Stewarts Point', 'Valyermo', 'Linden', 'Highlands-Baywood Park', 'Newberry Springs', 'Raymond', 'Pescadero', 'Cobb', 'Morongo Valley', 'Ocotillo Wells', 'Auburn Lake Trails', 'Pauma Valley', 'Boonville', 'Cabazon', 'Lotus', 'Lockeford', 'Rutherford', 'Mount Hamilton', 'Kings Beach', 'Prattville', 'Argus', 'Shasta', 'Humboldt Hill', 'Tulelake', 'North San Juan', 'San Miguel', 'Freedom', 'Santa Ysabel', 'Vidal', 'Meadow Vista', 'New Cuyama', 'Crockett', 'Woodacre', 'Tres Pinos', 'Yorkville', 'Bertsch-Oceanview', 'Nicolaus', 'Bieber', 'Forks of Salmon', 'San Ardo', 'Harbison Canyon', 'Stevinson', 'Mettler', 'Pasatiempo', 'Kyburz', 'Drytown', 'O Neals', 'Phillipsville', 'Loyola', 'Garden Valley', 'Stinson Beach', 'Honeydew', 'Independence', 'Hollywood Hills West', 'Plymouth', 'Cazadero', 'Felton', 'Shingle Springs', 'Redwood National Park', 'Trinidad', 'Herald', 'Junction City', 'Hood', 'Clearlake Oaks', 'Cave Junction', 'Terra Bella', 'Bombay Beach', 'Baker', 'Mojave', 'Topaz', 'McKittrick', 'California', 'Bonsall', 'Furnace Creek', 'Mira Loma', 'Deer Park', 'Casmalia', 'Squaw Valley', 'Lone Pine', 'Weed', 'Clay', 'Dorrington', 'Mountain Center', 'Agua Dulce', 'Inyo County', 'City of Industry', 'Lake Havasu City', 'Hayfork', 'Littlerock', 'Caliente', 'Lucerne', 'San Geronimo', 'Columbia', 'Minden', 'Potter Valley', 'Little River', 'Olympic Valley', 'Niland', 'Leggett', 'Klamath Falls', 'Quincy', 'Catheys Valley', 'Tecopa', 'La Canada Flintridge', 'San Joaquin Hills', 'Planada', 'Pilot Hill', 'Running Springs', 'Temelec', 'Lower Lake', 'Nelson', 'Ridgemark', 'Waldon', 'Ballard', 'Jamestown', 'Clarksburg', 'Funner', 'Manila', 'Big Pine', 'Yermo', 'Mono City', 'Bayside', 'Murphys', 'Big Sur', 'Mendocino', 'Muir Beach', 'Pine Valley', 'Petrolia', 'Lake Almanor Peninsula', 'Glennville', 'Blue Lake', 'Allensworth', 'Taft Heights', 'Woodbridge', 'Benton', 'Paicines', 'Myers Flat', 'Soulsbyville', 'Marin City', 'Willow Creek', 'Piru', 'Cantil', 'Nevada City', 'Loyalton', 'Bradbury', 'Camino', 'Sonoma County', 'Carlotta', 'Richgrove', 'Bethel Island', 'Portola Valley', 'Cottonwood', 'Lagunitas-Forest Knolls', 'Bangor', 'Klamath', 'Eldridge', 'Santa Cruz Island', 'Pinedale', 'Inyokern', 'Cincinnati', 'Carmel', 'West Bishop', 'Tuolumne', 'El Nido', 'Somerset', 'Point Arena', 'California Hot Springs', 'Echo Park', 'Chiriaco Summit', 'Penn Valley', 'Chualar', 'Happy Camp', 'La Honda', 'New Century', 'Genoa', 'Nicasio', 'Igo', 'Three Rivers', 'Shell Beach', 'Lompico', 'Nice', 'Santa Susana', 'Brookings', 'Alta', 'Coloma', 'Avalon', 'Fawnskin', 'Buttonwillow', 'Cima', 'Crows Landing', 'Los Serranos', 'Zamora', 'Calpella', 'Guinda', 'Piercy', 'Oregon House', 'Humboldt County', 'Del Rey Oaks', 'Maricopa', 'Mokelumne Hill', 'Sun City', 'Duncans Mills', 'Palomar Mountain', 'Cantua Creek', 'Camptonville', 'Caspar', 'Kernville', 'Belmont Shore', 'Dulzura', 'Lake Tahoe (California)', 'Pope Valley', 'Mohave Valley', 'Rio Dell', 'Clio', 'Butte Meadows', 'Natchez', 'Mc Farland', 'Incline Village', 'Manchester', 'Chatsworth', 'Kelseyville', 'Bass Lake', 'Isleton', 'Landers', 'La Grange', 'Bayview', 'Lake of the Pines', 'Marin County', 'Arnold', 'Etiwanda', 'Miramonte', 'Walnut Grove', 'Little Lake', 'Ballico', 'Rancho Santa Fe', 'Clipper Mills', 'Agoura', 'Gorman', 'Desert Center', 'North Edwards', 'Highlands Ranch', 'Bodfish', 'Glamis', 'Gasquet', 'Winterhaven', 'Volcano', 'Tamalpais Valley', 'Stonyford', 'Coto De Caza', 'Santa Ynez', 'Orick', 'Elk', 'Meiners Oaks', 'Glen Ellen', 'Samoa', 'Monterey County', 'Shelter Cove', 'Pearblossom', 'Camp Connell', 'Sea Ranch', 'Somis', 'Oro Grande', 'Whitmore', 'Mather', 'Lakeview', 'Forest Falls', 'Sunnyslope', 'Roseland', 'Pine Grove', 'Davenport', 'Groveland', 'Kettleman City', 'Markleeville', 'Westwood  Lassen County', 'Balboa Island', 'Blue Jay', 'Washington', 'Hathaway Pines', 'The Sea Ranch', 'Kenwood', 'Penngrove', 'Mount Aukum', 'Nipton', 'Sutter', 'Badwater', 'Leona Valley', 'Lee Vining', 'Tahoe Vista', 'Montrose', 'Moss Beach', 'Etna', 'Tecate', 'Woodland Hills', 'Channel Islands National Park', 'Redwood Valley', 'Madison', 'Graeagle', 'Bear Valley', 'Newbury Park', 'Huntington Lake', 'Keene', 'Sutter Creek', 'Sequoia and Kings Canyon National Park', 'Ehrenberg', 'Central Valley (historical)', 'Navarro', 'Dutch Flat', 'Greenwood', 'Edwards', 'Yountville', 'Devore Heights', 'Laton', 'Weaverville', 'Burson', 'Los Olivos', 'Bella Vista', 'Upper Lake', 'Westmorland', 'Mountain Mesa', 'Crystal Bay', 'Jacumba', 'Traver', 'Hopland', 'Lagunitas', 'La Jolla', 'Soda Springs', 'Tomales', 'Oakville', 'Baywood Park', 'Loleta', 'Lockwood', 'Sloughhouse', 'Biggs', 'Mendocino County', 'Berry Creek', 'Los Molinos', 'Hornbrook', 'Parker Dam', 'West Point', 'Point Mugu', 'Hollywood', 'Kirkwood', 'Hyampom', 'Mono Hot Springs', 'Borrego Springs', 'Dorris', 'Angels Camp', 'Whiskeytown', 'Shandon', 'Cool', 'Pala', 'Greenbrae', 'Glenbrook', 'Auberry', 'Twin Bridges', 'Foothill Ranch', 'Cold Springs', 'Verdi', 'Freestone', 'Dunlap', 'Montara', 'Winchester', 'Fish Camp', 'Green Valley', 'Loma Mar', 'Taylorsville', 'Stirling City', 'San Gregorio', 'Snelling', 'Fiddletown', 'Lake City', 'Downieville', 'Trinity Center', 'Helendale', 'Oakhurst', 'Sunnyside-Tahoe City', 'Emerald Lake Hills', 'Stateline', 'Browns Valley', 'West Menlo Park', 'Burney', 'Belden', 'Montgomery Creek', 'Chilcoot', 'Sherman Oaks', 'La Crescenta', 'Point Reyes Station', 'Almaden Valley', 'Ivanhoe', 'Sheridan', 'Thermal', 'North Fork', 'Carnelian Bay', 'El Portal', 'Vernalis', 'Mount Wilson', 'Lexington Hills', 'Westport', 'Harmony', 'Callahan', 'Angwin', 'June Lake', 'Lytle Creek', 'Big Bear Region', 'Tranquillity', 'Weott', 'Keeler', 'Challenge-Brownsville', 'Albion', 'Big Oak Flat', 'Saint Helena', 'Hills', 'Dillon Beach', 'Oak View', 'Vallecito', 'Trona', 'Johnsville', 'Talmage', 'Tahoe City', 'Smartville', 'Green Valley Lake', 'Trabuco Canyon', 'Badger', 'Idyllwild-Pine Cove', 'Alviso', 'Mountain Pass', 'Bodega', 'Aromas', 'Camp Pendleton', 'Montague', 'Arbuckle', 'Dixon Lane-Meadow Creek', 'East Shore', 'Quail Valley', 'Brisbane', 'Dunnigan', 'Seeley', 'Gardnerville', 'Annapolis', 'Earp', 'Sand City', 'Valley Springs', 'Descanso', 'Mira Mesa', 'Pine Mountain Club', 'Alleghany', 'Friant', 'Death Valley National Park', 'Lake Tahoe (Nevada)', 'Los Alamos', 'Stallion Springs', 'Campo', 'Coarsegold', 'Rancho Tehama Reserve', 'Two Harbors', 'Mill Creek', 'Flintridge', 'Ludlow', 'San Antonio Heights', 'McCloud', 'Seacliff', 'Farmington', 'Monte Sereno', 'Miranda', 'Forest Ranch', 'Palo Cedro', 'Greater Palm Springs', 'Vandenberg Air Force Base', 'Jenner', 'Hilmar', 'Garberville', 'Cromberg', 'Amador City', 'Georgetown', 'Onyx', 'Orange County', 'Yolo', 'Northridge', 'Point Reyes National Seashore', 'Brooks', 'Seiad Valley', 'San Simeon', 'El Verano', 'Toro Canyon', 'Saticoy', 'Casa Conejo', 'March Air Force Base', 'Chicago Park', 'Bard', 'West Hills', 'Anza', 'Lost Hills', 'Port Costa', 'Lake Hughes', 'Mount Hermon', 'Pixley', 'Rolling Hills', 'Frazier Park', 'Jolon', 'Fairbanks Ranch', 'Hume', 'Corona del Mar', 'El Toro', 'Anchor Bay', 'Spaulding', 'Coleville', 'Leucadia', 'Mi Wuk Village', 'Newcastle', 'Twin Peaks', 'Merrill', 'Carmel Valley Village', 'Lake Nacimiento', 'Irwindale', 'Desert Shores', 'Big Bar', 'Ocotillo', 'Greenville', 'Chester', 'Lassen National Forest', 'Bridgeport', 'Mineral', 'Stovepipe Wells', 'Foresthill', 'Yuma', 'Westhaven-Moonstone', 'Banta', 'Boulevard', 'Olancha', 'Julian', 'Shingletown', 'Ford City', 'Yosemite National Park', 'Crowley Lake', 'Potrero', 'Cayucos', 'Rancho Bernardo', 'Martell', 'Prather', 'Carmel-by-the-Sea', 'Tahoma', 'North Glendale', 'Cholame', 'Pinon Hills', 'Anacapa Island', 'Pebble Beach', 'Le Grand', 'Norden', 'Pine Hills', 'North Richmond', 'Santa Venetia', 'Lakeshore', 'Redcrest', 'Hat Creek', 'Wofford Heights', 'Silverado', 'Lake San Marcos', 'Esparto', 'Canyondam', 'Camp Nelson', 'El Dorado', 'Universal City', 'Las Vegas', 'Hamilton City', 'Bonadelle Ranchos-Madera Ranchos', 'Camp Meeker', 'Old Station', 'Ferndale'}\n",
            "770\n"
          ]
        }
      ]
    },
    {
      "cell_type": "markdown",
      "metadata": {
        "id": "um23GIxmwzrz"
      },
      "source": [
        "BC"
      ]
    },
    {
      "cell_type": "code",
      "metadata": {
        "colab": {
          "base_uri": "https://localhost:8080/",
          "height": 323
        },
        "id": "gFVGA2x0w1N7",
        "outputId": "b4aaba33-0d12-4f4a-8418-150a17be639c"
      },
      "source": [
        "cities_attr_bc_set = set(cities_attr_bc)\n",
        "cities_rest_bc_set = set(cities_rest_bc)\n",
        "cities_trails_bc_set = set(cities_trails_bc)\n",
        "cities_poi_bc_set = cities_attr_bc_set.union(cities_rest_bc_set, cities_trails_bc_set)\n",
        "\n",
        "# print(cities_poi_bc_set)\n",
        "# print(len(cities_poi_bc_set))\n",
        "\n",
        "cities_bc_set = set(cities_bc_list)\n",
        "difference = cities_poi_bc_set.difference(cities_bc_set)\n",
        "difference2 = cities_bc_set.difference(cities_poi_bc_set)\n",
        "\n",
        "print(difference)\n",
        "print(len(difference))\n",
        "print(difference2)\n",
        "print(len(difference2))\n",
        "\n",
        "df = pd.DataFrame(difference)\n",
        "df.head(40)\n",
        "\n",
        "df2 = pd.DataFrame(difference2)\n",
        "df2.head(40)"
      ],
      "execution_count": null,
      "outputs": [
        {
          "output_type": "stream",
          "name": "stdout",
          "text": [
            "{nan, 'Okanagan Falls', 'Taylor', 'Port Alice', 'Rock Creek', 'Klemtu', 'Barriere', 'Bowen Island', 'Hatzic', 'Burton', 'Saturna Island', 'Malcolm Island', 'Refuge Cove', 'Banff', 'Sardis', 'Buccaneer Bay Provincial Park', 'Harrison Mills', 'Grindrod', 'Avola', 'Sunshine Coast', 'Germansen Landing', 'Deep Cove', 'North Bend', 'Port Clements', 'Cobble Hill', 'Silverton', 'Nakusp', 'Saanichton', 'Deroche', 'Denman Island', 'Nimpo Lake', 'Winlaw', 'Tlell', 'Clayoquot Sound', 'Naramata', 'Madeira Park', 'Denny Island', 'Lasqueti Island', 'Cloverdale', 'Moresby Island', 'Tsawwassen', 'Mackenzie', 'Shawnigan Lake', 'Barkerville', 'Genoa Bay', 'Endako', 'Stikine Region', 'Wynndel', 'Lund', 'Salt Spring Island', 'Galiano Island', 'Walnut Grove', 'Surge Narrows', 'Kootenay Bay', 'Burns Lake', 'Cawston', 'Kitimat-Stikine District', 'Comox Valley', 'Chetwynd', 'Kaleden', 'Bamfield', 'Heriot Bay', 'Wasa', 'Scotch Creek', 'Murrayville', 'Skidegate', 'Gibsons', 'Gold River', 'South Hazelton', 'Whaletown', 'Sicamous', 'Gambier Island', 'Secret Cove', 'Lillooet', 'Hedley', 'South Fintry', 'Alexandria', 'South Pender Island', 'Spences Bridge', 'Hixon', 'Brentwood Bay', 'Vanderhoof', 'Elko', 'Sandon', 'Wells', 'Port Renfrew', 'Kitwanga', 'Grasmere', 'Pink Mountain', 'Yarrow', 'Golden', 'Panorama', 'Princeton', 'Sorrento', 'Tulameen', 'Laidlaw', 'Elgin', 'Ucluelet', 'Rivers Inlet', 'Liard River', \"Hudson's Hope\", 'Chase', 'Cariboo', 'Egmont', 'Mansons Landing', 'Halfmoon Bay', '108 Mile Ranch', 'Parson', 'Big White', 'Read Island', 'Blind Bay', 'West End', 'Gabriola Island', 'Buckinghorse River', 'Montrose', 'Meziadin Junction', 'Whiteswan Lake Provincial Park', 'Crawford Bay', 'Muncho Lake', 'King Island', 'Telegraph Cove', 'Zeballos', 'Saint Eugene Mission', 'Lake Louise', 'Kaslo', 'Cedarvale', 'Yoho National Park', 'Union Bay', 'Highlands', 'Tappen', 'Royston', 'Anglemont', 'Gold Bridge', 'Nanoose Bay', 'Jade City', 'Greenwood', 'West Cracroft Island', 'Quathiaski Cove', 'Crescent Spur', 'Lytton', 'Alkali Lake', 'Rossland', 'Langford', 'Elkford', 'New Aiyansh', 'Harrison Hot Springs', 'Beavermouth', 'Lumby', 'Morley', 'Quadra Island', 'Hagensborg', 'Redstone', 'Langley Township', 'Kyuquot', 'Fruitvale', 'Wells Gray Provincal Park', 'Banff National Park', 'Seton Portage', 'Kispiox', 'Wardner', 'Bridge Lake', 'Anmore', 'Granisle', 'Ganges', 'Hemlock Valley', 'Sirdar', 'Vancouver Island', 'Spuzzum', 'Echo Bay', 'Vananda', 'Ainsworth Hot Springs', 'Field', 'Texada Island', 'Louis Creek', 'Tahsis', 'Chilcotin District', 'Roberts Creek', 'Sandspit', 'Grand Forks', 'Windermere', 'Ahousat', 'Earls Cove', 'Enderby', 'Pender Island', 'Saltery Bay', 'Argenta', 'Victoria Capital Regional District', 'Tsay Keh Dene', 'Brackendale', 'Merville', 'Willowbrook', 'Hot Springs Cove', 'Boston Bar', 'Fort Langley', 'Sparwood', 'Atlin', 'Horsefly', 'Hornby Island', 'Beaverdell', 'Kootenay Rockies', 'Nazko', 'Iskut', 'Langley City', 'Sayward', 'Oliver', 'Houston', 'Salmo', 'Thornhill', 'Canal Flats', 'Brisco', 'Riondel', 'Cultus Lake', 'British Columbia', 'Ladner', 'Cumberland', 'Fanny Bay', 'Falkland', 'Campbell Island', \"D'Arcy\", 'Bedwell Harbour', 'Monte Lake', 'Errington', 'Dewdney', \"Dawson's Landing\", 'Malakwa', 'Moricetown', 'Sonora Island', 'Likely', 'Qualicum Bay', 'Vavenby', 'Black Creek', 'Lac La Hache', 'Invermere', 'Garibaldi Highlands', 'Slocan', 'Southbank', 'Tumbler Ridge', 'Kitkatla', 'Little Fort', 'Telkwa', 'Graham Island', 'Port McNeill', 'Savary Island', 'Valemount', 'Silver Star', 'Youbou', 'Fort Nelson', 'McBride', '150 Mile House', 'Metchosin', 'Masset', 'Westholme', 'Lake Cowichan', 'Craigellachie', 'Garden Bay', 'Ashcroft', 'Telegraph Creek', 'Fort Steele', 'Okanagan Valley', 'Coombs', 'Moyie', 'Toad River', 'Aldergrove', 'Quilchena', 'Desolation Sound', 'Alberni-Clayoquot Regional District', 'Glacier National Park of Canada', 'Boswell', 'Tetachuck Lake', 'Meadow Creek', 'McLeese Lake', 'Kootenay National Park', 'North Galiano', 'Lone Butte', 'New Denver', 'Balfour', 'Mara', 'Port Hardy', 'Bridesville', 'Keremeos', 'Elphinstone', 'Lower Nicola', 'Tofino', 'Cortes Island', 'Bella Coola', 'Radium Hot Springs', 'Farmington', 'Yahk', 'Mayne Island', 'Chemainus', 'Agassiz', 'Bear Lake', 'McLeod Lake', 'Tachie', 'Caulfeild', 'Honeymoon Bay', 'Stewart', 'Fairmont Hot Springs', 'Pemberton', 'Revelstoke', 'Crofton', 'Birken', 'Charlie Lake', 'Cowichan Bay', 'Fireside', 'West Kelowna', 'Yale', 'Mill Bay', 'Tatla Lake', 'Haida Gwaii (Queen Charlotte Islands)', 'Rosedale', 'Belcarra', 'Fulford Harbour', 'Gillies Bay', 'Blubber Bay', 'Topley', 'Savona', 'Wycliffe', 'Crescent Valley', 'Mount Robson', 'Sointula', 'Baker Creek', 'Hazelton', 'Woss', 'New Hazelton', 'Malahat', 'Chilanko Forks', 'Lantzville', 'Horseshoe Bay', 'Thurlow', 'Brookswood', 'Thetis Island', 'Midway', 'Lions Bay', 'Bowser', 'South Slocan', 'Spillimacheen', 'Mount Currie', 'Furry Creek', 'Forest Grove', 'Canmore', '70 Mile House', 'Gray Creek', 'Shirley', 'Alexis Creek', 'Cache Creek', 'Westwold', 'Holberg', 'Jaffray', 'Pritchard', 'Manning Park', 'Fraser Lake', 'Seymour Arm', '100 Mile House', 'Kingfisher', 'Port Edward', 'Sun Peaks', 'Clearwater', 'Tete Jaune Cache', 'Keats Island', 'Groundbirch', 'Logan Lake', 'Alert Bay', 'Edgewater', 'Reid Lake', 'Canoe', 'Dease Lake', 'Pouce Coupe', 'Blue River', 'Celista', 'Sturdies Bay', 'Skookumchuck', 'Lac Le Jeune', 'Malibu', 'Nootka Island', 'Britannia Beach', 'Mount Washington', 'Armstrong', 'Cherryville', 'Christina Lake', 'Fort St. James', 'Queen Charlotte City', 'Clinton', 'Anahim Lake', 'Hartley Bay', 'Rogers Pass'}\n",
            "386\n",
            "{'East Kelowna', 'Spallumcheen', 'North Cowichan', 'Langford Station', 'Kent', 'Oak Bay'}\n",
            "6\n"
          ]
        },
        {
          "output_type": "execute_result",
          "data": {
            "text/html": [
              "<div>\n",
              "<style scoped>\n",
              "    .dataframe tbody tr th:only-of-type {\n",
              "        vertical-align: middle;\n",
              "    }\n",
              "\n",
              "    .dataframe tbody tr th {\n",
              "        vertical-align: top;\n",
              "    }\n",
              "\n",
              "    .dataframe thead th {\n",
              "        text-align: right;\n",
              "    }\n",
              "</style>\n",
              "<table border=\"1\" class=\"dataframe\">\n",
              "  <thead>\n",
              "    <tr style=\"text-align: right;\">\n",
              "      <th></th>\n",
              "      <th>0</th>\n",
              "    </tr>\n",
              "  </thead>\n",
              "  <tbody>\n",
              "    <tr>\n",
              "      <th>0</th>\n",
              "      <td>East Kelowna</td>\n",
              "    </tr>\n",
              "    <tr>\n",
              "      <th>1</th>\n",
              "      <td>Spallumcheen</td>\n",
              "    </tr>\n",
              "    <tr>\n",
              "      <th>2</th>\n",
              "      <td>North Cowichan</td>\n",
              "    </tr>\n",
              "    <tr>\n",
              "      <th>3</th>\n",
              "      <td>Langford Station</td>\n",
              "    </tr>\n",
              "    <tr>\n",
              "      <th>4</th>\n",
              "      <td>Kent</td>\n",
              "    </tr>\n",
              "    <tr>\n",
              "      <th>5</th>\n",
              "      <td>Oak Bay</td>\n",
              "    </tr>\n",
              "  </tbody>\n",
              "</table>\n",
              "</div>"
            ],
            "text/plain": [
              "                  0\n",
              "0      East Kelowna\n",
              "1      Spallumcheen\n",
              "2    North Cowichan\n",
              "3  Langford Station\n",
              "4              Kent\n",
              "5           Oak Bay"
            ]
          },
          "metadata": {},
          "execution_count": 43
        }
      ]
    },
    {
      "cell_type": "code",
      "metadata": {
        "id": "FHe_3q-dtQ5_"
      },
      "source": [
        "fp_cities1 = '/content/drive/MyDrive/Fall 2021/550/Group Project/Datasets/Raw Scraped Data/cities.csv'\n",
        "cities1 = pd.read_csv(fp_cities1)"
      ],
      "execution_count": null,
      "outputs": []
    },
    {
      "cell_type": "code",
      "metadata": {
        "id": "SAjyB-lm1JO6"
      },
      "source": [
        ""
      ],
      "execution_count": null,
      "outputs": []
    },
    {
      "cell_type": "code",
      "metadata": {
        "colab": {
          "base_uri": "https://localhost:8080/",
          "height": 414
        },
        "id": "ihAIFnAVtQv6",
        "outputId": "81b526fa-9d12-4ab9-e789-a8db4504f6f3"
      },
      "source": [
        "cities1.head(200)"
      ],
      "execution_count": null,
      "outputs": [
        {
          "output_type": "execute_result",
          "data": {
            "text/html": [
              "<div>\n",
              "<style scoped>\n",
              "    .dataframe tbody tr th:only-of-type {\n",
              "        vertical-align: middle;\n",
              "    }\n",
              "\n",
              "    .dataframe tbody tr th {\n",
              "        vertical-align: top;\n",
              "    }\n",
              "\n",
              "    .dataframe thead th {\n",
              "        text-align: right;\n",
              "    }\n",
              "</style>\n",
              "<table border=\"1\" class=\"dataframe\">\n",
              "  <thead>\n",
              "    <tr style=\"text-align: right;\">\n",
              "      <th></th>\n",
              "      <th>city</th>\n",
              "      <th>state</th>\n",
              "      <th>population</th>\n",
              "    </tr>\n",
              "  </thead>\n",
              "  <tbody>\n",
              "    <tr>\n",
              "      <th>0</th>\n",
              "      <td>Port Alberni</td>\n",
              "      <td>BC</td>\n",
              "      <td>19060</td>\n",
              "    </tr>\n",
              "    <tr>\n",
              "      <th>1</th>\n",
              "      <td>Tofino</td>\n",
              "      <td>BC</td>\n",
              "      <td>2522</td>\n",
              "    </tr>\n",
              "    <tr>\n",
              "      <th>2</th>\n",
              "      <td>Ucluelet</td>\n",
              "      <td>BC</td>\n",
              "      <td>1941</td>\n",
              "    </tr>\n",
              "    <tr>\n",
              "      <th>3</th>\n",
              "      <td>Burns Lake</td>\n",
              "      <td>BC</td>\n",
              "      <td>1869</td>\n",
              "    </tr>\n",
              "    <tr>\n",
              "      <th>4</th>\n",
              "      <td>Fort St. James</td>\n",
              "      <td>BC</td>\n",
              "      <td>1746</td>\n",
              "    </tr>\n",
              "    <tr>\n",
              "      <th>...</th>\n",
              "      <td>...</td>\n",
              "      <td>...</td>\n",
              "      <td>...</td>\n",
              "    </tr>\n",
              "    <tr>\n",
              "      <th>195</th>\n",
              "      <td>Bellflower city, California</td>\n",
              "      <td>CA</td>\n",
              "      <td>76435</td>\n",
              "    </tr>\n",
              "    <tr>\n",
              "      <th>196</th>\n",
              "      <td>Bell Gardens city, California</td>\n",
              "      <td>CA</td>\n",
              "      <td>42012</td>\n",
              "    </tr>\n",
              "    <tr>\n",
              "      <th>197</th>\n",
              "      <td>Belmont city, California</td>\n",
              "      <td>CA</td>\n",
              "      <td>26941</td>\n",
              "    </tr>\n",
              "    <tr>\n",
              "      <th>198</th>\n",
              "      <td>Belvedere city, California</td>\n",
              "      <td>CA</td>\n",
              "      <td>2104</td>\n",
              "    </tr>\n",
              "    <tr>\n",
              "      <th>199</th>\n",
              "      <td>Benicia city, California</td>\n",
              "      <td>CA</td>\n",
              "      <td>28240</td>\n",
              "    </tr>\n",
              "  </tbody>\n",
              "</table>\n",
              "<p>200 rows × 3 columns</p>\n",
              "</div>"
            ],
            "text/plain": [
              "                              city state  population\n",
              "0                     Port Alberni    BC       19060\n",
              "1                           Tofino    BC        2522\n",
              "2                         Ucluelet    BC        1941\n",
              "3                       Burns Lake    BC        1869\n",
              "4                   Fort St. James    BC        1746\n",
              "..                             ...   ...         ...\n",
              "195    Bellflower city, California    CA       76435\n",
              "196  Bell Gardens city, California    CA       42012\n",
              "197       Belmont city, California    CA       26941\n",
              "198     Belvedere city, California    CA        2104\n",
              "199       Benicia city, California    CA       28240\n",
              "\n",
              "[200 rows x 3 columns]"
            ]
          },
          "metadata": {},
          "execution_count": 12
        }
      ]
    },
    {
      "cell_type": "code",
      "metadata": {
        "colab": {
          "base_uri": "https://localhost:8080/",
          "height": 452
        },
        "id": "aIGaTPEbuRTP",
        "outputId": "6384b11e-4da8-4221-af41-0f63ca962f48"
      },
      "source": [
        "import re\n",
        "city_names_dirty = cities1['city'].tolist()\n",
        "\n",
        "city_names_clean = [re.split(' [a-z]', city)[0] for city in city_names_dirty]\n",
        "print(city_names_clean)\n",
        "\n",
        "cities1_clean = pd.DataFrame(city_names_clean)\n",
        "\n",
        "cities1['city'] = cities1_clean\n",
        "\n",
        "cities1.head(900)"
      ],
      "execution_count": null,
      "outputs": [
        {
          "output_type": "stream",
          "name": "stdout",
          "text": [
            "['Port Alberni', 'Tofino', 'Ucluelet', 'Burns Lake', 'Fort St. James', 'Fraser Lake', 'Granisle', 'Houston', 'Smithers', 'Telkwa', 'Vanderhoof', 'Central Saanich', 'Colwood', 'Esquimalt', 'Highlands', 'Langford', 'Metchosin', 'North Saanich', 'Oak Bay', 'Saanich', 'Sidney', 'Sooke', 'Victoria', 'View Royal', 'One Hundred Mile House', 'Quesnel', 'Wells', 'Williams Lake', 'Central Coast', 'Castlegar', 'Creston', 'Kaslo', 'Nakusp', 'Nelson', 'New Denver', 'Salmo', 'Silverton', 'Slocan', 'Kelowna', 'Lake Country', 'Peachland', 'West Kelowna', 'Golden', 'Revelstoke', 'Salmon Arm', 'Sicamous', 'Comox', 'Courtenay', 'Cumberland', 'Duncan', 'Ladysmith', 'Lake Cowichan', 'North Cowichan', 'Canal Flats', 'Cranbrook', 'Elkford', 'Fernie', 'Invermere', 'Kimberley', 'Radium Hot Springs', 'Sparwood', 'Abbotsford', 'Chilliwack', 'Harrison Hot Springs', 'Hope', 'Kent', 'Mission', 'Mackenzie', 'McBride', 'Prince George', 'Valemount', 'Anmore', 'Belcarra', 'Bowen Island', 'Burnaby', 'Coquitlam', 'Delta', 'Langley, City', 'Langley, District Municipality', 'Lions Bay', 'Maple Ridge', 'New Westminster', 'North Vancouver, City', 'North Vancouver, District Municipality', 'Pitt Meadows', 'Port Coquitlam', 'Port Moody', 'Richmond', 'Surrey', 'Vancouver', 'West Vancouver', 'White Rock', 'Hazelton', 'Kitimat', 'New Hazelton', 'Stewart', 'Terrace', 'Fruitvale', 'Grand Forks', 'Greenwood', 'Midway', 'Montrose', 'Rossland', 'Trail', 'Warfield', 'Alert Bay', 'Port Alice', 'Port Hardy', 'Port McNeill', 'Lantzville', 'Nanaimo', 'Parksville', 'Qualicum Beach', 'Armstrong', 'Coldstream', 'Enderby', 'Lumby', 'Spallumcheen', 'Vernon', 'Northern Rockies Regional Municipality', 'Keremeos', 'Oliver', 'Osoyoos', 'Penticton', 'Princeton', 'Summerland', 'Chetwynd', 'Dawson Creek', 'Fort St. John', \"Hudson's Hope\", 'Pouce Coupe', 'Taylor', 'Tumbler Ridge', 'Powell River', 'Sechelt Ind Gov Dist (Part-Powell River)', 'Masset', 'Port Clements', 'Port Edward', 'Prince Rupert', 'Queen Charlotte', 'Lillooet', 'Pemberton', 'Squamish', 'Whistler', 'Stikine', 'Campbell River', 'Gold River', 'Sayward', 'Tahsis', 'Zeballos', 'Gibsons', 'Sechelt', 'Ashcroft', 'Barriere', 'Cache Creek', 'Chase', 'Clearwater', 'Clinton', 'Kamloops', 'Logan Lake', 'Lytton', 'Merritt', 'Sun Peaks Mountain', 'Adelanto', 'Agoura Hills', 'Alameda', 'Albany', 'Alhambra', 'Aliso Viejo', 'Alturas', 'Amador City', 'American Canyon', 'Anaheim', 'Anderson', 'Angels', 'Antioch', 'Apple Valley', 'Arcadia', 'Arcata', 'Arroyo Grande', 'Artesia', 'Arvin', 'Atascadero', 'Atherton', 'Atwater', 'Auburn', 'Avalon', 'Avenal', 'Azusa', 'Bakersfield', 'Baldwin Park', 'Banning', 'Barstow', 'Beaumont', 'Bell', 'Bellflower', 'Bell Gardens', 'Belmont', 'Belvedere', 'Benicia', 'Berkeley', 'Beverly Hills', 'Big Bear Lake', 'Biggs', 'Bishop', 'Blue Lake', 'Blythe', 'Bradbury', 'Brawley', 'Brea', 'Brentwood', 'Brisbane', 'Buellton', 'Buena Park', 'Burbank', 'Burlingame', 'Calabasas', 'Calexico', 'California City', 'Calimesa', 'Calipatria', 'Calistoga', 'Camarillo', 'Campbell', 'Canyon Lake', 'Capitola', 'Carlsbad', 'Carmel-by-the-Sea', 'Carpinteria', 'Carson', 'Cathedral City', 'Ceres', 'Cerritos', 'Chico', 'Chino', 'Chino Hills', 'Chowchilla', 'Chula Vista', 'Citrus Heights', 'Claremont', 'Clayton', 'Clearlake', 'Cloverdale', 'Clovis', 'Coachella', 'Coalinga', 'Colfax', 'Colma', 'Colton', 'Colusa', 'Commerce', 'Compton', 'Concord', 'Corcoran', 'Corning', 'Corona', 'Coronado', 'Corte Madera', 'Costa Mesa', 'Cotati', 'Covina', 'Crescent City', 'Cudahy', 'Culver City', 'Cupertino', 'Cypress', 'Daly City', 'Dana Point', 'Danville', 'Davis', 'Delano', 'Del Mar', 'Del Rey Oaks', 'Desert Hot Springs', 'Diamond Bar', 'Dinuba', 'Dixon', 'Dorris', 'Dos Palos', 'Downey', 'Duarte', 'Dublin', 'Dunsmuir', 'East Palo Alto', 'Eastvale', 'El Cajon', 'El Centro', 'El Cerrito', 'Elk Grove', 'El Monte', 'El Paso', 'El Segundo', 'Emeryville', 'Encinitas', 'Escalon', 'Escondido', 'Etna', 'Eureka', 'Exeter', 'Fairfax', 'Fairfield', 'Farmersville', 'Ferndale', 'Fillmore', 'Firebaugh', 'Folsom', 'Fontana', 'Fort Bragg', 'Fort Jones', 'Fortuna', 'Foster City', 'Fountain Valley', 'Fowler', 'Fremont', 'Fresno', 'Fullerton', 'Galt', 'Gardena', 'Garden Grove', 'Gilroy', 'Glendale', 'Glendora', 'Goleta', 'Gonzales', 'Grand Terrace', 'Grass Valley', 'Greenfield', 'Gridley', 'Grover Beach', 'Guadalupe', 'Gustine', 'Half Moon Bay', 'Hanford', 'Hawaiian Gardens', 'Hawthorne', 'Hayward', 'Healdsburg', 'Hemet', 'Hercules', 'Hermosa Beach', 'Hesperia', 'Hidden Hills', 'Highland', 'Hillsborough', 'Hollister', 'Holtville', 'Hughson', 'Huntington Beach', 'Huntington Park', 'Huron', 'Imperial', 'Imperial Beach', 'Indian Wells', 'Indio', 'Industry', 'Inglewood', 'Ione', 'Irvine', 'Irwindale', 'Isleton', 'Jackson', 'Jurupa Valley', 'Kerman', 'King City', 'Kingsburg', 'La Cañada Flintridge', 'Lafayette', 'Laguna Beach', 'Laguna Hills', 'Laguna Niguel', 'Laguna Woods', 'La Habra', 'La Habra Heights', 'Lake Elsinore', 'Lake Forest', 'Lakeport', 'Lakewood', 'La Mesa', 'La Mirada', 'Lancaster', 'La Palma', 'La Puente', 'La Quinta', 'Larkspur', 'Lathrop', 'La Verne', 'Lawndale', 'Lemon Grove', 'Lemoore', 'Lincoln', 'Lindsay', 'Live Oak', 'Livermore', 'Livingston', 'Lodi', 'Loma Linda', 'Lomita', 'Lompoc', 'Long Beach', 'Loomis', 'Los Alamitos', 'Los Altos', 'Los Altos Hills', 'Los Angeles', 'Los Banos', 'Los Gatos', 'Loyalton', 'Lynwood', 'McFarland', 'Madera', 'Malibu', 'Mammoth Lakes', 'Manhattan Beach', 'Manteca', 'Maricopa', 'Marina', 'Martinez', 'Marysville', 'Maywood', 'Mendota', 'Menifee', 'Menlo Park', 'Merced', 'Millbrae', 'Mill Valley', 'Milpitas', 'Mission Viejo', 'Modesto', 'Monrovia', 'Montague', 'Montclair', 'Montebello', 'Monterey', 'Monterey Park', 'Monte Sereno', 'Moorpark', 'Moraga', 'Moreno Valley', 'Morgan Hill', 'Morro Bay', 'Mountain View', 'Mount Shasta', 'Murrieta', 'Napa', 'National City', 'Needles', 'Nevada City', 'Newark', 'Newman', 'Newport Beach', 'Norco', 'Norwalk', 'Novato', 'Oakdale', 'Oakland', 'Oakley', 'Oceanside', 'Ojai', 'Ontario', 'Orange', 'Orange Cove', 'Orinda', 'Orland', 'Oroville', 'Oxnard', 'Pacifica', 'Pacific Grove', 'Palmdale', 'Palm Desert', 'Palm Springs', 'Palo Alto', 'Palos Verdes Estates', 'Paradise', 'Paramount', 'Parlier', 'Pasadena', 'Patterson', 'Perris', 'Petaluma', 'Pico Rivera', 'Piedmont', 'Pinole', 'Pismo Beach', 'Pittsburg', 'Placentia', 'Placerville', 'Pleasant Hill', 'Pleasanton', 'Plymouth', 'Point Arena', 'Pomona', 'Porterville', 'Port Hueneme', 'Portola', 'Portola Valley', 'Poway', 'Rancho Cordova', 'Rancho Cucamonga', 'Rancho Mirage', 'Rancho Palos Verdes', 'Rancho Santa Margarita', 'Red Bluff', 'Redding', 'Redlands', 'Redondo Beach', 'Redwood City', 'Reedley', 'Rialto', 'Richmond', 'Ridgecrest', 'Rio Dell', 'Rio Vista', 'Ripon', 'Riverbank', 'Riverside', 'Rocklin', 'Rohnert Park', 'Rolling Hills', 'Rolling Hills Estates', 'Rosemead', 'Roseville', 'Ross', 'Sacramento', 'St. Helena', 'Salinas', 'San Anselmo', 'San Bernardino', 'San Bruno', 'San Buenaventura (Ventura)', 'San Carlos', 'San Clemente', 'Sand City', 'San Diego', 'San Dimas', 'San Fernando', 'San Francisco', 'San Gabriel', 'Sanger', 'San Jacinto', 'San Joaquin', 'San Jose', 'San Juan Bautista', 'San Juan Capistrano', 'San Leandro', 'San Luis Obispo', 'San Marcos', 'San Marino', 'San Mateo', 'San Pablo', 'San Rafael', 'San Ramon', 'Santa Ana', 'Santa Barbara', 'Santa Clara', 'Santa Clarita', 'Santa Cruz', 'Santa Fe Springs', 'Santa Maria', 'Santa Monica', 'Santa Paula', 'Santa Rosa', 'Santee', 'Saratoga', 'Sausalito', 'Scotts Valley', 'Seal Beach', 'Seaside', 'Sebastopol', 'Selma', 'Shafter', 'Shasta Lake', 'Sierra Madre', 'Signal Hill', 'Simi Valley', 'Solana Beach', 'Soledad', 'Solvang', 'Sonoma', 'Sonora', 'South El Monte', 'South Gate', 'South Lake Tahoe', 'South Pasadena', 'South San Francisco', 'Stanton', 'Stockton', 'Suisun City', 'Sunnyvale', 'Susanville', 'Sutter Creek', 'Taft', 'Tehachapi', 'Tehama', 'Temecula', 'Temple City', 'Thousand Oaks', 'Tiburon', 'Torrance', 'Tracy', 'Trinidad', 'Truckee', 'Tulare', 'Tulelake', 'Turlock', 'Tustin', 'Twentynine Palms', 'Ukiah', 'Union City', 'Upland', 'Vacaville', 'Vallejo', 'Vernon', 'Victorville', 'Villa Park', 'Visalia', 'Vista', 'Walnut', 'Walnut Creek', 'Wasco', 'Waterford', 'Watsonville', 'Weed', 'West Covina', 'West Hollywood', 'Westlake Village', 'Westminster', 'Westmorland', 'West Sacramento', 'Wheatland', 'Whittier', 'Wildomar', 'Williams', 'Willits', 'Willows', 'Windsor', 'Winters', 'Woodlake', 'Woodland', 'Woodside', 'Yorba Linda', 'Yountville', 'Yreka', 'Yuba City', 'Yucaipa', 'Yucca Valley']\n"
          ]
        },
        {
          "output_type": "execute_result",
          "data": {
            "text/html": [
              "<div>\n",
              "<style scoped>\n",
              "    .dataframe tbody tr th:only-of-type {\n",
              "        vertical-align: middle;\n",
              "    }\n",
              "\n",
              "    .dataframe tbody tr th {\n",
              "        vertical-align: top;\n",
              "    }\n",
              "\n",
              "    .dataframe thead th {\n",
              "        text-align: right;\n",
              "    }\n",
              "</style>\n",
              "<table border=\"1\" class=\"dataframe\">\n",
              "  <thead>\n",
              "    <tr style=\"text-align: right;\">\n",
              "      <th></th>\n",
              "      <th>city</th>\n",
              "      <th>state</th>\n",
              "      <th>population</th>\n",
              "    </tr>\n",
              "  </thead>\n",
              "  <tbody>\n",
              "    <tr>\n",
              "      <th>0</th>\n",
              "      <td>Port Alberni</td>\n",
              "      <td>BC</td>\n",
              "      <td>19060</td>\n",
              "    </tr>\n",
              "    <tr>\n",
              "      <th>1</th>\n",
              "      <td>Tofino</td>\n",
              "      <td>BC</td>\n",
              "      <td>2522</td>\n",
              "    </tr>\n",
              "    <tr>\n",
              "      <th>2</th>\n",
              "      <td>Ucluelet</td>\n",
              "      <td>BC</td>\n",
              "      <td>1941</td>\n",
              "    </tr>\n",
              "    <tr>\n",
              "      <th>3</th>\n",
              "      <td>Burns Lake</td>\n",
              "      <td>BC</td>\n",
              "      <td>1869</td>\n",
              "    </tr>\n",
              "    <tr>\n",
              "      <th>4</th>\n",
              "      <td>Fort St. James</td>\n",
              "      <td>BC</td>\n",
              "      <td>1746</td>\n",
              "    </tr>\n",
              "    <tr>\n",
              "      <th>...</th>\n",
              "      <td>...</td>\n",
              "      <td>...</td>\n",
              "      <td>...</td>\n",
              "    </tr>\n",
              "    <tr>\n",
              "      <th>640</th>\n",
              "      <td>Yountville</td>\n",
              "      <td>CA</td>\n",
              "      <td>2966</td>\n",
              "    </tr>\n",
              "    <tr>\n",
              "      <th>641</th>\n",
              "      <td>Yreka</td>\n",
              "      <td>CA</td>\n",
              "      <td>7518</td>\n",
              "    </tr>\n",
              "    <tr>\n",
              "      <th>642</th>\n",
              "      <td>Yuba City</td>\n",
              "      <td>CA</td>\n",
              "      <td>67010</td>\n",
              "    </tr>\n",
              "    <tr>\n",
              "      <th>643</th>\n",
              "      <td>Yucaipa</td>\n",
              "      <td>CA</td>\n",
              "      <td>53921</td>\n",
              "    </tr>\n",
              "    <tr>\n",
              "      <th>644</th>\n",
              "      <td>Yucca Valley</td>\n",
              "      <td>CA</td>\n",
              "      <td>21777</td>\n",
              "    </tr>\n",
              "  </tbody>\n",
              "</table>\n",
              "<p>645 rows × 3 columns</p>\n",
              "</div>"
            ],
            "text/plain": [
              "               city state  population\n",
              "0      Port Alberni    BC       19060\n",
              "1            Tofino    BC        2522\n",
              "2          Ucluelet    BC        1941\n",
              "3        Burns Lake    BC        1869\n",
              "4    Fort St. James    BC        1746\n",
              "..              ...   ...         ...\n",
              "640      Yountville    CA        2966\n",
              "641           Yreka    CA        7518\n",
              "642       Yuba City    CA       67010\n",
              "643         Yucaipa    CA       53921\n",
              "644    Yucca Valley    CA       21777\n",
              "\n",
              "[645 rows x 3 columns]"
            ]
          },
          "metadata": {},
          "execution_count": 20
        }
      ]
    },
    {
      "cell_type": "code",
      "metadata": {
        "colab": {
          "base_uri": "https://localhost:8080/",
          "height": 414
        },
        "id": "VDZgwuAuw5_J",
        "outputId": "ac62dc8c-8e9c-4c5c-8eea-2c160eeae35f"
      },
      "source": [
        "cities1_final = cities1.sort_values(by=['state', 'population'], ascending=False)\n",
        "cities1_final.head(900)"
      ],
      "execution_count": null,
      "outputs": [
        {
          "output_type": "execute_result",
          "data": {
            "text/html": [
              "<div>\n",
              "<style scoped>\n",
              "    .dataframe tbody tr th:only-of-type {\n",
              "        vertical-align: middle;\n",
              "    }\n",
              "\n",
              "    .dataframe tbody tr th {\n",
              "        vertical-align: top;\n",
              "    }\n",
              "\n",
              "    .dataframe thead th {\n",
              "        text-align: right;\n",
              "    }\n",
              "</style>\n",
              "<table border=\"1\" class=\"dataframe\">\n",
              "  <thead>\n",
              "    <tr style=\"text-align: right;\">\n",
              "      <th></th>\n",
              "      <th>city</th>\n",
              "      <th>state</th>\n",
              "      <th>population</th>\n",
              "    </tr>\n",
              "  </thead>\n",
              "  <tbody>\n",
              "    <tr>\n",
              "      <th>403</th>\n",
              "      <td>Los Angeles</td>\n",
              "      <td>CA</td>\n",
              "      <td>3979576</td>\n",
              "    </tr>\n",
              "    <tr>\n",
              "      <th>532</th>\n",
              "      <td>San Diego</td>\n",
              "      <td>CA</td>\n",
              "      <td>1423851</td>\n",
              "    </tr>\n",
              "    <tr>\n",
              "      <th>540</th>\n",
              "      <td>San Jose</td>\n",
              "      <td>CA</td>\n",
              "      <td>1021795</td>\n",
              "    </tr>\n",
              "    <tr>\n",
              "      <th>535</th>\n",
              "      <td>San Francisco</td>\n",
              "      <td>CA</td>\n",
              "      <td>881549</td>\n",
              "    </tr>\n",
              "    <tr>\n",
              "      <th>314</th>\n",
              "      <td>Fresno</td>\n",
              "      <td>CA</td>\n",
              "      <td>531576</td>\n",
              "    </tr>\n",
              "    <tr>\n",
              "      <th>...</th>\n",
              "      <td>...</td>\n",
              "      <td>...</td>\n",
              "      <td>...</td>\n",
              "    </tr>\n",
              "    <tr>\n",
              "      <th>160</th>\n",
              "      <td>Lytton</td>\n",
              "      <td>BC</td>\n",
              "      <td>275</td>\n",
              "    </tr>\n",
              "    <tr>\n",
              "      <th>26</th>\n",
              "      <td>Wells</td>\n",
              "      <td>BC</td>\n",
              "      <td>231</td>\n",
              "    </tr>\n",
              "    <tr>\n",
              "      <th>36</th>\n",
              "      <td>Silverton</td>\n",
              "      <td>BC</td>\n",
              "      <td>205</td>\n",
              "    </tr>\n",
              "    <tr>\n",
              "      <th>149</th>\n",
              "      <td>Zeballos</td>\n",
              "      <td>BC</td>\n",
              "      <td>118</td>\n",
              "    </tr>\n",
              "    <tr>\n",
              "      <th>134</th>\n",
              "      <td>Sechelt Ind Gov Dist (Part-Powell River)</td>\n",
              "      <td>BC</td>\n",
              "      <td>21</td>\n",
              "    </tr>\n",
              "  </tbody>\n",
              "</table>\n",
              "<p>645 rows × 3 columns</p>\n",
              "</div>"
            ],
            "text/plain": [
              "                                         city state  population\n",
              "403                               Los Angeles    CA     3979576\n",
              "532                                 San Diego    CA     1423851\n",
              "540                                  San Jose    CA     1021795\n",
              "535                             San Francisco    CA      881549\n",
              "314                                    Fresno    CA      531576\n",
              "..                                        ...   ...         ...\n",
              "160                                    Lytton    BC         275\n",
              "26                                      Wells    BC         231\n",
              "36                                  Silverton    BC         205\n",
              "149                                  Zeballos    BC         118\n",
              "134  Sechelt Ind Gov Dist (Part-Powell River)    BC          21\n",
              "\n",
              "[645 rows x 3 columns]"
            ]
          },
          "metadata": {},
          "execution_count": 29
        }
      ]
    },
    {
      "cell_type": "code",
      "metadata": {
        "id": "9gJnnVKewshs"
      },
      "source": [
        "cities1_final.to_csv(r'/content/drive/MyDrive/Fall 2021/550/Group Project/Datasets/Clean Scraped Data/cities.csv', index=False)"
      ],
      "execution_count": null,
      "outputs": []
    },
    {
      "cell_type": "code",
      "metadata": {
        "id": "3X01bHaT1KF9"
      },
      "source": [
        "fp = '/content/drive/MyDrive/Fall 2021/550/Group Project/Datasets/cities_new.csv'\n",
        "cities_new = pd.read_csv(fp)\n",
        "cities_new['version'] = 'new'\n",
        "\n",
        "fp = '/content/drive/MyDrive/Fall 2021/550/Group Project/Datasets/cities_old.csv'\n",
        "cities_old = pd.read_csv(fp)\n",
        "cities_old['version'] = 'old'\n"
      ],
      "execution_count": null,
      "outputs": []
    },
    {
      "cell_type": "code",
      "metadata": {
        "colab": {
          "base_uri": "https://localhost:8080/",
          "height": 202
        },
        "id": "p1jPsdte5m20",
        "outputId": "dad63226-e320-4d45-feac-934b9a5fa624"
      },
      "source": [
        "cities_new.head()"
      ],
      "execution_count": null,
      "outputs": [
        {
          "output_type": "execute_result",
          "data": {
            "text/html": [
              "<div>\n",
              "<style scoped>\n",
              "    .dataframe tbody tr th:only-of-type {\n",
              "        vertical-align: middle;\n",
              "    }\n",
              "\n",
              "    .dataframe tbody tr th {\n",
              "        vertical-align: top;\n",
              "    }\n",
              "\n",
              "    .dataframe thead th {\n",
              "        text-align: right;\n",
              "    }\n",
              "</style>\n",
              "<table border=\"1\" class=\"dataframe\">\n",
              "  <thead>\n",
              "    <tr style=\"text-align: right;\">\n",
              "      <th></th>\n",
              "      <th>city</th>\n",
              "      <th>state</th>\n",
              "      <th>population</th>\n",
              "      <th>country</th>\n",
              "      <th>version</th>\n",
              "    </tr>\n",
              "  </thead>\n",
              "  <tbody>\n",
              "    <tr>\n",
              "      <th>0</th>\n",
              "      <td>Los Angeles</td>\n",
              "      <td>CA</td>\n",
              "      <td>3979576</td>\n",
              "      <td>United States</td>\n",
              "      <td>new</td>\n",
              "    </tr>\n",
              "    <tr>\n",
              "      <th>1</th>\n",
              "      <td>San Diego</td>\n",
              "      <td>CA</td>\n",
              "      <td>1423851</td>\n",
              "      <td>United States</td>\n",
              "      <td>new</td>\n",
              "    </tr>\n",
              "    <tr>\n",
              "      <th>2</th>\n",
              "      <td>San Jose</td>\n",
              "      <td>CA</td>\n",
              "      <td>1021795</td>\n",
              "      <td>United States</td>\n",
              "      <td>new</td>\n",
              "    </tr>\n",
              "    <tr>\n",
              "      <th>3</th>\n",
              "      <td>San Francisco</td>\n",
              "      <td>CA</td>\n",
              "      <td>881549</td>\n",
              "      <td>United States</td>\n",
              "      <td>new</td>\n",
              "    </tr>\n",
              "    <tr>\n",
              "      <th>4</th>\n",
              "      <td>Fresno</td>\n",
              "      <td>CA</td>\n",
              "      <td>531576</td>\n",
              "      <td>United States</td>\n",
              "      <td>new</td>\n",
              "    </tr>\n",
              "  </tbody>\n",
              "</table>\n",
              "</div>"
            ],
            "text/plain": [
              "            city state  population        country version\n",
              "0    Los Angeles    CA     3979576  United States     new\n",
              "1      San Diego    CA     1423851  United States     new\n",
              "2       San Jose    CA     1021795  United States     new\n",
              "3  San Francisco    CA      881549  United States     new\n",
              "4         Fresno    CA      531576  United States     new"
            ]
          },
          "metadata": {},
          "execution_count": 98
        }
      ]
    },
    {
      "cell_type": "code",
      "metadata": {
        "colab": {
          "base_uri": "https://localhost:8080/",
          "height": 202
        },
        "id": "6Ky1Dbol5o2z",
        "outputId": "4c35f9b3-dee8-4501-e525-48d5798e7642"
      },
      "source": [
        "cities_old.head()"
      ],
      "execution_count": null,
      "outputs": [
        {
          "output_type": "execute_result",
          "data": {
            "text/html": [
              "<div>\n",
              "<style scoped>\n",
              "    .dataframe tbody tr th:only-of-type {\n",
              "        vertical-align: middle;\n",
              "    }\n",
              "\n",
              "    .dataframe tbody tr th {\n",
              "        vertical-align: top;\n",
              "    }\n",
              "\n",
              "    .dataframe thead th {\n",
              "        text-align: right;\n",
              "    }\n",
              "</style>\n",
              "<table border=\"1\" class=\"dataframe\">\n",
              "  <thead>\n",
              "    <tr style=\"text-align: right;\">\n",
              "      <th></th>\n",
              "      <th>city</th>\n",
              "      <th>state</th>\n",
              "      <th>population</th>\n",
              "      <th>country</th>\n",
              "      <th>version</th>\n",
              "    </tr>\n",
              "  </thead>\n",
              "  <tbody>\n",
              "    <tr>\n",
              "      <th>0</th>\n",
              "      <td>Los Angeles</td>\n",
              "      <td>CA</td>\n",
              "      <td>12750807</td>\n",
              "      <td>United States</td>\n",
              "      <td>old</td>\n",
              "    </tr>\n",
              "    <tr>\n",
              "      <th>1</th>\n",
              "      <td>San Francisco</td>\n",
              "      <td>CA</td>\n",
              "      <td>3592294</td>\n",
              "      <td>United States</td>\n",
              "      <td>old</td>\n",
              "    </tr>\n",
              "    <tr>\n",
              "      <th>2</th>\n",
              "      <td>San Diego</td>\n",
              "      <td>CA</td>\n",
              "      <td>3220118</td>\n",
              "      <td>United States</td>\n",
              "      <td>old</td>\n",
              "    </tr>\n",
              "    <tr>\n",
              "      <th>3</th>\n",
              "      <td>Riverside</td>\n",
              "      <td>CA</td>\n",
              "      <td>2107852</td>\n",
              "      <td>United States</td>\n",
              "      <td>old</td>\n",
              "    </tr>\n",
              "    <tr>\n",
              "      <th>4</th>\n",
              "      <td>Sacramento</td>\n",
              "      <td>CA</td>\n",
              "      <td>1898019</td>\n",
              "      <td>United States</td>\n",
              "      <td>old</td>\n",
              "    </tr>\n",
              "  </tbody>\n",
              "</table>\n",
              "</div>"
            ],
            "text/plain": [
              "            city state  population        country version\n",
              "0    Los Angeles    CA    12750807  United States     old\n",
              "1  San Francisco    CA     3592294  United States     old\n",
              "2      San Diego    CA     3220118  United States     old\n",
              "3      Riverside    CA     2107852  United States     old\n",
              "4     Sacramento    CA     1898019  United States     old"
            ]
          },
          "metadata": {},
          "execution_count": 99
        }
      ]
    },
    {
      "cell_type": "code",
      "metadata": {
        "colab": {
          "base_uri": "https://localhost:8080/",
          "height": 414
        },
        "id": "dH3SDK0G1WMN",
        "outputId": "1863c653-d076-4850-afe1-0ce5c13e3983"
      },
      "source": [
        "union_cities = pd.concat([cities_new, cities_old], join='outer')\n",
        "union_cities.head(2000)"
      ],
      "execution_count": null,
      "outputs": [
        {
          "output_type": "execute_result",
          "data": {
            "text/html": [
              "<div>\n",
              "<style scoped>\n",
              "    .dataframe tbody tr th:only-of-type {\n",
              "        vertical-align: middle;\n",
              "    }\n",
              "\n",
              "    .dataframe tbody tr th {\n",
              "        vertical-align: top;\n",
              "    }\n",
              "\n",
              "    .dataframe thead th {\n",
              "        text-align: right;\n",
              "    }\n",
              "</style>\n",
              "<table border=\"1\" class=\"dataframe\">\n",
              "  <thead>\n",
              "    <tr style=\"text-align: right;\">\n",
              "      <th></th>\n",
              "      <th>city</th>\n",
              "      <th>state</th>\n",
              "      <th>population</th>\n",
              "      <th>country</th>\n",
              "      <th>version</th>\n",
              "    </tr>\n",
              "  </thead>\n",
              "  <tbody>\n",
              "    <tr>\n",
              "      <th>0</th>\n",
              "      <td>Los Angeles</td>\n",
              "      <td>CA</td>\n",
              "      <td>3979576</td>\n",
              "      <td>United States</td>\n",
              "      <td>new</td>\n",
              "    </tr>\n",
              "    <tr>\n",
              "      <th>1</th>\n",
              "      <td>San Diego</td>\n",
              "      <td>CA</td>\n",
              "      <td>1423851</td>\n",
              "      <td>United States</td>\n",
              "      <td>new</td>\n",
              "    </tr>\n",
              "    <tr>\n",
              "      <th>2</th>\n",
              "      <td>San Jose</td>\n",
              "      <td>CA</td>\n",
              "      <td>1021795</td>\n",
              "      <td>United States</td>\n",
              "      <td>new</td>\n",
              "    </tr>\n",
              "    <tr>\n",
              "      <th>3</th>\n",
              "      <td>San Francisco</td>\n",
              "      <td>CA</td>\n",
              "      <td>881549</td>\n",
              "      <td>United States</td>\n",
              "      <td>new</td>\n",
              "    </tr>\n",
              "    <tr>\n",
              "      <th>4</th>\n",
              "      <td>Fresno</td>\n",
              "      <td>CA</td>\n",
              "      <td>531576</td>\n",
              "      <td>United States</td>\n",
              "      <td>new</td>\n",
              "    </tr>\n",
              "    <tr>\n",
              "      <th>...</th>\n",
              "      <td>...</td>\n",
              "      <td>...</td>\n",
              "      <td>...</td>\n",
              "      <td>...</td>\n",
              "      <td>...</td>\n",
              "    </tr>\n",
              "    <tr>\n",
              "      <th>722</th>\n",
              "      <td>Smithers</td>\n",
              "      <td>BC</td>\n",
              "      <td>5351</td>\n",
              "      <td>Canada</td>\n",
              "      <td>old</td>\n",
              "    </tr>\n",
              "    <tr>\n",
              "      <th>723</th>\n",
              "      <td>Creston</td>\n",
              "      <td>BC</td>\n",
              "      <td>5351</td>\n",
              "      <td>Canada</td>\n",
              "      <td>old</td>\n",
              "    </tr>\n",
              "    <tr>\n",
              "      <th>724</th>\n",
              "      <td>Fernie</td>\n",
              "      <td>BC</td>\n",
              "      <td>5249</td>\n",
              "      <td>Canada</td>\n",
              "      <td>old</td>\n",
              "    </tr>\n",
              "    <tr>\n",
              "      <th>725</th>\n",
              "      <td>Spallumcheen</td>\n",
              "      <td>BC</td>\n",
              "      <td>5106</td>\n",
              "      <td>Canada</td>\n",
              "      <td>old</td>\n",
              "    </tr>\n",
              "    <tr>\n",
              "      <th>726</th>\n",
              "      <td>Osoyoos</td>\n",
              "      <td>BC</td>\n",
              "      <td>5085</td>\n",
              "      <td>Canada</td>\n",
              "      <td>old</td>\n",
              "    </tr>\n",
              "  </tbody>\n",
              "</table>\n",
              "<p>1369 rows × 5 columns</p>\n",
              "</div>"
            ],
            "text/plain": [
              "              city state  population        country version\n",
              "0      Los Angeles    CA     3979576  United States     new\n",
              "1        San Diego    CA     1423851  United States     new\n",
              "2         San Jose    CA     1021795  United States     new\n",
              "3    San Francisco    CA      881549  United States     new\n",
              "4           Fresno    CA      531576  United States     new\n",
              "..             ...   ...         ...            ...     ...\n",
              "722       Smithers    BC        5351         Canada     old\n",
              "723        Creston    BC        5351         Canada     old\n",
              "724         Fernie    BC        5249         Canada     old\n",
              "725   Spallumcheen    BC        5106         Canada     old\n",
              "726        Osoyoos    BC        5085         Canada     old\n",
              "\n",
              "[1369 rows x 5 columns]"
            ]
          },
          "metadata": {},
          "execution_count": 100
        }
      ]
    },
    {
      "cell_type": "code",
      "metadata": {
        "colab": {
          "base_uri": "https://localhost:8080/",
          "height": 414
        },
        "id": "pevVKDli_J1R",
        "outputId": "6bab7a13-7723-4fcb-9adb-4d6640c1dfbd"
      },
      "source": [
        "union_cities_final = union_cities.sort_values(by=['state', 'city'], ascending=False)\n",
        "union_cities_final.head(2000)"
      ],
      "execution_count": null,
      "outputs": [
        {
          "output_type": "execute_result",
          "data": {
            "text/html": [
              "<div>\n",
              "<style scoped>\n",
              "    .dataframe tbody tr th:only-of-type {\n",
              "        vertical-align: middle;\n",
              "    }\n",
              "\n",
              "    .dataframe tbody tr th {\n",
              "        vertical-align: top;\n",
              "    }\n",
              "\n",
              "    .dataframe thead th {\n",
              "        text-align: right;\n",
              "    }\n",
              "</style>\n",
              "<table border=\"1\" class=\"dataframe\">\n",
              "  <thead>\n",
              "    <tr style=\"text-align: right;\">\n",
              "      <th></th>\n",
              "      <th>city</th>\n",
              "      <th>state</th>\n",
              "      <th>population</th>\n",
              "      <th>country</th>\n",
              "      <th>version</th>\n",
              "    </tr>\n",
              "  </thead>\n",
              "  <tbody>\n",
              "    <tr>\n",
              "      <th>291</th>\n",
              "      <td>Yucca Valley</td>\n",
              "      <td>CA</td>\n",
              "      <td>21777</td>\n",
              "      <td>United States</td>\n",
              "      <td>new</td>\n",
              "    </tr>\n",
              "    <tr>\n",
              "      <th>313</th>\n",
              "      <td>Yucca Valley</td>\n",
              "      <td>CA</td>\n",
              "      <td>25042</td>\n",
              "      <td>United States</td>\n",
              "      <td>old</td>\n",
              "    </tr>\n",
              "    <tr>\n",
              "      <th>168</th>\n",
              "      <td>Yucaipa</td>\n",
              "      <td>CA</td>\n",
              "      <td>53921</td>\n",
              "      <td>United States</td>\n",
              "      <td>new</td>\n",
              "    </tr>\n",
              "    <tr>\n",
              "      <th>182</th>\n",
              "      <td>Yucaipa</td>\n",
              "      <td>CA</td>\n",
              "      <td>53921</td>\n",
              "      <td>United States</td>\n",
              "      <td>old</td>\n",
              "    </tr>\n",
              "    <tr>\n",
              "      <th>131</th>\n",
              "      <td>Yuba City</td>\n",
              "      <td>CA</td>\n",
              "      <td>67010</td>\n",
              "      <td>United States</td>\n",
              "      <td>new</td>\n",
              "    </tr>\n",
              "    <tr>\n",
              "      <th>...</th>\n",
              "      <td>...</td>\n",
              "      <td>...</td>\n",
              "      <td>...</td>\n",
              "      <td>...</td>\n",
              "      <td>...</td>\n",
              "    </tr>\n",
              "    <tr>\n",
              "      <th>557</th>\n",
              "      <td>Armstrong</td>\n",
              "      <td>BC</td>\n",
              "      <td>5433</td>\n",
              "      <td>Canada</td>\n",
              "      <td>new</td>\n",
              "    </tr>\n",
              "    <tr>\n",
              "      <th>587</th>\n",
              "      <td>Anmore</td>\n",
              "      <td>BC</td>\n",
              "      <td>2412</td>\n",
              "      <td>Canada</td>\n",
              "      <td>new</td>\n",
              "    </tr>\n",
              "    <tr>\n",
              "      <th>630</th>\n",
              "      <td>Alert Bay</td>\n",
              "      <td>BC</td>\n",
              "      <td>441</td>\n",
              "      <td>Canada</td>\n",
              "      <td>new</td>\n",
              "    </tr>\n",
              "    <tr>\n",
              "      <th>487</th>\n",
              "      <td>Abbotsford</td>\n",
              "      <td>BC</td>\n",
              "      <td>161581</td>\n",
              "      <td>Canada</td>\n",
              "      <td>new</td>\n",
              "    </tr>\n",
              "    <tr>\n",
              "      <th>658</th>\n",
              "      <td>Abbotsford</td>\n",
              "      <td>BC</td>\n",
              "      <td>141397</td>\n",
              "      <td>Canada</td>\n",
              "      <td>old</td>\n",
              "    </tr>\n",
              "  </tbody>\n",
              "</table>\n",
              "<p>1369 rows × 5 columns</p>\n",
              "</div>"
            ],
            "text/plain": [
              "             city state  population        country version\n",
              "291  Yucca Valley    CA       21777  United States     new\n",
              "313  Yucca Valley    CA       25042  United States     old\n",
              "168       Yucaipa    CA       53921  United States     new\n",
              "182       Yucaipa    CA       53921  United States     old\n",
              "131     Yuba City    CA       67010  United States     new\n",
              "..            ...   ...         ...            ...     ...\n",
              "557     Armstrong    BC        5433         Canada     new\n",
              "587        Anmore    BC        2412         Canada     new\n",
              "630     Alert Bay    BC         441         Canada     new\n",
              "487    Abbotsford    BC      161581         Canada     new\n",
              "658    Abbotsford    BC      141397         Canada     old\n",
              "\n",
              "[1369 rows x 5 columns]"
            ]
          },
          "metadata": {},
          "execution_count": 101
        }
      ]
    },
    {
      "cell_type": "code",
      "metadata": {
        "colab": {
          "base_uri": "https://localhost:8080/",
          "height": 414
        },
        "id": "x1NHzrDiD-e5",
        "outputId": "dabf38e6-ebd0-45f0-d1b1-69cf5bbf21c3"
      },
      "source": [
        "merged_cities = pd.merge(cities_new, cities_old,  how='outer', left_on=['city','state'], right_on = ['city','state'])\n",
        "merged_cities.head(2000)\n"
      ],
      "execution_count": null,
      "outputs": [
        {
          "output_type": "execute_result",
          "data": {
            "text/html": [
              "<div>\n",
              "<style scoped>\n",
              "    .dataframe tbody tr th:only-of-type {\n",
              "        vertical-align: middle;\n",
              "    }\n",
              "\n",
              "    .dataframe tbody tr th {\n",
              "        vertical-align: top;\n",
              "    }\n",
              "\n",
              "    .dataframe thead th {\n",
              "        text-align: right;\n",
              "    }\n",
              "</style>\n",
              "<table border=\"1\" class=\"dataframe\">\n",
              "  <thead>\n",
              "    <tr style=\"text-align: right;\">\n",
              "      <th></th>\n",
              "      <th>city</th>\n",
              "      <th>state</th>\n",
              "      <th>population_x</th>\n",
              "      <th>country_x</th>\n",
              "      <th>version_x</th>\n",
              "      <th>population_y</th>\n",
              "      <th>country_y</th>\n",
              "      <th>version_y</th>\n",
              "    </tr>\n",
              "  </thead>\n",
              "  <tbody>\n",
              "    <tr>\n",
              "      <th>0</th>\n",
              "      <td>Los Angeles</td>\n",
              "      <td>CA</td>\n",
              "      <td>3979576.0</td>\n",
              "      <td>United States</td>\n",
              "      <td>new</td>\n",
              "      <td>12750807.0</td>\n",
              "      <td>United States</td>\n",
              "      <td>old</td>\n",
              "    </tr>\n",
              "    <tr>\n",
              "      <th>1</th>\n",
              "      <td>San Diego</td>\n",
              "      <td>CA</td>\n",
              "      <td>1423851.0</td>\n",
              "      <td>United States</td>\n",
              "      <td>new</td>\n",
              "      <td>3220118.0</td>\n",
              "      <td>United States</td>\n",
              "      <td>old</td>\n",
              "    </tr>\n",
              "    <tr>\n",
              "      <th>2</th>\n",
              "      <td>San Jose</td>\n",
              "      <td>CA</td>\n",
              "      <td>1021795.0</td>\n",
              "      <td>United States</td>\n",
              "      <td>new</td>\n",
              "      <td>1798103.0</td>\n",
              "      <td>United States</td>\n",
              "      <td>old</td>\n",
              "    </tr>\n",
              "    <tr>\n",
              "      <th>3</th>\n",
              "      <td>San Francisco</td>\n",
              "      <td>CA</td>\n",
              "      <td>881549.0</td>\n",
              "      <td>United States</td>\n",
              "      <td>new</td>\n",
              "      <td>3592294.0</td>\n",
              "      <td>United States</td>\n",
              "      <td>old</td>\n",
              "    </tr>\n",
              "    <tr>\n",
              "      <th>4</th>\n",
              "      <td>Fresno</td>\n",
              "      <td>CA</td>\n",
              "      <td>531576.0</td>\n",
              "      <td>United States</td>\n",
              "      <td>new</td>\n",
              "      <td>703498.0</td>\n",
              "      <td>United States</td>\n",
              "      <td>old</td>\n",
              "    </tr>\n",
              "    <tr>\n",
              "      <th>...</th>\n",
              "      <td>...</td>\n",
              "      <td>...</td>\n",
              "      <td>...</td>\n",
              "      <td>...</td>\n",
              "      <td>...</td>\n",
              "      <td>...</td>\n",
              "      <td>...</td>\n",
              "      <td>...</td>\n",
              "    </tr>\n",
              "    <tr>\n",
              "      <th>860</th>\n",
              "      <td>Denair</td>\n",
              "      <td>CA</td>\n",
              "      <td>NaN</td>\n",
              "      <td>NaN</td>\n",
              "      <td>NaN</td>\n",
              "      <td>5101.0</td>\n",
              "      <td>United States</td>\n",
              "      <td>old</td>\n",
              "    </tr>\n",
              "    <tr>\n",
              "      <th>861</th>\n",
              "      <td>Guerneville</td>\n",
              "      <td>CA</td>\n",
              "      <td>NaN</td>\n",
              "      <td>NaN</td>\n",
              "      <td>NaN</td>\n",
              "      <td>5014.0</td>\n",
              "      <td>United States</td>\n",
              "      <td>old</td>\n",
              "    </tr>\n",
              "    <tr>\n",
              "      <th>862</th>\n",
              "      <td>Langford Station</td>\n",
              "      <td>BC</td>\n",
              "      <td>NaN</td>\n",
              "      <td>NaN</td>\n",
              "      <td>NaN</td>\n",
              "      <td>35342.0</td>\n",
              "      <td>Canada</td>\n",
              "      <td>old</td>\n",
              "    </tr>\n",
              "    <tr>\n",
              "      <th>863</th>\n",
              "      <td>East Kelowna</td>\n",
              "      <td>BC</td>\n",
              "      <td>NaN</td>\n",
              "      <td>NaN</td>\n",
              "      <td>NaN</td>\n",
              "      <td>32655.0</td>\n",
              "      <td>Canada</td>\n",
              "      <td>old</td>\n",
              "    </tr>\n",
              "    <tr>\n",
              "      <th>864</th>\n",
              "      <td>Northern Rockies</td>\n",
              "      <td>BC</td>\n",
              "      <td>NaN</td>\n",
              "      <td>NaN</td>\n",
              "      <td>NaN</td>\n",
              "      <td>5393.0</td>\n",
              "      <td>Canada</td>\n",
              "      <td>old</td>\n",
              "    </tr>\n",
              "  </tbody>\n",
              "</table>\n",
              "<p>865 rows × 8 columns</p>\n",
              "</div>"
            ],
            "text/plain": [
              "                 city state  ...      country_y version_y\n",
              "0         Los Angeles    CA  ...  United States       old\n",
              "1           San Diego    CA  ...  United States       old\n",
              "2            San Jose    CA  ...  United States       old\n",
              "3       San Francisco    CA  ...  United States       old\n",
              "4              Fresno    CA  ...  United States       old\n",
              "..                ...   ...  ...            ...       ...\n",
              "860            Denair    CA  ...  United States       old\n",
              "861       Guerneville    CA  ...  United States       old\n",
              "862  Langford Station    BC  ...         Canada       old\n",
              "863      East Kelowna    BC  ...         Canada       old\n",
              "864  Northern Rockies    BC  ...         Canada       old\n",
              "\n",
              "[865 rows x 8 columns]"
            ]
          },
          "metadata": {},
          "execution_count": 107
        }
      ]
    },
    {
      "cell_type": "code",
      "metadata": {
        "colab": {
          "base_uri": "https://localhost:8080/",
          "height": 414
        },
        "id": "bmRdDq6iD-pp",
        "outputId": "135e0f7c-5809-46b1-a2cb-cfea9b457f27"
      },
      "source": [
        "not_in_cities_new = merged_cities[merged_cities['version_x'] != 'new' ]\n",
        "not_in_cities_new.head(2000)"
      ],
      "execution_count": null,
      "outputs": [
        {
          "output_type": "execute_result",
          "data": {
            "text/html": [
              "<div>\n",
              "<style scoped>\n",
              "    .dataframe tbody tr th:only-of-type {\n",
              "        vertical-align: middle;\n",
              "    }\n",
              "\n",
              "    .dataframe tbody tr th {\n",
              "        vertical-align: top;\n",
              "    }\n",
              "\n",
              "    .dataframe thead th {\n",
              "        text-align: right;\n",
              "    }\n",
              "</style>\n",
              "<table border=\"1\" class=\"dataframe\">\n",
              "  <thead>\n",
              "    <tr style=\"text-align: right;\">\n",
              "      <th></th>\n",
              "      <th>city</th>\n",
              "      <th>state</th>\n",
              "      <th>population_x</th>\n",
              "      <th>country_x</th>\n",
              "      <th>version_x</th>\n",
              "      <th>population_y</th>\n",
              "      <th>country_y</th>\n",
              "      <th>version_y</th>\n",
              "    </tr>\n",
              "  </thead>\n",
              "  <tbody>\n",
              "    <tr>\n",
              "      <th>642</th>\n",
              "      <td>East Los Angeles</td>\n",
              "      <td>CA</td>\n",
              "      <td>NaN</td>\n",
              "      <td>NaN</td>\n",
              "      <td>NaN</td>\n",
              "      <td>121187.0</td>\n",
              "      <td>United States</td>\n",
              "      <td>old</td>\n",
              "    </tr>\n",
              "    <tr>\n",
              "      <th>643</th>\n",
              "      <td>San Buenaventura</td>\n",
              "      <td>CA</td>\n",
              "      <td>NaN</td>\n",
              "      <td>NaN</td>\n",
              "      <td>NaN</td>\n",
              "      <td>109106.0</td>\n",
              "      <td>United States</td>\n",
              "      <td>old</td>\n",
              "    </tr>\n",
              "    <tr>\n",
              "      <th>644</th>\n",
              "      <td>Arden-Arcade</td>\n",
              "      <td>CA</td>\n",
              "      <td>NaN</td>\n",
              "      <td>NaN</td>\n",
              "      <td>NaN</td>\n",
              "      <td>102864.0</td>\n",
              "      <td>United States</td>\n",
              "      <td>old</td>\n",
              "    </tr>\n",
              "    <tr>\n",
              "      <th>645</th>\n",
              "      <td>El Paso de Robles</td>\n",
              "      <td>CA</td>\n",
              "      <td>NaN</td>\n",
              "      <td>NaN</td>\n",
              "      <td>NaN</td>\n",
              "      <td>70248.0</td>\n",
              "      <td>United States</td>\n",
              "      <td>old</td>\n",
              "    </tr>\n",
              "    <tr>\n",
              "      <th>646</th>\n",
              "      <td>Florence-Graham</td>\n",
              "      <td>CA</td>\n",
              "      <td>NaN</td>\n",
              "      <td>NaN</td>\n",
              "      <td>NaN</td>\n",
              "      <td>65716.0</td>\n",
              "      <td>United States</td>\n",
              "      <td>old</td>\n",
              "    </tr>\n",
              "    <tr>\n",
              "      <th>...</th>\n",
              "      <td>...</td>\n",
              "      <td>...</td>\n",
              "      <td>...</td>\n",
              "      <td>...</td>\n",
              "      <td>...</td>\n",
              "      <td>...</td>\n",
              "      <td>...</td>\n",
              "      <td>...</td>\n",
              "    </tr>\n",
              "    <tr>\n",
              "      <th>860</th>\n",
              "      <td>Denair</td>\n",
              "      <td>CA</td>\n",
              "      <td>NaN</td>\n",
              "      <td>NaN</td>\n",
              "      <td>NaN</td>\n",
              "      <td>5101.0</td>\n",
              "      <td>United States</td>\n",
              "      <td>old</td>\n",
              "    </tr>\n",
              "    <tr>\n",
              "      <th>861</th>\n",
              "      <td>Guerneville</td>\n",
              "      <td>CA</td>\n",
              "      <td>NaN</td>\n",
              "      <td>NaN</td>\n",
              "      <td>NaN</td>\n",
              "      <td>5014.0</td>\n",
              "      <td>United States</td>\n",
              "      <td>old</td>\n",
              "    </tr>\n",
              "    <tr>\n",
              "      <th>862</th>\n",
              "      <td>Langford Station</td>\n",
              "      <td>BC</td>\n",
              "      <td>NaN</td>\n",
              "      <td>NaN</td>\n",
              "      <td>NaN</td>\n",
              "      <td>35342.0</td>\n",
              "      <td>Canada</td>\n",
              "      <td>old</td>\n",
              "    </tr>\n",
              "    <tr>\n",
              "      <th>863</th>\n",
              "      <td>East Kelowna</td>\n",
              "      <td>BC</td>\n",
              "      <td>NaN</td>\n",
              "      <td>NaN</td>\n",
              "      <td>NaN</td>\n",
              "      <td>32655.0</td>\n",
              "      <td>Canada</td>\n",
              "      <td>old</td>\n",
              "    </tr>\n",
              "    <tr>\n",
              "      <th>864</th>\n",
              "      <td>Northern Rockies</td>\n",
              "      <td>BC</td>\n",
              "      <td>NaN</td>\n",
              "      <td>NaN</td>\n",
              "      <td>NaN</td>\n",
              "      <td>5393.0</td>\n",
              "      <td>Canada</td>\n",
              "      <td>old</td>\n",
              "    </tr>\n",
              "  </tbody>\n",
              "</table>\n",
              "<p>223 rows × 8 columns</p>\n",
              "</div>"
            ],
            "text/plain": [
              "                  city state  ...      country_y version_y\n",
              "642   East Los Angeles    CA  ...  United States       old\n",
              "643   San Buenaventura    CA  ...  United States       old\n",
              "644       Arden-Arcade    CA  ...  United States       old\n",
              "645  El Paso de Robles    CA  ...  United States       old\n",
              "646    Florence-Graham    CA  ...  United States       old\n",
              "..                 ...   ...  ...            ...       ...\n",
              "860             Denair    CA  ...  United States       old\n",
              "861        Guerneville    CA  ...  United States       old\n",
              "862   Langford Station    BC  ...         Canada       old\n",
              "863       East Kelowna    BC  ...         Canada       old\n",
              "864   Northern Rockies    BC  ...         Canada       old\n",
              "\n",
              "[223 rows x 8 columns]"
            ]
          },
          "metadata": {},
          "execution_count": 119
        }
      ]
    },
    {
      "cell_type": "code",
      "metadata": {
        "colab": {
          "base_uri": "https://localhost:8080/",
          "height": 414
        },
        "id": "gq7fSmAsD-w4",
        "outputId": "70c84c86-1165-4c00-dfc7-f89e0f9e4a39"
      },
      "source": [
        "df = pd.DataFrame([])\n",
        "df['city']=not_in_cities_new['city']\n",
        "df['state']=not_in_cities_new['state']\n",
        "df['country']=not_in_cities_new['country_y']\n",
        "df['population']=not_in_cities_new['population_y']\n",
        "\n",
        "\n",
        "df.head(2000)"
      ],
      "execution_count": null,
      "outputs": [
        {
          "output_type": "execute_result",
          "data": {
            "text/html": [
              "<div>\n",
              "<style scoped>\n",
              "    .dataframe tbody tr th:only-of-type {\n",
              "        vertical-align: middle;\n",
              "    }\n",
              "\n",
              "    .dataframe tbody tr th {\n",
              "        vertical-align: top;\n",
              "    }\n",
              "\n",
              "    .dataframe thead th {\n",
              "        text-align: right;\n",
              "    }\n",
              "</style>\n",
              "<table border=\"1\" class=\"dataframe\">\n",
              "  <thead>\n",
              "    <tr style=\"text-align: right;\">\n",
              "      <th></th>\n",
              "      <th>city</th>\n",
              "      <th>state</th>\n",
              "      <th>country</th>\n",
              "      <th>population</th>\n",
              "    </tr>\n",
              "  </thead>\n",
              "  <tbody>\n",
              "    <tr>\n",
              "      <th>642</th>\n",
              "      <td>East Los Angeles</td>\n",
              "      <td>CA</td>\n",
              "      <td>United States</td>\n",
              "      <td>121187.0</td>\n",
              "    </tr>\n",
              "    <tr>\n",
              "      <th>643</th>\n",
              "      <td>San Buenaventura</td>\n",
              "      <td>CA</td>\n",
              "      <td>United States</td>\n",
              "      <td>109106.0</td>\n",
              "    </tr>\n",
              "    <tr>\n",
              "      <th>644</th>\n",
              "      <td>Arden-Arcade</td>\n",
              "      <td>CA</td>\n",
              "      <td>United States</td>\n",
              "      <td>102864.0</td>\n",
              "    </tr>\n",
              "    <tr>\n",
              "      <th>645</th>\n",
              "      <td>El Paso de Robles</td>\n",
              "      <td>CA</td>\n",
              "      <td>United States</td>\n",
              "      <td>70248.0</td>\n",
              "    </tr>\n",
              "    <tr>\n",
              "      <th>646</th>\n",
              "      <td>Florence-Graham</td>\n",
              "      <td>CA</td>\n",
              "      <td>United States</td>\n",
              "      <td>65716.0</td>\n",
              "    </tr>\n",
              "    <tr>\n",
              "      <th>...</th>\n",
              "      <td>...</td>\n",
              "      <td>...</td>\n",
              "      <td>...</td>\n",
              "      <td>...</td>\n",
              "    </tr>\n",
              "    <tr>\n",
              "      <th>860</th>\n",
              "      <td>Denair</td>\n",
              "      <td>CA</td>\n",
              "      <td>United States</td>\n",
              "      <td>5101.0</td>\n",
              "    </tr>\n",
              "    <tr>\n",
              "      <th>861</th>\n",
              "      <td>Guerneville</td>\n",
              "      <td>CA</td>\n",
              "      <td>United States</td>\n",
              "      <td>5014.0</td>\n",
              "    </tr>\n",
              "    <tr>\n",
              "      <th>862</th>\n",
              "      <td>Langford Station</td>\n",
              "      <td>BC</td>\n",
              "      <td>Canada</td>\n",
              "      <td>35342.0</td>\n",
              "    </tr>\n",
              "    <tr>\n",
              "      <th>863</th>\n",
              "      <td>East Kelowna</td>\n",
              "      <td>BC</td>\n",
              "      <td>Canada</td>\n",
              "      <td>32655.0</td>\n",
              "    </tr>\n",
              "    <tr>\n",
              "      <th>864</th>\n",
              "      <td>Northern Rockies</td>\n",
              "      <td>BC</td>\n",
              "      <td>Canada</td>\n",
              "      <td>5393.0</td>\n",
              "    </tr>\n",
              "  </tbody>\n",
              "</table>\n",
              "<p>223 rows × 4 columns</p>\n",
              "</div>"
            ],
            "text/plain": [
              "                  city state        country  population\n",
              "642   East Los Angeles    CA  United States    121187.0\n",
              "643   San Buenaventura    CA  United States    109106.0\n",
              "644       Arden-Arcade    CA  United States    102864.0\n",
              "645  El Paso de Robles    CA  United States     70248.0\n",
              "646    Florence-Graham    CA  United States     65716.0\n",
              "..                 ...   ...            ...         ...\n",
              "860             Denair    CA  United States      5101.0\n",
              "861        Guerneville    CA  United States      5014.0\n",
              "862   Langford Station    BC         Canada     35342.0\n",
              "863       East Kelowna    BC         Canada     32655.0\n",
              "864   Northern Rockies    BC         Canada      5393.0\n",
              "\n",
              "[223 rows x 4 columns]"
            ]
          },
          "metadata": {},
          "execution_count": 133
        }
      ]
    },
    {
      "cell_type": "code",
      "source": [
        ""
      ],
      "metadata": {
        "id": "SwOU_VmAr33-"
      },
      "execution_count": null,
      "outputs": []
    },
    {
      "cell_type": "code",
      "metadata": {
        "id": "7ESkOtUYAYHy"
      },
      "source": [
        "df.to_csv(r'/content/drive/MyDrive/Fall 2021/550/Group Project/Datasets/Clean Scraped Data/missing_from_new_cities.csv', index=False)"
      ],
      "execution_count": null,
      "outputs": []
    }
  ]
}