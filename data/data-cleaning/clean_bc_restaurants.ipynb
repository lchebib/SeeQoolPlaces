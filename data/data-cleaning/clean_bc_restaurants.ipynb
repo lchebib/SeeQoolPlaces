{
  "nbformat": 4,
  "nbformat_minor": 0,
  "metadata": {
    "colab": {
      "name": "clean_bc_restaurants.ipynb",
      "provenance": [],
      "collapsed_sections": [],
      "include_colab_link": true
    },
    "kernelspec": {
      "name": "python3",
      "display_name": "Python 3"
    },
    "language_info": {
      "name": "python"
    }
  },
  "cells": [
    {
      "cell_type": "markdown",
      "metadata": {
        "id": "view-in-github",
        "colab_type": "text"
      },
      "source": [
        "<a href=\"https://colab.research.google.com/github/lchebib/SeeQoolPlaces/blob/main/data/data-cleaning/clean_bc_restaurants.ipynb\" target=\"_parent\"><img src=\"https://colab.research.google.com/assets/colab-badge.svg\" alt=\"Open In Colab\"/></a>"
      ]
    },
    {
      "cell_type": "markdown",
      "metadata": {
        "id": "n3PW_k8POjAo"
      },
      "source": [
        "#Import pandas, create dataframe, and explore data\n",
        "[link text](https://)\n",
        "\n"
      ]
    },
    {
      "cell_type": "code",
      "metadata": {
        "id": "grN-DOlMOJKp"
      },
      "source": [
        "import pandas as pd\n",
        "import numpy as np"
      ],
      "execution_count": null,
      "outputs": []
    },
    {
      "cell_type": "code",
      "metadata": {
        "colab": {
          "base_uri": "https://localhost:8080/"
        },
        "id": "s7Y6oC0wOW_-",
        "outputId": "a2894ef7-62c0-4453-e03c-13a2b2c826cc"
      },
      "source": [
        "prefix = '/content/drive'\n",
        "from google.colab import drive\n",
        "drive.mount(prefix, force_remount=True)"
      ],
      "execution_count": null,
      "outputs": [
        {
          "output_type": "stream",
          "name": "stdout",
          "text": [
            "Mounted at /content/drive\n"
          ]
        }
      ]
    },
    {
      "cell_type": "code",
      "metadata": {
        "id": "KJEIip8kOcO-"
      },
      "source": [
        "file_path = '/content/drive/MyDrive/Fall 2021/550/Group Project/Datasets/Raw Scraped Data/restaurants_bc.csv'"
      ],
      "execution_count": null,
      "outputs": []
    },
    {
      "cell_type": "code",
      "metadata": {
        "id": "C77yrPFdPYZ0"
      },
      "source": [
        "restaurants_bc = pd.read_csv(file_path)"
      ],
      "execution_count": null,
      "outputs": []
    },
    {
      "cell_type": "code",
      "metadata": {
        "id": "dkdW3K63PbN7",
        "colab": {
          "base_uri": "https://localhost:8080/",
          "height": 204
        },
        "outputId": "ebeb3aa5-4ab1-4486-a31e-6e86e746c32e"
      },
      "source": [
        "restaurants_bc.head()"
      ],
      "execution_count": null,
      "outputs": [
        {
          "output_type": "execute_result",
          "data": {
            "text/html": [
              "<div>\n",
              "<style scoped>\n",
              "    .dataframe tbody tr th:only-of-type {\n",
              "        vertical-align: middle;\n",
              "    }\n",
              "\n",
              "    .dataframe tbody tr th {\n",
              "        vertical-align: top;\n",
              "    }\n",
              "\n",
              "    .dataframe thead th {\n",
              "        text-align: right;\n",
              "    }\n",
              "</style>\n",
              "<table border=\"1\" class=\"dataframe\">\n",
              "  <thead>\n",
              "    <tr style=\"text-align: right;\">\n",
              "      <th></th>\n",
              "      <th>restaurant_name</th>\n",
              "      <th>rating</th>\n",
              "      <th>num_reviews</th>\n",
              "      <th>rank_in_city</th>\n",
              "      <th>cost</th>\n",
              "      <th>categories</th>\n",
              "    </tr>\n",
              "  </thead>\n",
              "  <tbody>\n",
              "    <tr>\n",
              "      <th>0</th>\n",
              "      <td>Camelot Court Restaurant</td>\n",
              "      <td>4.0 of 5 bubbles</td>\n",
              "      <td>78</td>\n",
              "      <td>#30, of 142 Restaurants in Prince George</td>\n",
              "      <td>$$ - $$$</td>\n",
              "      <td>Italian,Diner,Canadian</td>\n",
              "    </tr>\n",
              "    <tr>\n",
              "      <th>1</th>\n",
              "      <td>Black + Blue</td>\n",
              "      <td>4.5 of 5 bubbles</td>\n",
              "      <td>2,700</td>\n",
              "      <td>#1, of 2,497 Restaurants in Vancouver</td>\n",
              "      <td>$$$$</td>\n",
              "      <td>Steakhouse,Grill,Canadian</td>\n",
              "    </tr>\n",
              "    <tr>\n",
              "      <th>2</th>\n",
              "      <td>Tokyo Japanese Cuisine</td>\n",
              "      <td>4.5 of 5 bubbles</td>\n",
              "      <td>49</td>\n",
              "      <td>#29, of 142 Restaurants in Prince George</td>\n",
              "      <td>$$ - $$$</td>\n",
              "      <td>Japanese,Sushi,Asian</td>\n",
              "    </tr>\n",
              "    <tr>\n",
              "      <th>3</th>\n",
              "      <td>Gracie's Next Door</td>\n",
              "      <td>4.0 of 5 bubbles</td>\n",
              "      <td>33</td>\n",
              "      <td>#6, of 34 Restaurants in Tsawwassen</td>\n",
              "      <td>$$ - $$$</td>\n",
              "      <td>Mexican,Bar,Pub</td>\n",
              "    </tr>\n",
              "    <tr>\n",
              "      <th>4</th>\n",
              "      <td>Maguro Sushi</td>\n",
              "      <td>4.0 of 5 bubbles</td>\n",
              "      <td>106</td>\n",
              "      <td>#12, of 118 Restaurants in Delta</td>\n",
              "      <td>$$ - $$$</td>\n",
              "      <td>Japanese,Sushi,Asian</td>\n",
              "    </tr>\n",
              "  </tbody>\n",
              "</table>\n",
              "</div>"
            ],
            "text/plain": [
              "            restaurant_name  ...                 categories\n",
              "0  Camelot Court Restaurant  ...     Italian,Diner,Canadian\n",
              "1              Black + Blue  ...  Steakhouse,Grill,Canadian\n",
              "2    Tokyo Japanese Cuisine  ...       Japanese,Sushi,Asian\n",
              "3        Gracie's Next Door  ...            Mexican,Bar,Pub\n",
              "4              Maguro Sushi  ...       Japanese,Sushi,Asian\n",
              "\n",
              "[5 rows x 6 columns]"
            ]
          },
          "metadata": {},
          "execution_count": 5
        }
      ]
    },
    {
      "cell_type": "code",
      "metadata": {
        "id": "lEPCUpg_PuNg",
        "colab": {
          "base_uri": "https://localhost:8080/"
        },
        "outputId": "1feb01ca-8b82-47dc-9825-b93d72348319"
      },
      "source": [
        "restaurants_bc.dtypes #data types of each column"
      ],
      "execution_count": null,
      "outputs": [
        {
          "output_type": "execute_result",
          "data": {
            "text/plain": [
              "restaurant_name    object\n",
              "rating             object\n",
              "num_reviews        object\n",
              "rank_in_city       object\n",
              "cost               object\n",
              "categories         object\n",
              "dtype: object"
            ]
          },
          "metadata": {},
          "execution_count": 6
        }
      ]
    },
    {
      "cell_type": "code",
      "metadata": {
        "id": "i0NIV0mJPygA",
        "colab": {
          "base_uri": "https://localhost:8080/"
        },
        "outputId": "807a17cf-07c1-4937-bd02-7daaeb589542"
      },
      "source": [
        "restaurants_bc.shape #(rows, columns)"
      ],
      "execution_count": null,
      "outputs": [
        {
          "output_type": "execute_result",
          "data": {
            "text/plain": [
              "(14743, 6)"
            ]
          },
          "metadata": {},
          "execution_count": 7
        }
      ]
    },
    {
      "cell_type": "code",
      "metadata": {
        "id": "rHeK6MUVP77T",
        "colab": {
          "base_uri": "https://localhost:8080/"
        },
        "outputId": "a5bffd71-1ca2-4ba0-a066-0e3443969c32"
      },
      "source": [
        "usage_by_col = restaurants_bc.memory_usage(deep=True) # returns memory usage for each column\n",
        "total_usage = usage_by_col.sum()\n",
        "mbs = total_usage / 1e6 # convert to megabytes \n",
        "mbs"
      ],
      "execution_count": null,
      "outputs": [
        {
          "output_type": "execute_result",
          "data": {
            "text/plain": [
              "6.125771"
            ]
          },
          "metadata": {},
          "execution_count": 8
        }
      ]
    },
    {
      "cell_type": "markdown",
      "metadata": {
        "id": "AL6VixcQMaBh"
      },
      "source": [
        "# Drop Rows with Null Names"
      ]
    },
    {
      "cell_type": "code",
      "metadata": {
        "id": "LrYvabVhQRYg"
      },
      "source": [
        "restaurants_bc = restaurants_bc[restaurants_bc.restaurant_name.notnull()]\n",
        "restaurants_bc.rename(columns={'restaurant_name':'name'}, inplace=True)"
      ],
      "execution_count": null,
      "outputs": []
    },
    {
      "cell_type": "code",
      "metadata": {
        "id": "KLMtr0x9QVa3",
        "colab": {
          "base_uri": "https://localhost:8080/"
        },
        "outputId": "8e9c4c54-10ae-49c6-b04c-dc2a0ffcdf17"
      },
      "source": [
        "restaurants_bc.dtypes #data types of each column"
      ],
      "execution_count": null,
      "outputs": [
        {
          "output_type": "execute_result",
          "data": {
            "text/plain": [
              "name            object\n",
              "rating          object\n",
              "num_reviews     object\n",
              "rank_in_city    object\n",
              "cost            object\n",
              "categories      object\n",
              "dtype: object"
            ]
          },
          "metadata": {},
          "execution_count": 10
        }
      ]
    },
    {
      "cell_type": "code",
      "metadata": {
        "id": "W31ePxYOQaBp",
        "colab": {
          "base_uri": "https://localhost:8080/"
        },
        "outputId": "f96ef7a2-286f-45ab-d532-10b94c29d051"
      },
      "source": [
        "restaurants_bc.shape #(rows, columns)"
      ],
      "execution_count": null,
      "outputs": [
        {
          "output_type": "execute_result",
          "data": {
            "text/plain": [
              "(14701, 6)"
            ]
          },
          "metadata": {},
          "execution_count": 11
        }
      ]
    },
    {
      "cell_type": "code",
      "metadata": {
        "id": "b6wb6PtNQcbJ",
        "colab": {
          "base_uri": "https://localhost:8080/",
          "height": 669
        },
        "outputId": "d0c5162e-93af-4d49-e793-f56d3e33c865"
      },
      "source": [
        "restaurants_bc.head(20)"
      ],
      "execution_count": null,
      "outputs": [
        {
          "output_type": "execute_result",
          "data": {
            "text/html": [
              "<div>\n",
              "<style scoped>\n",
              "    .dataframe tbody tr th:only-of-type {\n",
              "        vertical-align: middle;\n",
              "    }\n",
              "\n",
              "    .dataframe tbody tr th {\n",
              "        vertical-align: top;\n",
              "    }\n",
              "\n",
              "    .dataframe thead th {\n",
              "        text-align: right;\n",
              "    }\n",
              "</style>\n",
              "<table border=\"1\" class=\"dataframe\">\n",
              "  <thead>\n",
              "    <tr style=\"text-align: right;\">\n",
              "      <th></th>\n",
              "      <th>name</th>\n",
              "      <th>rating</th>\n",
              "      <th>num_reviews</th>\n",
              "      <th>rank_in_city</th>\n",
              "      <th>cost</th>\n",
              "      <th>categories</th>\n",
              "    </tr>\n",
              "  </thead>\n",
              "  <tbody>\n",
              "    <tr>\n",
              "      <th>0</th>\n",
              "      <td>Camelot Court Restaurant</td>\n",
              "      <td>4.0 of 5 bubbles</td>\n",
              "      <td>78</td>\n",
              "      <td>#30, of 142 Restaurants in Prince George</td>\n",
              "      <td>$$ - $$$</td>\n",
              "      <td>Italian,Diner,Canadian</td>\n",
              "    </tr>\n",
              "    <tr>\n",
              "      <th>1</th>\n",
              "      <td>Black + Blue</td>\n",
              "      <td>4.5 of 5 bubbles</td>\n",
              "      <td>2,700</td>\n",
              "      <td>#1, of 2,497 Restaurants in Vancouver</td>\n",
              "      <td>$$$$</td>\n",
              "      <td>Steakhouse,Grill,Canadian</td>\n",
              "    </tr>\n",
              "    <tr>\n",
              "      <th>2</th>\n",
              "      <td>Tokyo Japanese Cuisine</td>\n",
              "      <td>4.5 of 5 bubbles</td>\n",
              "      <td>49</td>\n",
              "      <td>#29, of 142 Restaurants in Prince George</td>\n",
              "      <td>$$ - $$$</td>\n",
              "      <td>Japanese,Sushi,Asian</td>\n",
              "    </tr>\n",
              "    <tr>\n",
              "      <th>3</th>\n",
              "      <td>Gracie's Next Door</td>\n",
              "      <td>4.0 of 5 bubbles</td>\n",
              "      <td>33</td>\n",
              "      <td>#6, of 34 Restaurants in Tsawwassen</td>\n",
              "      <td>$$ - $$$</td>\n",
              "      <td>Mexican,Bar,Pub</td>\n",
              "    </tr>\n",
              "    <tr>\n",
              "      <th>4</th>\n",
              "      <td>Maguro Sushi</td>\n",
              "      <td>4.0 of 5 bubbles</td>\n",
              "      <td>106</td>\n",
              "      <td>#12, of 118 Restaurants in Delta</td>\n",
              "      <td>$$ - $$$</td>\n",
              "      <td>Japanese,Sushi,Asian</td>\n",
              "    </tr>\n",
              "    <tr>\n",
              "      <th>5</th>\n",
              "      <td>Earls</td>\n",
              "      <td>4.0 of 5 bubbles</td>\n",
              "      <td>372</td>\n",
              "      <td>#30, of 205 Restaurants in Kamloops</td>\n",
              "      <td>$$ - $$$</td>\n",
              "      <td>American,Bar,Canadian</td>\n",
              "    </tr>\n",
              "    <tr>\n",
              "      <th>6</th>\n",
              "      <td>Scott's Inn &amp; Restaurant in Kamloops</td>\n",
              "      <td>4.5 of 5 bubbles</td>\n",
              "      <td>215</td>\n",
              "      <td>#29, of 205 Restaurants in Kamloops</td>\n",
              "      <td>$$ - $$$</td>\n",
              "      <td>American,Diner,Canadian</td>\n",
              "    </tr>\n",
              "    <tr>\n",
              "      <th>7</th>\n",
              "      <td>Otter Co-op</td>\n",
              "      <td>4.0 of 5 bubbles</td>\n",
              "      <td>119</td>\n",
              "      <td>#58, of 211 Restaurants in Abbotsford</td>\n",
              "      <td>$$ - $$$</td>\n",
              "      <td>Bar,Pub,Canadian</td>\n",
              "    </tr>\n",
              "    <tr>\n",
              "      <th>8</th>\n",
              "      <td>Hearthstone Brewery</td>\n",
              "      <td>3.5 of 5 bubbles</td>\n",
              "      <td>71</td>\n",
              "      <td>#81, of 299 Restaurants in North Vancouver</td>\n",
              "      <td>$$ - $$$</td>\n",
              "      <td>Bar,Pizza,Pub</td>\n",
              "    </tr>\n",
              "    <tr>\n",
              "      <th>9</th>\n",
              "      <td>Dakodas Pub</td>\n",
              "      <td>3.5 of 5 bubbles</td>\n",
              "      <td>60</td>\n",
              "      <td>#171, of 349 Restaurants in Kelowna</td>\n",
              "      <td>$$ - $$$</td>\n",
              "      <td>Pizza,Pub,Canadian</td>\n",
              "    </tr>\n",
              "    <tr>\n",
              "      <th>10</th>\n",
              "      <td>Saltspring Wok Bar</td>\n",
              "      <td>3.5 of 5 bubbles</td>\n",
              "      <td>24</td>\n",
              "      <td>#14, of 17 Restaurants in Ganges</td>\n",
              "      <td>$</td>\n",
              "      <td>Asian,Thai,Vegetarian Friendly</td>\n",
              "    </tr>\n",
              "    <tr>\n",
              "      <th>11</th>\n",
              "      <td>Vesuvius Cafe</td>\n",
              "      <td>4.0 of 5 bubbles</td>\n",
              "      <td>12</td>\n",
              "      <td>#16, of 19 Restaurants in Salt Spring Island</td>\n",
              "      <td>$</td>\n",
              "      <td>Cafe,Canadian</td>\n",
              "    </tr>\n",
              "    <tr>\n",
              "      <th>12</th>\n",
              "      <td>D'Lanos Family Restaurant</td>\n",
              "      <td>3.5 of 5 bubbles</td>\n",
              "      <td>33</td>\n",
              "      <td>#59, of 142 Restaurants in Prince George</td>\n",
              "      <td>$$ - $$$</td>\n",
              "      <td>American,Canadian</td>\n",
              "    </tr>\n",
              "    <tr>\n",
              "      <th>13</th>\n",
              "      <td>China Taste</td>\n",
              "      <td>3.5 of 5 bubbles</td>\n",
              "      <td>40</td>\n",
              "      <td>#60, of 142 Restaurants in Prince George</td>\n",
              "      <td>$$ - $$$</td>\n",
              "      <td>Chinese,Asian,Cantonese</td>\n",
              "    </tr>\n",
              "    <tr>\n",
              "      <th>14</th>\n",
              "      <td>Salted Cracker</td>\n",
              "      <td>4.5 of 5 bubbles</td>\n",
              "      <td>8</td>\n",
              "      <td>#58, of 142 Restaurants in Prince George</td>\n",
              "      <td>$$ - $$$</td>\n",
              "      <td>Cafe,Soups</td>\n",
              "    </tr>\n",
              "    <tr>\n",
              "      <th>15</th>\n",
              "      <td>Grand Trunk Tavern</td>\n",
              "      <td>4.0 of 5 bubbles</td>\n",
              "      <td>21</td>\n",
              "      <td>#57, of 142 Restaurants in Prince George</td>\n",
              "      <td>$$ - $$$</td>\n",
              "      <td>Bar,Seafood,Grill</td>\n",
              "    </tr>\n",
              "    <tr>\n",
              "      <th>16</th>\n",
              "      <td>A&amp;W</td>\n",
              "      <td>4.5 of 5 bubbles</td>\n",
              "      <td>8</td>\n",
              "      <td>#10, of 34 Restaurants in Tsawwassen</td>\n",
              "      <td>NaN</td>\n",
              "      <td>Canadian</td>\n",
              "    </tr>\n",
              "    <tr>\n",
              "      <th>17</th>\n",
              "      <td>Nara Korean &amp; Japanese Restaurant</td>\n",
              "      <td>4.5 of 5 bubbles</td>\n",
              "      <td>35</td>\n",
              "      <td>#61, of 205 Restaurants in Kamloops</td>\n",
              "      <td>$$ - $$$</td>\n",
              "      <td>Japanese,Sushi,Asian</td>\n",
              "    </tr>\n",
              "    <tr>\n",
              "      <th>18</th>\n",
              "      <td>Papa G's Cafe</td>\n",
              "      <td>4.5 of 5 bubbles</td>\n",
              "      <td>18</td>\n",
              "      <td>#59, of 205 Restaurants in Kamloops</td>\n",
              "      <td>$$ - $$$</td>\n",
              "      <td>Italian,Pizza,Seafood</td>\n",
              "    </tr>\n",
              "    <tr>\n",
              "      <th>19</th>\n",
              "      <td>Original Joe's</td>\n",
              "      <td>4.0 of 5 bubbles</td>\n",
              "      <td>162</td>\n",
              "      <td>#58, of 205 Restaurants in Kamloops</td>\n",
              "      <td>$$ - $$$</td>\n",
              "      <td>American,Bar,Contemporary</td>\n",
              "    </tr>\n",
              "  </tbody>\n",
              "</table>\n",
              "</div>"
            ],
            "text/plain": [
              "                                    name  ...                      categories\n",
              "0               Camelot Court Restaurant  ...          Italian,Diner,Canadian\n",
              "1                           Black + Blue  ...       Steakhouse,Grill,Canadian\n",
              "2                 Tokyo Japanese Cuisine  ...            Japanese,Sushi,Asian\n",
              "3                     Gracie's Next Door  ...                 Mexican,Bar,Pub\n",
              "4                           Maguro Sushi  ...            Japanese,Sushi,Asian\n",
              "5                                  Earls  ...           American,Bar,Canadian\n",
              "6   Scott's Inn & Restaurant in Kamloops  ...         American,Diner,Canadian\n",
              "7                            Otter Co-op  ...                Bar,Pub,Canadian\n",
              "8                    Hearthstone Brewery  ...                   Bar,Pizza,Pub\n",
              "9                            Dakodas Pub  ...              Pizza,Pub,Canadian\n",
              "10                    Saltspring Wok Bar  ...  Asian,Thai,Vegetarian Friendly\n",
              "11                         Vesuvius Cafe  ...                   Cafe,Canadian\n",
              "12             D'Lanos Family Restaurant  ...               American,Canadian\n",
              "13                           China Taste  ...         Chinese,Asian,Cantonese\n",
              "14                        Salted Cracker  ...                      Cafe,Soups\n",
              "15                    Grand Trunk Tavern  ...               Bar,Seafood,Grill\n",
              "16                                   A&W  ...                        Canadian\n",
              "17     Nara Korean & Japanese Restaurant  ...            Japanese,Sushi,Asian\n",
              "18                         Papa G's Cafe  ...           Italian,Pizza,Seafood\n",
              "19                        Original Joe's  ...       American,Bar,Contemporary\n",
              "\n",
              "[20 rows x 6 columns]"
            ]
          },
          "metadata": {},
          "execution_count": 12
        }
      ]
    },
    {
      "cell_type": "markdown",
      "metadata": {
        "id": "KspQaCI7Nn3p"
      },
      "source": [
        "#Split attraction_category\n",
        "\n",
        "\n",
        "\n",
        "*   category\n",
        "*   tag\n",
        "\n",
        "\n",
        "\n"
      ]
    },
    {
      "cell_type": "code",
      "metadata": {
        "id": "dgpUB6vdQvHS",
        "colab": {
          "base_uri": "https://localhost:8080/"
        },
        "outputId": "c99a0411-4cbc-40b7-f891-2636de432351"
      },
      "source": [
        "n = len(pd.unique(restaurants_bc['categories'])) # see number of unique categories values \n",
        "print(\"No.of.unique values :\", \n",
        "      n)"
      ],
      "execution_count": null,
      "outputs": [
        {
          "output_type": "stream",
          "name": "stdout",
          "text": [
            "No.of.unique values : 1720\n"
          ]
        }
      ]
    },
    {
      "cell_type": "code",
      "metadata": {
        "id": "fNuhzAZcQ-TM"
      },
      "source": [
        "# # make new column 'category' whose value is first category in 'categories'\n",
        "# restaurants_bc['category'] = restaurants_bc['categories'].str.split(',').str[0] "
      ],
      "execution_count": null,
      "outputs": []
    },
    {
      "cell_type": "code",
      "metadata": {
        "colab": {
          "base_uri": "https://localhost:8080/",
          "height": 669
        },
        "id": "pUwp2TUBl3ee",
        "outputId": "62b9ebe4-3430-4d96-8203-21bfd90fb4c6"
      },
      "source": [
        "restaurants_bc.head(20)"
      ],
      "execution_count": null,
      "outputs": [
        {
          "output_type": "execute_result",
          "data": {
            "text/html": [
              "<div>\n",
              "<style scoped>\n",
              "    .dataframe tbody tr th:only-of-type {\n",
              "        vertical-align: middle;\n",
              "    }\n",
              "\n",
              "    .dataframe tbody tr th {\n",
              "        vertical-align: top;\n",
              "    }\n",
              "\n",
              "    .dataframe thead th {\n",
              "        text-align: right;\n",
              "    }\n",
              "</style>\n",
              "<table border=\"1\" class=\"dataframe\">\n",
              "  <thead>\n",
              "    <tr style=\"text-align: right;\">\n",
              "      <th></th>\n",
              "      <th>name</th>\n",
              "      <th>rating</th>\n",
              "      <th>num_reviews</th>\n",
              "      <th>rank_in_city</th>\n",
              "      <th>cost</th>\n",
              "      <th>categories</th>\n",
              "    </tr>\n",
              "  </thead>\n",
              "  <tbody>\n",
              "    <tr>\n",
              "      <th>0</th>\n",
              "      <td>Camelot Court Restaurant</td>\n",
              "      <td>4.0 of 5 bubbles</td>\n",
              "      <td>78</td>\n",
              "      <td>#30, of 142 Restaurants in Prince George</td>\n",
              "      <td>$$ - $$$</td>\n",
              "      <td>Italian,Diner,Canadian</td>\n",
              "    </tr>\n",
              "    <tr>\n",
              "      <th>1</th>\n",
              "      <td>Black + Blue</td>\n",
              "      <td>4.5 of 5 bubbles</td>\n",
              "      <td>2,700</td>\n",
              "      <td>#1, of 2,497 Restaurants in Vancouver</td>\n",
              "      <td>$$$$</td>\n",
              "      <td>Steakhouse,Grill,Canadian</td>\n",
              "    </tr>\n",
              "    <tr>\n",
              "      <th>2</th>\n",
              "      <td>Tokyo Japanese Cuisine</td>\n",
              "      <td>4.5 of 5 bubbles</td>\n",
              "      <td>49</td>\n",
              "      <td>#29, of 142 Restaurants in Prince George</td>\n",
              "      <td>$$ - $$$</td>\n",
              "      <td>Japanese,Sushi,Asian</td>\n",
              "    </tr>\n",
              "    <tr>\n",
              "      <th>3</th>\n",
              "      <td>Gracie's Next Door</td>\n",
              "      <td>4.0 of 5 bubbles</td>\n",
              "      <td>33</td>\n",
              "      <td>#6, of 34 Restaurants in Tsawwassen</td>\n",
              "      <td>$$ - $$$</td>\n",
              "      <td>Mexican,Bar,Pub</td>\n",
              "    </tr>\n",
              "    <tr>\n",
              "      <th>4</th>\n",
              "      <td>Maguro Sushi</td>\n",
              "      <td>4.0 of 5 bubbles</td>\n",
              "      <td>106</td>\n",
              "      <td>#12, of 118 Restaurants in Delta</td>\n",
              "      <td>$$ - $$$</td>\n",
              "      <td>Japanese,Sushi,Asian</td>\n",
              "    </tr>\n",
              "    <tr>\n",
              "      <th>5</th>\n",
              "      <td>Earls</td>\n",
              "      <td>4.0 of 5 bubbles</td>\n",
              "      <td>372</td>\n",
              "      <td>#30, of 205 Restaurants in Kamloops</td>\n",
              "      <td>$$ - $$$</td>\n",
              "      <td>American,Bar,Canadian</td>\n",
              "    </tr>\n",
              "    <tr>\n",
              "      <th>6</th>\n",
              "      <td>Scott's Inn &amp; Restaurant in Kamloops</td>\n",
              "      <td>4.5 of 5 bubbles</td>\n",
              "      <td>215</td>\n",
              "      <td>#29, of 205 Restaurants in Kamloops</td>\n",
              "      <td>$$ - $$$</td>\n",
              "      <td>American,Diner,Canadian</td>\n",
              "    </tr>\n",
              "    <tr>\n",
              "      <th>7</th>\n",
              "      <td>Otter Co-op</td>\n",
              "      <td>4.0 of 5 bubbles</td>\n",
              "      <td>119</td>\n",
              "      <td>#58, of 211 Restaurants in Abbotsford</td>\n",
              "      <td>$$ - $$$</td>\n",
              "      <td>Bar,Pub,Canadian</td>\n",
              "    </tr>\n",
              "    <tr>\n",
              "      <th>8</th>\n",
              "      <td>Hearthstone Brewery</td>\n",
              "      <td>3.5 of 5 bubbles</td>\n",
              "      <td>71</td>\n",
              "      <td>#81, of 299 Restaurants in North Vancouver</td>\n",
              "      <td>$$ - $$$</td>\n",
              "      <td>Bar,Pizza,Pub</td>\n",
              "    </tr>\n",
              "    <tr>\n",
              "      <th>9</th>\n",
              "      <td>Dakodas Pub</td>\n",
              "      <td>3.5 of 5 bubbles</td>\n",
              "      <td>60</td>\n",
              "      <td>#171, of 349 Restaurants in Kelowna</td>\n",
              "      <td>$$ - $$$</td>\n",
              "      <td>Pizza,Pub,Canadian</td>\n",
              "    </tr>\n",
              "    <tr>\n",
              "      <th>10</th>\n",
              "      <td>Saltspring Wok Bar</td>\n",
              "      <td>3.5 of 5 bubbles</td>\n",
              "      <td>24</td>\n",
              "      <td>#14, of 17 Restaurants in Ganges</td>\n",
              "      <td>$</td>\n",
              "      <td>Asian,Thai,Vegetarian Friendly</td>\n",
              "    </tr>\n",
              "    <tr>\n",
              "      <th>11</th>\n",
              "      <td>Vesuvius Cafe</td>\n",
              "      <td>4.0 of 5 bubbles</td>\n",
              "      <td>12</td>\n",
              "      <td>#16, of 19 Restaurants in Salt Spring Island</td>\n",
              "      <td>$</td>\n",
              "      <td>Cafe,Canadian</td>\n",
              "    </tr>\n",
              "    <tr>\n",
              "      <th>12</th>\n",
              "      <td>D'Lanos Family Restaurant</td>\n",
              "      <td>3.5 of 5 bubbles</td>\n",
              "      <td>33</td>\n",
              "      <td>#59, of 142 Restaurants in Prince George</td>\n",
              "      <td>$$ - $$$</td>\n",
              "      <td>American,Canadian</td>\n",
              "    </tr>\n",
              "    <tr>\n",
              "      <th>13</th>\n",
              "      <td>China Taste</td>\n",
              "      <td>3.5 of 5 bubbles</td>\n",
              "      <td>40</td>\n",
              "      <td>#60, of 142 Restaurants in Prince George</td>\n",
              "      <td>$$ - $$$</td>\n",
              "      <td>Chinese,Asian,Cantonese</td>\n",
              "    </tr>\n",
              "    <tr>\n",
              "      <th>14</th>\n",
              "      <td>Salted Cracker</td>\n",
              "      <td>4.5 of 5 bubbles</td>\n",
              "      <td>8</td>\n",
              "      <td>#58, of 142 Restaurants in Prince George</td>\n",
              "      <td>$$ - $$$</td>\n",
              "      <td>Cafe,Soups</td>\n",
              "    </tr>\n",
              "    <tr>\n",
              "      <th>15</th>\n",
              "      <td>Grand Trunk Tavern</td>\n",
              "      <td>4.0 of 5 bubbles</td>\n",
              "      <td>21</td>\n",
              "      <td>#57, of 142 Restaurants in Prince George</td>\n",
              "      <td>$$ - $$$</td>\n",
              "      <td>Bar,Seafood,Grill</td>\n",
              "    </tr>\n",
              "    <tr>\n",
              "      <th>16</th>\n",
              "      <td>A&amp;W</td>\n",
              "      <td>4.5 of 5 bubbles</td>\n",
              "      <td>8</td>\n",
              "      <td>#10, of 34 Restaurants in Tsawwassen</td>\n",
              "      <td>NaN</td>\n",
              "      <td>Canadian</td>\n",
              "    </tr>\n",
              "    <tr>\n",
              "      <th>17</th>\n",
              "      <td>Nara Korean &amp; Japanese Restaurant</td>\n",
              "      <td>4.5 of 5 bubbles</td>\n",
              "      <td>35</td>\n",
              "      <td>#61, of 205 Restaurants in Kamloops</td>\n",
              "      <td>$$ - $$$</td>\n",
              "      <td>Japanese,Sushi,Asian</td>\n",
              "    </tr>\n",
              "    <tr>\n",
              "      <th>18</th>\n",
              "      <td>Papa G's Cafe</td>\n",
              "      <td>4.5 of 5 bubbles</td>\n",
              "      <td>18</td>\n",
              "      <td>#59, of 205 Restaurants in Kamloops</td>\n",
              "      <td>$$ - $$$</td>\n",
              "      <td>Italian,Pizza,Seafood</td>\n",
              "    </tr>\n",
              "    <tr>\n",
              "      <th>19</th>\n",
              "      <td>Original Joe's</td>\n",
              "      <td>4.0 of 5 bubbles</td>\n",
              "      <td>162</td>\n",
              "      <td>#58, of 205 Restaurants in Kamloops</td>\n",
              "      <td>$$ - $$$</td>\n",
              "      <td>American,Bar,Contemporary</td>\n",
              "    </tr>\n",
              "  </tbody>\n",
              "</table>\n",
              "</div>"
            ],
            "text/plain": [
              "                                    name  ...                      categories\n",
              "0               Camelot Court Restaurant  ...          Italian,Diner,Canadian\n",
              "1                           Black + Blue  ...       Steakhouse,Grill,Canadian\n",
              "2                 Tokyo Japanese Cuisine  ...            Japanese,Sushi,Asian\n",
              "3                     Gracie's Next Door  ...                 Mexican,Bar,Pub\n",
              "4                           Maguro Sushi  ...            Japanese,Sushi,Asian\n",
              "5                                  Earls  ...           American,Bar,Canadian\n",
              "6   Scott's Inn & Restaurant in Kamloops  ...         American,Diner,Canadian\n",
              "7                            Otter Co-op  ...                Bar,Pub,Canadian\n",
              "8                    Hearthstone Brewery  ...                   Bar,Pizza,Pub\n",
              "9                            Dakodas Pub  ...              Pizza,Pub,Canadian\n",
              "10                    Saltspring Wok Bar  ...  Asian,Thai,Vegetarian Friendly\n",
              "11                         Vesuvius Cafe  ...                   Cafe,Canadian\n",
              "12             D'Lanos Family Restaurant  ...               American,Canadian\n",
              "13                           China Taste  ...         Chinese,Asian,Cantonese\n",
              "14                        Salted Cracker  ...                      Cafe,Soups\n",
              "15                    Grand Trunk Tavern  ...               Bar,Seafood,Grill\n",
              "16                                   A&W  ...                        Canadian\n",
              "17     Nara Korean & Japanese Restaurant  ...            Japanese,Sushi,Asian\n",
              "18                         Papa G's Cafe  ...           Italian,Pizza,Seafood\n",
              "19                        Original Joe's  ...       American,Bar,Contemporary\n",
              "\n",
              "[20 rows x 6 columns]"
            ]
          },
          "metadata": {},
          "execution_count": 15
        }
      ]
    },
    {
      "cell_type": "markdown",
      "metadata": {
        "id": "r62JlY6kfMKY"
      },
      "source": [
        "\n",
        "\n",
        "#Parse city and category, and cast columns\n",
        "\n",
        "\n",
        "\n"
      ]
    },
    {
      "cell_type": "code",
      "metadata": {
        "id": "Qmsvo3aKVfmV",
        "colab": {
          "base_uri": "https://localhost:8080/"
        },
        "outputId": "2982fc96-be3d-479e-adf0-67f017e76f0e"
      },
      "source": [
        "# Create 'category' column\n",
        "restaurants_bc['category'] = restaurants_bc['rank_in_city'].str.split(' ').str[3]\n",
        "\n",
        "# Rename 'categories' to 'tags and comma-separate\n",
        "restaurants_bc.rename(columns={'categories':'tags'}, inplace=True)\n",
        "\n",
        "# Create 'city' and 'state' columns\n",
        "restaurants_bc['city'] = restaurants_bc['rank_in_city'].str.split(' in ').str[1]\n",
        "restaurants_bc['state'] = 'BC'\n",
        "\n",
        "# # Create 'rank_city' and 'num_attractions_city' columns and cast to int\n",
        "# restaurants_bc['rank_city'] = restaurants_bc['rank_in_city'].str.split(' ').str[0].str.strip('#').str.replace(',', '')\n",
        "# restaurants_bc['rank_city'].fillna(0).astype(int) # NaN is converted to 0\n",
        "# restaurants_bc['num_attractions_city'] = restaurants_bc['rank_in_city'].str.split(' ').str[2].str.replace(',', '')\n",
        "# restaurants_bc['num_attractions_city'].fillna(0).astype(int) # NaN is converted to 0\n",
        "restaurants_bc.drop('rank_in_city', axis=1, inplace=True)\n",
        "\n",
        "# Cast column 'num_reviews' to type int\n",
        "restaurants_bc['num_reviews'] = restaurants_bc['num_reviews'].str.replace(',', '')\n",
        "restaurants_bc['num_reviews'].fillna(0).astype(int)\n",
        "\n",
        "# Cast column 'rating' to type int\n",
        "restaurants_bc['rating'] = restaurants_bc['rating'].str.split(' ').str[0]\n",
        "restaurants_bc['rating'].astype(float)"
      ],
      "execution_count": null,
      "outputs": [
        {
          "output_type": "execute_result",
          "data": {
            "text/plain": [
              "0        4.0\n",
              "1        4.5\n",
              "2        4.5\n",
              "3        4.0\n",
              "4        4.0\n",
              "        ... \n",
              "14738    0.0\n",
              "14739    0.0\n",
              "14740    0.0\n",
              "14741    0.0\n",
              "14742    0.0\n",
              "Name: rating, Length: 14701, dtype: float64"
            ]
          },
          "metadata": {},
          "execution_count": 16
        }
      ]
    },
    {
      "cell_type": "code",
      "metadata": {
        "id": "aWkuYnTOV470",
        "colab": {
          "base_uri": "https://localhost:8080/",
          "height": 979
        },
        "outputId": "572df3c8-333d-4c62-8923-891e45ba0d37"
      },
      "source": [
        "restaurants_bc.head(30)"
      ],
      "execution_count": null,
      "outputs": [
        {
          "output_type": "execute_result",
          "data": {
            "text/html": [
              "<div>\n",
              "<style scoped>\n",
              "    .dataframe tbody tr th:only-of-type {\n",
              "        vertical-align: middle;\n",
              "    }\n",
              "\n",
              "    .dataframe tbody tr th {\n",
              "        vertical-align: top;\n",
              "    }\n",
              "\n",
              "    .dataframe thead th {\n",
              "        text-align: right;\n",
              "    }\n",
              "</style>\n",
              "<table border=\"1\" class=\"dataframe\">\n",
              "  <thead>\n",
              "    <tr style=\"text-align: right;\">\n",
              "      <th></th>\n",
              "      <th>name</th>\n",
              "      <th>rating</th>\n",
              "      <th>num_reviews</th>\n",
              "      <th>cost</th>\n",
              "      <th>tags</th>\n",
              "      <th>category</th>\n",
              "      <th>city</th>\n",
              "      <th>state</th>\n",
              "    </tr>\n",
              "  </thead>\n",
              "  <tbody>\n",
              "    <tr>\n",
              "      <th>0</th>\n",
              "      <td>Camelot Court Restaurant</td>\n",
              "      <td>4.0</td>\n",
              "      <td>78</td>\n",
              "      <td>$$ - $$$</td>\n",
              "      <td>Italian,Diner,Canadian</td>\n",
              "      <td>Restaurants</td>\n",
              "      <td>Prince George</td>\n",
              "      <td>BC</td>\n",
              "    </tr>\n",
              "    <tr>\n",
              "      <th>1</th>\n",
              "      <td>Black + Blue</td>\n",
              "      <td>4.5</td>\n",
              "      <td>2700</td>\n",
              "      <td>$$$$</td>\n",
              "      <td>Steakhouse,Grill,Canadian</td>\n",
              "      <td>Restaurants</td>\n",
              "      <td>Vancouver</td>\n",
              "      <td>BC</td>\n",
              "    </tr>\n",
              "    <tr>\n",
              "      <th>2</th>\n",
              "      <td>Tokyo Japanese Cuisine</td>\n",
              "      <td>4.5</td>\n",
              "      <td>49</td>\n",
              "      <td>$$ - $$$</td>\n",
              "      <td>Japanese,Sushi,Asian</td>\n",
              "      <td>Restaurants</td>\n",
              "      <td>Prince George</td>\n",
              "      <td>BC</td>\n",
              "    </tr>\n",
              "    <tr>\n",
              "      <th>3</th>\n",
              "      <td>Gracie's Next Door</td>\n",
              "      <td>4.0</td>\n",
              "      <td>33</td>\n",
              "      <td>$$ - $$$</td>\n",
              "      <td>Mexican,Bar,Pub</td>\n",
              "      <td>Restaurants</td>\n",
              "      <td>Tsawwassen</td>\n",
              "      <td>BC</td>\n",
              "    </tr>\n",
              "    <tr>\n",
              "      <th>4</th>\n",
              "      <td>Maguro Sushi</td>\n",
              "      <td>4.0</td>\n",
              "      <td>106</td>\n",
              "      <td>$$ - $$$</td>\n",
              "      <td>Japanese,Sushi,Asian</td>\n",
              "      <td>Restaurants</td>\n",
              "      <td>Delta</td>\n",
              "      <td>BC</td>\n",
              "    </tr>\n",
              "    <tr>\n",
              "      <th>5</th>\n",
              "      <td>Earls</td>\n",
              "      <td>4.0</td>\n",
              "      <td>372</td>\n",
              "      <td>$$ - $$$</td>\n",
              "      <td>American,Bar,Canadian</td>\n",
              "      <td>Restaurants</td>\n",
              "      <td>Kamloops</td>\n",
              "      <td>BC</td>\n",
              "    </tr>\n",
              "    <tr>\n",
              "      <th>6</th>\n",
              "      <td>Scott's Inn &amp; Restaurant in Kamloops</td>\n",
              "      <td>4.5</td>\n",
              "      <td>215</td>\n",
              "      <td>$$ - $$$</td>\n",
              "      <td>American,Diner,Canadian</td>\n",
              "      <td>Restaurants</td>\n",
              "      <td>Kamloops</td>\n",
              "      <td>BC</td>\n",
              "    </tr>\n",
              "    <tr>\n",
              "      <th>7</th>\n",
              "      <td>Otter Co-op</td>\n",
              "      <td>4.0</td>\n",
              "      <td>119</td>\n",
              "      <td>$$ - $$$</td>\n",
              "      <td>Bar,Pub,Canadian</td>\n",
              "      <td>Restaurants</td>\n",
              "      <td>Abbotsford</td>\n",
              "      <td>BC</td>\n",
              "    </tr>\n",
              "    <tr>\n",
              "      <th>8</th>\n",
              "      <td>Hearthstone Brewery</td>\n",
              "      <td>3.5</td>\n",
              "      <td>71</td>\n",
              "      <td>$$ - $$$</td>\n",
              "      <td>Bar,Pizza,Pub</td>\n",
              "      <td>Restaurants</td>\n",
              "      <td>North Vancouver</td>\n",
              "      <td>BC</td>\n",
              "    </tr>\n",
              "    <tr>\n",
              "      <th>9</th>\n",
              "      <td>Dakodas Pub</td>\n",
              "      <td>3.5</td>\n",
              "      <td>60</td>\n",
              "      <td>$$ - $$$</td>\n",
              "      <td>Pizza,Pub,Canadian</td>\n",
              "      <td>Restaurants</td>\n",
              "      <td>Kelowna</td>\n",
              "      <td>BC</td>\n",
              "    </tr>\n",
              "    <tr>\n",
              "      <th>10</th>\n",
              "      <td>Saltspring Wok Bar</td>\n",
              "      <td>3.5</td>\n",
              "      <td>24</td>\n",
              "      <td>$</td>\n",
              "      <td>Asian,Thai,Vegetarian Friendly</td>\n",
              "      <td>Restaurants</td>\n",
              "      <td>Ganges</td>\n",
              "      <td>BC</td>\n",
              "    </tr>\n",
              "    <tr>\n",
              "      <th>11</th>\n",
              "      <td>Vesuvius Cafe</td>\n",
              "      <td>4.0</td>\n",
              "      <td>12</td>\n",
              "      <td>$</td>\n",
              "      <td>Cafe,Canadian</td>\n",
              "      <td>Restaurants</td>\n",
              "      <td>Salt Spring Island</td>\n",
              "      <td>BC</td>\n",
              "    </tr>\n",
              "    <tr>\n",
              "      <th>12</th>\n",
              "      <td>D'Lanos Family Restaurant</td>\n",
              "      <td>3.5</td>\n",
              "      <td>33</td>\n",
              "      <td>$$ - $$$</td>\n",
              "      <td>American,Canadian</td>\n",
              "      <td>Restaurants</td>\n",
              "      <td>Prince George</td>\n",
              "      <td>BC</td>\n",
              "    </tr>\n",
              "    <tr>\n",
              "      <th>13</th>\n",
              "      <td>China Taste</td>\n",
              "      <td>3.5</td>\n",
              "      <td>40</td>\n",
              "      <td>$$ - $$$</td>\n",
              "      <td>Chinese,Asian,Cantonese</td>\n",
              "      <td>Restaurants</td>\n",
              "      <td>Prince George</td>\n",
              "      <td>BC</td>\n",
              "    </tr>\n",
              "    <tr>\n",
              "      <th>14</th>\n",
              "      <td>Salted Cracker</td>\n",
              "      <td>4.5</td>\n",
              "      <td>8</td>\n",
              "      <td>$$ - $$$</td>\n",
              "      <td>Cafe,Soups</td>\n",
              "      <td>Restaurants</td>\n",
              "      <td>Prince George</td>\n",
              "      <td>BC</td>\n",
              "    </tr>\n",
              "    <tr>\n",
              "      <th>15</th>\n",
              "      <td>Grand Trunk Tavern</td>\n",
              "      <td>4.0</td>\n",
              "      <td>21</td>\n",
              "      <td>$$ - $$$</td>\n",
              "      <td>Bar,Seafood,Grill</td>\n",
              "      <td>Restaurants</td>\n",
              "      <td>Prince George</td>\n",
              "      <td>BC</td>\n",
              "    </tr>\n",
              "    <tr>\n",
              "      <th>16</th>\n",
              "      <td>A&amp;W</td>\n",
              "      <td>4.5</td>\n",
              "      <td>8</td>\n",
              "      <td>NaN</td>\n",
              "      <td>Canadian</td>\n",
              "      <td>Restaurants</td>\n",
              "      <td>Tsawwassen</td>\n",
              "      <td>BC</td>\n",
              "    </tr>\n",
              "    <tr>\n",
              "      <th>17</th>\n",
              "      <td>Nara Korean &amp; Japanese Restaurant</td>\n",
              "      <td>4.5</td>\n",
              "      <td>35</td>\n",
              "      <td>$$ - $$$</td>\n",
              "      <td>Japanese,Sushi,Asian</td>\n",
              "      <td>Restaurants</td>\n",
              "      <td>Kamloops</td>\n",
              "      <td>BC</td>\n",
              "    </tr>\n",
              "    <tr>\n",
              "      <th>18</th>\n",
              "      <td>Papa G's Cafe</td>\n",
              "      <td>4.5</td>\n",
              "      <td>18</td>\n",
              "      <td>$$ - $$$</td>\n",
              "      <td>Italian,Pizza,Seafood</td>\n",
              "      <td>Restaurants</td>\n",
              "      <td>Kamloops</td>\n",
              "      <td>BC</td>\n",
              "    </tr>\n",
              "    <tr>\n",
              "      <th>19</th>\n",
              "      <td>Original Joe's</td>\n",
              "      <td>4.0</td>\n",
              "      <td>162</td>\n",
              "      <td>$$ - $$$</td>\n",
              "      <td>American,Bar,Contemporary</td>\n",
              "      <td>Restaurants</td>\n",
              "      <td>Kamloops</td>\n",
              "      <td>BC</td>\n",
              "    </tr>\n",
              "    <tr>\n",
              "      <th>20</th>\n",
              "      <td>Doon Express</td>\n",
              "      <td>4.0</td>\n",
              "      <td>17</td>\n",
              "      <td>$$ - $$$</td>\n",
              "      <td>Indian,Vegetarian Friendly</td>\n",
              "      <td>Restaurants</td>\n",
              "      <td>Ladner</td>\n",
              "      <td>BC</td>\n",
              "    </tr>\n",
              "    <tr>\n",
              "      <th>21</th>\n",
              "      <td>McDonald's</td>\n",
              "      <td>3.0</td>\n",
              "      <td>80</td>\n",
              "      <td>$</td>\n",
              "      <td>Quick Bites,American,Fast food</td>\n",
              "      <td>Quick</td>\n",
              "      <td>Hope</td>\n",
              "      <td>BC</td>\n",
              "    </tr>\n",
              "    <tr>\n",
              "      <th>22</th>\n",
              "      <td>Triple O's</td>\n",
              "      <td>3.0</td>\n",
              "      <td>23</td>\n",
              "      <td>$</td>\n",
              "      <td>Quick Bites,American,Fast food</td>\n",
              "      <td>Quick</td>\n",
              "      <td>Hope</td>\n",
              "      <td>BC</td>\n",
              "    </tr>\n",
              "    <tr>\n",
              "      <th>23</th>\n",
              "      <td>ShipStones English Pub</td>\n",
              "      <td>2.5</td>\n",
              "      <td>11</td>\n",
              "      <td>$$ - $$$</td>\n",
              "      <td>Bar,Seafood,Pub</td>\n",
              "      <td>Restaurants</td>\n",
              "      <td>Ganges</td>\n",
              "      <td>BC</td>\n",
              "    </tr>\n",
              "    <tr>\n",
              "      <th>24</th>\n",
              "      <td>Salt Spring Vital Kitchen</td>\n",
              "      <td>0</td>\n",
              "      <td>0</td>\n",
              "      <td>$</td>\n",
              "      <td>Japanese,Indian,Asian</td>\n",
              "      <td>NaN</td>\n",
              "      <td>NaN</td>\n",
              "      <td>BC</td>\n",
              "    </tr>\n",
              "    <tr>\n",
              "      <th>25</th>\n",
              "      <td>Boston Pizza</td>\n",
              "      <td>3.5</td>\n",
              "      <td>82</td>\n",
              "      <td>$$ - $$$</td>\n",
              "      <td>Pizza,Canadian,Vegetarian Friendly</td>\n",
              "      <td>Restaurants</td>\n",
              "      <td>Prince George</td>\n",
              "      <td>BC</td>\n",
              "    </tr>\n",
              "    <tr>\n",
              "      <th>26</th>\n",
              "      <td>Subway</td>\n",
              "      <td>4.5</td>\n",
              "      <td>3</td>\n",
              "      <td>NaN</td>\n",
              "      <td>Deli</td>\n",
              "      <td>Restaurants</td>\n",
              "      <td>Prince George</td>\n",
              "      <td>BC</td>\n",
              "    </tr>\n",
              "    <tr>\n",
              "      <th>27</th>\n",
              "      <td>Shawarma Palace</td>\n",
              "      <td>4.0</td>\n",
              "      <td>27</td>\n",
              "      <td>$</td>\n",
              "      <td>Lebanese,Fast food,Middle Eastern</td>\n",
              "      <td>Restaurants</td>\n",
              "      <td>Richmond</td>\n",
              "      <td>BC</td>\n",
              "    </tr>\n",
              "    <tr>\n",
              "      <th>28</th>\n",
              "      <td>The Clubhouse Bar &amp; Grill</td>\n",
              "      <td>3.5</td>\n",
              "      <td>4</td>\n",
              "      <td>$$ - $$$</td>\n",
              "      <td>Bar,Grill,Canadian</td>\n",
              "      <td>Restaurants</td>\n",
              "      <td>Salt Spring Island</td>\n",
              "      <td>BC</td>\n",
              "    </tr>\n",
              "    <tr>\n",
              "      <th>29</th>\n",
              "      <td>Yellow Chilli</td>\n",
              "      <td>5.0</td>\n",
              "      <td>2</td>\n",
              "      <td>NaN</td>\n",
              "      <td>Indian</td>\n",
              "      <td>Restaurants</td>\n",
              "      <td>Delta</td>\n",
              "      <td>BC</td>\n",
              "    </tr>\n",
              "  </tbody>\n",
              "</table>\n",
              "</div>"
            ],
            "text/plain": [
              "                                    name rating  ...                city state\n",
              "0               Camelot Court Restaurant    4.0  ...       Prince George    BC\n",
              "1                           Black + Blue    4.5  ...           Vancouver    BC\n",
              "2                 Tokyo Japanese Cuisine    4.5  ...       Prince George    BC\n",
              "3                     Gracie's Next Door    4.0  ...          Tsawwassen    BC\n",
              "4                           Maguro Sushi    4.0  ...               Delta    BC\n",
              "5                                  Earls    4.0  ...            Kamloops    BC\n",
              "6   Scott's Inn & Restaurant in Kamloops    4.5  ...            Kamloops    BC\n",
              "7                            Otter Co-op    4.0  ...          Abbotsford    BC\n",
              "8                    Hearthstone Brewery    3.5  ...     North Vancouver    BC\n",
              "9                            Dakodas Pub    3.5  ...             Kelowna    BC\n",
              "10                    Saltspring Wok Bar    3.5  ...              Ganges    BC\n",
              "11                         Vesuvius Cafe    4.0  ...  Salt Spring Island    BC\n",
              "12             D'Lanos Family Restaurant    3.5  ...       Prince George    BC\n",
              "13                           China Taste    3.5  ...       Prince George    BC\n",
              "14                        Salted Cracker    4.5  ...       Prince George    BC\n",
              "15                    Grand Trunk Tavern    4.0  ...       Prince George    BC\n",
              "16                                   A&W    4.5  ...          Tsawwassen    BC\n",
              "17     Nara Korean & Japanese Restaurant    4.5  ...            Kamloops    BC\n",
              "18                         Papa G's Cafe    4.5  ...            Kamloops    BC\n",
              "19                        Original Joe's    4.0  ...            Kamloops    BC\n",
              "20                          Doon Express    4.0  ...              Ladner    BC\n",
              "21                            McDonald's    3.0  ...                Hope    BC\n",
              "22                            Triple O's    3.0  ...                Hope    BC\n",
              "23                ShipStones English Pub    2.5  ...              Ganges    BC\n",
              "24             Salt Spring Vital Kitchen      0  ...                 NaN    BC\n",
              "25                          Boston Pizza    3.5  ...       Prince George    BC\n",
              "26                                Subway    4.5  ...       Prince George    BC\n",
              "27                       Shawarma Palace    4.0  ...            Richmond    BC\n",
              "28             The Clubhouse Bar & Grill    3.5  ...  Salt Spring Island    BC\n",
              "29                         Yellow Chilli    5.0  ...               Delta    BC\n",
              "\n",
              "[30 rows x 8 columns]"
            ]
          },
          "metadata": {},
          "execution_count": 17
        }
      ]
    },
    {
      "cell_type": "markdown",
      "metadata": {
        "id": "mIFwBgDnNWhc"
      },
      "source": [
        "# Re-categorize\n",
        "\n",
        "\n",
        "\n",
        "*   Restaurant\n",
        "*   Cafe\n",
        "*   Bar\n",
        "*   Quick Bites\n",
        "*   Dessert\n",
        "*   Specialty Food Market\n",
        "\n",
        "\n",
        "\n"
      ]
    },
    {
      "cell_type": "code",
      "metadata": {
        "colab": {
          "base_uri": "https://localhost:8080/"
        },
        "id": "Pwb9peKspJDq",
        "outputId": "9da104d4-54f1-4d77-9950-05662a9dcfce"
      },
      "source": [
        "restaurants_bc['temp'] = restaurants_bc['name'] + ' ' + restaurants_bc['category'] + ' ' + restaurants_bc['tags']\n",
        "\n",
        "restaurants_bc['category'] = np.nan\n",
        "\n",
        "cafe = ['cafe', 'coffee']\n",
        "bar = ['bar', 'pub', 'wine']\n",
        "bakery = ['dessert', 'pie', 'cake', 'bakery']\n",
        "quick_bites = ['quick bites', 'fast food', 'speciality']\n",
        "brewery = ['brewery']\n",
        "\n",
        "for index in restaurants_bc.index:\n",
        "  \n",
        "  if any(keyword in str(restaurants_bc['temp'][index]).lower() for keyword in cafe):\n",
        "    restaurants_bc['category'][index] = 'Cafe'\n",
        "  elif any(keyword in str(restaurants_bc['temp'][index]).lower() for keyword in brewery):\n",
        "    restaurants_bc['category'][index] = 'Brewery'\n",
        "  elif any(keyword in str(restaurants_bc['temp'][index]).lower() for keyword in bar):\n",
        "    restaurants_bc['category'][index] = 'Bar'\n",
        "  elif any(keyword in str(restaurants_bc['temp'][index]).lower() for keyword in bakery):\n",
        "    restaurants_bc['category'][index] = 'Bakery'\n",
        "  elif any(keyword in str(restaurants_bc['temp'][index]).lower() for keyword in quick_bites):\n",
        "    restaurants_bc['category'][index] = 'Quick Bites'\n",
        "  else:\n",
        "    restaurants_bc['category'][index] = 'Restaurant'\n",
        "\n",
        "restaurants_bc.drop('temp', axis=1, inplace=True)\n",
        "\n"
      ],
      "execution_count": null,
      "outputs": [
        {
          "output_type": "stream",
          "name": "stderr",
          "text": [
            "/usr/local/lib/python3.7/dist-packages/ipykernel_launcher.py:24: SettingWithCopyWarning: \n",
            "A value is trying to be set on a copy of a slice from a DataFrame\n",
            "\n",
            "See the caveats in the documentation: https://pandas.pydata.org/pandas-docs/stable/user_guide/indexing.html#returning-a-view-versus-a-copy\n",
            "/usr/local/lib/python3.7/dist-packages/pandas/core/indexing.py:670: SettingWithCopyWarning: \n",
            "A value is trying to be set on a copy of a slice from a DataFrame\n",
            "\n",
            "See the caveats in the documentation: https://pandas.pydata.org/pandas-docs/stable/user_guide/indexing.html#returning-a-view-versus-a-copy\n",
            "  iloc._setitem_with_indexer(indexer, value)\n"
          ]
        }
      ]
    },
    {
      "cell_type": "code",
      "metadata": {
        "colab": {
          "base_uri": "https://localhost:8080/",
          "height": 204
        },
        "id": "QHtcOgpMqSs7",
        "outputId": "31647e6a-d4bd-4a6e-b0e7-a0e42c856b1b"
      },
      "source": [
        "restaurants_bc.head()"
      ],
      "execution_count": null,
      "outputs": [
        {
          "output_type": "execute_result",
          "data": {
            "text/html": [
              "<div>\n",
              "<style scoped>\n",
              "    .dataframe tbody tr th:only-of-type {\n",
              "        vertical-align: middle;\n",
              "    }\n",
              "\n",
              "    .dataframe tbody tr th {\n",
              "        vertical-align: top;\n",
              "    }\n",
              "\n",
              "    .dataframe thead th {\n",
              "        text-align: right;\n",
              "    }\n",
              "</style>\n",
              "<table border=\"1\" class=\"dataframe\">\n",
              "  <thead>\n",
              "    <tr style=\"text-align: right;\">\n",
              "      <th></th>\n",
              "      <th>name</th>\n",
              "      <th>rating</th>\n",
              "      <th>num_reviews</th>\n",
              "      <th>cost</th>\n",
              "      <th>tags</th>\n",
              "      <th>category</th>\n",
              "      <th>city</th>\n",
              "      <th>state</th>\n",
              "    </tr>\n",
              "  </thead>\n",
              "  <tbody>\n",
              "    <tr>\n",
              "      <th>0</th>\n",
              "      <td>Camelot Court Restaurant</td>\n",
              "      <td>4.0</td>\n",
              "      <td>78</td>\n",
              "      <td>$$ - $$$</td>\n",
              "      <td>Italian,Diner,Canadian</td>\n",
              "      <td>Restaurant</td>\n",
              "      <td>Prince George</td>\n",
              "      <td>BC</td>\n",
              "    </tr>\n",
              "    <tr>\n",
              "      <th>1</th>\n",
              "      <td>Black + Blue</td>\n",
              "      <td>4.5</td>\n",
              "      <td>2700</td>\n",
              "      <td>$$$$</td>\n",
              "      <td>Steakhouse,Grill,Canadian</td>\n",
              "      <td>Restaurant</td>\n",
              "      <td>Vancouver</td>\n",
              "      <td>BC</td>\n",
              "    </tr>\n",
              "    <tr>\n",
              "      <th>2</th>\n",
              "      <td>Tokyo Japanese Cuisine</td>\n",
              "      <td>4.5</td>\n",
              "      <td>49</td>\n",
              "      <td>$$ - $$$</td>\n",
              "      <td>Japanese,Sushi,Asian</td>\n",
              "      <td>Restaurant</td>\n",
              "      <td>Prince George</td>\n",
              "      <td>BC</td>\n",
              "    </tr>\n",
              "    <tr>\n",
              "      <th>3</th>\n",
              "      <td>Gracie's Next Door</td>\n",
              "      <td>4.0</td>\n",
              "      <td>33</td>\n",
              "      <td>$$ - $$$</td>\n",
              "      <td>Mexican,Bar,Pub</td>\n",
              "      <td>Bar</td>\n",
              "      <td>Tsawwassen</td>\n",
              "      <td>BC</td>\n",
              "    </tr>\n",
              "    <tr>\n",
              "      <th>4</th>\n",
              "      <td>Maguro Sushi</td>\n",
              "      <td>4.0</td>\n",
              "      <td>106</td>\n",
              "      <td>$$ - $$$</td>\n",
              "      <td>Japanese,Sushi,Asian</td>\n",
              "      <td>Restaurant</td>\n",
              "      <td>Delta</td>\n",
              "      <td>BC</td>\n",
              "    </tr>\n",
              "  </tbody>\n",
              "</table>\n",
              "</div>"
            ],
            "text/plain": [
              "                       name rating num_reviews  ...    category           city state\n",
              "0  Camelot Court Restaurant    4.0          78  ...  Restaurant  Prince George    BC\n",
              "1              Black + Blue    4.5        2700  ...  Restaurant      Vancouver    BC\n",
              "2    Tokyo Japanese Cuisine    4.5          49  ...  Restaurant  Prince George    BC\n",
              "3        Gracie's Next Door    4.0          33  ...         Bar     Tsawwassen    BC\n",
              "4              Maguro Sushi    4.0         106  ...  Restaurant          Delta    BC\n",
              "\n",
              "[5 rows x 8 columns]"
            ]
          },
          "metadata": {},
          "execution_count": 19
        }
      ]
    },
    {
      "cell_type": "code",
      "metadata": {
        "colab": {
          "base_uri": "https://localhost:8080/"
        },
        "id": "-mlSAVwTyVMC",
        "outputId": "0ff9f372-09bb-4d53-b08a-6b3387e291ab"
      },
      "source": [
        "n = len(pd.unique(restaurants_bc['category'])) # see number of unique category values \n",
        "print(\"No.of.unique categories :\", \n",
        "      n)\n",
        "\n",
        "print(restaurants_bc['category'].unique())"
      ],
      "execution_count": null,
      "outputs": [
        {
          "output_type": "stream",
          "name": "stdout",
          "text": [
            "No.of.unique categories : 6\n",
            "['Restaurant' 'Bar' 'Brewery' 'Cafe' 'Quick Bites' 'Bakery']\n"
          ]
        }
      ]
    },
    {
      "cell_type": "markdown",
      "metadata": {
        "id": "kG22KkWr1gO_"
      },
      "source": [
        "# Rename Category to Subcategory"
      ]
    },
    {
      "cell_type": "code",
      "metadata": {
        "id": "E2i9iuWO1xag"
      },
      "source": [
        "restaurants_bc.rename(columns={'category': 'subcategory'}, inplace=True)"
      ],
      "execution_count": null,
      "outputs": []
    },
    {
      "cell_type": "markdown",
      "metadata": {
        "id": "3VLuvlC161-j"
      },
      "source": [
        "# Split cost to cost_low and cost_high; delete cost"
      ]
    },
    {
      "cell_type": "code",
      "metadata": {
        "id": "E5s4sx8e60_h"
      },
      "source": [
        "restaurants_bc['cost_low'] = restaurants_bc['cost'].str.split(' ').str[0].str.len()\n",
        "restaurants_bc['cost_low'].fillna(0).astype(int) # NaN is converted to 0\n",
        "\n",
        "# this sets cost_high to be the second set of dollar signs\n",
        "# if there is not a second set of dollar signs, cost_high gets set to what cost_low is\n",
        "restaurants_bc['cost_high'] = np.where(restaurants_bc['cost'].str.split('- ').str[1].str.len() > 1, restaurants_bc['cost'].str.split('- ').str[1].str.len(), restaurants_bc['cost'].str.split('- ').str[0].str.len())\n",
        "restaurants_bc['cost_high'].fillna(0).astype(int) # NaN is converted to 0\n",
        "\n",
        "restaurants_bc.drop('cost', axis=1, inplace=True)"
      ],
      "execution_count": null,
      "outputs": []
    },
    {
      "cell_type": "markdown",
      "metadata": {
        "id": "CN3PhNqvIgKw"
      },
      "source": [
        "#Add suggested_duration"
      ]
    },
    {
      "cell_type": "code",
      "metadata": {
        "colab": {
          "base_uri": "https://localhost:8080/"
        },
        "id": "nN84SBiwIpW4",
        "outputId": "35e4df50-1985-4e07-990c-43e7d5d38861"
      },
      "source": [
        "pd.unique(restaurants_bc['cost_high'])"
      ],
      "execution_count": null,
      "outputs": [
        {
          "output_type": "execute_result",
          "data": {
            "text/plain": [
              "array([ 3.,  4.,  1., nan])"
            ]
          },
          "metadata": {},
          "execution_count": 23
        }
      ]
    },
    {
      "cell_type": "code",
      "metadata": {
        "colab": {
          "base_uri": "https://localhost:8080/"
        },
        "id": "9GS0-GFMIjas",
        "outputId": "2e008c0b-b99f-4145-f89c-c594d2362650"
      },
      "source": [
        "# add duration based on cost_high\n",
        "\n",
        "restaurants_bc['suggested_duration'] = ''\n",
        "\n",
        "for index in restaurants_bc.index:\n",
        "  \n",
        "  if (restaurants_bc['cost_high'][index] == 4.0):\n",
        "    restaurants_bc['suggested_duration'][index] = '2-3 hours'\n",
        "  elif (restaurants_bc['cost_high'][index] == 3.0):\n",
        "    restaurants_bc['suggested_duration'][index] = '1-2 hours'\n",
        "  elif (restaurants_bc['cost_high'][index] == 2.0):\n",
        "    restaurants_bc['suggested_duration'][index] = '1-2 hours'\n",
        "  elif (restaurants_bc['cost_high'][index] == 1.0):\n",
        "    restaurants_bc['suggested_duration'][index] = '< 1 hour'\n",
        "  else: \n",
        "    restaurants_bc['suggested_duration'][index] = '1-2 hours'"
      ],
      "execution_count": null,
      "outputs": [
        {
          "output_type": "stream",
          "name": "stderr",
          "text": [
            "/usr/local/lib/python3.7/dist-packages/ipykernel_launcher.py:10: SettingWithCopyWarning: \n",
            "A value is trying to be set on a copy of a slice from a DataFrame\n",
            "\n",
            "See the caveats in the documentation: https://pandas.pydata.org/pandas-docs/stable/user_guide/indexing.html#returning-a-view-versus-a-copy\n",
            "  # Remove the CWD from sys.path while we load stuff.\n",
            "/usr/local/lib/python3.7/dist-packages/ipykernel_launcher.py:8: SettingWithCopyWarning: \n",
            "A value is trying to be set on a copy of a slice from a DataFrame\n",
            "\n",
            "See the caveats in the documentation: https://pandas.pydata.org/pandas-docs/stable/user_guide/indexing.html#returning-a-view-versus-a-copy\n",
            "  \n",
            "/usr/local/lib/python3.7/dist-packages/ipykernel_launcher.py:14: SettingWithCopyWarning: \n",
            "A value is trying to be set on a copy of a slice from a DataFrame\n",
            "\n",
            "See the caveats in the documentation: https://pandas.pydata.org/pandas-docs/stable/user_guide/indexing.html#returning-a-view-versus-a-copy\n",
            "  \n",
            "/usr/local/lib/python3.7/dist-packages/ipykernel_launcher.py:16: SettingWithCopyWarning: \n",
            "A value is trying to be set on a copy of a slice from a DataFrame\n",
            "\n",
            "See the caveats in the documentation: https://pandas.pydata.org/pandas-docs/stable/user_guide/indexing.html#returning-a-view-versus-a-copy\n",
            "  app.launch_new_instance()\n"
          ]
        }
      ]
    },
    {
      "cell_type": "code",
      "metadata": {
        "colab": {
          "base_uri": "https://localhost:8080/",
          "height": 204
        },
        "id": "JJ26t79t4xc1",
        "outputId": "f0aef994-c080-4770-c7a5-f00ba4f251fc"
      },
      "source": [
        "restaurants_bc.head()"
      ],
      "execution_count": null,
      "outputs": [
        {
          "output_type": "execute_result",
          "data": {
            "text/html": [
              "<div>\n",
              "<style scoped>\n",
              "    .dataframe tbody tr th:only-of-type {\n",
              "        vertical-align: middle;\n",
              "    }\n",
              "\n",
              "    .dataframe tbody tr th {\n",
              "        vertical-align: top;\n",
              "    }\n",
              "\n",
              "    .dataframe thead th {\n",
              "        text-align: right;\n",
              "    }\n",
              "</style>\n",
              "<table border=\"1\" class=\"dataframe\">\n",
              "  <thead>\n",
              "    <tr style=\"text-align: right;\">\n",
              "      <th></th>\n",
              "      <th>name</th>\n",
              "      <th>rating</th>\n",
              "      <th>num_reviews</th>\n",
              "      <th>tags</th>\n",
              "      <th>subcategory</th>\n",
              "      <th>city</th>\n",
              "      <th>state</th>\n",
              "      <th>cost_low</th>\n",
              "      <th>cost_high</th>\n",
              "      <th>suggested_duration</th>\n",
              "    </tr>\n",
              "  </thead>\n",
              "  <tbody>\n",
              "    <tr>\n",
              "      <th>0</th>\n",
              "      <td>Camelot Court Restaurant</td>\n",
              "      <td>4.0</td>\n",
              "      <td>78</td>\n",
              "      <td>Italian,Diner,Canadian</td>\n",
              "      <td>Restaurant</td>\n",
              "      <td>Prince George</td>\n",
              "      <td>BC</td>\n",
              "      <td>2.0</td>\n",
              "      <td>3.0</td>\n",
              "      <td>1-2 hours</td>\n",
              "    </tr>\n",
              "    <tr>\n",
              "      <th>1</th>\n",
              "      <td>Black + Blue</td>\n",
              "      <td>4.5</td>\n",
              "      <td>2700</td>\n",
              "      <td>Steakhouse,Grill,Canadian</td>\n",
              "      <td>Restaurant</td>\n",
              "      <td>Vancouver</td>\n",
              "      <td>BC</td>\n",
              "      <td>4.0</td>\n",
              "      <td>4.0</td>\n",
              "      <td>2-3 hours</td>\n",
              "    </tr>\n",
              "    <tr>\n",
              "      <th>2</th>\n",
              "      <td>Tokyo Japanese Cuisine</td>\n",
              "      <td>4.5</td>\n",
              "      <td>49</td>\n",
              "      <td>Japanese,Sushi,Asian</td>\n",
              "      <td>Restaurant</td>\n",
              "      <td>Prince George</td>\n",
              "      <td>BC</td>\n",
              "      <td>2.0</td>\n",
              "      <td>3.0</td>\n",
              "      <td>1-2 hours</td>\n",
              "    </tr>\n",
              "    <tr>\n",
              "      <th>3</th>\n",
              "      <td>Gracie's Next Door</td>\n",
              "      <td>4.0</td>\n",
              "      <td>33</td>\n",
              "      <td>Mexican,Bar,Pub</td>\n",
              "      <td>Bar</td>\n",
              "      <td>Tsawwassen</td>\n",
              "      <td>BC</td>\n",
              "      <td>2.0</td>\n",
              "      <td>3.0</td>\n",
              "      <td>1-2 hours</td>\n",
              "    </tr>\n",
              "    <tr>\n",
              "      <th>4</th>\n",
              "      <td>Maguro Sushi</td>\n",
              "      <td>4.0</td>\n",
              "      <td>106</td>\n",
              "      <td>Japanese,Sushi,Asian</td>\n",
              "      <td>Restaurant</td>\n",
              "      <td>Delta</td>\n",
              "      <td>BC</td>\n",
              "      <td>2.0</td>\n",
              "      <td>3.0</td>\n",
              "      <td>1-2 hours</td>\n",
              "    </tr>\n",
              "  </tbody>\n",
              "</table>\n",
              "</div>"
            ],
            "text/plain": [
              "                       name rating  ... cost_high suggested_duration\n",
              "0  Camelot Court Restaurant    4.0  ...       3.0          1-2 hours\n",
              "1              Black + Blue    4.5  ...       4.0          2-3 hours\n",
              "2    Tokyo Japanese Cuisine    4.5  ...       3.0          1-2 hours\n",
              "3        Gracie's Next Door    4.0  ...       3.0          1-2 hours\n",
              "4              Maguro Sushi    4.0  ...       3.0          1-2 hours\n",
              "\n",
              "[5 rows x 10 columns]"
            ]
          },
          "metadata": {},
          "execution_count": 25
        }
      ]
    },
    {
      "cell_type": "markdown",
      "metadata": {
        "id": "3lPQI5bmUeC6"
      },
      "source": [
        "#Add PID and category"
      ]
    },
    {
      "cell_type": "code",
      "metadata": {
        "id": "cPztTg-jUgWC"
      },
      "source": [
        "restaurants_bc.insert(0, 'PID', range(5421, 5421 + len(restaurants_bc)))"
      ],
      "execution_count": null,
      "outputs": []
    },
    {
      "cell_type": "code",
      "metadata": {
        "colab": {
          "base_uri": "https://localhost:8080/",
          "height": 393
        },
        "id": "ndnbQF3gU7bl",
        "outputId": "e0940565-6fc2-4781-e896-fff37e5c1837"
      },
      "source": [
        "restaurants_bc.head(10)"
      ],
      "execution_count": null,
      "outputs": [
        {
          "output_type": "execute_result",
          "data": {
            "text/html": [
              "<div>\n",
              "<style scoped>\n",
              "    .dataframe tbody tr th:only-of-type {\n",
              "        vertical-align: middle;\n",
              "    }\n",
              "\n",
              "    .dataframe tbody tr th {\n",
              "        vertical-align: top;\n",
              "    }\n",
              "\n",
              "    .dataframe thead th {\n",
              "        text-align: right;\n",
              "    }\n",
              "</style>\n",
              "<table border=\"1\" class=\"dataframe\">\n",
              "  <thead>\n",
              "    <tr style=\"text-align: right;\">\n",
              "      <th></th>\n",
              "      <th>PID</th>\n",
              "      <th>name</th>\n",
              "      <th>rating</th>\n",
              "      <th>num_reviews</th>\n",
              "      <th>tags</th>\n",
              "      <th>subcategory</th>\n",
              "      <th>city</th>\n",
              "      <th>state</th>\n",
              "      <th>cost_low</th>\n",
              "      <th>cost_high</th>\n",
              "      <th>suggested_duration</th>\n",
              "    </tr>\n",
              "  </thead>\n",
              "  <tbody>\n",
              "    <tr>\n",
              "      <th>0</th>\n",
              "      <td>5421</td>\n",
              "      <td>Camelot Court Restaurant</td>\n",
              "      <td>4.0</td>\n",
              "      <td>78</td>\n",
              "      <td>Italian,Diner,Canadian</td>\n",
              "      <td>Restaurant</td>\n",
              "      <td>Prince George</td>\n",
              "      <td>BC</td>\n",
              "      <td>2.0</td>\n",
              "      <td>3.0</td>\n",
              "      <td>1-2 hours</td>\n",
              "    </tr>\n",
              "    <tr>\n",
              "      <th>1</th>\n",
              "      <td>5422</td>\n",
              "      <td>Black + Blue</td>\n",
              "      <td>4.5</td>\n",
              "      <td>2700</td>\n",
              "      <td>Steakhouse,Grill,Canadian</td>\n",
              "      <td>Restaurant</td>\n",
              "      <td>Vancouver</td>\n",
              "      <td>BC</td>\n",
              "      <td>4.0</td>\n",
              "      <td>4.0</td>\n",
              "      <td>2-3 hours</td>\n",
              "    </tr>\n",
              "    <tr>\n",
              "      <th>2</th>\n",
              "      <td>5423</td>\n",
              "      <td>Tokyo Japanese Cuisine</td>\n",
              "      <td>4.5</td>\n",
              "      <td>49</td>\n",
              "      <td>Japanese,Sushi,Asian</td>\n",
              "      <td>Restaurant</td>\n",
              "      <td>Prince George</td>\n",
              "      <td>BC</td>\n",
              "      <td>2.0</td>\n",
              "      <td>3.0</td>\n",
              "      <td>1-2 hours</td>\n",
              "    </tr>\n",
              "    <tr>\n",
              "      <th>3</th>\n",
              "      <td>5424</td>\n",
              "      <td>Gracie's Next Door</td>\n",
              "      <td>4.0</td>\n",
              "      <td>33</td>\n",
              "      <td>Mexican,Bar,Pub</td>\n",
              "      <td>Bar</td>\n",
              "      <td>Tsawwassen</td>\n",
              "      <td>BC</td>\n",
              "      <td>2.0</td>\n",
              "      <td>3.0</td>\n",
              "      <td>1-2 hours</td>\n",
              "    </tr>\n",
              "    <tr>\n",
              "      <th>4</th>\n",
              "      <td>5425</td>\n",
              "      <td>Maguro Sushi</td>\n",
              "      <td>4.0</td>\n",
              "      <td>106</td>\n",
              "      <td>Japanese,Sushi,Asian</td>\n",
              "      <td>Restaurant</td>\n",
              "      <td>Delta</td>\n",
              "      <td>BC</td>\n",
              "      <td>2.0</td>\n",
              "      <td>3.0</td>\n",
              "      <td>1-2 hours</td>\n",
              "    </tr>\n",
              "    <tr>\n",
              "      <th>5</th>\n",
              "      <td>5426</td>\n",
              "      <td>Earls</td>\n",
              "      <td>4.0</td>\n",
              "      <td>372</td>\n",
              "      <td>American,Bar,Canadian</td>\n",
              "      <td>Bar</td>\n",
              "      <td>Kamloops</td>\n",
              "      <td>BC</td>\n",
              "      <td>2.0</td>\n",
              "      <td>3.0</td>\n",
              "      <td>1-2 hours</td>\n",
              "    </tr>\n",
              "    <tr>\n",
              "      <th>6</th>\n",
              "      <td>5427</td>\n",
              "      <td>Scott's Inn &amp; Restaurant in Kamloops</td>\n",
              "      <td>4.5</td>\n",
              "      <td>215</td>\n",
              "      <td>American,Diner,Canadian</td>\n",
              "      <td>Restaurant</td>\n",
              "      <td>Kamloops</td>\n",
              "      <td>BC</td>\n",
              "      <td>2.0</td>\n",
              "      <td>3.0</td>\n",
              "      <td>1-2 hours</td>\n",
              "    </tr>\n",
              "    <tr>\n",
              "      <th>7</th>\n",
              "      <td>5428</td>\n",
              "      <td>Otter Co-op</td>\n",
              "      <td>4.0</td>\n",
              "      <td>119</td>\n",
              "      <td>Bar,Pub,Canadian</td>\n",
              "      <td>Bar</td>\n",
              "      <td>Abbotsford</td>\n",
              "      <td>BC</td>\n",
              "      <td>2.0</td>\n",
              "      <td>3.0</td>\n",
              "      <td>1-2 hours</td>\n",
              "    </tr>\n",
              "    <tr>\n",
              "      <th>8</th>\n",
              "      <td>5429</td>\n",
              "      <td>Hearthstone Brewery</td>\n",
              "      <td>3.5</td>\n",
              "      <td>71</td>\n",
              "      <td>Bar,Pizza,Pub</td>\n",
              "      <td>Brewery</td>\n",
              "      <td>North Vancouver</td>\n",
              "      <td>BC</td>\n",
              "      <td>2.0</td>\n",
              "      <td>3.0</td>\n",
              "      <td>1-2 hours</td>\n",
              "    </tr>\n",
              "    <tr>\n",
              "      <th>9</th>\n",
              "      <td>5430</td>\n",
              "      <td>Dakodas Pub</td>\n",
              "      <td>3.5</td>\n",
              "      <td>60</td>\n",
              "      <td>Pizza,Pub,Canadian</td>\n",
              "      <td>Bar</td>\n",
              "      <td>Kelowna</td>\n",
              "      <td>BC</td>\n",
              "      <td>2.0</td>\n",
              "      <td>3.0</td>\n",
              "      <td>1-2 hours</td>\n",
              "    </tr>\n",
              "  </tbody>\n",
              "</table>\n",
              "</div>"
            ],
            "text/plain": [
              "    PID                                  name  ... cost_high suggested_duration\n",
              "0  5421              Camelot Court Restaurant  ...       3.0          1-2 hours\n",
              "1  5422                          Black + Blue  ...       4.0          2-3 hours\n",
              "2  5423                Tokyo Japanese Cuisine  ...       3.0          1-2 hours\n",
              "3  5424                    Gracie's Next Door  ...       3.0          1-2 hours\n",
              "4  5425                          Maguro Sushi  ...       3.0          1-2 hours\n",
              "5  5426                                 Earls  ...       3.0          1-2 hours\n",
              "6  5427  Scott's Inn & Restaurant in Kamloops  ...       3.0          1-2 hours\n",
              "7  5428                           Otter Co-op  ...       3.0          1-2 hours\n",
              "8  5429                   Hearthstone Brewery  ...       3.0          1-2 hours\n",
              "9  5430                           Dakodas Pub  ...       3.0          1-2 hours\n",
              "\n",
              "[10 rows x 11 columns]"
            ]
          },
          "metadata": {},
          "execution_count": 27
        }
      ]
    },
    {
      "cell_type": "code",
      "metadata": {
        "colab": {
          "base_uri": "https://localhost:8080/"
        },
        "id": "V0eD7gnMVAh5",
        "outputId": "df759870-8acb-4b3e-e1a2-0fb0add6d96c"
      },
      "source": [
        "restaurants_bc.shape"
      ],
      "execution_count": null,
      "outputs": [
        {
          "output_type": "execute_result",
          "data": {
            "text/plain": [
              "(14701, 11)"
            ]
          },
          "metadata": {},
          "execution_count": 28
        }
      ]
    },
    {
      "cell_type": "code",
      "metadata": {
        "colab": {
          "base_uri": "https://localhost:8080/",
          "height": 80
        },
        "id": "MSPzWXm_VFxY",
        "outputId": "97b8b09e-7e96-4ed9-ef00-9c80724a9781"
      },
      "source": [
        "# this is the last restaurant\n",
        "restaurants_bc.loc[restaurants_bc['PID'] == 20121]"
      ],
      "execution_count": null,
      "outputs": [
        {
          "output_type": "execute_result",
          "data": {
            "text/html": [
              "<div>\n",
              "<style scoped>\n",
              "    .dataframe tbody tr th:only-of-type {\n",
              "        vertical-align: middle;\n",
              "    }\n",
              "\n",
              "    .dataframe tbody tr th {\n",
              "        vertical-align: top;\n",
              "    }\n",
              "\n",
              "    .dataframe thead th {\n",
              "        text-align: right;\n",
              "    }\n",
              "</style>\n",
              "<table border=\"1\" class=\"dataframe\">\n",
              "  <thead>\n",
              "    <tr style=\"text-align: right;\">\n",
              "      <th></th>\n",
              "      <th>PID</th>\n",
              "      <th>name</th>\n",
              "      <th>rating</th>\n",
              "      <th>num_reviews</th>\n",
              "      <th>tags</th>\n",
              "      <th>subcategory</th>\n",
              "      <th>city</th>\n",
              "      <th>state</th>\n",
              "      <th>cost_low</th>\n",
              "      <th>cost_high</th>\n",
              "      <th>suggested_duration</th>\n",
              "    </tr>\n",
              "  </thead>\n",
              "  <tbody>\n",
              "    <tr>\n",
              "      <th>14742</th>\n",
              "      <td>20121</td>\n",
              "      <td>A&amp;W Restaurant</td>\n",
              "      <td>0</td>\n",
              "      <td>0</td>\n",
              "      <td>NaN</td>\n",
              "      <td>Restaurant</td>\n",
              "      <td>NaN</td>\n",
              "      <td>BC</td>\n",
              "      <td>NaN</td>\n",
              "      <td>NaN</td>\n",
              "      <td>1-2 hours</td>\n",
              "    </tr>\n",
              "  </tbody>\n",
              "</table>\n",
              "</div>"
            ],
            "text/plain": [
              "         PID            name rating  ... cost_low cost_high suggested_duration\n",
              "14742  20121  A&W Restaurant      0  ...      NaN       NaN          1-2 hours\n",
              "\n",
              "[1 rows x 11 columns]"
            ]
          },
          "metadata": {},
          "execution_count": 29
        }
      ]
    },
    {
      "cell_type": "code",
      "metadata": {
        "id": "Hx8JMXt6VToK"
      },
      "source": [
        "restaurants_bc['category'] = 'restaurants'"
      ],
      "execution_count": null,
      "outputs": []
    },
    {
      "cell_type": "code",
      "metadata": {
        "colab": {
          "base_uri": "https://localhost:8080/",
          "height": 238
        },
        "id": "sqiwxstxVkvy",
        "outputId": "556f32da-a830-4b8d-a66d-4e9b5a6a355d"
      },
      "source": [
        "restaurants_bc.head()"
      ],
      "execution_count": null,
      "outputs": [
        {
          "output_type": "execute_result",
          "data": {
            "text/html": [
              "<div>\n",
              "<style scoped>\n",
              "    .dataframe tbody tr th:only-of-type {\n",
              "        vertical-align: middle;\n",
              "    }\n",
              "\n",
              "    .dataframe tbody tr th {\n",
              "        vertical-align: top;\n",
              "    }\n",
              "\n",
              "    .dataframe thead th {\n",
              "        text-align: right;\n",
              "    }\n",
              "</style>\n",
              "<table border=\"1\" class=\"dataframe\">\n",
              "  <thead>\n",
              "    <tr style=\"text-align: right;\">\n",
              "      <th></th>\n",
              "      <th>PID</th>\n",
              "      <th>name</th>\n",
              "      <th>rating</th>\n",
              "      <th>num_reviews</th>\n",
              "      <th>tags</th>\n",
              "      <th>subcategory</th>\n",
              "      <th>city</th>\n",
              "      <th>state</th>\n",
              "      <th>cost_low</th>\n",
              "      <th>cost_high</th>\n",
              "      <th>suggested_duration</th>\n",
              "      <th>category</th>\n",
              "    </tr>\n",
              "  </thead>\n",
              "  <tbody>\n",
              "    <tr>\n",
              "      <th>0</th>\n",
              "      <td>5421</td>\n",
              "      <td>Camelot Court Restaurant</td>\n",
              "      <td>4.0</td>\n",
              "      <td>78</td>\n",
              "      <td>Italian,Diner,Canadian</td>\n",
              "      <td>Restaurant</td>\n",
              "      <td>Prince George</td>\n",
              "      <td>BC</td>\n",
              "      <td>2.0</td>\n",
              "      <td>3.0</td>\n",
              "      <td>1-2 hours</td>\n",
              "      <td>restaurants</td>\n",
              "    </tr>\n",
              "    <tr>\n",
              "      <th>1</th>\n",
              "      <td>5422</td>\n",
              "      <td>Black + Blue</td>\n",
              "      <td>4.5</td>\n",
              "      <td>2700</td>\n",
              "      <td>Steakhouse,Grill,Canadian</td>\n",
              "      <td>Restaurant</td>\n",
              "      <td>Vancouver</td>\n",
              "      <td>BC</td>\n",
              "      <td>4.0</td>\n",
              "      <td>4.0</td>\n",
              "      <td>2-3 hours</td>\n",
              "      <td>restaurants</td>\n",
              "    </tr>\n",
              "    <tr>\n",
              "      <th>2</th>\n",
              "      <td>5423</td>\n",
              "      <td>Tokyo Japanese Cuisine</td>\n",
              "      <td>4.5</td>\n",
              "      <td>49</td>\n",
              "      <td>Japanese,Sushi,Asian</td>\n",
              "      <td>Restaurant</td>\n",
              "      <td>Prince George</td>\n",
              "      <td>BC</td>\n",
              "      <td>2.0</td>\n",
              "      <td>3.0</td>\n",
              "      <td>1-2 hours</td>\n",
              "      <td>restaurants</td>\n",
              "    </tr>\n",
              "    <tr>\n",
              "      <th>3</th>\n",
              "      <td>5424</td>\n",
              "      <td>Gracie's Next Door</td>\n",
              "      <td>4.0</td>\n",
              "      <td>33</td>\n",
              "      <td>Mexican,Bar,Pub</td>\n",
              "      <td>Bar</td>\n",
              "      <td>Tsawwassen</td>\n",
              "      <td>BC</td>\n",
              "      <td>2.0</td>\n",
              "      <td>3.0</td>\n",
              "      <td>1-2 hours</td>\n",
              "      <td>restaurants</td>\n",
              "    </tr>\n",
              "    <tr>\n",
              "      <th>4</th>\n",
              "      <td>5425</td>\n",
              "      <td>Maguro Sushi</td>\n",
              "      <td>4.0</td>\n",
              "      <td>106</td>\n",
              "      <td>Japanese,Sushi,Asian</td>\n",
              "      <td>Restaurant</td>\n",
              "      <td>Delta</td>\n",
              "      <td>BC</td>\n",
              "      <td>2.0</td>\n",
              "      <td>3.0</td>\n",
              "      <td>1-2 hours</td>\n",
              "      <td>restaurants</td>\n",
              "    </tr>\n",
              "  </tbody>\n",
              "</table>\n",
              "</div>"
            ],
            "text/plain": [
              "    PID                      name  ... suggested_duration     category\n",
              "0  5421  Camelot Court Restaurant  ...          1-2 hours  restaurants\n",
              "1  5422              Black + Blue  ...          2-3 hours  restaurants\n",
              "2  5423    Tokyo Japanese Cuisine  ...          1-2 hours  restaurants\n",
              "3  5424        Gracie's Next Door  ...          1-2 hours  restaurants\n",
              "4  5425              Maguro Sushi  ...          1-2 hours  restaurants\n",
              "\n",
              "[5 rows x 12 columns]"
            ]
          },
          "metadata": {},
          "execution_count": 31
        }
      ]
    },
    {
      "cell_type": "markdown",
      "metadata": {
        "id": "mxM-8shz8Qzg"
      },
      "source": [
        "#create duration_low and duration_high"
      ]
    },
    {
      "cell_type": "code",
      "metadata": {
        "colab": {
          "base_uri": "https://localhost:8080/"
        },
        "id": "Or8Yvoew8drJ",
        "outputId": "9ed595ff-75f7-4c7b-f624-50b63c338282"
      },
      "source": [
        "pd.unique(restaurants_bc['suggested_duration'])"
      ],
      "execution_count": null,
      "outputs": [
        {
          "output_type": "execute_result",
          "data": {
            "text/plain": [
              "array(['1-2 hours', '2-3 hours', '< 1 hour'], dtype=object)"
            ]
          },
          "metadata": {},
          "execution_count": 33
        }
      ]
    },
    {
      "cell_type": "code",
      "metadata": {
        "id": "_yXv1Mvf8iY-"
      },
      "source": [
        "# cases: '1-2 hours', '2-3 hours', '< 1 hour'\n",
        "restaurants_bc['duration_low'] = ''\n",
        "restaurants_bc['duration_high'] = ''\n",
        "\n",
        "\n",
        "for index in restaurants_bc.index:\n",
        "  \n",
        "  if (restaurants_bc['suggested_duration'][index] == '< 1 hour'):\n",
        "    restaurants_bc['duration_low'][index] = .5\n",
        "    restaurants_bc['duration_high'][index] = 1.0\n",
        "  if (restaurants_bc['suggested_duration'][index] == '1-2 hours'):\n",
        "    restaurants_bc['duration_low'][index] = 1.0\n",
        "    restaurants_bc['duration_high'][index] = 2.0\n",
        "  if (restaurants_bc['suggested_duration'][index] == '2-3 hours'):\n",
        "    restaurants_bc['duration_low'][index] = 2.0\n",
        "    restaurants_bc['duration_high'][index] = 3.0"
      ],
      "execution_count": null,
      "outputs": []
    },
    {
      "cell_type": "code",
      "metadata": {
        "colab": {
          "base_uri": "https://localhost:8080/",
          "height": 343
        },
        "id": "L8ZP5iod8-bm",
        "outputId": "6f1277bd-8265-431e-930c-b80fdd25edbd"
      },
      "source": [
        "restaurants_bc.head()"
      ],
      "execution_count": null,
      "outputs": [
        {
          "output_type": "execute_result",
          "data": {
            "text/html": [
              "<div>\n",
              "<style scoped>\n",
              "    .dataframe tbody tr th:only-of-type {\n",
              "        vertical-align: middle;\n",
              "    }\n",
              "\n",
              "    .dataframe tbody tr th {\n",
              "        vertical-align: top;\n",
              "    }\n",
              "\n",
              "    .dataframe thead th {\n",
              "        text-align: right;\n",
              "    }\n",
              "</style>\n",
              "<table border=\"1\" class=\"dataframe\">\n",
              "  <thead>\n",
              "    <tr style=\"text-align: right;\">\n",
              "      <th></th>\n",
              "      <th>PID</th>\n",
              "      <th>name</th>\n",
              "      <th>rating</th>\n",
              "      <th>num_reviews</th>\n",
              "      <th>tags</th>\n",
              "      <th>subcategory</th>\n",
              "      <th>city</th>\n",
              "      <th>state</th>\n",
              "      <th>cost_low</th>\n",
              "      <th>cost_high</th>\n",
              "      <th>suggested_duration</th>\n",
              "      <th>category</th>\n",
              "      <th>duration_low</th>\n",
              "      <th>duration_high</th>\n",
              "    </tr>\n",
              "  </thead>\n",
              "  <tbody>\n",
              "    <tr>\n",
              "      <th>0</th>\n",
              "      <td>5421</td>\n",
              "      <td>Camelot Court Restaurant</td>\n",
              "      <td>4.0</td>\n",
              "      <td>78</td>\n",
              "      <td>Italian,Diner,Canadian</td>\n",
              "      <td>Restaurant</td>\n",
              "      <td>Prince George</td>\n",
              "      <td>BC</td>\n",
              "      <td>2.0</td>\n",
              "      <td>3.0</td>\n",
              "      <td>1-2 hours</td>\n",
              "      <td>restaurants</td>\n",
              "      <td>1</td>\n",
              "      <td>2</td>\n",
              "    </tr>\n",
              "    <tr>\n",
              "      <th>1</th>\n",
              "      <td>5422</td>\n",
              "      <td>Black + Blue</td>\n",
              "      <td>4.5</td>\n",
              "      <td>2700</td>\n",
              "      <td>Steakhouse,Grill,Canadian</td>\n",
              "      <td>Restaurant</td>\n",
              "      <td>Vancouver</td>\n",
              "      <td>BC</td>\n",
              "      <td>4.0</td>\n",
              "      <td>4.0</td>\n",
              "      <td>2-3 hours</td>\n",
              "      <td>restaurants</td>\n",
              "      <td>2</td>\n",
              "      <td>3</td>\n",
              "    </tr>\n",
              "    <tr>\n",
              "      <th>2</th>\n",
              "      <td>5423</td>\n",
              "      <td>Tokyo Japanese Cuisine</td>\n",
              "      <td>4.5</td>\n",
              "      <td>49</td>\n",
              "      <td>Japanese,Sushi,Asian</td>\n",
              "      <td>Restaurant</td>\n",
              "      <td>Prince George</td>\n",
              "      <td>BC</td>\n",
              "      <td>2.0</td>\n",
              "      <td>3.0</td>\n",
              "      <td>1-2 hours</td>\n",
              "      <td>restaurants</td>\n",
              "      <td>1</td>\n",
              "      <td>2</td>\n",
              "    </tr>\n",
              "    <tr>\n",
              "      <th>3</th>\n",
              "      <td>5424</td>\n",
              "      <td>Gracie's Next Door</td>\n",
              "      <td>4.0</td>\n",
              "      <td>33</td>\n",
              "      <td>Mexican,Bar,Pub</td>\n",
              "      <td>Bar</td>\n",
              "      <td>Tsawwassen</td>\n",
              "      <td>BC</td>\n",
              "      <td>2.0</td>\n",
              "      <td>3.0</td>\n",
              "      <td>1-2 hours</td>\n",
              "      <td>restaurants</td>\n",
              "      <td>1</td>\n",
              "      <td>2</td>\n",
              "    </tr>\n",
              "    <tr>\n",
              "      <th>4</th>\n",
              "      <td>5425</td>\n",
              "      <td>Maguro Sushi</td>\n",
              "      <td>4.0</td>\n",
              "      <td>106</td>\n",
              "      <td>Japanese,Sushi,Asian</td>\n",
              "      <td>Restaurant</td>\n",
              "      <td>Delta</td>\n",
              "      <td>BC</td>\n",
              "      <td>2.0</td>\n",
              "      <td>3.0</td>\n",
              "      <td>1-2 hours</td>\n",
              "      <td>restaurants</td>\n",
              "      <td>1</td>\n",
              "      <td>2</td>\n",
              "    </tr>\n",
              "  </tbody>\n",
              "</table>\n",
              "</div>"
            ],
            "text/plain": [
              "    PID                      name  ... duration_low duration_high\n",
              "0  5421  Camelot Court Restaurant  ...            1             2\n",
              "1  5422              Black + Blue  ...            2             3\n",
              "2  5423    Tokyo Japanese Cuisine  ...            1             2\n",
              "3  5424        Gracie's Next Door  ...            1             2\n",
              "4  5425              Maguro Sushi  ...            1             2\n",
              "\n",
              "[5 rows x 14 columns]"
            ]
          },
          "metadata": {},
          "execution_count": 36
        }
      ]
    },
    {
      "cell_type": "code",
      "metadata": {
        "colab": {
          "base_uri": "https://localhost:8080/"
        },
        "id": "TrTQagRN9JH9",
        "outputId": "d3d197ba-72d9-4a84-e16d-1f21752c8e00"
      },
      "source": [
        "restaurants_bc['duration_low'].isnull().sum() #make sure that the new columns have no null values"
      ],
      "execution_count": null,
      "outputs": [
        {
          "output_type": "execute_result",
          "data": {
            "text/plain": [
              "0"
            ]
          },
          "metadata": {},
          "execution_count": 38
        }
      ]
    },
    {
      "cell_type": "code",
      "metadata": {
        "id": "0Zx5kAUSJw6C"
      },
      "source": [
        "restaurants_bc.to_csv(r'/content/drive/MyDrive/Fall 2021/550/Group Project/Datasets/Clean Scraped Data/clean_restaurants_bc.csv', index=False)"
      ],
      "execution_count": null,
      "outputs": []
    }
  ]
}